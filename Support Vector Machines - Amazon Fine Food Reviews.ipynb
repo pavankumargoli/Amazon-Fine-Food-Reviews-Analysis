{
 "cells": [
  {
   "cell_type": "markdown",
   "metadata": {},
   "source": [
    "# Amazon Fine Food Reviews Analysis\n",
    "\n",
    "\n",
    "Data Source: https://www.kaggle.com/snap/amazon-fine-food-reviews <br>\n",
    "\n",
    "EDA: https://nycdatascience.com/blog/student-works/amazon-fine-foods-visualization/\n",
    "\n",
    "\n",
    "The Amazon Fine Food Reviews dataset consists of reviews of fine foods from Amazon.<br>\n",
    "\n",
    "Number of reviews: 568,454<br>\n",
    "Number of users: 256,059<br>\n",
    "Number of products: 74,258<br>\n",
    "Timespan: Oct 1999 - Oct 2012<br>\n",
    "Number of Attributes/Columns in data: 10 \n",
    "\n",
    "Attribute Information:\n",
    "\n",
    "1. Id\n",
    "2. ProductId - unique identifier for the product\n",
    "3. UserId - unqiue identifier for the user\n",
    "4. ProfileName\n",
    "5. HelpfulnessNumerator - number of users who found the review helpful\n",
    "6. HelpfulnessDenominator - number of users who indicated whether they found the review helpful or not\n",
    "7. Score - rating between 1 and 5\n",
    "8. Time - timestamp for the review\n",
    "9. Summary - brief summary of the review\n",
    "10. Text - text of the review\n",
    "\n",
    "\n",
    "#### Objective:\n",
    "Given a review, determine whether the review is positive (Rating of 4 or 5) or negative (rating of 1 or 2).\n",
    "\n",
    "<br>\n",
    "[Q] How to determine if a review is positive or negative?<br>\n",
    "<br> \n",
    "[Ans] We could use the Score/Rating. A rating of 4 or 5 could be cosnidered a positive review. A review of 1 or 2 could be considered negative. A review of 3 is nuetral and ignored. This is an approximate and proxy way of determining the polarity (positivity/negativity) of a review.\n",
    "\n",
    "\n"
   ]
  },
  {
   "cell_type": "markdown",
   "metadata": {},
   "source": [
    "## Loading the data\n",
    "\n",
    "The dataset is available in two forms\n",
    "1. .csv file\n",
    "2. SQLite Database\n",
    "\n",
    "In order to load the data, We have used the SQLITE dataset as it easier to query the data and visualise the data efficiently.\n",
    "<br> \n",
    "\n",
    "Here as we only want to get the global sentiment of the recommendations (positive or negative), we will purposefully ignore all Scores equal to 3. If the score id above 3, then the recommendation wil be set to \"positive\". Otherwise, it will be set to \"negative\"."
   ]
  },
  {
   "cell_type": "code",
   "execution_count": 1,
   "metadata": {},
   "outputs": [],
   "source": [
    "%matplotlib inline\n",
    "import warnings\n",
    "warnings.filterwarnings('ignore')\n",
    "\n",
    "import os\n",
    "import re\n",
    "import sqlite3\n",
    "import pandas as pd\n",
    "import numpy as np\n",
    "import nltk\n",
    "import string\n",
    "import matplotlib.pyplot as plt\n",
    "import seaborn as sb\n",
    "import pickle\n",
    "import math \n",
    "\n",
    "from sklearn import metrics\n",
    "from sklearn.feature_extraction.text import TfidfTransformer\n",
    "from sklearn.feature_extraction.text import TfidfVectorizer\n",
    "from sklearn.feature_extraction.text import CountVectorizer\n",
    "\n",
    "from sklearn.metrics import confusion_matrix\n",
    "from sklearn.metrics import roc_curve,auc\n",
    "\n",
    "from nltk.stem.porter import PorterStemmer\n",
    "from nltk.corpus import stopwords\n",
    "from nltk.stem.wordnet import WordNetLemmatizer\n",
    "from nltk.stem import PorterStemmer\n",
    "\n",
    "from gensim.models import Word2Vec\n",
    "from gensim.models import KeyedVectors\n",
    "\n",
    "from sklearn.preprocessing import StandardScaler \n",
    "#TSNE\n",
    "from sklearn.manifold import TSNE\n",
    "from bs4 import BeautifulSoup\n"
   ]
  },
  {
   "cell_type": "code",
   "execution_count": 2,
   "metadata": {},
   "outputs": [],
   "source": [
    "# Temporarily Suppressing Warnings\n",
    "def fxn():\n",
    "    warnings.warn(\"deprecated\", DeprecationWarning)\n",
    "\n",
    "with warnings.catch_warnings():\n",
    "    warnings.simplefilter(\"ignore\")\n",
    "    fxn()"
   ]
  },
  {
   "cell_type": "markdown",
   "metadata": {},
   "source": [
    "# [1]. Reading Data"
   ]
  },
  {
   "cell_type": "code",
   "execution_count": 3,
   "metadata": {},
   "outputs": [
    {
     "name": "stdout",
     "output_type": "stream",
     "text": [
      "Number of data point in our data (40000, 10)\n"
     ]
    },
    {
     "data": {
      "text/html": [
       "<div>\n",
       "<style scoped>\n",
       "    .dataframe tbody tr th:only-of-type {\n",
       "        vertical-align: middle;\n",
       "    }\n",
       "\n",
       "    .dataframe tbody tr th {\n",
       "        vertical-align: top;\n",
       "    }\n",
       "\n",
       "    .dataframe thead th {\n",
       "        text-align: right;\n",
       "    }\n",
       "</style>\n",
       "<table border=\"1\" class=\"dataframe\">\n",
       "  <thead>\n",
       "    <tr style=\"text-align: right;\">\n",
       "      <th></th>\n",
       "      <th>Id</th>\n",
       "      <th>ProductId</th>\n",
       "      <th>UserId</th>\n",
       "      <th>ProfileName</th>\n",
       "      <th>HelpfulnessNumerator</th>\n",
       "      <th>HelpfulnessDenominator</th>\n",
       "      <th>Score</th>\n",
       "      <th>Time</th>\n",
       "      <th>Summary</th>\n",
       "      <th>Text</th>\n",
       "    </tr>\n",
       "  </thead>\n",
       "  <tbody>\n",
       "    <tr>\n",
       "      <th>0</th>\n",
       "      <td>1</td>\n",
       "      <td>B001E4KFG0</td>\n",
       "      <td>A3SGXH7AUHU8GW</td>\n",
       "      <td>delmartian</td>\n",
       "      <td>1</td>\n",
       "      <td>1</td>\n",
       "      <td>1</td>\n",
       "      <td>1303862400</td>\n",
       "      <td>Good Quality Dog Food</td>\n",
       "      <td>I have bought several of the Vitality canned d...</td>\n",
       "    </tr>\n",
       "    <tr>\n",
       "      <th>1</th>\n",
       "      <td>2</td>\n",
       "      <td>B00813GRG4</td>\n",
       "      <td>A1D87F6ZCVE5NK</td>\n",
       "      <td>dll pa</td>\n",
       "      <td>0</td>\n",
       "      <td>0</td>\n",
       "      <td>0</td>\n",
       "      <td>1346976000</td>\n",
       "      <td>Not as Advertised</td>\n",
       "      <td>Product arrived labeled as Jumbo Salted Peanut...</td>\n",
       "    </tr>\n",
       "    <tr>\n",
       "      <th>2</th>\n",
       "      <td>3</td>\n",
       "      <td>B000LQOCH0</td>\n",
       "      <td>ABXLMWJIXXAIN</td>\n",
       "      <td>Natalia Corres \"Natalia Corres\"</td>\n",
       "      <td>1</td>\n",
       "      <td>1</td>\n",
       "      <td>1</td>\n",
       "      <td>1219017600</td>\n",
       "      <td>\"Delight\" says it all</td>\n",
       "      <td>This is a confection that has been around a fe...</td>\n",
       "    </tr>\n",
       "    <tr>\n",
       "      <th>3</th>\n",
       "      <td>4</td>\n",
       "      <td>B000UA0QIQ</td>\n",
       "      <td>A395BORC6FGVXV</td>\n",
       "      <td>Karl</td>\n",
       "      <td>3</td>\n",
       "      <td>3</td>\n",
       "      <td>0</td>\n",
       "      <td>1307923200</td>\n",
       "      <td>Cough Medicine</td>\n",
       "      <td>If you are looking for the secret ingredient i...</td>\n",
       "    </tr>\n",
       "    <tr>\n",
       "      <th>4</th>\n",
       "      <td>5</td>\n",
       "      <td>B006K2ZZ7K</td>\n",
       "      <td>A1UQRSCLF8GW1T</td>\n",
       "      <td>Michael D. Bigham \"M. Wassir\"</td>\n",
       "      <td>0</td>\n",
       "      <td>0</td>\n",
       "      <td>1</td>\n",
       "      <td>1350777600</td>\n",
       "      <td>Great taffy</td>\n",
       "      <td>Great taffy at a great price.  There was a wid...</td>\n",
       "    </tr>\n",
       "  </tbody>\n",
       "</table>\n",
       "</div>"
      ],
      "text/plain": [
       "   Id   ProductId          UserId                      ProfileName  \\\n",
       "0   1  B001E4KFG0  A3SGXH7AUHU8GW                       delmartian   \n",
       "1   2  B00813GRG4  A1D87F6ZCVE5NK                           dll pa   \n",
       "2   3  B000LQOCH0   ABXLMWJIXXAIN  Natalia Corres \"Natalia Corres\"   \n",
       "3   4  B000UA0QIQ  A395BORC6FGVXV                             Karl   \n",
       "4   5  B006K2ZZ7K  A1UQRSCLF8GW1T    Michael D. Bigham \"M. Wassir\"   \n",
       "\n",
       "   HelpfulnessNumerator  HelpfulnessDenominator  Score        Time  \\\n",
       "0                     1                       1      1  1303862400   \n",
       "1                     0                       0      0  1346976000   \n",
       "2                     1                       1      1  1219017600   \n",
       "3                     3                       3      0  1307923200   \n",
       "4                     0                       0      1  1350777600   \n",
       "\n",
       "                 Summary                                               Text  \n",
       "0  Good Quality Dog Food  I have bought several of the Vitality canned d...  \n",
       "1      Not as Advertised  Product arrived labeled as Jumbo Salted Peanut...  \n",
       "2  \"Delight\" says it all  This is a confection that has been around a fe...  \n",
       "3         Cough Medicine  If you are looking for the secret ingredient i...  \n",
       "4            Great taffy  Great taffy at a great price.  There was a wid...  "
      ]
     },
     "execution_count": 3,
     "metadata": {},
     "output_type": "execute_result"
    }
   ],
   "source": [
    "# using the SQLite Table to read data.\n",
    "# con = sqlite3.connect('./amazon-fine-food-reviews/database.sqlite')\n",
    "\n",
    "con = sqlite3.connect('D:/Appliedai/Data/amazon-fine-food-reviews/database.sqlite')\n",
    "\n",
    "#filetering only positve and negative reviews\n",
    "#reviews not taking in to consideration with score = 3\n",
    "\n",
    "filtered_data = pd.read_sql_query(\"\"\" SELECT * FROM Reviews WHERE Score != 3 LIMIT 40000\"\"\", con) \n",
    "\n",
    "# Give reviews with Score>3 a positive rating, and reviews with a score<3 a negative rating.\n",
    "def partition( x ):\n",
    "    if x > 3:\n",
    "        return 1 #positive\n",
    "    else:\n",
    "        return 0 #negative\n",
    "\n",
    "#changing reviews with score less than 3 to be positive and vice versa\n",
    "actual_score = filtered_data['Score']\n",
    "positivenegative = actual_score.map(partition)\n",
    "filtered_data['Score']=positivenegative\n",
    "print('Number of data point in our data',filtered_data.shape)\n",
    "filtered_data.head(5)    "
   ]
  },
  {
   "cell_type": "markdown",
   "metadata": {},
   "source": [
    "#  Exploratory Data Analysis\n",
    "\n",
    "## [2] Data Cleaning: Deduplication\n",
    "It is observed (as shown in the table below) that the reviews data had many duplicate entries. Hence it was necessary to remove duplicates in order to get unbiased results for the analysis of the data.  Following is an example:"
   ]
  },
  {
   "cell_type": "code",
   "execution_count": 4,
   "metadata": {},
   "outputs": [],
   "source": [
    "display = pd.read_sql_query(\"\"\"\n",
    "SELECT * FROM Reviews\n",
    "WHERE Score != 3 AND UserId=\"AR5J8UI46CURR\"\n",
    "ORDER BY ProductID\n",
    "\"\"\",con)"
   ]
  },
  {
   "cell_type": "code",
   "execution_count": 5,
   "metadata": {},
   "outputs": [
    {
     "data": {
      "text/html": [
       "<div>\n",
       "<style scoped>\n",
       "    .dataframe tbody tr th:only-of-type {\n",
       "        vertical-align: middle;\n",
       "    }\n",
       "\n",
       "    .dataframe tbody tr th {\n",
       "        vertical-align: top;\n",
       "    }\n",
       "\n",
       "    .dataframe thead th {\n",
       "        text-align: right;\n",
       "    }\n",
       "</style>\n",
       "<table border=\"1\" class=\"dataframe\">\n",
       "  <thead>\n",
       "    <tr style=\"text-align: right;\">\n",
       "      <th></th>\n",
       "      <th>Id</th>\n",
       "      <th>ProductId</th>\n",
       "      <th>UserId</th>\n",
       "      <th>ProfileName</th>\n",
       "      <th>HelpfulnessNumerator</th>\n",
       "      <th>HelpfulnessDenominator</th>\n",
       "      <th>Score</th>\n",
       "      <th>Time</th>\n",
       "      <th>Summary</th>\n",
       "      <th>Text</th>\n",
       "    </tr>\n",
       "  </thead>\n",
       "  <tbody>\n",
       "    <tr>\n",
       "      <th>0</th>\n",
       "      <td>78445</td>\n",
       "      <td>B000HDL1RQ</td>\n",
       "      <td>AR5J8UI46CURR</td>\n",
       "      <td>Geetha Krishnan</td>\n",
       "      <td>2</td>\n",
       "      <td>2</td>\n",
       "      <td>5</td>\n",
       "      <td>1199577600</td>\n",
       "      <td>LOACKER QUADRATINI VANILLA WAFERS</td>\n",
       "      <td>DELICIOUS WAFERS. I FIND THAT EUROPEAN WAFERS ...</td>\n",
       "    </tr>\n",
       "    <tr>\n",
       "      <th>1</th>\n",
       "      <td>138317</td>\n",
       "      <td>B000HDOPYC</td>\n",
       "      <td>AR5J8UI46CURR</td>\n",
       "      <td>Geetha Krishnan</td>\n",
       "      <td>2</td>\n",
       "      <td>2</td>\n",
       "      <td>5</td>\n",
       "      <td>1199577600</td>\n",
       "      <td>LOACKER QUADRATINI VANILLA WAFERS</td>\n",
       "      <td>DELICIOUS WAFERS. I FIND THAT EUROPEAN WAFERS ...</td>\n",
       "    </tr>\n",
       "    <tr>\n",
       "      <th>2</th>\n",
       "      <td>138277</td>\n",
       "      <td>B000HDOPYM</td>\n",
       "      <td>AR5J8UI46CURR</td>\n",
       "      <td>Geetha Krishnan</td>\n",
       "      <td>2</td>\n",
       "      <td>2</td>\n",
       "      <td>5</td>\n",
       "      <td>1199577600</td>\n",
       "      <td>LOACKER QUADRATINI VANILLA WAFERS</td>\n",
       "      <td>DELICIOUS WAFERS. I FIND THAT EUROPEAN WAFERS ...</td>\n",
       "    </tr>\n",
       "    <tr>\n",
       "      <th>3</th>\n",
       "      <td>73791</td>\n",
       "      <td>B000HDOPZG</td>\n",
       "      <td>AR5J8UI46CURR</td>\n",
       "      <td>Geetha Krishnan</td>\n",
       "      <td>2</td>\n",
       "      <td>2</td>\n",
       "      <td>5</td>\n",
       "      <td>1199577600</td>\n",
       "      <td>LOACKER QUADRATINI VANILLA WAFERS</td>\n",
       "      <td>DELICIOUS WAFERS. I FIND THAT EUROPEAN WAFERS ...</td>\n",
       "    </tr>\n",
       "    <tr>\n",
       "      <th>4</th>\n",
       "      <td>155049</td>\n",
       "      <td>B000PAQ75C</td>\n",
       "      <td>AR5J8UI46CURR</td>\n",
       "      <td>Geetha Krishnan</td>\n",
       "      <td>2</td>\n",
       "      <td>2</td>\n",
       "      <td>5</td>\n",
       "      <td>1199577600</td>\n",
       "      <td>LOACKER QUADRATINI VANILLA WAFERS</td>\n",
       "      <td>DELICIOUS WAFERS. I FIND THAT EUROPEAN WAFERS ...</td>\n",
       "    </tr>\n",
       "  </tbody>\n",
       "</table>\n",
       "</div>"
      ],
      "text/plain": [
       "       Id   ProductId         UserId      ProfileName  HelpfulnessNumerator  \\\n",
       "0   78445  B000HDL1RQ  AR5J8UI46CURR  Geetha Krishnan                     2   \n",
       "1  138317  B000HDOPYC  AR5J8UI46CURR  Geetha Krishnan                     2   \n",
       "2  138277  B000HDOPYM  AR5J8UI46CURR  Geetha Krishnan                     2   \n",
       "3   73791  B000HDOPZG  AR5J8UI46CURR  Geetha Krishnan                     2   \n",
       "4  155049  B000PAQ75C  AR5J8UI46CURR  Geetha Krishnan                     2   \n",
       "\n",
       "   HelpfulnessDenominator  Score        Time  \\\n",
       "0                       2      5  1199577600   \n",
       "1                       2      5  1199577600   \n",
       "2                       2      5  1199577600   \n",
       "3                       2      5  1199577600   \n",
       "4                       2      5  1199577600   \n",
       "\n",
       "                             Summary  \\\n",
       "0  LOACKER QUADRATINI VANILLA WAFERS   \n",
       "1  LOACKER QUADRATINI VANILLA WAFERS   \n",
       "2  LOACKER QUADRATINI VANILLA WAFERS   \n",
       "3  LOACKER QUADRATINI VANILLA WAFERS   \n",
       "4  LOACKER QUADRATINI VANILLA WAFERS   \n",
       "\n",
       "                                                Text  \n",
       "0  DELICIOUS WAFERS. I FIND THAT EUROPEAN WAFERS ...  \n",
       "1  DELICIOUS WAFERS. I FIND THAT EUROPEAN WAFERS ...  \n",
       "2  DELICIOUS WAFERS. I FIND THAT EUROPEAN WAFERS ...  \n",
       "3  DELICIOUS WAFERS. I FIND THAT EUROPEAN WAFERS ...  \n",
       "4  DELICIOUS WAFERS. I FIND THAT EUROPEAN WAFERS ...  "
      ]
     },
     "execution_count": 5,
     "metadata": {},
     "output_type": "execute_result"
    }
   ],
   "source": [
    "display.head()"
   ]
  },
  {
   "cell_type": "markdown",
   "metadata": {},
   "source": [
    "As can be seen above the same user has multiple reviews of the with the same values for HelpfulnessNumerator, HelpfulnessDenominator, Score, Time, Summary and Text and on doing analysis it was found that \n",
    "\n",
    "ProductId=B000HDOPZG was Loacker Quadratini Vanilla Wafer Cookies, 8.82-Ounce Packages (Pack of 8)\n",
    "\n",
    "ProductId=B000HDL1RQ was Loacker Quadratini Lemon Wafer Cookies, 8.82-Ounce Packages (Pack of 8) and so on\n",
    "\n",
    "It was inferred after analysis that reviews with same parameters other than ProductId belonged to the same product just having different flavour or quantity. Hence in order to reduce redundancy it was decided to eliminate the rows having same parameters.\n",
    "\n",
    "The method used for the same was that we first sort the data according to ProductId and then just keep the first similar product review and delelte the others. for eg. in the above just the review for ProductId=B000HDL1RQ remains. This method ensures that there is only one representative for each product and deduplication without sorting would lead to possibility of different representatives still existing for the same product."
   ]
  },
  {
   "cell_type": "code",
   "execution_count": 6,
   "metadata": {},
   "outputs": [],
   "source": [
    "#Sorting data according to ProductId in ascending order\n",
    "sorted_data = filtered_data.sort_values('ProductId',axis=0,ascending= True, inplace=False, kind ='quicksort',na_position='last')"
   ]
  },
  {
   "cell_type": "code",
   "execution_count": 7,
   "metadata": {},
   "outputs": [
    {
     "data": {
      "text/plain": [
       "(37415, 10)"
      ]
     },
     "execution_count": 7,
     "metadata": {},
     "output_type": "execute_result"
    }
   ],
   "source": [
    "#Duplication of entries\n",
    "final = sorted_data.drop_duplicates(subset={'UserId','ProfileName','Time','Text'}, keep = 'first' , inplace= False)\n",
    "final.shape"
   ]
  },
  {
   "cell_type": "code",
   "execution_count": 8,
   "metadata": {},
   "outputs": [
    {
     "data": {
      "text/plain": [
       "93.5375"
      ]
     },
     "execution_count": 8,
     "metadata": {},
     "output_type": "execute_result"
    }
   ],
   "source": [
    "#Checking to see how much % of data still remains\n",
    "(final['Id'].size*1.0)/(filtered_data['Id'].size*1.0)*100"
   ]
  },
  {
   "cell_type": "markdown",
   "metadata": {},
   "source": [
    "Observation:- It was also seen that in two rows given below the value of HelpfulnessNumerator is greater than HelpfulnessDenominator which is not practically possible hence these two rows too are removed from calcualtions\n",
    "    "
   ]
  },
  {
   "cell_type": "code",
   "execution_count": 9,
   "metadata": {},
   "outputs": [
    {
     "data": {
      "text/html": [
       "<div>\n",
       "<style scoped>\n",
       "    .dataframe tbody tr th:only-of-type {\n",
       "        vertical-align: middle;\n",
       "    }\n",
       "\n",
       "    .dataframe tbody tr th {\n",
       "        vertical-align: top;\n",
       "    }\n",
       "\n",
       "    .dataframe thead th {\n",
       "        text-align: right;\n",
       "    }\n",
       "</style>\n",
       "<table border=\"1\" class=\"dataframe\">\n",
       "  <thead>\n",
       "    <tr style=\"text-align: right;\">\n",
       "      <th></th>\n",
       "      <th>Id</th>\n",
       "      <th>ProductId</th>\n",
       "      <th>UserId</th>\n",
       "      <th>ProfileName</th>\n",
       "      <th>HelpfulnessNumerator</th>\n",
       "      <th>HelpfulnessDenominator</th>\n",
       "      <th>Score</th>\n",
       "      <th>Time</th>\n",
       "      <th>Summary</th>\n",
       "      <th>Text</th>\n",
       "    </tr>\n",
       "  </thead>\n",
       "  <tbody>\n",
       "    <tr>\n",
       "      <th>0</th>\n",
       "      <td>64422</td>\n",
       "      <td>B000MIDROQ</td>\n",
       "      <td>A161DK06JJMCYF</td>\n",
       "      <td>J. E. Stephens \"Jeanne\"</td>\n",
       "      <td>3</td>\n",
       "      <td>1</td>\n",
       "      <td>5</td>\n",
       "      <td>1224892800</td>\n",
       "      <td>Bought This for My Son at College</td>\n",
       "      <td>My son loves spaghetti so I didn't hesitate or...</td>\n",
       "    </tr>\n",
       "    <tr>\n",
       "      <th>1</th>\n",
       "      <td>44737</td>\n",
       "      <td>B001EQ55RW</td>\n",
       "      <td>A2V0I904FH7ABY</td>\n",
       "      <td>Ram</td>\n",
       "      <td>3</td>\n",
       "      <td>2</td>\n",
       "      <td>4</td>\n",
       "      <td>1212883200</td>\n",
       "      <td>Pure cocoa taste with crunchy almonds inside</td>\n",
       "      <td>It was almost a 'love at first bite' - the per...</td>\n",
       "    </tr>\n",
       "  </tbody>\n",
       "</table>\n",
       "</div>"
      ],
      "text/plain": [
       "      Id   ProductId          UserId              ProfileName  \\\n",
       "0  64422  B000MIDROQ  A161DK06JJMCYF  J. E. Stephens \"Jeanne\"   \n",
       "1  44737  B001EQ55RW  A2V0I904FH7ABY                      Ram   \n",
       "\n",
       "   HelpfulnessNumerator  HelpfulnessDenominator  Score        Time  \\\n",
       "0                     3                       1      5  1224892800   \n",
       "1                     3                       2      4  1212883200   \n",
       "\n",
       "                                        Summary  \\\n",
       "0             Bought This for My Son at College   \n",
       "1  Pure cocoa taste with crunchy almonds inside   \n",
       "\n",
       "                                                Text  \n",
       "0  My son loves spaghetti so I didn't hesitate or...  \n",
       "1  It was almost a 'love at first bite' - the per...  "
      ]
     },
     "execution_count": 9,
     "metadata": {},
     "output_type": "execute_result"
    }
   ],
   "source": [
    "display = pd.read_sql_query(\"\"\"\n",
    "SELECt * \n",
    "FROM Reviews\n",
    "WHERE Score !=3 AND Id=44737 OR Id=64422\n",
    "ORDER BY ProductId\n",
    "\"\"\",con)\n",
    "display.head()"
   ]
  },
  {
   "cell_type": "code",
   "execution_count": 10,
   "metadata": {},
   "outputs": [],
   "source": [
    "final = final[final.HelpfulnessNumerator <= final.HelpfulnessDenominator]"
   ]
  },
  {
   "cell_type": "code",
   "execution_count": 11,
   "metadata": {},
   "outputs": [
    {
     "data": {
      "text/plain": [
       "1    31324\n",
       "0     6091\n",
       "Name: Score, dtype: int64"
      ]
     },
     "execution_count": 11,
     "metadata": {},
     "output_type": "execute_result"
    }
   ],
   "source": [
    "final.shape\n",
    "final['Score'].value_counts()"
   ]
  },
  {
   "cell_type": "markdown",
   "metadata": {},
   "source": [
    "# Text Preprocessing.\n",
    "\n",
    "Now that we have finished deduplication our data requires some preprocessing before we go on further with analysis and making the prediction model.\n",
    "\n",
    "Hence in the Preprocessing phase we do the following in the order below:-\n",
    "\n",
    "1. Begin by removing the html tags\n",
    "2. Remove any punctuations or limited set of special characters like , or . or # etc.\n",
    "3. Check if the word is made up of english letters and is not alpha-numeric\n",
    "4. Check to see if the length of the word is greater than 2 (as it was researched that there is no adjective in 2-letters)\n",
    "5. Convert the word to lowercase\n",
    "6. Remove Stopwords\n",
    "7. Finally Snowball Stemming the word (it was obsereved to be better than Porter Stemming)<br>\n",
    "\n",
    "After which we collect the words used to describe positive and negative reviews"
   ]
  },
  {
   "cell_type": "code",
   "execution_count": 12,
   "metadata": {},
   "outputs": [],
   "source": [
    "def decontracted(phrase):\n",
    "    # specific\n",
    "    phrase = re.sub(r\"won't\", \"will not\", phrase)\n",
    "    phrase = re.sub(r\"can\\'t\", \"can not\", phrase)\n",
    "\n",
    "    # general\n",
    "    phrase = re.sub(r\"n\\'t\", \" not\", phrase)\n",
    "    phrase = re.sub(r\"\\'re\", \" are\", phrase)\n",
    "    phrase = re.sub(r\"\\'s\", \" is\", phrase)\n",
    "    phrase = re.sub(r\"\\'d\", \" would\", phrase)\n",
    "    phrase = re.sub(r\"\\'ll\", \" will\", phrase)\n",
    "    phrase = re.sub(r\"\\'t\", \" not\", phrase)\n",
    "    phrase = re.sub(r\"\\'ve\", \" have\", phrase)\n",
    "    phrase = re.sub(r\"\\'m\", \" am\", phrase)\n",
    "    return phrase"
   ]
  },
  {
   "cell_type": "code",
   "execution_count": 13,
   "metadata": {},
   "outputs": [],
   "source": [
    "stopwords= set(['br', 'the', 'i', 'me', 'my', 'myself', 'we', 'our', 'ours', 'ourselves', 'you', \"you're\", \"you've\",\\\n",
    "            \"you'll\", \"you'd\", 'your', 'yours', 'yourself', 'yourselves', 'he', 'him', 'his', 'himself', \\\n",
    "            'she', \"she's\", 'her', 'hers', 'herself', 'it', \"it's\", 'its', 'itself', 'they', 'them', 'their',\\\n",
    "            'theirs', 'themselves', 'what', 'which', 'who', 'whom', 'this', 'that', \"that'll\", 'these', 'those', \\\n",
    "            'am', 'is', 'are', 'was', 'were', 'be', 'been', 'being', 'have', 'has', 'had', 'having', 'do', 'does', \\\n",
    "            'did', 'doing', 'a', 'an', 'the', 'and', 'but', 'if', 'or', 'because', 'as', 'until', 'while', 'of', \\\n",
    "            'at', 'by', 'for', 'with', 'about', 'against', 'between', 'into', 'through', 'during', 'before', 'after',\\\n",
    "            'above', 'below', 'to', 'from', 'up', 'down', 'in', 'out', 'on', 'off', 'over', 'under', 'again', 'further',\\\n",
    "            'then', 'once', 'here', 'there', 'when', 'where', 'why', 'how', 'all', 'any', 'both', 'each', 'few', 'more',\\\n",
    "            'most', 'other', 'some', 'such', 'only', 'own', 'same', 'so', 'than', 'too', 'very', \\\n",
    "            's', 't', 'can', 'will', 'just', 'don', \"don't\", 'should', \"should've\", 'now', 'd', 'll', 'm', 'o', 're', \\\n",
    "            've', 'y', 'ain', 'aren', \"aren't\", 'couldn', \"couldn't\", 'didn', \"didn't\", 'doesn', \"doesn't\", 'hadn',\\\n",
    "            \"hadn't\", 'hasn', \"hasn't\", 'haven', \"haven't\", 'isn', \"isn't\", 'ma', 'mightn', \"mightn't\", 'mustn',\\\n",
    "            \"mustn't\", 'needn', \"needn't\", 'shan', \"shan't\", 'shouldn', \"shouldn't\", 'wasn', \"wasn't\", 'weren', \"weren't\", \\\n",
    "            'won', \"won't\", 'wouldn', \"wouldn't\"])"
   ]
  },
  {
   "cell_type": "code",
   "execution_count": 14,
   "metadata": {},
   "outputs": [],
   "source": [
    "# Combining all the above stundents \n",
    "from tqdm import tqdm\n",
    "preprocessed_reviews = []\n",
    "# tqdm is for printing the status bar\n",
    "# for sentance in tqdm(final['Text'].values):\n",
    "for sentance in final['Text'].values:\n",
    "    sentance = re.sub(r\"http\\S+\",\"\",sentance)\n",
    "    sentance = BeautifulSoup(sentance,'lxml').get_text()\n",
    "    sentance = decontracted(sentance)\n",
    "    sentance = re.sub(\"\\S*\\d\\S*\",\"\",sentance).strip()\n",
    "    sentance = re.sub('[^A-Za-z]+',' ',sentance)\n",
    "    sentance = ' '.join(e.lower() for e in sentance.split() if e.lower() not in stopwords)  \n",
    "    preprocessed_reviews.append(sentance.strip())"
   ]
  },
  {
   "cell_type": "code",
   "execution_count": 15,
   "metadata": {},
   "outputs": [],
   "source": [
    "# Add pre processed reviews in to final df\n",
    "# final['preprocessed_reviews'] = preprocessed_reviews"
   ]
  },
  {
   "cell_type": "code",
   "execution_count": 16,
   "metadata": {},
   "outputs": [
    {
     "data": {
      "text/plain": [
       "'fed canidae als old formula years dogs thrived canidae switched formula mfg immediately switched another food afer reported problems feed store talked trying new formula went back als big mistake experienced weight loss explosive diarreha vomitting lethargy etc dogs lbs varying pedigrees ages sick weight loss poor coats vomitting etc run complete extensive blood panels rule health problems dogs bottomline blood panels ok food canidae issue use fantastic food dangerous food feed entire pack dogs health declined new formula switched foods something canidae dogs recovering love las vegas russian roulette feed canidae want avoid major vet expenses heartache choose another food homework research canidae als problems make best educated decision pets year since originally posted review product thought time update still warn folks feeding canidae als canidae formuals not know dogs recovered thank goodness back running fenceline greeting visitors etc not sickly become aka lethergic diarreha lost weight crew faced know bunch pros cons various websites concerning canidae use one biggest flag wavers canidae formula change vet expenses forced face believe heavy heart cannot recommend canidae not flare noticed internet vindications company personnal gain great concern illnesses experienced pack dogs took several months vet care dry dog food changes dogs recover not want see beloved family members undergo gone please please please check highly recommended non bias dog food analysis site still recommending canidae als star highest rating premium food feed caveate however position product dfa heard complaints number animals hear not well food appears risen substantially ask personal research concerning food keep eye pet food reactions make best educated decision beloved four footed furry family members'"
      ]
     },
     "execution_count": 16,
     "metadata": {},
     "output_type": "execute_result"
    }
   ],
   "source": [
    "preprocessed_reviews[100]"
   ]
  },
  {
   "cell_type": "markdown",
   "metadata": {},
   "source": [
    "<h2><font color='red'>[3.2] Preprocess Summary</font></h2>"
   ]
  },
  {
   "cell_type": "code",
   "execution_count": 17,
   "metadata": {},
   "outputs": [
    {
     "name": "stderr",
     "output_type": "stream",
     "text": [
      "C:\\Users\\Saraswathi\\AppData\\Local\\Continuum\\anaconda3\\lib\\site-packages\\bs4\\__init__.py:273: UserWarning: \"b'...'\" looks like a filename, not markup. You should probably open this file and pass the filehandle into Beautiful Soup.\n",
      "  ' Beautiful Soup.' % markup)\n"
     ]
    }
   ],
   "source": [
    "##preprocessing for review summary also.\n",
    "\n",
    "# Combining all the above stundents \n",
    "from tqdm import tqdm\n",
    "preprocessed_summary = []\n",
    "# tqdm is for printing the status bar\n",
    "# for sentance in tqdm(final['Summary'].values):\n",
    "for sentance in (final['Summary'].values):\n",
    "\n",
    "    sentance = re.sub(r\"http\\S+\",\"\",sentance)\n",
    "    sentance = BeautifulSoup(sentance,'lxml').get_text()\n",
    "    sentance = decontracted(sentance)\n",
    "    sentance = re.sub(\"\\S*\\d\\S*\",\"\",sentance).strip()\n",
    "    sentance = re.sub('[^A-Za-z]+',' ',sentance)\n",
    "    sentance = ' '.join(e.lower() for e in sentance.split() if e.lower() not in stopwords)  \n",
    "    preprocessed_summary.append(sentance.strip())"
   ]
  },
  {
   "cell_type": "code",
   "execution_count": 18,
   "metadata": {},
   "outputs": [
    {
     "data": {
      "text/plain": [
       "'terrible dangerous feed'"
      ]
     },
     "execution_count": 18,
     "metadata": {},
     "output_type": "execute_result"
    }
   ],
   "source": [
    "preprocessed_summary[100]"
   ]
  },
  {
   "cell_type": "markdown",
   "metadata": {},
   "source": [
    "# Featurization\n",
    "\n",
    "BAG OF WORDS, Bi-Grams and n-Grams, TF-IDF, Word2Vec, Converting text into vectors using wAvg W2V, TFIDF-W2V, Avg W2v, TFIDF weighted W2v"
   ]
  },
  {
   "cell_type": "code",
   "execution_count": 19,
   "metadata": {},
   "outputs": [],
   "source": [
    "#storing label i.e positive and negative in another variable for tsne plot\n",
    "labels = final['Score'] \n"
   ]
  },
  {
   "cell_type": "markdown",
   "metadata": {},
   "source": [
    "\n",
    "\n",
    "## BAG OF WORDS"
   ]
  },
  {
   "cell_type": "code",
   "execution_count": 20,
   "metadata": {},
   "outputs": [
    {
     "name": "stdout",
     "output_type": "stream",
     "text": [
      "some feature names are ['aa', 'aaa', 'aaaa', 'aaaaa', 'aaaaaaaaaaaa', 'aaaaaaaaaaaaaaa', 'aaaaaaahhhhhh', 'aaaaaawwwwwwwwww', 'aaaand', 'aaah']\n",
      "==================================================\n",
      "the type of count vectorizer  <class 'scipy.sparse.csr.csr_matrix'>\n",
      "the shape of out text BOW vectorizer  (37415, 35636)\n",
      "the number of unique words 35636\n"
     ]
    }
   ],
   "source": [
    "#BOW\n",
    "count_vect = CountVectorizer()\n",
    "count_vect.fit(preprocessed_reviews)\n",
    "print('some feature names are',count_vect.get_feature_names()[:10])\n",
    "print('='*50)\n",
    "\n",
    "final_counts = count_vect.transform(preprocessed_reviews)\n",
    "print(\"the type of count vectorizer \",type(final_counts))\n",
    "print(\"the shape of out text BOW vectorizer \",final_counts.get_shape())\n",
    "print(\"the number of unique words\",final_counts.get_shape()[1])"
   ]
  },
  {
   "cell_type": "markdown",
   "metadata": {},
   "source": [
    "## Bi-Grams and n-Grams."
   ]
  },
  {
   "cell_type": "code",
   "execution_count": 21,
   "metadata": {},
   "outputs": [
    {
     "name": "stdout",
     "output_type": "stream",
     "text": [
      "the type of count vectorizer  <class 'scipy.sparse.csr.csr_matrix'>\n",
      "the shape of out text BOW vectorizer (37415, 5000)\n",
      "the number of unique words including both unigrams and bigrams 5000\n"
     ]
    }
   ],
   "source": [
    "#bi-gram, tri-gram and n-gram\n",
    "\n",
    "#removing stop words like \"not\" should be avoided before building n-grams\n",
    "# count_vect = CountVectorizer(ngram_range=(1,2))\n",
    "count_vect = CountVectorizer(ngram_range=(1,2),min_df=10,max_features=5000)\n",
    "final_bigram_counts = count_vect.fit_transform(preprocessed_reviews)\n",
    "print(\"the type of count vectorizer \",type(final_bigram_counts))\n",
    "print(\"the shape of out text BOW vectorizer\",final_bigram_counts.get_shape())\n",
    "print(\"the number of unique words including both unigrams and bigrams\",final_bigram_counts.get_shape()[1])"
   ]
  },
  {
   "cell_type": "markdown",
   "metadata": {},
   "source": [
    "## TF-IDF"
   ]
  },
  {
   "cell_type": "code",
   "execution_count": 22,
   "metadata": {},
   "outputs": [
    {
     "name": "stdout",
     "output_type": "stream",
     "text": [
      "some sample features(unique words in the corpus) ['ability', 'able', 'able buy', 'able chew', 'able drink', 'able eat', 'able enjoy', 'able figure', 'able find', 'able finish']\n",
      "==================================================\n",
      "the type of count vectorizer  <class 'scipy.sparse.csr.csr_matrix'>\n",
      "the shape of out text TFIDF vectorizer  (37415, 22294)\n",
      "the number of unique words including both unigrams and bigrams  22294\n"
     ]
    }
   ],
   "source": [
    "tf_idf_vect = TfidfVectorizer(ngram_range=(1,2), min_df =10)\n",
    "tf_idf_vect.fit(preprocessed_reviews)\n",
    "print(\"some sample features(unique words in the corpus)\",tf_idf_vect.get_feature_names()[:10])\n",
    "print('='*50)\n",
    "final_tf_idf = tf_idf_vect.transform(preprocessed_reviews)\n",
    "print(\"the type of count vectorizer \",type(final_tf_idf))\n",
    "print(\"the shape of out text TFIDF vectorizer \",final_tf_idf.get_shape())\n",
    "print(\"the number of unique words including both unigrams and bigrams \", final_tf_idf.get_shape()[1])"
   ]
  },
  {
   "cell_type": "markdown",
   "metadata": {},
   "source": [
    "##  Word2Vec"
   ]
  },
  {
   "cell_type": "code",
   "execution_count": 23,
   "metadata": {},
   "outputs": [],
   "source": [
    "# Train your own Word2Vec model using your own text corpus\n",
    "# i = 0\n",
    "list_of_sentance = []\n",
    "for sentance in preprocessed_reviews:\n",
    "#     list_of_sentance.append(sentance)\n",
    "    list_of_sentance.append(sentance.split())\n",
    "# print((list_of_sentance))"
   ]
  },
  {
   "cell_type": "code",
   "execution_count": 24,
   "metadata": {},
   "outputs": [
    {
     "name": "stdout",
     "output_type": "stream",
     "text": [
      "<class 'gensim.models.word2vec.Word2Vec'>\n",
      "[('awesome', 0.8184202313423157), ('fantastic', 0.8099757432937622), ('excellent', 0.7861090898513794), ('amazing', 0.775448739528656), ('wonderful', 0.7705572843551636), ('good', 0.7640385627746582), ('terrific', 0.7386143803596497), ('perfect', 0.7273669242858887), ('fabulous', 0.7049498558044434), ('decent', 0.6865615844726562)]\n",
      "==================================================\n",
      "[('greatest', 0.7276381850242615), ('closest', 0.7116490602493286), ('best', 0.7077579498291016), ('awful', 0.6856242418289185), ('hottest', 0.6576672792434692), ('eaten', 0.6573429107666016), ('nastiest', 0.6470666527748108), ('hardly', 0.6354508399963379), ('experienced', 0.6341041326522827), ('ive', 0.6276416778564453)]\n"
     ]
    }
   ],
   "source": [
    "# Using Google News Word2Vectors\n",
    "is_your_ram_gt_16gb = False\n",
    "want_to_use_google_w2v = True\n",
    "want_to_train_w2v = True\n",
    "\n",
    "# print(list_of_sentance)\n",
    "\n",
    "if want_to_train_w2v:\n",
    "   # min_count = 5 considers only words that occured atleast 5 times\n",
    "    w2v_model = Word2Vec(list_of_sentance,min_count = 5 ,size = 50 ,workers = 4)\n",
    "    print(type(w2v_model))\n",
    "    print(w2v_model.wv.most_similar('great'))\n",
    "    print('='*50)\n",
    "    print(w2v_model.wv.most_similar('worst'))\n",
    "    \n",
    "\n",
    "elif want_to_use_google_w2v and is_your_ram_gt_16gb :\n",
    "    if os.path.isfile('GoogleNews-vectors-negative300.bin'):\n",
    "        w2v_model = KeyedVectors.load_word2vec_format('GoogleNews-vectors-negative300.bin',binary = True)\n",
    "        print(w2v_model.wv.most_similar('great'))\n",
    "        print(w2v_model.wv.most_similar('worst'))\n",
    "    else:\n",
    "        print(\"you don't have gogole's word2vec file, keep want_to_train_w2v = True, to train your own w2v \")    \n",
    "\n"
   ]
  },
  {
   "cell_type": "code",
   "execution_count": 25,
   "metadata": {},
   "outputs": [
    {
     "name": "stdout",
     "output_type": "stream",
     "text": [
      "<class 'gensim.models.word2vec.Word2Vec'>\n",
      "number of words that occured minimum 5 times  11636\n",
      "sample words  ['dogs', 'love', 'saw', 'pet', 'store', 'tag', 'attached', 'regarding', 'made', 'china', 'satisfied', 'safe', 'loves', 'chicken', 'product', 'wont', 'buying', 'anymore', 'hard', 'find', 'products', 'usa', 'one', 'isnt', 'bad', 'good', 'take', 'chances', 'till', 'know', 'going', 'imports', 'available', 'victor', 'traps', 'unreal', 'course', 'total', 'fly', 'pretty', 'stinky', 'right', 'nearby', 'used', 'bait', 'seasons', 'ca', 'not', 'beat', 'great']\n"
     ]
    }
   ],
   "source": [
    "print(type(w2v_model))\n",
    "w2v_words = list(w2v_model.wv.vocab)\n",
    "print(\"number of words that occured minimum 5 times \",len(w2v_words))\n",
    "print(\"sample words \", w2v_words[0:50])"
   ]
  },
  {
   "cell_type": "markdown",
   "metadata": {},
   "source": [
    "## Converting text into vectors using wAvg W2V, TFIDF-W2V\n"
   ]
  },
  {
   "cell_type": "markdown",
   "metadata": {},
   "source": [
    "####  Avg W2v"
   ]
  },
  {
   "cell_type": "code",
   "execution_count": 26,
   "metadata": {},
   "outputs": [
    {
     "name": "stdout",
     "output_type": "stream",
     "text": [
      "37415\n",
      "50\n"
     ]
    }
   ],
   "source": [
    "#average word2vec\n",
    "#compute average word2 vec for each review\n",
    "sent_vectors = [];\n",
    "# for sent in tqdm(list_of_sentance):\n",
    "for sent in (list_of_sentance):\n",
    "    \n",
    "    sent_vec = np.zeros(50) # as word vectors are of zero length 50, you might need to change this to 300 if you use google's w2v\n",
    "    cnt_words = 0;\n",
    "    for word in sent:\n",
    "        if word in w2v_words:\n",
    "            vec = w2v_model.wv[word]\n",
    "            sent_vec += vec\n",
    "            cnt_words += 1\n",
    "    if cnt_words != 0:\n",
    "        sent_vec  /=cnt_words\n",
    "    sent_vectors.append(sent_vec)\n",
    "print(len(sent_vectors))\n",
    "print(len(sent_vectors[0]))        \n",
    "\n"
   ]
  },
  {
   "cell_type": "markdown",
   "metadata": {},
   "source": [
    "####  TFIDF weighted W2v"
   ]
  },
  {
   "cell_type": "code",
   "execution_count": 27,
   "metadata": {},
   "outputs": [],
   "source": [
    "# S = [\"abc def pqr\", \"def def def abc\", \"pqr pqr def\"]\n",
    "model = TfidfVectorizer()\n",
    "model.fit(preprocessed_reviews)\n",
    "# we are converting a dictionary with word as a key, and the idf as a value\n",
    "dictionary = dict(zip(model.get_feature_names(),list(model.idf_)))\n"
   ]
  },
  {
   "cell_type": "code",
   "execution_count": 28,
   "metadata": {},
   "outputs": [],
   "source": [
    "# TF-IDF weighted Word2Vec\n",
    "tfidf_feat = model.get_feature_names()\n",
    "\n",
    "# final_tf_idf is the sparse matrix with row= sentence, col=word and cell_val = tfidf\n",
    "\n",
    "tfidf_sent_vectors = [] ; # the tfidf-w2v for each sentence/review is stored in this list\n",
    "row = 0\n",
    "# for sent in tqdm(list_of_sentance):\n",
    "for sent in (list_of_sentance):  \n",
    "    sent_vec = np.zeros(50)\n",
    "    weight_sum = 0; # as word vectors are of zero length\n",
    "    for word in sent: # for each word in a review/sentence\n",
    "        if word in w2v_words and word in tfidf_feat:\n",
    "            vec = w2v_model.wv[word]\n",
    "            # tf_idf = tf_idf_matrix[row, tfidf_feat.index(word)]\n",
    "            # to reduce the computation we are \n",
    "            # dictionary[word] = idf value of word in whole courpus\n",
    "            # sent.count(word) = tf valeus of word in this review\n",
    "            tf_idf = dictionary[word]*(sent.count(word)/len(sent))\n",
    "            sent_vec += (vec * tf_idf)\n",
    "            weight_sum += tf_idf\n",
    "    if weight_sum != 0:\n",
    "        sent_vec /= weight_sum\n",
    "    tfidf_sent_vectors.append(sent_vec)\n",
    "    row += 1\n"
   ]
  },
  {
   "cell_type": "markdown",
   "metadata": {},
   "source": [
    "# [5] Assignment 7: SVM"
   ]
  },
  {
   "cell_type": "markdown",
   "metadata": {},
   "source": [
    "<ol>\n",
    "    <li><strong>Apply SVM on these feature sets</strong>\n",
    "        <ul>\n",
    "            <li><font color='red'>SET 1:</font>Review text, preprocessed one converted into vectors using (BOW)</li>\n",
    "            <li><font color='red'>SET 2:</font>Review text, preprocessed one converted into vectors using (TFIDF)</li>\n",
    "            <li><font color='red'>SET 3:</font>Review text, preprocessed one converted into vectors using (AVG W2v)</li>\n",
    "            <li><font color='red'>SET 4:</font>Review text, preprocessed one converted into vectors using (TFIDF W2v)</li>\n",
    "        </ul>\n",
    "    </li>\n",
    "    <br>\n",
    "    <li><strong>Procedure</strong>\n",
    "        <ul>\n",
    "    <li>You need to work with 2 versions of SVM\n",
    "        <ul><li>Linear kernel</li>\n",
    "            <li>RBF kernel</li></ul>\n",
    "    <li>When you are working with linear kernel, use SGDClassifier’ with hinge loss because it is computationally less expensive.</li>\n",
    "    <li>When you are working with ‘SGDClassifier’ with hinge loss and trying to find the AUC\n",
    "        score, you would have to use <a href='https://scikit-learn.org/stable/modules/generated/sklearn.calibration.CalibratedClassifierCV.html'>CalibratedClassifierCV</a></li>\n",
    "    <li>Similarly, like kdtree of knn, when you are working with RBF kernel it's better to reduce\n",
    "the number of dimensions. You can put min_df = 10, max_features = 500 and consider a sample size of 40k points.</li>                \n",
    "        </ul>\n",
    "    </li>\n",
    "    <br>\n",
    "    <li><strong>Hyper paramter tuning (find best alpha in range [10^-4 to 10^4], and the best penalty among 'l1', 'l2')</strong>\n",
    "        <ul>\n",
    "    <li>Find the best hyper parameter which will give the maximum <a href='https://www.appliedaicourse.com/course/applied-ai-course-online/lessons/receiver-operating-characteristic-curve-roc-curve-and-auc-1/'>AUC</a> value</li>\n",
    "    <li>Find the best hyper paramter using k-fold cross validation or simple cross validation data</li>\n",
    "    <li>Use gridsearch cv or randomsearch cv or you can also write your own for loops to do this task of hyperparameter tuning</li>          \n",
    "        </ul>\n",
    "    </li>\n",
    "    <br>\n",
    "    <li><strong>Feature importance</strong>\n",
    "        <ul>\n",
    "    <li>When you are working on the linear kernel with BOW or TFIDF please print the top 10 best\n",
    "features for each of the positive and negative classes.</li>\n",
    "        </ul>\n",
    "    </li>\n",
    "    <br>\n",
    "    <li><strong>Feature engineering</strong>\n",
    "        <ul>\n",
    "    <li>To increase the performance of your model, you can also experiment with with feature engineering like :</li>\n",
    "            <ul>\n",
    "            <li>Taking length of reviews as another feature.</li>\n",
    "            <li>Considering some features from review summary as well.</li>\n",
    "        </ul>\n",
    "        </ul>\n",
    "    </li>\n",
    "    <br>\n",
    "    <li><strong>Representation of results</strong>\n",
    "        <ul>\n",
    "    <li>You need to plot the performance of model both on train data and cross validation data for each hyper parameter, like shown in the figure.\n",
    "    <li>Once after you found the best hyper parameter, you need to train your model with it, and find the AUC on test data and plot the ROC curve on both train and test.\n",
    "    <li>Along with plotting ROC curve, you need to print the <a href='https://www.appliedaicourse.com/course/applied-ai-course-online/lessons/confusion-matrix-tpr-fpr-fnr-tnr-1/'>confusion matrix</a> with predicted and original labels of test data points. Please visualize your confusion matrices using <a href='https://seaborn.pydata.org/generated/seaborn.heatmap.html'>seaborn heatmaps.\n",
    "        </ul>\n",
    "    </li>\n",
    "    <br>\n",
    "    <li><strong>Conclusion</strong>\n",
    "        <ul>\n",
    "    <li>You need to summarize the results at the end of the notebook, summarize it in the table format. To print out a table please refer to this prettytable library<a href='http://zetcode.com/python/prettytable/'>  link</a> \n",
    "    </li>\n",
    "        </ul>\n",
    "</ol>"
   ]
  },
  {
   "cell_type": "markdown",
   "metadata": {},
   "source": [
    "<h4><font color='red'>Note: Data Leakage</font></h4>\n",
    "\n",
    "1. There will be an issue of data-leakage if you vectorize the entire data and then split it into train/cv/test.\n",
    "2. To avoid the issue of data-leakag, make sure to split your data first and then vectorize it. \n",
    "3. While vectorizing your data, apply the method fit_transform() on you train data, and apply the method transform() on cv/test data.\n",
    "4. For more details please go through this <a href='https://soundcloud.com/applied-ai-course/leakage-bow-and-tfidf'>link.</a>"
   ]
  },
  {
   "cell_type": "markdown",
   "metadata": {},
   "source": [
    "# Applying SVM"
   ]
  },
  {
   "cell_type": "code",
   "execution_count": 29,
   "metadata": {},
   "outputs": [],
   "source": [
    "\n",
    "from sklearn.model_selection import train_test_split\n",
    "from sklearn.model_selection import cross_val_score\n",
    "from sklearn import model_selection\n",
    "from sklearn.linear_model import LogisticRegression\n",
    "from sklearn.linear_model import SGDClassifier\n",
    "\n",
    "from sklearn.calibration import CalibratedClassifierCV\n",
    "\n",
    "from sklearn.metrics import roc_auc_score,auc\n",
    "from sklearn.metrics import accuracy_score\n",
    "\n",
    "from sklearn.preprocessing import StandardScaler\n",
    "from sklearn.svm import SVC\n",
    "from collections import Counter\n",
    "\n"
   ]
  },
  {
   "cell_type": "code",
   "execution_count": 30,
   "metadata": {},
   "outputs": [],
   "source": [
    "x = preprocessed_reviews\n",
    "y = final['Score'].values\n",
    "\n",
    "\n",
    "#Train CV test split\n",
    "\n",
    "x1, base_x_test, y1, y_test = train_test_split(x, y, test_size = 0.3, random_state = 0)\n",
    "base_x_train, base_x_cv, y_train, y_cv = train_test_split(x1,y1, test_size = 0.3)"
   ]
  },
  {
   "cell_type": "markdown",
   "metadata": {},
   "source": [
    "## [5.1] Linear SVM"
   ]
  },
  {
   "cell_type": "markdown",
   "metadata": {},
   "source": [
    "### [5.1.1] Applying Linear SVM on BOW,<font color='red'> SET 1</font>"
   ]
  },
  {
   "cell_type": "code",
   "execution_count": 31,
   "metadata": {},
   "outputs": [
    {
     "name": "stderr",
     "output_type": "stream",
     "text": [
      "C:\\Users\\Saraswathi\\AppData\\Local\\Continuum\\anaconda3\\lib\\site-packages\\sklearn\\utils\\validation.py:475: DataConversionWarning: Data with input dtype int64 was converted to float64 by StandardScaler.\n",
      "  warnings.warn(msg, DataConversionWarning)\n",
      "C:\\Users\\Saraswathi\\AppData\\Local\\Continuum\\anaconda3\\lib\\site-packages\\sklearn\\utils\\validation.py:475: DataConversionWarning: Data with input dtype int64 was converted to float64 by StandardScaler.\n",
      "  warnings.warn(msg, DataConversionWarning)\n",
      "C:\\Users\\Saraswathi\\AppData\\Local\\Continuum\\anaconda3\\lib\\site-packages\\sklearn\\utils\\validation.py:475: DataConversionWarning: Data with input dtype int64 was converted to float64 by StandardScaler.\n",
      "  warnings.warn(msg, DataConversionWarning)\n",
      "C:\\Users\\Saraswathi\\AppData\\Local\\Continuum\\anaconda3\\lib\\site-packages\\sklearn\\utils\\validation.py:475: DataConversionWarning: Data with input dtype int64 was converted to float64 by StandardScaler.\n",
      "  warnings.warn(msg, DataConversionWarning)\n"
     ]
    },
    {
     "data": {
      "image/png": "[encoded data removed]",
      "text/plain": [
       "<Figure size 432x288 with 1 Axes>"
      ]
     },
     "metadata": {
      "needs_background": "light"
     },
     "output_type": "display_data"
    },
    {
     "name": "stdout",
     "output_type": "stream",
     "text": [
      "optimal alpha for which auc is max is  0.1\n"
     ]
    }
   ],
   "source": [
    "cnt_vec = CountVectorizer()\n",
    "tran_x_train = cnt_vec.fit_transform(base_x_train)\n",
    "tran_x_cv = cnt_vec.transform(base_x_cv)\n",
    "tran_x_test = cnt_vec.transform(base_x_test)\n",
    "\n",
    "#standardize data\n",
    "scalar = StandardScaler(with_mean = False)\n",
    "x_train = scalar.fit_transform(tran_x_train)\n",
    "x_cv = scalar.transform(tran_x_cv)\n",
    "x_test = scalar.transform(tran_x_test)\n",
    "\n",
    "alpha = [10**-4, 10**-3, 10**-2, 10**-1, 10**0, 10**1, 10**2, 10**3,10**4] #alpha = 1/C\n",
    "\n",
    "auc_train = []\n",
    "auc_cv = []\n",
    "\n",
    "for i in alpha :\n",
    "    model = SGDClassifier(alpha = i)# default hinge\n",
    "    clf = CalibratedClassifierCV(model,cv = 3) # caliculation of predict_proba\n",
    "    clf.fit(x_train,y_train)\n",
    "    \n",
    "    prob_cv = clf.predict_proba(x_cv)[:,1]\n",
    "    prob_train  = clf.predict_proba(x_train)[:,1]\n",
    "    \n",
    "    auc_cv.append(roc_auc_score(y_cv,prob_cv))\n",
    "    auc_train.append(roc_auc_score(y_train,prob_train))\n",
    "\n",
    "optimal_alpha = alpha[auc_cv.index(max(auc_cv))]\n",
    "alpha = [math.log(x) for x in alpha] #converting values of alpha into logarithm\n",
    "\n",
    "fig = plt.figure()\n",
    "\n",
    "plt.plot(alpha, auc_train, label = 'AUC Train')\n",
    "plt.scatter(alpha, auc_train, label = 'AUC Train')\n",
    "plt.plot(alpha, auc_cv, label = 'AUC CV')\n",
    "plt.scatter(alpha, auc_cv, label = 'AUC CV')\n",
    "    \n",
    "plt.title('AUC Vs Hyperparameter')\n",
    "plt.xlabel(\"alpha1\")\n",
    "plt.ylabel('AUc')\n",
    "plt.legend()\n",
    "plt.show()\n",
    "\n",
    "print('optimal alpha for which auc is max is ', optimal_alpha)"
   ]
  },
  {
   "cell_type": "markdown",
   "metadata": {},
   "source": [
    "#### Testing with Test data"
   ]
  },
  {
   "cell_type": "code",
   "execution_count": 32,
   "metadata": {
    "scrolled": true
   },
   "outputs": [
    {
     "data": {
      "image/png": "[encoded data removed]",
      "text/plain": [
       "<Figure size 432x288 with 1 Axes>"
      ]
     },
     "metadata": {
      "needs_background": "light"
     },
     "output_type": "display_data"
    }
   ],
   "source": [
    "#Train the model with optimal alpha \n",
    "#ROC\n",
    "\n",
    "model = SGDClassifier(alpha = optimal_alpha)\n",
    "clf = CalibratedClassifierCV(model, cv = 3)\n",
    "clf.fit(x_train,y_train)\n",
    "\n",
    "train_prob = clf.predict_proba(x_train)[:,1]\n",
    "test_prob = clf.predict_proba(x_test)[:,1]\n",
    "\n",
    "train_fpr,train_tpr, tresholds1 =  metrics.roc_curve(y_train,train_prob)\n",
    "test_fpr,test_tpr,tresholds2 = metrics.roc_curve(y_test,test_prob)\n",
    "\n",
    "plt.plot(train_fpr,train_tpr,label = 'Train AUC - ' + str(auc(train_fpr,train_tpr)))\n",
    "plt.plot(test_fpr,test_tpr, label = 'Test AUC - ' + str(auc(test_fpr,test_tpr)))\n",
    "\n",
    "plt.xlabel('FPR')\n",
    "plt.ylabel('TPR')\n",
    "plt.title('ROC error plt')\n",
    "plt.legend()\n",
    "plt.show()\n"
   ]
  },
  {
   "cell_type": "markdown",
   "metadata": {},
   "source": [
    "#### Confusion Matrix using Heatmap"
   ]
  },
  {
   "cell_type": "code",
   "execution_count": 33,
   "metadata": {},
   "outputs": [
    {
     "name": "stdout",
     "output_type": "stream",
     "text": [
      "Confusion matrix of train data\n"
     ]
    },
    {
     "data": {
      "image/png": "[encoded data removed]",
      "text/plain": [
       "<Figure size 432x288 with 2 Axes>"
      ]
     },
     "metadata": {
      "needs_background": "light"
     },
     "output_type": "display_data"
    },
    {
     "name": "stdout",
     "output_type": "stream",
     "text": [
      "Confusion matrix of test data\n"
     ]
    },
    {
     "data": {
      "image/png": "[encoded data removed]",
      "text/plain": [
       "<Figure size 432x288 with 2 Axes>"
      ]
     },
     "metadata": {
      "needs_background": "light"
     },
     "output_type": "display_data"
    }
   ],
   "source": [
    "#confusion matrix using heatmap for train data\n",
    "print('Confusion matrix of train data')\n",
    "cm = confusion_matrix(y_train,clf.predict(x_train))\n",
    "class_labels = ['Positive','Negative']\n",
    "df = pd.DataFrame(cm,index= class_labels, columns= class_labels)\n",
    "sb.heatmap(df, annot= True, fmt = 'd')\n",
    "\n",
    "plt.title('Confusion Matrix')\n",
    "plt.xlabel('Predicted')\n",
    "plt.ylabel('Actual')\n",
    "plt.show()\n",
    "\n",
    "#confusion matrix using heatmap for test data\n",
    "print('Confusion matrix of test data')\n",
    "cm = confusion_matrix(y_test,clf.predict(x_test))\n",
    "class_labels = ['Positive','Negative']\n",
    "df = pd.DataFrame(cm,index= class_labels, columns= class_labels)\n",
    "sb.heatmap(df, annot= True, fmt = 'd')\n",
    "\n",
    "plt.title('Confusion Matrix')\n",
    "plt.xlabel('Predicted')\n",
    "plt.ylabel('Actual')\n",
    "plt.show()\n",
    "\n"
   ]
  },
  {
   "cell_type": "markdown",
   "metadata": {},
   "source": [
    "#### Top 10 important features of positive class"
   ]
  },
  {
   "cell_type": "code",
   "execution_count": 34,
   "metadata": {},
   "outputs": [
    {
     "name": "stdout",
     "output_type": "stream",
     "text": [
      "Top 10 negative features\n",
      "great\n",
      "good\n",
      "love\n",
      "best\n",
      "loves\n",
      "delicious\n",
      "perfect\n",
      "favorite\n",
      "nice\n",
      "excellent\n"
     ]
    }
   ],
   "source": [
    "fn = cnt_vec.get_feature_names()\n",
    "model = SGDClassifier(alpha = optimal_alpha)\n",
    "model.fit(x_train,y_train)\n",
    "w = model.coef_\n",
    "pos_words = np.argsort(w)[:,::-1]\n",
    "neg_words = np.argsort(w)\n",
    "\n",
    "# for word in neg_words[0][0:10]: \n",
    "#     print(fn[word])\n",
    "\n",
    "print('Top 10 negative features')\n",
    "for i in list(pos_words[0][0:10]):\n",
    "    print(fn[i])"
   ]
  },
  {
   "cell_type": "markdown",
   "metadata": {},
   "source": [
    "#### Top 10 important features of negative class"
   ]
  },
  {
   "cell_type": "code",
   "execution_count": 35,
   "metadata": {},
   "outputs": [
    {
     "name": "stdout",
     "output_type": "stream",
     "text": [
      "Top 10 negative features\n",
      "disappointed\n",
      "not\n",
      "worst\n",
      "awful\n",
      "disappointing\n",
      "terrible\n",
      "return\n",
      "waste\n",
      "horrible\n",
      "thought\n"
     ]
    }
   ],
   "source": [
    "print('Top 10 negative features')\n",
    "for i in list(neg_words[0][0:10]):\n",
    "    print(fn[i])"
   ]
  },
  {
   "cell_type": "markdown",
   "metadata": {},
   "source": [
    "### [5.1.2] Applying Linear SVM on TFIDF,<font color='red'> SET 2</font>"
   ]
  },
  {
   "cell_type": "code",
   "execution_count": 36,
   "metadata": {},
   "outputs": [
    {
     "data": {
      "image/png": "[encoded data removed]",
      "text/plain": [
       "<Figure size 432x288 with 1 Axes>"
      ]
     },
     "metadata": {
      "needs_background": "light"
     },
     "output_type": "display_data"
    },
    {
     "name": "stdout",
     "output_type": "stream",
     "text": [
      "optimal alpha for which auc is max is  1\n"
     ]
    }
   ],
   "source": [
    "tf_idf_vect = TfidfVectorizer(ngram_range=(1,2),min_df= 10)\n",
    "x_train = tf_idf_vect.fit_transform(base_x_train)\n",
    "x_cv = tf_idf_vect.transform(base_x_cv)\n",
    "x_test = tf_idf_vect.transform(base_x_test)\n",
    "\n",
    "#standardize the data \n",
    "scalar = StandardScaler(with_mean= False)\n",
    "x_train =  scalar.fit_transform(x_train)\n",
    "x_cv =  scalar.transform(x_cv)\n",
    "x_test =  scalar.transform(x_test)\n",
    "\n",
    "alpha = [10**-4, 10**-3, 10**-2, 10**-1, 10**0, 10**1, 10**2, 10**3,10**4] #alpha = 1/C\n",
    "\n",
    "auc_train = []\n",
    "auc_cv = []\n",
    "\n",
    "for i in alpha :\n",
    "    model = SGDClassifier(alpha = i)# default hinge\n",
    "    clf = CalibratedClassifierCV(model,cv = 3) # caliculation of predict_proba\n",
    "    clf.fit(x_train,y_train)\n",
    "    \n",
    "    prob_cv = clf.predict_proba(x_cv)[:,1]\n",
    "    prob_train  = clf.predict_proba(x_train)[:,1]\n",
    "    \n",
    "    auc_cv.append(roc_auc_score(y_cv,prob_cv))\n",
    "    auc_train.append(roc_auc_score(y_train,prob_train))\n",
    "\n",
    "optimal_alpha = alpha[auc_cv.index(max(auc_cv))]\n",
    "alpha = [math.log(x) for x in alpha] #converting values of alpha into logarithm\n",
    "\n",
    "fig = plt.figure()\n",
    "\n",
    "plt.plot(alpha, auc_train, label = 'AUC Train')\n",
    "plt.scatter(alpha, auc_train, label = 'AUC Train')\n",
    "plt.plot(alpha, auc_cv, label = 'AUC CV')\n",
    "plt.scatter(alpha, auc_cv, label = 'AUC CV')\n",
    "    \n",
    "plt.title('AUC Vs Hyperparameter')\n",
    "plt.xlabel(\"alpha1\")\n",
    "plt.ylabel('AUc')\n",
    "plt.legend()\n",
    "plt.show()\n",
    "\n",
    "print('optimal alpha for which auc is max is ', optimal_alpha)"
   ]
  },
  {
   "cell_type": "markdown",
   "metadata": {},
   "source": [
    "#### Testing with Test data"
   ]
  },
  {
   "cell_type": "code",
   "execution_count": 37,
   "metadata": {},
   "outputs": [
    {
     "data": {
      "image/png": "[encoded data removed]",
      "text/plain": [
       "<Figure size 432x288 with 1 Axes>"
      ]
     },
     "metadata": {
      "needs_background": "light"
     },
     "output_type": "display_data"
    }
   ],
   "source": [
    "#Train the model with optimal alpha \n",
    "#ROC\n",
    "\n",
    "model = SGDClassifier(alpha = optimal_alpha)\n",
    "clf = CalibratedClassifierCV(model, cv = 3)\n",
    "clf.fit(x_train,y_train)\n",
    "\n",
    "train_prob = clf.predict_proba(x_train)[:,1]\n",
    "test_prob = clf.predict_proba(x_test)[:,1]\n",
    "\n",
    "train_fpr,train_tpr, tresholds1 =  metrics.roc_curve(y_train,train_prob)\n",
    "test_fpr,test_tpr,tresholds2 = metrics.roc_curve(y_test,test_prob)\n",
    "\n",
    "plt.plot(train_fpr,train_tpr,label = 'Train AUC - ' + str(auc(train_fpr,train_tpr)))\n",
    "plt.plot(test_fpr,test_tpr, label = 'Test AUC - ' + str(auc(test_fpr,test_tpr)))\n",
    "\n",
    "plt.xlabel('FPR')\n",
    "plt.ylabel('TPR')\n",
    "plt.title('ROC error plt')\n",
    "plt.legend()\n",
    "plt.show()\n"
   ]
  },
  {
   "cell_type": "markdown",
   "metadata": {},
   "source": [
    "#### Confusion Matrix using Heatmap"
   ]
  },
  {
   "cell_type": "code",
   "execution_count": 38,
   "metadata": {},
   "outputs": [
    {
     "name": "stdout",
     "output_type": "stream",
     "text": [
      "Confusion matrix of train data\n"
     ]
    },
    {
     "data": {
      "image/png": "[encoded data removed]",
      "text/plain": [
       "<Figure size 432x288 with 2 Axes>"
      ]
     },
     "metadata": {
      "needs_background": "light"
     },
     "output_type": "display_data"
    },
    {
     "name": "stdout",
     "output_type": "stream",
     "text": [
      "Confusion matrix of test data\n"
     ]
    },
    {
     "data": {
      "image/png": "[encoded data removed]",
      "text/plain": [
       "<Figure size 432x288 with 2 Axes>"
      ]
     },
     "metadata": {
      "needs_background": "light"
     },
     "output_type": "display_data"
    }
   ],
   "source": [
    "#confusion matrix using heatmap for train data\n",
    "print('Confusion matrix of train data')\n",
    "cm = confusion_matrix(y_train,clf.predict(x_train))\n",
    "class_labels = ['Positive','Negative']\n",
    "df = pd.DataFrame(cm,index= class_labels, columns= class_labels)\n",
    "sb.heatmap(df, annot= True, fmt = 'd')\n",
    "\n",
    "plt.title('Confusion Matrix')\n",
    "plt.xlabel('Predicted')\n",
    "plt.ylabel('Actual')\n",
    "plt.show()\n",
    "\n",
    "#confusion matrix using heatmap for test data\n",
    "print('Confusion matrix of test data')\n",
    "cm = confusion_matrix(y_test,clf.predict(x_test))\n",
    "class_labels = ['Positive','Negative']\n",
    "df = pd.DataFrame(cm,index= class_labels, columns= class_labels)\n",
    "sb.heatmap(df, annot= True, fmt = 'd')\n",
    "\n",
    "plt.title('Confusion Matrix')\n",
    "plt.xlabel('Predicted')\n",
    "plt.ylabel('Actual')\n",
    "plt.show()\n",
    "\n"
   ]
  },
  {
   "cell_type": "markdown",
   "metadata": {},
   "source": [
    "#### Top 10 important features of positive class"
   ]
  },
  {
   "cell_type": "code",
   "execution_count": 39,
   "metadata": {},
   "outputs": [
    {
     "name": "stdout",
     "output_type": "stream",
     "text": [
      "Top 10 negative features\n",
      "great\n",
      "good\n",
      "love\n",
      "best\n",
      "delicious\n",
      "loves\n",
      "nice\n",
      "favorite\n",
      "perfect\n",
      "excellent\n"
     ]
    }
   ],
   "source": [
    "fn = tf_idf_vect.get_feature_names()\n",
    "model = SGDClassifier(alpha = optimal_alpha)\n",
    "model.fit(x_train,y_train)\n",
    "w = model.coef_\n",
    "pos_words = np.argsort(w)[:,::-1]\n",
    "neg_words = np.argsort(w)\n",
    "\n",
    "# for word in neg_words[0][0:10]: \n",
    "#     print(fn[word])\n",
    "\n",
    "print('Top 10 negative features')\n",
    "for i in list(pos_words[0][0:10]):\n",
    "    print(fn[i])"
   ]
  },
  {
   "cell_type": "markdown",
   "metadata": {},
   "source": [
    "#### Top 10 important features of negative class"
   ]
  },
  {
   "cell_type": "code",
   "execution_count": 40,
   "metadata": {},
   "outputs": [
    {
     "name": "stdout",
     "output_type": "stream",
     "text": [
      "Top 10 negative features\n",
      "disappointed\n",
      "worst\n",
      "not recommend\n",
      "not worth\n",
      "return\n",
      "not buy\n",
      "horrible\n",
      "terrible\n",
      "not purchase\n",
      "disappointment\n"
     ]
    }
   ],
   "source": [
    "print('Top 10 negative features')\n",
    "for i in list(neg_words[0][0:10]):\n",
    "    print(fn[i])"
   ]
  },
  {
   "cell_type": "markdown",
   "metadata": {},
   "source": [
    "### [5.1.3]  Applying Linear SVM on AVG W2V,<font color='red'> SET 3</font>"
   ]
  },
  {
   "cell_type": "markdown",
   "metadata": {},
   "source": [
    "### Training w2v model"
   ]
  },
  {
   "cell_type": "code",
   "execution_count": 41,
   "metadata": {},
   "outputs": [
    {
     "name": "stdout",
     "output_type": "stream",
     "text": [
      "(18333, 50)\n"
     ]
    }
   ],
   "source": [
    "# w2v for train\n",
    "\n",
    "list_of_sentance_train = []\n",
    "for sentance in base_x_train:\n",
    "    list_of_sentance_train.append(sentance.split())\n",
    "#training w2v model\n",
    "w2v_model = Word2Vec(list_of_sentance_train, min_count= 5, size = 50, workers = 4 )\n",
    "w2v_words = list(w2v_model.wv.vocab)\n",
    "\n",
    "# Converting Train data text\n",
    "\n",
    "sent_vectors = []\n",
    "for sent in list_of_sentance_train :\n",
    "    sent_vec = np.zeros(50)\n",
    "    cnt_vec = 0\n",
    "    for word in sent:\n",
    "        if word in w2v_words:\n",
    "            vec = w2v_model.wv[word]\n",
    "            sent_vec+= vec\n",
    "            cnt_vec +=1\n",
    "    if cnt_words != 0:\n",
    "        sent_vec/= cnt_words\n",
    "    sent_vectors.append(sent_vec)\n",
    "sent_vectors_train = np.array(sent_vectors)\n",
    "print(sent_vectors_train.shape)    "
   ]
  },
  {
   "cell_type": "code",
   "execution_count": 42,
   "metadata": {},
   "outputs": [
    {
     "name": "stdout",
     "output_type": "stream",
     "text": [
      "(7857, 50)\n"
     ]
    }
   ],
   "source": [
    "#for cross vaidation data\n",
    "list_of_sentance_cv = []\n",
    "for sentance in base_x_cv:\n",
    "    list_of_sentance_cv.append(sentance.split())\n",
    "    \n",
    "# Converting Train data text\n",
    "\n",
    "sent_vectors_cv = []\n",
    "for sent in list_of_sentance_cv :\n",
    "    sent_vec = np.zeros(50)\n",
    "    cnt_vec = 0\n",
    "    for word in sent:\n",
    "        if word in w2v_words:\n",
    "            vec = w2v_model.wv[word]\n",
    "            sent_vec+= vec\n",
    "            cnt_vec +=1\n",
    "    if cnt_words != 0:\n",
    "        sent_vec/= cnt_words\n",
    "    sent_vectors_cv.append(sent_vec)\n",
    "sent_vectors_cv = np.array(sent_vectors_cv)\n",
    "print(sent_vectors_cv.shape)"
   ]
  },
  {
   "cell_type": "code",
   "execution_count": 43,
   "metadata": {},
   "outputs": [
    {
     "name": "stdout",
     "output_type": "stream",
     "text": [
      "(11225, 50)\n"
     ]
    }
   ],
   "source": [
    "#for test data\n",
    "list_of_sentance_test = []\n",
    "for sentance in base_x_test:\n",
    "    list_of_sentance_test.append(sentance.split())\n",
    "    \n",
    "# Converting Train data text\n",
    "\n",
    "sent_vectors_test = []\n",
    "for sent in list_of_sentance_test :\n",
    "    sent_vec = np.zeros(50)\n",
    "    cnt_vec = 0\n",
    "    for word in sent:\n",
    "        if word in w2v_words:\n",
    "            vec = w2v_model.wv[word]\n",
    "            sent_vec+= vec\n",
    "            cnt_vec +=1\n",
    "    if cnt_words != 0:\n",
    "        sent_vec/= cnt_words\n",
    "    sent_vectors_test.append(sent_vec)\n",
    "sent_vectors_test = np.array(sent_vectors_test)\n",
    "print(sent_vectors_test.shape)"
   ]
  },
  {
   "cell_type": "code",
   "execution_count": 44,
   "metadata": {
    "scrolled": true
   },
   "outputs": [
    {
     "data": {
      "image/png": "[encoded data removed]",
      "text/plain": [
       "<Figure size 432x288 with 1 Axes>"
      ]
     },
     "metadata": {
      "needs_background": "light"
     },
     "output_type": "display_data"
    },
    {
     "name": "stdout",
     "output_type": "stream",
     "text": [
      "optimal alpha for which auc is max is  0.01\n"
     ]
    }
   ],
   "source": [
    "x_train = sent_vectors_train\n",
    "x_cv = sent_vectors_cv\n",
    "x_test = sent_vectors_test\n",
    "\n",
    "\n",
    "alpha = [10**-4, 10**-3, 10**-2, 10**-1, 10**0, 10**1, 10**2, 10**3,10**4] #alpha = 1/C\n",
    "auc_train = []\n",
    "auc_cv = []\n",
    "    \n",
    "for i in alpha :\n",
    "    model = SGDClassifier(alpha = i)# default hinge\n",
    "    clf = CalibratedClassifierCV(model,cv = 3) # caliculation of predict_proba\n",
    "    clf.fit(x_train,y_train)\n",
    "    \n",
    "    prob_cv = clf.predict_proba(x_cv)[:,1]\n",
    "    prob_train  = clf.predict_proba(x_train)[:,1]\n",
    "    \n",
    "    auc_cv.append(roc_auc_score(y_cv,prob_cv))\n",
    "    auc_train.append(roc_auc_score(y_train,prob_train))\n",
    "\n",
    "optimal_alpha = alpha[auc_cv.index(max(auc_cv))]\n",
    "alpha = [math.log(x) for x in alpha] #converting values of alpha into logarithm\n",
    "\n",
    "fig = plt.figure()\n",
    "\n",
    "plt.plot(alpha, auc_train, label = 'AUC Train')\n",
    "plt.scatter(alpha, auc_train, label = 'AUC Train')\n",
    "plt.plot(alpha, auc_cv, label = 'AUC CV')\n",
    "plt.scatter(alpha, auc_cv, label = 'AUC CV')\n",
    "    \n",
    "plt.title('AUC Vs Hyperparameter')\n",
    "plt.xlabel(\"alpha1\")\n",
    "plt.ylabel('AUc')\n",
    "plt.legend()\n",
    "plt.show()\n",
    "\n",
    "print('optimal alpha for which auc is max is ', optimal_alpha)\n",
    "    \n",
    "\n"
   ]
  },
  {
   "cell_type": "markdown",
   "metadata": {},
   "source": [
    "#### Testing with Test data"
   ]
  },
  {
   "cell_type": "code",
   "execution_count": 45,
   "metadata": {},
   "outputs": [
    {
     "data": {
      "image/png": "[encoded data removed]",
      "text/plain": [
       "<Figure size 432x288 with 1 Axes>"
      ]
     },
     "metadata": {
      "needs_background": "light"
     },
     "output_type": "display_data"
    }
   ],
   "source": [
    "\n",
    "#Train the model with optimal alpha \n",
    "#ROC\n",
    "\n",
    "model = SGDClassifier(alpha = optimal_alpha)\n",
    "clf = CalibratedClassifierCV(model, cv = 3)\n",
    "clf.fit(x_train,y_train)\n",
    "\n",
    "train_prob = clf.predict_proba(x_train)[:,1]\n",
    "test_prob = clf.predict_proba(x_test)[:,1]\n",
    "\n",
    "train_fpr,train_tpr, tresholds1 =  metrics.roc_curve(y_train,train_prob)\n",
    "test_fpr,test_tpr,tresholds2 = metrics.roc_curve(y_test,test_prob)\n",
    "\n",
    "plt.plot(train_fpr,train_tpr,label = 'Train AUC - ' + str(auc(train_fpr,train_tpr)))\n",
    "plt.plot(test_fpr,test_tpr, label = 'Test AUC - ' + str(auc(test_fpr,test_tpr)))\n",
    "\n",
    "plt.xlabel('FPR')\n",
    "plt.ylabel('TPR')\n",
    "plt.title('ROC error plt')\n",
    "plt.legend()\n",
    "plt.show()\n"
   ]
  },
  {
   "cell_type": "markdown",
   "metadata": {},
   "source": [
    "#### Confusion Matrix using Heatmap"
   ]
  },
  {
   "cell_type": "code",
   "execution_count": 46,
   "metadata": {},
   "outputs": [
    {
     "name": "stdout",
     "output_type": "stream",
     "text": [
      "Confusion matrix of train data\n"
     ]
    },
    {
     "data": {
      "image/png": "[encoded data removed]",
      "text/plain": [
       "<Figure size 432x288 with 2 Axes>"
      ]
     },
     "metadata": {
      "needs_background": "light"
     },
     "output_type": "display_data"
    },
    {
     "name": "stdout",
     "output_type": "stream",
     "text": [
      "Confusion matrix of test data\n"
     ]
    },
    {
     "data": {
      "image/png": "[encoded data removed]",
      "text/plain": [
       "<Figure size 432x288 with 2 Axes>"
      ]
     },
     "metadata": {
      "needs_background": "light"
     },
     "output_type": "display_data"
    }
   ],
   "source": [
    "#confusion matrix using heatmap for train data\n",
    "print('Confusion matrix of train data')\n",
    "cm = confusion_matrix(y_train,clf.predict(x_train))\n",
    "class_labels = ['Positive','Negative']\n",
    "df = pd.DataFrame(cm,index= class_labels, columns= class_labels)\n",
    "sb.heatmap(df, annot= True, fmt = 'd')\n",
    "\n",
    "plt.title('Confusion Matrix')\n",
    "plt.xlabel('Predicted')\n",
    "plt.ylabel('Actual')\n",
    "plt.show()\n",
    "\n",
    "#confusion matrix using heatmap for test data\n",
    "print('Confusion matrix of test data')\n",
    "cm = confusion_matrix(y_test,clf.predict(x_test))\n",
    "class_labels = ['Positive','Negative']\n",
    "df = pd.DataFrame(cm,index= class_labels, columns= class_labels)\n",
    "sb.heatmap(df, annot= True, fmt = 'd')\n",
    "\n",
    "plt.title('Confusion Matrix')\n",
    "plt.xlabel('Predicted')\n",
    "plt.ylabel('Actual')\n",
    "plt.show()\n",
    "\n"
   ]
  },
  {
   "cell_type": "markdown",
   "metadata": {},
   "source": [
    "### [5.1.4]  Applying Linear SVM on TFIDF W2V,<font color='red'> SET 4</font>"
   ]
  },
  {
   "cell_type": "code",
   "execution_count": 47,
   "metadata": {},
   "outputs": [],
   "source": [
    "# w2v for train\n",
    "\n",
    "list_of_sentance_train = []\n",
    "for sentance in base_x_train:\n",
    "    list_of_sentance_train.append(sentance.split())\n",
    "\n",
    "w2v_model = Word2Vec(list_of_sentance_train , min_count = 5 ,size = 50, workers = 4)\n",
    "w2v_words = list(w2v_model.wv.vocab)\n",
    "\n",
    "\n",
    "\n",
    "tf_idf_vect = TfidfVectorizer(ngram_range=(1,2),min_df= 10,max_features= 500)\n",
    "tf_idf_matrix = tf_idf_vect.fit_transform(base_x_train)\n",
    "tfidf_feat = tf_idf_vect.get_feature_names()\n",
    "dictionary = dict(zip(tf_idf_vect.get_feature_names(),list(tf_idf_vect.idf_)))\n"
   ]
  },
  {
   "cell_type": "code",
   "execution_count": 48,
   "metadata": {},
   "outputs": [],
   "source": [
    "# Converting Train data text\n",
    "\n",
    "tfidf_sent_vectors_train = []\n",
    "for sent in list_of_sentance_train :\n",
    "    sent_vec = np.zeros(50)\n",
    "    weight_sum = 0;\n",
    "    for word in sent:\n",
    "        if word in w2v_words and word in tfidf_feat:\n",
    "            vec = w2v_model.wv[word]\n",
    "            tf_idf = dictionary[word]*(sent.count(word)/len(sent))\n",
    "            sent_vec+= ( vec * tf_idf )\n",
    "            weight_sum = tf_idf\n",
    "    if weight_sum != 0:\n",
    "        sent_vec/= weight_sum\n",
    "    tfidf_sent_vectors_train.append(sent_vec)\n",
    "    row +=1"
   ]
  },
  {
   "cell_type": "code",
   "execution_count": 49,
   "metadata": {},
   "outputs": [],
   "source": [
    "list_of_sentance_cv = []\n",
    "for sentance in base_x_cv:\n",
    "    list_of_sentance_cv.append(sentance.split())\n",
    "    \n",
    "tfidf_sent_vectors_cv = []\n",
    "row = 0\n",
    "\n",
    "# for sent in tqdm(list_of_sentance_cv):\n",
    "for sent in (list_of_sentance_cv):\n",
    "    \n",
    "    sent_vec = np.zeros(50)\n",
    "    weight_sum = 0\n",
    "    for word in sent:\n",
    "        if word in w2v_words and word in tfidf_feat:\n",
    "            vec = w2v_model.wv[word]\n",
    "            tf_idf = dictionary[word]*(sent.count(word)/len(sent))\n",
    "            sent_vec += (vec * tf_idf)\n",
    "            weight_sum = tf_idf\n",
    "    if weight_sum != 0:\n",
    "        sent_vec /= weight_sum\n",
    "    tfidf_sent_vectors_cv.append(sent_vec)\n",
    "    row += 1"
   ]
  },
  {
   "cell_type": "code",
   "execution_count": 50,
   "metadata": {},
   "outputs": [],
   "source": [
    "#for test data\n",
    "\n",
    "list_of_sentance_test = []\n",
    "for sentance in base_x_test:\n",
    "    list_of_sentance_test.append(sentance.split())\n",
    "    \n",
    "tfidf_sent_vectors_test = []\n",
    "row = 0\n",
    "\n",
    "# for sent in tqdm(list_of_sentance_test):\n",
    "for sent in (list_of_sentance_test):\n",
    "    \n",
    "    sent_vec = np.zeros(50)\n",
    "    weight_sum = 0\n",
    "    for word in sent:\n",
    "        if word in w2v_words and word in tfidf_feat:\n",
    "            vec = w2v_model.wv[word]\n",
    "            tf_idf = dictionary[word]*(sent.count(word)/len(sent))\n",
    "            sent_vec += (vec * tf_idf)\n",
    "            weight_sum = tf_idf\n",
    "    if weight_sum != 0:\n",
    "        sent_vec /= weight_sum\n",
    "    tfidf_sent_vectors_test.append(sent_vec)\n",
    "    row += 1"
   ]
  },
  {
   "cell_type": "code",
   "execution_count": 51,
   "metadata": {
    "scrolled": false
   },
   "outputs": [
    {
     "data": {
      "image/png": "[encoded data removed]",
      "text/plain": [
       "<Figure size 432x288 with 1 Axes>"
      ]
     },
     "metadata": {
      "needs_background": "light"
     },
     "output_type": "display_data"
    },
    {
     "name": "stdout",
     "output_type": "stream",
     "text": [
      "optimal alpha for which auc is max is  0.001\n"
     ]
    }
   ],
   "source": [
    "x_train = tfidf_sent_vectors_train\n",
    "x_cv = tfidf_sent_vectors_cv\n",
    "x_test = sent_vectors_test\n",
    "\n",
    "alpha = [10**-4, 10**-3, 10**-2, 10**-1, 10**0, 10**1, 10**2, 10**3,10**4] #alpha = 1/C\n",
    "auc_train = []\n",
    "auc_cv = []\n",
    "    \n",
    "for i in alpha :\n",
    "    model = SGDClassifier(alpha = i)# default hinge\n",
    "    clf = CalibratedClassifierCV(model,cv = 3) # caliculation of predict_proba\n",
    "    clf.fit(x_train,y_train)\n",
    "    \n",
    "    prob_cv = clf.predict_proba(x_cv)[:,1]\n",
    "    prob_train  = clf.predict_proba(x_train)[:,1]\n",
    "    \n",
    "    auc_cv.append(roc_auc_score(y_cv,prob_cv))\n",
    "    auc_train.append(roc_auc_score(y_train,prob_train))\n",
    "\n",
    "optimal_alpha = alpha[auc_cv.index(max(auc_cv))]\n",
    "alpha = [math.log(x) for x in alpha] #converting values of alpha into logarithm\n",
    "\n",
    "fig = plt.figure()\n",
    "\n",
    "plt.plot(alpha, auc_train, label = 'AUC Train')\n",
    "plt.scatter(alpha, auc_train, label = 'AUC Train')\n",
    "plt.plot(alpha, auc_cv, label = 'AUC CV')\n",
    "plt.scatter(alpha, auc_cv, label = 'AUC CV')\n",
    "    \n",
    "plt.title('AUC Vs Hyperparameter')\n",
    "plt.xlabel(\"alpha1\")\n",
    "plt.ylabel('AUc')\n",
    "plt.legend()\n",
    "plt.show()\n",
    "\n",
    "print('optimal alpha for which auc is max is ', optimal_alpha)"
   ]
  },
  {
   "cell_type": "markdown",
   "metadata": {},
   "source": [
    "#### Testing with Test data"
   ]
  },
  {
   "cell_type": "code",
   "execution_count": 52,
   "metadata": {},
   "outputs": [
    {
     "data": {
      "image/png": "[encoded data removed]",
      "text/plain": [
       "<Figure size 432x288 with 1 Axes>"
      ]
     },
     "metadata": {
      "needs_background": "light"
     },
     "output_type": "display_data"
    }
   ],
   "source": [
    "#Train the model with optimal alpha \n",
    "#ROC\n",
    "model = SGDClassifier(alpha = optimal_alpha)\n",
    "clf = CalibratedClassifierCV(model, cv = 3)\n",
    "clf.fit(x_train,y_train)\n",
    "\n",
    "train_prob = clf.predict_proba(x_train)[:,1]\n",
    "test_prob = clf.predict_proba(x_test)[:,1]\n",
    "\n",
    "train_fpr,train_tpr, tresholds1 =  metrics.roc_curve(y_train,train_prob)\n",
    "test_fpr,test_tpr,tresholds2 = metrics.roc_curve(y_test,test_prob)\n",
    "\n",
    "plt.plot(train_fpr,train_tpr,label = 'Train AUC - ' + str(auc(train_fpr,train_tpr)))\n",
    "plt.plot(test_fpr,test_tpr, label = 'Test AUC - ' + str(auc(test_fpr,test_tpr)))\n",
    "\n",
    "plt.xlabel('FPR')\n",
    "plt.ylabel('TPR')\n",
    "plt.title('ROC error plt')\n",
    "plt.legend()\n",
    "plt.show()\n"
   ]
  },
  {
   "cell_type": "markdown",
   "metadata": {},
   "source": [
    "#### Confusion Matrix using Heatmap"
   ]
  },
  {
   "cell_type": "code",
   "execution_count": 53,
   "metadata": {},
   "outputs": [
    {
     "name": "stdout",
     "output_type": "stream",
     "text": [
      "Confusion matrix of train data\n"
     ]
    },
    {
     "data": {
      "image/png": "[encoded data removed]",
      "text/plain": [
       "<Figure size 432x288 with 2 Axes>"
      ]
     },
     "metadata": {
      "needs_background": "light"
     },
     "output_type": "display_data"
    },
    {
     "name": "stdout",
     "output_type": "stream",
     "text": [
      "Confusion matrix of test data\n"
     ]
    },
    {
     "data": {
      "image/png": "[encoded data removed]",
      "text/plain": [
       "<Figure size 432x288 with 2 Axes>"
      ]
     },
     "metadata": {
      "needs_background": "light"
     },
     "output_type": "display_data"
    }
   ],
   "source": [
    "#confusion matrix using heatmap for train data\n",
    "print('Confusion matrix of train data')\n",
    "cm = confusion_matrix(y_train,clf.predict(x_train))\n",
    "class_labels = ['Positive','Negative']\n",
    "df = pd.DataFrame(cm,index= class_labels, columns= class_labels)\n",
    "sb.heatmap(df, annot= True, fmt = 'd')\n",
    "\n",
    "plt.title('Confusion Matrix')\n",
    "plt.xlabel('Predicted')\n",
    "plt.ylabel('Actual')\n",
    "plt.show()\n",
    "\n",
    "#confusion matrix using heatmap for test data\n",
    "print('Confusion matrix of test data')\n",
    "cm = confusion_matrix(y_test,clf.predict(x_test))\n",
    "class_labels = ['Positive','Negative']\n",
    "df = pd.DataFrame(cm,index= class_labels, columns= class_labels)\n",
    "sb.heatmap(df, annot= True, fmt = 'd')\n",
    "\n",
    "plt.title('Confusion Matrix')\n",
    "plt.xlabel('Predicted')\n",
    "plt.ylabel('Actual')\n",
    "plt.show()\n",
    "\n"
   ]
  },
  {
   "cell_type": "markdown",
   "metadata": {},
   "source": [
    "## [5.2] RBF SVM"
   ]
  },
  {
   "cell_type": "markdown",
   "metadata": {},
   "source": [
    "### [5.2.1] Applying RBF SVM on BOW,<font color='red'> SET 1</font>"
   ]
  },
  {
   "cell_type": "code",
   "execution_count": 54,
   "metadata": {},
   "outputs": [
    {
     "name": "stderr",
     "output_type": "stream",
     "text": [
      "C:\\Users\\Saraswathi\\AppData\\Local\\Continuum\\anaconda3\\lib\\site-packages\\sklearn\\utils\\validation.py:475: DataConversionWarning: Data with input dtype int64 was converted to float64 by StandardScaler.\n",
      "  warnings.warn(msg, DataConversionWarning)\n",
      "C:\\Users\\Saraswathi\\AppData\\Local\\Continuum\\anaconda3\\lib\\site-packages\\sklearn\\utils\\validation.py:475: DataConversionWarning: Data with input dtype int64 was converted to float64 by StandardScaler.\n",
      "  warnings.warn(msg, DataConversionWarning)\n",
      "C:\\Users\\Saraswathi\\AppData\\Local\\Continuum\\anaconda3\\lib\\site-packages\\sklearn\\utils\\validation.py:475: DataConversionWarning: Data with input dtype int64 was converted to float64 by StandardScaler.\n",
      "  warnings.warn(msg, DataConversionWarning)\n",
      "C:\\Users\\Saraswathi\\AppData\\Local\\Continuum\\anaconda3\\lib\\site-packages\\sklearn\\utils\\validation.py:475: DataConversionWarning: Data with input dtype int64 was converted to float64 by StandardScaler.\n",
      "  warnings.warn(msg, DataConversionWarning)\n"
     ]
    },
    {
     "data": {
      "image/png": "[encoded data removed]",
      "text/plain": [
       "<Figure size 432x288 with 1 Axes>"
      ]
     },
     "metadata": {
      "needs_background": "light"
     },
     "output_type": "display_data"
    },
    {
     "name": "stdout",
     "output_type": "stream",
     "text": [
      "optimal alpha for which auc is max is  1\n"
     ]
    }
   ],
   "source": [
    "cnt_vec = CountVectorizer(min_df= 10, max_features= 500)\n",
    "tran_x_train = cnt_vec.fit_transform(base_x_train)\n",
    "tran_x_cv = cnt_vec.transform(base_x_cv)\n",
    "tran_x_test = cnt_vec.transform(base_x_test)\n",
    "\n",
    "#standardize data\n",
    "scalar = StandardScaler(with_mean = False)\n",
    "x_train = scalar.fit_transform(tran_x_train)\n",
    "x_cv = scalar.transform(tran_x_cv)\n",
    "x_test = scalar.transform(tran_x_test)\n",
    "\n",
    "alpha = [10**-4, 10**-3, 10**-2, 10**-1, 10**0, 10**1, 10**2, 10**3,10**4] #alpha = 1/C\n",
    "\n",
    "auc_train = []\n",
    "auc_cv = []\n",
    "\n",
    "for i in alpha :\n",
    "\n",
    "    clf = SVC(C = i,probability= True)\n",
    "    clf.fit(x_train,y_train)\n",
    "    \n",
    "    prob_cv = clf.predict_proba(x_cv)[:,1]\n",
    "    prob_train  = clf.predict_proba(x_train)[:,1]\n",
    "    \n",
    "    auc_cv.append(roc_auc_score(y_cv,prob_cv))\n",
    "    auc_train.append(roc_auc_score(y_train,prob_train))\n",
    "\n",
    "optimal_alpha = alpha[auc_cv.index(max(auc_cv))]\n",
    "alpha = [math.log(x) for x in alpha] #converting values of alpha into logarithm\n",
    "\n",
    "fig = plt.figure()\n",
    "\n",
    "plt.plot(alpha, auc_train, label = 'AUC Train')\n",
    "plt.scatter(alpha, auc_train, label = 'AUC Train')\n",
    "plt.plot(alpha, auc_cv, label = 'AUC CV')\n",
    "plt.scatter(alpha, auc_cv, label = 'AUC CV')\n",
    "    \n",
    "plt.title('AUC Vs Hyperparameter')\n",
    "plt.xlabel(\"alpha1\")\n",
    "plt.ylabel('AUc')\n",
    "plt.legend()\n",
    "plt.show()\n",
    "\n",
    "print('optimal alpha for which auc is max is ', optimal_alpha)"
   ]
  },
  {
   "cell_type": "markdown",
   "metadata": {},
   "source": [
    "#### Testing with Test data"
   ]
  },
  {
   "cell_type": "code",
   "execution_count": 55,
   "metadata": {},
   "outputs": [],
   "source": [
    "#Train the model with optimal alpha \n",
    "#ROC"
   ]
  },
  {
   "cell_type": "code",
   "execution_count": 56,
   "metadata": {},
   "outputs": [
    {
     "data": {
      "image/png": "[encoded data removed]",
      "text/plain": [
       "<Figure size 432x288 with 1 Axes>"
      ]
     },
     "metadata": {
      "needs_background": "light"
     },
     "output_type": "display_data"
    }
   ],
   "source": [
    "clf = SVC(C = optimal_alpha, probability=True)\n",
    "clf.fit(x_train,y_train)\n",
    "\n",
    "train_prob = clf.predict_proba(x_train)[:,1]\n",
    "test_prob = clf.predict_proba(x_test)[:,1]\n",
    "\n",
    "train_fpr,train_tpr, tresholds1 =  metrics.roc_curve(y_train,train_prob)\n",
    "test_fpr,test_tpr,tresholds2 = metrics.roc_curve(y_test,test_prob)\n",
    "\n",
    "plt.plot(train_fpr,train_tpr,label = 'Train AUC - ' + str(auc(train_fpr,train_tpr)))\n",
    "plt.plot(test_fpr,test_tpr, label = 'Test AUC - ' + str(auc(test_fpr,test_tpr)))\n",
    "\n",
    "plt.xlabel('FPR')\n",
    "plt.ylabel('TPR')\n",
    "plt.title('ROC error plt')\n",
    "plt.legend()\n",
    "plt.show()\n"
   ]
  },
  {
   "cell_type": "markdown",
   "metadata": {},
   "source": [
    "#### Confusion Matrix using Heatmap"
   ]
  },
  {
   "cell_type": "code",
   "execution_count": 57,
   "metadata": {},
   "outputs": [
    {
     "name": "stdout",
     "output_type": "stream",
     "text": [
      "Confusion matrix of train data\n"
     ]
    },
    {
     "data": {
      "image/png": "[encoded data removed]",
      "text/plain": [
       "<Figure size 432x288 with 2 Axes>"
      ]
     },
     "metadata": {
      "needs_background": "light"
     },
     "output_type": "display_data"
    },
    {
     "name": "stdout",
     "output_type": "stream",
     "text": [
      "Confusion matrix of test data\n"
     ]
    },
    {
     "data": {
      "image/png": "[encoded data removed]",
      "text/plain": [
       "<Figure size 432x288 with 2 Axes>"
      ]
     },
     "metadata": {
      "needs_background": "light"
     },
     "output_type": "display_data"
    }
   ],
   "source": [
    "#confusion matrix using heatmap for train data\n",
    "print('Confusion matrix of train data')\n",
    "cm = confusion_matrix(y_train,clf.predict(x_train))\n",
    "class_labels = ['Positive','Negative']\n",
    "df = pd.DataFrame(cm,index= class_labels, columns= class_labels)\n",
    "sb.heatmap(df, annot= True, fmt = 'd')\n",
    "\n",
    "plt.title('Confusion Matrix')\n",
    "plt.xlabel('Predicted')\n",
    "plt.ylabel('Actual')\n",
    "plt.show()\n",
    "\n",
    "#confusion matrix using heatmap for test data\n",
    "print('Confusion matrix of test data')\n",
    "cm = confusion_matrix(y_test,clf.predict(x_test))\n",
    "class_labels = ['Positive','Negative']\n",
    "df = pd.DataFrame(cm,index= class_labels, columns= class_labels)\n",
    "sb.heatmap(df, annot= True, fmt = 'd')\n",
    "\n",
    "plt.title('Confusion Matrix')\n",
    "plt.xlabel('Predicted')\n",
    "plt.ylabel('Actual')\n",
    "plt.show()\n",
    "\n"
   ]
  },
  {
   "cell_type": "markdown",
   "metadata": {},
   "source": [
    "### [5.2.2] Applying RBF SVM on TFIDF,<font color='red'> SET 2</font>"
   ]
  },
  {
   "cell_type": "code",
   "execution_count": 58,
   "metadata": {},
   "outputs": [
    {
     "data": {
      "image/png": "[encoded data removed]",
      "text/plain": [
       "<Figure size 432x288 with 1 Axes>"
      ]
     },
     "metadata": {
      "needs_background": "light"
     },
     "output_type": "display_data"
    },
    {
     "name": "stdout",
     "output_type": "stream",
     "text": [
      "optimal alpha for which auc is max is  10\n"
     ]
    }
   ],
   "source": [
    "tf_idf_vect = TfidfVectorizer(ngram_range=(1,2), min_df= 10, max_features=500)\n",
    "x_train = tf_idf_vect.fit_transform(base_x_train)\n",
    "x_cv = tf_idf_vect.transform(base_x_cv)\n",
    "x_test = tf_idf_vect.transform(base_x_test)\n",
    "\n",
    "#standardize the data \n",
    "scalar = StandardScaler(with_mean= False)\n",
    "x_train =  scalar.fit_transform(x_train)\n",
    "x_cv =  scalar.transform(x_cv)\n",
    "x_test =  scalar.transform(x_test)\n",
    "\n",
    "alpha = [10**-4, 10**-3, 10**-2, 10**-1, 10**0, 10**1, 10**2, 10**3,10**4] #alpha = 1/C\n",
    "\n",
    "auc_train = []\n",
    "auc_cv = []\n",
    "\n",
    "for i in alpha :\n",
    "    \n",
    "    clf = SVC(C = i,probability= True)\n",
    "    clf.fit(x_train,y_train)\n",
    "    \n",
    "    prob_cv = clf.predict_proba(x_cv)[:,1]\n",
    "    prob_train  = clf.predict_proba(x_train)[:,1]\n",
    "    \n",
    "    auc_cv.append(roc_auc_score(y_cv,prob_cv))\n",
    "    auc_train.append(roc_auc_score(y_train,prob_train))\n",
    "\n",
    "optimal_alpha = alpha[auc_cv.index(max(auc_cv))]\n",
    "alpha = [math.log(x) for x in alpha] #converting values of alpha into logarithm\n",
    "\n",
    "fig = plt.figure()\n",
    "\n",
    "plt.plot(alpha, auc_train, label = 'AUC Train')\n",
    "plt.scatter(alpha, auc_train, label = 'AUC Train')\n",
    "plt.plot(alpha, auc_cv, label = 'AUC CV')\n",
    "plt.scatter(alpha, auc_cv, label = 'AUC CV')\n",
    "    \n",
    "plt.title('AUC Vs Hyperparameter')\n",
    "plt.xlabel(\"alpha1\")\n",
    "plt.ylabel('AUc')\n",
    "plt.legend()\n",
    "plt.show()\n",
    "\n",
    "print('optimal alpha for which auc is max is ', optimal_alpha)"
   ]
  },
  {
   "cell_type": "markdown",
   "metadata": {},
   "source": [
    "#### Testing with Test data"
   ]
  },
  {
   "cell_type": "code",
   "execution_count": 59,
   "metadata": {},
   "outputs": [
    {
     "data": {
      "image/png": "[encoded data removed]",
      "text/plain": [
       "<Figure size 432x288 with 1 Axes>"
      ]
     },
     "metadata": {
      "needs_background": "light"
     },
     "output_type": "display_data"
    }
   ],
   "source": [
    "#Train the model with optimal alpha \n",
    "#ROC\n",
    "\n",
    "clf = SVC(C = optimal_alpha,probability= True)\n",
    "clf.fit(x_train,y_train)\n",
    "\n",
    "train_prob = clf.predict_proba(x_train)[:,1]\n",
    "test_prob = clf.predict_proba(x_test)[:,1]\n",
    "\n",
    "train_fpr,train_tpr, tresholds1 =  metrics.roc_curve(y_train,train_prob)\n",
    "test_fpr,test_tpr,tresholds2 = metrics.roc_curve(y_test,test_prob)\n",
    "\n",
    "plt.plot(train_fpr,train_tpr,label = 'Train AUC - ' + str(auc(train_fpr,train_tpr)))\n",
    "plt.plot(test_fpr,test_tpr, label = 'Test AUC - ' + str(auc(test_fpr,test_tpr)))\n",
    "\n",
    "plt.xlabel('FPR')\n",
    "plt.ylabel('TPR')\n",
    "plt.title('ROC error plt')\n",
    "plt.legend()\n",
    "plt.show()\n"
   ]
  },
  {
   "cell_type": "markdown",
   "metadata": {},
   "source": [
    "#### Confusion Matrix using Heatmap"
   ]
  },
  {
   "cell_type": "code",
   "execution_count": 60,
   "metadata": {},
   "outputs": [
    {
     "name": "stdout",
     "output_type": "stream",
     "text": [
      "Confusion matrix of train data\n"
     ]
    },
    {
     "data": {
      "image/png": "[encoded data removed]",
      "text/plain": [
       "<Figure size 432x288 with 2 Axes>"
      ]
     },
     "metadata": {
      "needs_background": "light"
     },
     "output_type": "display_data"
    },
    {
     "name": "stdout",
     "output_type": "stream",
     "text": [
      "Confusion matrix of test data\n"
     ]
    },
    {
     "data": {
      "image/png": "[encoded data removed]",
      "text/plain": [
       "<Figure size 432x288 with 2 Axes>"
      ]
     },
     "metadata": {
      "needs_background": "light"
     },
     "output_type": "display_data"
    }
   ],
   "source": [
    "#confusion matrix using heatmap for train data\n",
    "print('Confusion matrix of train data')\n",
    "cm = confusion_matrix(y_train,clf.predict(x_train))\n",
    "class_labels = ['Positive','Negative']\n",
    "df = pd.DataFrame(cm,index= class_labels, columns= class_labels)\n",
    "sb.heatmap(df, annot= True, fmt = 'd')\n",
    "\n",
    "plt.title('Confusion Matrix')\n",
    "plt.xlabel('Predicted')\n",
    "plt.ylabel('Actual')\n",
    "plt.show()\n",
    "\n",
    "#confusion matrix using heatmap for test data\n",
    "print('Confusion matrix of test data')\n",
    "cm = confusion_matrix(y_test,clf.predict(x_test))\n",
    "class_labels = ['Positive','Negative']\n",
    "df = pd.DataFrame(cm,index= class_labels, columns= class_labels)\n",
    "sb.heatmap(df, annot= True, fmt = 'd')\n",
    "\n",
    "plt.title('Confusion Matrix')\n",
    "plt.xlabel('Predicted')\n",
    "plt.ylabel('Actual')\n",
    "plt.show()\n",
    "\n"
   ]
  },
  {
   "cell_type": "markdown",
   "metadata": {},
   "source": [
    "### [5.2.3]  Applying RBF SVM on AVG W2V,<font color='red'> SET 3</font>"
   ]
  },
  {
   "cell_type": "code",
   "execution_count": 61,
   "metadata": {},
   "outputs": [
    {
     "name": "stdout",
     "output_type": "stream",
     "text": [
      "(18333, 50)\n"
     ]
    }
   ],
   "source": [
    "# w2v for train\n",
    "\n",
    "list_of_sentance_train = []\n",
    "for sentance in base_x_train:\n",
    "    list_of_sentance_train.append(sentance.split())\n",
    "#training w2v model\n",
    "w2v_model = Word2Vec(list_of_sentance_train, min_count= 5, size = 50, workers = 4 )\n",
    "w2v_words = list(w2v_model.wv.vocab)\n",
    "\n",
    "# Converting Train data text\n",
    "\n",
    "sent_vectors = []\n",
    "for sent in list_of_sentance_train :\n",
    "    sent_vec = np.zeros(50)\n",
    "    cnt_vec = 0\n",
    "    for word in sent:\n",
    "        if word in w2v_words:\n",
    "            vec = w2v_model.wv[word]\n",
    "            sent_vec+= vec\n",
    "            cnt_vec +=1\n",
    "    if cnt_words != 0:\n",
    "        sent_vec/= cnt_words\n",
    "    sent_vectors.append(sent_vec)\n",
    "sent_vectors_train = np.array(sent_vectors)\n",
    "print(sent_vectors_train.shape)    "
   ]
  },
  {
   "cell_type": "code",
   "execution_count": 62,
   "metadata": {},
   "outputs": [
    {
     "name": "stdout",
     "output_type": "stream",
     "text": [
      "(7857, 50)\n"
     ]
    }
   ],
   "source": [
    "#for cross vaidation data\n",
    "list_of_sentance_cv = []\n",
    "for sentance in base_x_cv:\n",
    "    list_of_sentance_cv.append(sentance.split())\n",
    "    \n",
    "# Converting Train data text\n",
    "\n",
    "sent_vectors_cv = []\n",
    "for sent in list_of_sentance_cv :\n",
    "    sent_vec = np.zeros(50)\n",
    "    cnt_vec = 0\n",
    "    for word in sent:\n",
    "        if word in w2v_words:\n",
    "            vec = w2v_model.wv[word]\n",
    "            sent_vec+= vec\n",
    "            cnt_vec +=1\n",
    "    if cnt_words != 0:\n",
    "        sent_vec/= cnt_words\n",
    "    sent_vectors_cv.append(sent_vec)\n",
    "sent_vectors_cv = np.array(sent_vectors_cv)\n",
    "print(sent_vectors_cv.shape)"
   ]
  },
  {
   "cell_type": "code",
   "execution_count": 63,
   "metadata": {},
   "outputs": [
    {
     "name": "stdout",
     "output_type": "stream",
     "text": [
      "(11225, 50)\n"
     ]
    }
   ],
   "source": [
    "#for test data\n",
    "list_of_sentance_test = []\n",
    "for sentance in base_x_test:\n",
    "    list_of_sentance_test.append(sentance.split())\n",
    "    \n",
    "# Converting Train data text\n",
    "\n",
    "sent_vectors_test = []\n",
    "for sent in list_of_sentance_test :\n",
    "    sent_vec = np.zeros(50)\n",
    "    cnt_vec = 0\n",
    "    for word in sent:\n",
    "        if word in w2v_words:\n",
    "            vec = w2v_model.wv[word]\n",
    "            sent_vec+= vec\n",
    "            cnt_vec +=1\n",
    "    if cnt_words != 0:\n",
    "        sent_vec/= cnt_words\n",
    "    sent_vectors_test.append(sent_vec)\n",
    "sent_vectors_test = np.array(sent_vectors_test)\n",
    "print(sent_vectors_test.shape)"
   ]
  },
  {
   "cell_type": "code",
   "execution_count": 64,
   "metadata": {
    "scrolled": true
   },
   "outputs": [
    {
     "data": {
      "image/png": "[encoded data removed]",
      "text/plain": [
       "<Figure size 432x288 with 1 Axes>"
      ]
     },
     "metadata": {
      "needs_background": "light"
     },
     "output_type": "display_data"
    },
    {
     "name": "stdout",
     "output_type": "stream",
     "text": [
      "optimal alpha for which auc is max is  10\n"
     ]
    }
   ],
   "source": [
    "x_train = sent_vectors_train\n",
    "x_cv = sent_vectors_cv\n",
    "x_test = sent_vectors_test\n",
    "\n",
    "\n",
    "alpha = [10**-4, 10**-3, 10**-2, 10**-1, 10**0, 10**1, 10**2, 10**3,10**4] #alpha = 1/C\n",
    "auc_train = []\n",
    "auc_cv = []\n",
    "    \n",
    "for i in alpha :\n",
    "\n",
    "    clf = SVC(C = i,probability=True)\n",
    "    clf.fit(x_train,y_train)\n",
    "    \n",
    "    prob_cv = clf.predict_proba(x_cv)[:,1]\n",
    "    prob_train  = clf.predict_proba(x_train)[:,1]\n",
    "    \n",
    "    auc_cv.append(roc_auc_score(y_cv,prob_cv))\n",
    "    auc_train.append(roc_auc_score(y_train,prob_train))\n",
    "\n",
    "optimal_alpha = alpha[auc_cv.index(max(auc_cv))]\n",
    "alpha = [math.log(x) for x in alpha] #converting values of alpha into logarithm\n",
    "\n",
    "fig = plt.figure()\n",
    "\n",
    "plt.plot(alpha, auc_train, label = 'AUC Train')\n",
    "plt.scatter(alpha, auc_train, label = 'AUC Train')\n",
    "plt.plot(alpha, auc_cv, label = 'AUC CV')\n",
    "plt.scatter(alpha, auc_cv, label = 'AUC CV')\n",
    "    \n",
    "plt.title('AUC Vs Hyperparameter')\n",
    "plt.xlabel(\"alpha1\")\n",
    "plt.ylabel('AUc')\n",
    "plt.legend()\n",
    "plt.show()\n",
    "\n",
    "print('optimal alpha for which auc is max is ', optimal_alpha)\n",
    "    \n",
    "\n"
   ]
  },
  {
   "cell_type": "markdown",
   "metadata": {},
   "source": [
    "#### Testing with Test data"
   ]
  },
  {
   "cell_type": "code",
   "execution_count": 65,
   "metadata": {},
   "outputs": [
    {
     "data": {
      "image/png": "[encoded data removed]",
      "text/plain": [
       "<Figure size 432x288 with 1 Axes>"
      ]
     },
     "metadata": {
      "needs_background": "light"
     },
     "output_type": "display_data"
    }
   ],
   "source": [
    "#Train the model with optimal alpha \n",
    "#ROC\n",
    "clf = SVC(C = optimal_alpha, probability= True)\n",
    "clf.fit(x_train,y_train)\n",
    "\n",
    "train_prob = clf.predict_proba(x_train)[:,1]\n",
    "test_prob = clf.predict_proba(x_test)[:,1]\n",
    "\n",
    "train_fpr,train_tpr, tresholds1 =  metrics.roc_curve(y_train,train_prob)\n",
    "test_fpr,test_tpr,tresholds2 = metrics.roc_curve(y_test,test_prob)\n",
    "\n",
    "plt.plot(train_fpr,train_tpr,label = 'Train AUC - ' + str(auc(train_fpr,train_tpr)))\n",
    "plt.plot(test_fpr,test_tpr, label = 'Test AUC - ' + str(auc(test_fpr,test_tpr)))\n",
    "\n",
    "plt.xlabel('FPR')\n",
    "plt.ylabel('TPR')\n",
    "plt.title('ROC error plt')\n",
    "plt.legend()\n",
    "plt.show()\n"
   ]
  },
  {
   "cell_type": "markdown",
   "metadata": {},
   "source": [
    "#### Confusion Matrix using Heatmap"
   ]
  },
  {
   "cell_type": "code",
   "execution_count": 66,
   "metadata": {},
   "outputs": [
    {
     "name": "stdout",
     "output_type": "stream",
     "text": [
      "Confusion matrix of train data\n"
     ]
    },
    {
     "data": {
      "image/png": "[encoded data removed]",
      "text/plain": [
       "<Figure size 432x288 with 2 Axes>"
      ]
     },
     "metadata": {
      "needs_background": "light"
     },
     "output_type": "display_data"
    },
    {
     "name": "stdout",
     "output_type": "stream",
     "text": [
      "Confusion matrix of test data\n"
     ]
    },
    {
     "data": {
      "image/png": "[encoded data removed]",
      "text/plain": [
       "<Figure size 432x288 with 2 Axes>"
      ]
     },
     "metadata": {
      "needs_background": "light"
     },
     "output_type": "display_data"
    }
   ],
   "source": [
    "#confusion matrix using heatmap for train data\n",
    "print('Confusion matrix of train data')\n",
    "cm = confusion_matrix(y_train,clf.predict(x_train))\n",
    "class_labels = ['Positive','Negative']\n",
    "df = pd.DataFrame(cm,index= class_labels, columns= class_labels)\n",
    "sb.heatmap(df, annot= True, fmt = 'd')\n",
    "\n",
    "plt.title('Confusion Matrix')\n",
    "plt.xlabel('Predicted')\n",
    "plt.ylabel('Actual')\n",
    "plt.show()\n",
    "\n",
    "#confusion matrix using heatmap for test data\n",
    "print('Confusion matrix of test data')\n",
    "cm = confusion_matrix(y_test,clf.predict(x_test))\n",
    "class_labels = ['Positive','Negative']\n",
    "df = pd.DataFrame(cm,index= class_labels, columns= class_labels)\n",
    "sb.heatmap(df, annot= True, fmt = 'd')\n",
    "\n",
    "plt.title('Confusion Matrix')\n",
    "plt.xlabel('Predicted')\n",
    "plt.ylabel('Actual')\n",
    "plt.show()\n",
    "\n"
   ]
  },
  {
   "cell_type": "markdown",
   "metadata": {},
   "source": [
    "### [5.2.4]  Applying RBF SVM on TFIDF W2V,<font color='red'> SET 4</font>"
   ]
  },
  {
   "cell_type": "code",
   "execution_count": 67,
   "metadata": {},
   "outputs": [],
   "source": [
    "# w2v for train\n",
    "\n",
    "list_of_sentance_train = []\n",
    "for sentance in base_x_train:\n",
    "    list_of_sentance_train.append(sentance.split())\n",
    "\n",
    "w2v_model = Word2Vec(list_of_sentance_train , min_count = 5 ,size = 50, workers = 4)\n",
    "w2v_words = list(w2v_model.wv.vocab)\n",
    "\n",
    "\n",
    "\n",
    "tf_idf_vect = TfidfVectorizer(ngram_range=(1,2),min_df= 10,max_features= 500)\n",
    "tf_idf_matrix = tf_idf_vect.fit_transform(base_x_train)\n",
    "tfidf_feat = tf_idf_vect.get_feature_names()\n",
    "dictionary = dict(zip(tf_idf_vect.get_feature_names(),list(tf_idf_vect.idf_)))\n"
   ]
  },
  {
   "cell_type": "code",
   "execution_count": 68,
   "metadata": {},
   "outputs": [],
   "source": [
    "# Converting Train data text\n",
    "\n",
    "tfidf_sent_vectors_train = []\n",
    "for sent in list_of_sentance_train :\n",
    "    sent_vec = np.zeros(50)\n",
    "    weight_sum = 0;\n",
    "    for word in sent:\n",
    "        if word in w2v_words and word in tfidf_feat:\n",
    "            vec = w2v_model.wv[word]\n",
    "            tf_idf = dictionary[word]*(sent.count(word)/len(sent))\n",
    "            sent_vec+= ( vec * tf_idf )\n",
    "            weight_sum = tf_idf\n",
    "    if weight_sum != 0:\n",
    "        sent_vec/= weight_sum\n",
    "    tfidf_sent_vectors_train.append(sent_vec)\n",
    "    row +=1"
   ]
  },
  {
   "cell_type": "code",
   "execution_count": 69,
   "metadata": {},
   "outputs": [],
   "source": [
    "list_of_sentance_cv = []\n",
    "for sentance in base_x_cv:\n",
    "    list_of_sentance_cv.append(sentance.split())\n",
    "    \n",
    "tfidf_sent_vectors_cv = []\n",
    "row = 0\n",
    "\n",
    "# for sent in tqdm(list_of_sentance_cv):\n",
    "for sent in (list_of_sentance_cv):\n",
    "    \n",
    "    sent_vec = np.zeros(50)\n",
    "    weight_sum = 0\n",
    "    for word in sent:\n",
    "        if word in w2v_words and word in tfidf_feat:\n",
    "            vec = w2v_model.wv[word]\n",
    "            tf_idf = dictionary[word]*(sent.count(word)/len(sent))\n",
    "            sent_vec += (vec * tf_idf)\n",
    "            weight_sum = tf_idf\n",
    "    if weight_sum != 0:\n",
    "        sent_vec /= weight_sum\n",
    "    tfidf_sent_vectors_cv.append(sent_vec)\n",
    "    row += 1"
   ]
  },
  {
   "cell_type": "code",
   "execution_count": 70,
   "metadata": {},
   "outputs": [],
   "source": [
    "#for test data\n",
    "\n",
    "list_of_sentance_test = []\n",
    "for sentance in base_x_test:\n",
    "    list_of_sentance_test.append(sentance.split())\n",
    "    \n",
    "tfidf_sent_vectors_test = []\n",
    "row = 0\n",
    "\n",
    "# for sent in tqdm(list_of_sentance_test):\n",
    "for sent in (list_of_sentance_test):\n",
    "    \n",
    "    sent_vec = np.zeros(50)\n",
    "    weight_sum = 0\n",
    "    for word in sent:\n",
    "        if word in w2v_words and word in tfidf_feat:\n",
    "            vec = w2v_model.wv[word]\n",
    "            tf_idf = dictionary[word]*(sent.count(word)/len(sent))\n",
    "            sent_vec += (vec * tf_idf)\n",
    "            weight_sum = tf_idf\n",
    "    if weight_sum != 0:\n",
    "        sent_vec /= weight_sum\n",
    "    tfidf_sent_vectors_test.append(sent_vec)\n",
    "    row += 1"
   ]
  },
  {
   "cell_type": "code",
   "execution_count": 71,
   "metadata": {
    "scrolled": true
   },
   "outputs": [
    {
     "data": {
      "image/png": "[encoded data removed]",
      "text/plain": [
       "<Figure size 432x288 with 1 Axes>"
      ]
     },
     "metadata": {
      "needs_background": "light"
     },
     "output_type": "display_data"
    },
    {
     "name": "stdout",
     "output_type": "stream",
     "text": [
      "optimal alpha for which auc is max is  100\n"
     ]
    }
   ],
   "source": [
    "x_train = tfidf_sent_vectors_train\n",
    "x_cv = tfidf_sent_vectors_cv\n",
    "x_test = sent_vectors_test\n",
    "\n",
    "alpha = [10**-4, 10**-3, 10**-2, 10**-1, 10**0, 10**1, 10**2, 10**3,10**4] #alpha = 1/C\n",
    "auc_train = []\n",
    "auc_cv = []\n",
    "    \n",
    "for i in alpha :\n",
    "    \n",
    "    clf = SVC(C = i,probability=True)\n",
    "    clf.fit(x_train,y_train)\n",
    "    \n",
    "    prob_cv = clf.predict_proba(x_cv)[:,1]\n",
    "    prob_train  = clf.predict_proba(x_train)[:,1]\n",
    "    \n",
    "    auc_cv.append(roc_auc_score(y_cv,prob_cv))\n",
    "    auc_train.append(roc_auc_score(y_train,prob_train))\n",
    "\n",
    "optimal_alpha = alpha[auc_cv.index(max(auc_cv))]\n",
    "alpha = [math.log(x) for x in alpha] #converting values of alpha into logarithm\n",
    "\n",
    "fig = plt.figure()\n",
    "\n",
    "plt.plot(alpha, auc_train, label = 'AUC Train')\n",
    "plt.scatter(alpha, auc_train, label = 'AUC Train')\n",
    "plt.plot(alpha, auc_cv, label = 'AUC CV')\n",
    "plt.scatter(alpha, auc_cv, label = 'AUC CV')\n",
    "    \n",
    "plt.title('AUC Vs Hyperparameter')\n",
    "plt.xlabel(\"alpha1\")\n",
    "plt.ylabel('AUc')\n",
    "plt.legend()\n",
    "plt.show()\n",
    "\n",
    "print('optimal alpha for which auc is max is ', optimal_alpha)"
   ]
  },
  {
   "cell_type": "markdown",
   "metadata": {},
   "source": [
    "#### Testing with Test data"
   ]
  },
  {
   "cell_type": "code",
   "execution_count": 72,
   "metadata": {},
   "outputs": [
    {
     "data": {
      "image/png": "[encoded data removed]",
      "text/plain": [
       "<Figure size 432x288 with 1 Axes>"
      ]
     },
     "metadata": {
      "needs_background": "light"
     },
     "output_type": "display_data"
    }
   ],
   "source": [
    "#Train the model with optimal alpha \n",
    "#ROC\n",
    "\n",
    "clf = SVC(C = optimal_alpha,probability= True)\n",
    "clf.fit(x_train,y_train)\n",
    "\n",
    "train_prob = clf.predict_proba(x_train)[:,1]\n",
    "test_prob = clf.predict_proba(x_test)[:,1]\n",
    "\n",
    "train_fpr,train_tpr, tresholds1 =  metrics.roc_curve(y_train,train_prob)\n",
    "test_fpr,test_tpr,tresholds2 = metrics.roc_curve(y_test,test_prob)\n",
    "\n",
    "plt.plot(train_fpr,train_tpr,label = 'Train AUC - ' + str(auc(train_fpr,train_tpr)))\n",
    "plt.plot(test_fpr,test_tpr, label = 'Test AUC - ' + str(auc(test_fpr,test_tpr)))\n",
    "\n",
    "plt.xlabel('FPR')\n",
    "plt.ylabel('TPR')\n",
    "plt.title('ROC error plt')\n",
    "plt.legend()\n",
    "plt.show()\n"
   ]
  },
  {
   "cell_type": "markdown",
   "metadata": {},
   "source": [
    "#### Confusion Matrix using Heatmap"
   ]
  },
  {
   "cell_type": "code",
   "execution_count": 73,
   "metadata": {},
   "outputs": [
    {
     "name": "stdout",
     "output_type": "stream",
     "text": [
      "Confusion matrix of train data\n"
     ]
    },
    {
     "data": {
      "image/png": "[encoded data removed]",
      "text/plain": [
       "<Figure size 432x288 with 2 Axes>"
      ]
     },
     "metadata": {
      "needs_background": "light"
     },
     "output_type": "display_data"
    },
    {
     "name": "stdout",
     "output_type": "stream",
     "text": [
      "Confusion matrix of test data\n"
     ]
    },
    {
     "data": {
      "image/png": "[encoded data removed]",
      "text/plain": [
       "<Figure size 432x288 with 2 Axes>"
      ]
     },
     "metadata": {
      "needs_background": "light"
     },
     "output_type": "display_data"
    }
   ],
   "source": [
    "#confusion matrix using heatmap for train data\n",
    "print('Confusion matrix of train data')\n",
    "cm = confusion_matrix(y_train,clf.predict(x_train))\n",
    "class_labels = ['Positive','Negative']\n",
    "df = pd.DataFrame(cm,index= class_labels, columns= class_labels)\n",
    "sb.heatmap(df, annot= True, fmt = 'd')\n",
    "\n",
    "plt.title('Confusion Matrix')\n",
    "plt.xlabel('Predicted')\n",
    "plt.ylabel('Actual')\n",
    "plt.show()\n",
    "\n",
    "#confusion matrix using heatmap for test data\n",
    "print('Confusion matrix of test data')\n",
    "cm = confusion_matrix(y_test,clf.predict(x_test))\n",
    "class_labels = ['Positive','Negative']\n",
    "df = pd.DataFrame(cm,index= class_labels, columns= class_labels)\n",
    "sb.heatmap(df, annot= True, fmt = 'd')\n",
    "\n",
    "plt.title('Confusion Matrix')\n",
    "plt.xlabel('Predicted')\n",
    "plt.ylabel('Actual')\n",
    "plt.show()\n",
    "\n"
   ]
  },
  {
   "cell_type": "markdown",
   "metadata": {
    "colab_type": "text",
    "id": "6bp7BbwCJkll"
   },
   "source": [
    "## [5.3] Feature engineering"
   ]
  },
  {
   "cell_type": "code",
   "execution_count": 74,
   "metadata": {},
   "outputs": [
    {
     "data": {
      "text/plain": [
       "'fed canidae als old formula years dogs thrived canidae switched formula mfg immediately switched another food afer reported problems feed store talked trying new formula went back als big mistake experienced weight loss explosive diarreha vomitting lethargy etc dogs lbs varying pedigrees ages sick weight loss poor coats vomitting etc run complete extensive blood panels rule health problems dogs bottomline blood panels ok food canidae issue use fantastic food dangerous food feed entire pack dogs health declined new formula switched foods something canidae dogs recovering love las vegas russian roulette feed canidae want avoid major vet expenses heartache choose another food homework research canidae als problems make best educated decision pets year since originally posted review product thought time update still warn folks feeding canidae als canidae formuals not know dogs recovered thank goodness back running fenceline greeting visitors etc not sickly become aka lethergic diarreha lost weight crew faced know bunch pros cons various websites concerning canidae use one biggest flag wavers canidae formula change vet expenses forced face believe heavy heart cannot recommend canidae not flare noticed internet vindications company personnal gain great concern illnesses experienced pack dogs took several months vet care dry dog food changes dogs recover not want see beloved family members undergo gone please please please check highly recommended non bias dog food analysis site still recommending canidae als star highest rating premium food feed caveate however position product dfa heard complaints number animals hear not well food appears risen substantially ask personal research concerning food keep eye pet food reactions make best educated decision beloved four footed furry family members'"
      ]
     },
     "execution_count": 74,
     "metadata": {},
     "output_type": "execute_result"
    }
   ],
   "source": [
    "preprocessed_reviews[100]"
   ]
  },
  {
   "cell_type": "code",
   "execution_count": 75,
   "metadata": {},
   "outputs": [
    {
     "data": {
      "text/plain": [
       "'branston pickle say never tried likely wont like grew uk staple cheese cold meat sandwiches lunch sandwich today droool 207'"
      ]
     },
     "execution_count": 75,
     "metadata": {},
     "output_type": "execute_result"
    }
   ],
   "source": [
    "#Adding preprocessed summary and review length to preprocessed summary\n",
    "\n",
    "for i in range(len(preprocessed_reviews)):\n",
    "    preprocessed_reviews[i] += ' '+preprocessed_summary[i]+' '+str(len(final.Text.iloc[i]))\n",
    "\n",
    "preprocessed_reviews[1000]\n"
   ]
  },
  {
   "cell_type": "code",
   "execution_count": 76,
   "metadata": {},
   "outputs": [],
   "source": [
    "x = preprocessed_reviews\n",
    "y = final['Score'].values\n",
    "\n",
    "\n",
    "#Train CV test split\n",
    "\n",
    "x1, base_x_test, y1, y_test = train_test_split(x, y, test_size = 0.3, random_state = 0)\n",
    "base_x_train, base_x_cv, y_train, y_cv = train_test_split(x1,y1, test_size = 0.3)"
   ]
  },
  {
   "cell_type": "markdown",
   "metadata": {},
   "source": [
    "#### [5.3.1] BOW"
   ]
  },
  {
   "cell_type": "code",
   "execution_count": 77,
   "metadata": {},
   "outputs": [
    {
     "name": "stderr",
     "output_type": "stream",
     "text": [
      "C:\\Users\\Saraswathi\\AppData\\Local\\Continuum\\anaconda3\\lib\\site-packages\\sklearn\\utils\\validation.py:475: DataConversionWarning: Data with input dtype int64 was converted to float64 by StandardScaler.\n",
      "  warnings.warn(msg, DataConversionWarning)\n",
      "C:\\Users\\Saraswathi\\AppData\\Local\\Continuum\\anaconda3\\lib\\site-packages\\sklearn\\utils\\validation.py:475: DataConversionWarning: Data with input dtype int64 was converted to float64 by StandardScaler.\n",
      "  warnings.warn(msg, DataConversionWarning)\n",
      "C:\\Users\\Saraswathi\\AppData\\Local\\Continuum\\anaconda3\\lib\\site-packages\\sklearn\\utils\\validation.py:475: DataConversionWarning: Data with input dtype int64 was converted to float64 by StandardScaler.\n",
      "  warnings.warn(msg, DataConversionWarning)\n",
      "C:\\Users\\Saraswathi\\AppData\\Local\\Continuum\\anaconda3\\lib\\site-packages\\sklearn\\utils\\validation.py:475: DataConversionWarning: Data with input dtype int64 was converted to float64 by StandardScaler.\n",
      "  warnings.warn(msg, DataConversionWarning)\n"
     ]
    },
    {
     "data": {
      "image/png": "[encoded data removed]",
      "text/plain": [
       "<Figure size 432x288 with 1 Axes>"
      ]
     },
     "metadata": {
      "needs_background": "light"
     },
     "output_type": "display_data"
    },
    {
     "name": "stdout",
     "output_type": "stream",
     "text": [
      "optimal alpha for which auc is max is  1\n"
     ]
    }
   ],
   "source": [
    "cnt_vec = CountVectorizer()\n",
    "tran_x_train = cnt_vec.fit_transform(base_x_train)\n",
    "tran_x_cv = cnt_vec.transform(base_x_cv)\n",
    "tran_x_test = cnt_vec.transform(base_x_test)\n",
    "\n",
    "#standardize data\n",
    "scalar = StandardScaler(with_mean = False)\n",
    "x_train = scalar.fit_transform(tran_x_train)\n",
    "x_cv = scalar.transform(tran_x_cv)\n",
    "x_test = scalar.transform(tran_x_test)\n",
    "\n",
    "alpha = [10**-4, 10**-3, 10**-2, 10**-1, 10**0, 10**1, 10**2, 10**3,10**4] #alpha = 1/C\n",
    "\n",
    "auc_train = []\n",
    "auc_cv = []\n",
    "\n",
    "for i in alpha :\n",
    "    model = SGDClassifier(alpha = i)# default hinge\n",
    "    clf = CalibratedClassifierCV(model,cv = 3) # caliculation of predict_proba\n",
    "    clf.fit(x_train,y_train)\n",
    "    \n",
    "    prob_cv = clf.predict_proba(x_cv)[:,1]\n",
    "    prob_train  = clf.predict_proba(x_train)[:,1]\n",
    "    \n",
    "    auc_cv.append(roc_auc_score(y_cv,prob_cv))\n",
    "    auc_train.append(roc_auc_score(y_train,prob_train))\n",
    "\n",
    "optimal_alpha = alpha[auc_cv.index(max(auc_cv))]\n",
    "alpha = [math.log(x) for x in alpha] #converting values of alpha into logarithm\n",
    "\n",
    "fig = plt.figure()\n",
    "\n",
    "plt.plot(alpha, auc_train, label = 'AUC Train')\n",
    "plt.scatter(alpha, auc_train, label = 'AUC Train')\n",
    "plt.plot(alpha, auc_cv, label = 'AUC CV')\n",
    "plt.scatter(alpha, auc_cv, label = 'AUC CV')\n",
    "    \n",
    "plt.title('AUC Vs Hyperparameter')\n",
    "plt.xlabel(\"alpha1\")\n",
    "plt.ylabel('AUc')\n",
    "plt.legend()\n",
    "plt.show()\n",
    "\n",
    "print('optimal alpha for which auc is max is ', optimal_alpha)"
   ]
  },
  {
   "cell_type": "markdown",
   "metadata": {},
   "source": [
    "#### Testing with Test data"
   ]
  },
  {
   "cell_type": "code",
   "execution_count": 78,
   "metadata": {},
   "outputs": [],
   "source": [
    "#Train the model with optimal alpha \n",
    "#ROC"
   ]
  },
  {
   "cell_type": "code",
   "execution_count": 79,
   "metadata": {},
   "outputs": [
    {
     "data": {
      "image/png": "[encoded data removed]",
      "text/plain": [
       "<Figure size 432x288 with 1 Axes>"
      ]
     },
     "metadata": {
      "needs_background": "light"
     },
     "output_type": "display_data"
    }
   ],
   "source": [
    "model = SGDClassifier(alpha = optimal_alpha)\n",
    "clf = CalibratedClassifierCV(model, cv = 3)\n",
    "clf.fit(x_train,y_train)\n",
    "\n",
    "train_prob = clf.predict_proba(x_train)[:,1]\n",
    "test_prob = clf.predict_proba(x_test)[:,1]\n",
    "\n",
    "train_fpr,train_tpr, tresholds1 =  metrics.roc_curve(y_train,train_prob)\n",
    "test_fpr,test_tpr,tresholds2 = metrics.roc_curve(y_test,test_prob)\n",
    "\n",
    "plt.plot(train_fpr,train_tpr,label = 'Train AUC - ' + str(auc(train_fpr,train_tpr)))\n",
    "plt.plot(test_fpr,test_tpr, label = 'Test AUC - ' + str(auc(test_fpr,test_tpr)))\n",
    "\n",
    "plt.xlabel('FPR')\n",
    "plt.ylabel('TPR')\n",
    "plt.title('ROC error plt')\n",
    "plt.legend()\n",
    "plt.show()\n"
   ]
  },
  {
   "cell_type": "markdown",
   "metadata": {},
   "source": [
    "#### Confusion Matrix using Heatmap"
   ]
  },
  {
   "cell_type": "code",
   "execution_count": 80,
   "metadata": {},
   "outputs": [
    {
     "name": "stdout",
     "output_type": "stream",
     "text": [
      "Confusion matrix of train data\n"
     ]
    },
    {
     "data": {
      "image/png": "[encoded data removed]",
      "text/plain": [
       "<Figure size 432x288 with 2 Axes>"
      ]
     },
     "metadata": {
      "needs_background": "light"
     },
     "output_type": "display_data"
    },
    {
     "name": "stdout",
     "output_type": "stream",
     "text": [
      "Confusion matrix of test data\n"
     ]
    },
    {
     "data": {
      "image/png": "[encoded data removed]",
      "text/plain": [
       "<Figure size 432x288 with 2 Axes>"
      ]
     },
     "metadata": {
      "needs_background": "light"
     },
     "output_type": "display_data"
    }
   ],
   "source": [
    "#confusion matrix using heatmap for train data\n",
    "print('Confusion matrix of train data')\n",
    "cm = confusion_matrix(y_train,clf.predict(x_train))\n",
    "class_labels = ['Positive','Negative']\n",
    "df = pd.DataFrame(cm,index= class_labels, columns= class_labels)\n",
    "sb.heatmap(df, annot= True, fmt = 'd')\n",
    "\n",
    "plt.title('Confusion Matrix')\n",
    "plt.xlabel('Predicted')\n",
    "plt.ylabel('Actual')\n",
    "plt.show()\n",
    "\n",
    "#confusion matrix using heatmap for test data\n",
    "print('Confusion matrix of test data')\n",
    "cm = confusion_matrix(y_test,clf.predict(x_test))\n",
    "class_labels = ['Positive','Negative']\n",
    "df = pd.DataFrame(cm,index= class_labels, columns= class_labels)\n",
    "sb.heatmap(df, annot= True, fmt = 'd')\n",
    "\n",
    "plt.title('Confusion Matrix')\n",
    "plt.xlabel('Predicted')\n",
    "plt.ylabel('Actual')\n",
    "plt.show()\n",
    "\n"
   ]
  },
  {
   "cell_type": "markdown",
   "metadata": {},
   "source": [
    "#### Top 10 important features of positive class"
   ]
  },
  {
   "cell_type": "code",
   "execution_count": 81,
   "metadata": {},
   "outputs": [
    {
     "name": "stdout",
     "output_type": "stream",
     "text": [
      "Top 10 negative features\n",
      "great\n",
      "good\n",
      "love\n",
      "best\n",
      "delicious\n",
      "loves\n",
      "excellent\n",
      "tasty\n",
      "favorite\n",
      "nice\n"
     ]
    }
   ],
   "source": [
    "fn = cnt_vec.get_feature_names()\n",
    "model = SGDClassifier(alpha = optimal_alpha)\n",
    "model.fit(x_train,y_train)\n",
    "w = model.coef_\n",
    "pos_words = np.argsort(w)[:,::-1]\n",
    "neg_words = np.argsort(w)\n",
    "\n",
    "# for word in neg_words[0][0:10]: \n",
    "#     print(fn[word])\n",
    "\n",
    "print('Top 10 negative features')\n",
    "for i in list(pos_words[0][0:10]):\n",
    "    print(fn[i])"
   ]
  },
  {
   "cell_type": "markdown",
   "metadata": {},
   "source": [
    "#### Top 10 important features of negative class"
   ]
  },
  {
   "cell_type": "code",
   "execution_count": 82,
   "metadata": {},
   "outputs": [
    {
     "name": "stdout",
     "output_type": "stream",
     "text": [
      "Top 10 negative features\n",
      "disappointed\n",
      "horrible\n",
      "worst\n",
      "awful\n",
      "disappointing\n",
      "yuck\n",
      "terrible\n",
      "waste\n",
      "return\n",
      "not\n"
     ]
    }
   ],
   "source": [
    "print('Top 10 negative features')\n",
    "for i in list(neg_words[0][0:10]):\n",
    "    print(fn[i])"
   ]
  },
  {
   "cell_type": "markdown",
   "metadata": {},
   "source": [
    "#### [5.3.2] Tfidf"
   ]
  },
  {
   "cell_type": "code",
   "execution_count": 83,
   "metadata": {},
   "outputs": [
    {
     "data": {
      "image/png": "[encoded data removed]",
      "text/plain": [
       "<Figure size 432x288 with 1 Axes>"
      ]
     },
     "metadata": {
      "needs_background": "light"
     },
     "output_type": "display_data"
    },
    {
     "name": "stdout",
     "output_type": "stream",
     "text": [
      "optimal alpha for which auc is max is  1\n"
     ]
    }
   ],
   "source": [
    "tf_idf_vect = TfidfVectorizer(min_df= 10)\n",
    "x_train = tf_idf_vect.fit_transform(base_x_train)\n",
    "x_cv = tf_idf_vect.transform(base_x_cv)\n",
    "x_test = tf_idf_vect.transform(base_x_test)\n",
    "\n",
    "#standardize the data \n",
    "scalar = StandardScaler(with_mean= False)\n",
    "x_train =  scalar.fit_transform(x_train)\n",
    "x_cv =  scalar.transform(x_cv)\n",
    "x_test =  scalar.transform(x_test)\n",
    "\n",
    "alpha = [10**-4, 10**-3, 10**-2, 10**-1, 10**0, 10**1, 10**2, 10**3,10**4] #alpha = 1/C\n",
    "\n",
    "auc_train = []\n",
    "auc_cv = []\n",
    "\n",
    "for i in alpha :\n",
    "    model = SGDClassifier(alpha = i)# default hinge\n",
    "    clf = CalibratedClassifierCV(model,cv = 3) # caliculation of predict_proba\n",
    "    clf.fit(x_train,y_train)\n",
    "    \n",
    "    prob_cv = clf.predict_proba(x_cv)[:,1]\n",
    "    prob_train  = clf.predict_proba(x_train)[:,1]\n",
    "    \n",
    "    auc_cv.append(roc_auc_score(y_cv,prob_cv))\n",
    "    auc_train.append(roc_auc_score(y_train,prob_train))\n",
    "\n",
    "optimal_alpha = alpha[auc_cv.index(max(auc_cv))]\n",
    "alpha = [math.log(x) for x in alpha] #converting values of alpha into logarithm\n",
    "\n",
    "fig = plt.figure()\n",
    "\n",
    "plt.plot(alpha, auc_train, label = 'AUC Train')\n",
    "plt.scatter(alpha, auc_train, label = 'AUC Train')\n",
    "plt.plot(alpha, auc_cv, label = 'AUC CV')\n",
    "plt.scatter(alpha, auc_cv, label = 'AUC CV')\n",
    "    \n",
    "plt.title('AUC Vs Hyperparameter')\n",
    "plt.xlabel(\"alpha1\")\n",
    "plt.ylabel('AUc')\n",
    "plt.legend()\n",
    "plt.show()\n",
    "\n",
    "print('optimal alpha for which auc is max is ', optimal_alpha)"
   ]
  },
  {
   "cell_type": "markdown",
   "metadata": {},
   "source": [
    "#### Testing with Test data"
   ]
  },
  {
   "cell_type": "code",
   "execution_count": 84,
   "metadata": {},
   "outputs": [
    {
     "data": {
      "image/png": "[encoded data removed]",
      "text/plain": [
       "<Figure size 432x288 with 1 Axes>"
      ]
     },
     "metadata": {
      "needs_background": "light"
     },
     "output_type": "display_data"
    }
   ],
   "source": [
    "#Train the model with optimal alpha \n",
    "#ROC\n",
    "model = SGDClassifier(alpha = optimal_alpha)\n",
    "clf = CalibratedClassifierCV(model, cv = 3)\n",
    "clf.fit(x_train,y_train)\n",
    "\n",
    "train_prob = clf.predict_proba(x_train)[:,1]\n",
    "test_prob = clf.predict_proba(x_test)[:,1]\n",
    "\n",
    "train_fpr,train_tpr, tresholds1 =  metrics.roc_curve(y_train,train_prob)\n",
    "test_fpr,test_tpr,tresholds2 = metrics.roc_curve(y_test,test_prob)\n",
    "\n",
    "plt.plot(train_fpr,train_tpr,label = 'Train AUC - ' + str(auc(train_fpr,train_tpr)))\n",
    "plt.plot(test_fpr,test_tpr, label = 'Test AUC - ' + str(auc(test_fpr,test_tpr)))\n",
    "\n",
    "plt.xlabel('FPR')\n",
    "plt.ylabel('TPR')\n",
    "plt.title('ROC error plt')\n",
    "plt.legend()\n",
    "plt.show()\n"
   ]
  },
  {
   "cell_type": "markdown",
   "metadata": {},
   "source": [
    "#### Confusion Matrix using Heatmap"
   ]
  },
  {
   "cell_type": "markdown",
   "metadata": {},
   "source": [
    "#### Top 10 important features of positive class"
   ]
  },
  {
   "cell_type": "code",
   "execution_count": 85,
   "metadata": {},
   "outputs": [
    {
     "name": "stdout",
     "output_type": "stream",
     "text": [
      "Top 10 negative features\n",
      "great\n",
      "good\n",
      "love\n",
      "best\n",
      "delicious\n",
      "loves\n",
      "excellent\n",
      "nice\n",
      "perfect\n",
      "tasty\n"
     ]
    }
   ],
   "source": [
    "fn = tf_idf_vect.get_feature_names()\n",
    "model = SGDClassifier(alpha = optimal_alpha)\n",
    "model.fit(x_train,y_train)\n",
    "w = model.coef_\n",
    "pos_words = np.argsort(w)[:,::-1]\n",
    "neg_words = np.argsort(w)\n",
    "\n",
    "# for word in neg_words[0][0:10]: \n",
    "#     print(fn[word])\n",
    "\n",
    "print('Top 10 negative features')\n",
    "for i in list(pos_words[0][0:10]):\n",
    "    print(fn[i])"
   ]
  },
  {
   "cell_type": "markdown",
   "metadata": {},
   "source": [
    "#### Top 10 important features of negative class"
   ]
  },
  {
   "cell_type": "code",
   "execution_count": 86,
   "metadata": {},
   "outputs": [
    {
     "name": "stdout",
     "output_type": "stream",
     "text": [
      "Top 10 negative features\n",
      "disappointed\n",
      "worst\n",
      "horrible\n",
      "awful\n",
      "disappointment\n",
      "waste\n",
      "disappointing\n",
      "not\n",
      "terrible\n",
      "yuck\n"
     ]
    }
   ],
   "source": [
    "print('Top 10 negative features')\n",
    "for i in list(neg_words[0][0:10]):\n",
    "    print(fn[i])"
   ]
  },
  {
   "cell_type": "markdown",
   "metadata": {},
   "source": [
    "#### [5.3.3] Avg W2v"
   ]
  },
  {
   "cell_type": "code",
   "execution_count": 87,
   "metadata": {},
   "outputs": [
    {
     "name": "stdout",
     "output_type": "stream",
     "text": [
      "(18333, 50)\n"
     ]
    }
   ],
   "source": [
    "# w2v for train\n",
    "\n",
    "list_of_sentance_train = []\n",
    "for sentance in base_x_train:\n",
    "    list_of_sentance_train.append(sentance.split())\n",
    "#training w2v model\n",
    "w2v_model = Word2Vec(list_of_sentance_train, min_count= 5, size = 50, workers = 4 )\n",
    "w2v_words = list(w2v_model.wv.vocab)\n",
    "\n",
    "# Converting Train data text\n",
    "\n",
    "sent_vectors = []\n",
    "for sent in list_of_sentance_train :\n",
    "    sent_vec = np.zeros(50)\n",
    "    cnt_vec = 0\n",
    "    for word in sent:\n",
    "        if word in w2v_words:\n",
    "            vec = w2v_model.wv[word]\n",
    "            sent_vec+= vec\n",
    "            cnt_vec +=1\n",
    "    if cnt_words != 0:\n",
    "        sent_vec/= cnt_words\n",
    "    sent_vectors.append(sent_vec)\n",
    "sent_vectors_train = np.array(sent_vectors)\n",
    "print(sent_vectors_train.shape)    "
   ]
  },
  {
   "cell_type": "code",
   "execution_count": 88,
   "metadata": {},
   "outputs": [
    {
     "name": "stdout",
     "output_type": "stream",
     "text": [
      "(7857, 50)\n"
     ]
    }
   ],
   "source": [
    "#for cross vaidation data\n",
    "list_of_sentance_cv = []\n",
    "for sentance in base_x_cv:\n",
    "    list_of_sentance_cv.append(sentance.split())\n",
    "    \n",
    "# Converting Train data text\n",
    "\n",
    "sent_vectors_cv = []\n",
    "for sent in list_of_sentance_cv :\n",
    "    sent_vec = np.zeros(50)\n",
    "    cnt_vec = 0\n",
    "    for word in sent:\n",
    "        if word in w2v_words:\n",
    "            vec = w2v_model.wv[word]\n",
    "            sent_vec+= vec\n",
    "            cnt_vec +=1\n",
    "    if cnt_words != 0:\n",
    "        sent_vec/= cnt_words\n",
    "    sent_vectors_cv.append(sent_vec)\n",
    "sent_vectors_cv = np.array(sent_vectors_cv)\n",
    "print(sent_vectors_cv.shape)"
   ]
  },
  {
   "cell_type": "code",
   "execution_count": 89,
   "metadata": {},
   "outputs": [
    {
     "name": "stdout",
     "output_type": "stream",
     "text": [
      "(11225, 50)\n"
     ]
    }
   ],
   "source": [
    "#for test data\n",
    "list_of_sentance_test = []\n",
    "for sentance in base_x_test:\n",
    "    list_of_sentance_test.append(sentance.split())\n",
    "    \n",
    "# Converting Train data text\n",
    "\n",
    "sent_vectors_test = []\n",
    "for sent in list_of_sentance_test :\n",
    "    sent_vec = np.zeros(50)\n",
    "    cnt_vec = 0\n",
    "    for word in sent:\n",
    "        if word in w2v_words:\n",
    "            vec = w2v_model.wv[word]\n",
    "            sent_vec+= vec\n",
    "            cnt_vec +=1\n",
    "    if cnt_words != 0:\n",
    "        sent_vec/= cnt_words\n",
    "    sent_vectors_test.append(sent_vec)\n",
    "sent_vectors_test = np.array(sent_vectors_test)\n",
    "print(sent_vectors_test.shape)"
   ]
  },
  {
   "cell_type": "code",
   "execution_count": 90,
   "metadata": {
    "scrolled": true
   },
   "outputs": [
    {
     "data": {
      "image/png": "[encoded data removed]",
      "text/plain": [
       "<Figure size 432x288 with 1 Axes>"
      ]
     },
     "metadata": {
      "needs_background": "light"
     },
     "output_type": "display_data"
    },
    {
     "name": "stdout",
     "output_type": "stream",
     "text": [
      "optimal alpha for which auc is max is  0.01\n"
     ]
    }
   ],
   "source": [
    "x_train = sent_vectors_train\n",
    "x_cv = sent_vectors_cv\n",
    "x_test = sent_vectors_test\n",
    "\n",
    "\n",
    "alpha = [10**-4, 10**-3, 10**-2, 10**-1, 10**0, 10**1, 10**2, 10**3,10**4] #alpha = 1/C\n",
    "auc_train = []\n",
    "auc_cv = []\n",
    "    \n",
    "for i in alpha :\n",
    "    model = SGDClassifier(alpha = i)# default hinge\n",
    "    clf = CalibratedClassifierCV(model,cv = 3) # caliculation of predict_proba\n",
    "    clf.fit(x_train,y_train)\n",
    "    \n",
    "    prob_cv = clf.predict_proba(x_cv)[:,1]\n",
    "    prob_train  = clf.predict_proba(x_train)[:,1]\n",
    "    \n",
    "    auc_cv.append(roc_auc_score(y_cv,prob_cv))\n",
    "    auc_train.append(roc_auc_score(y_train,prob_train))\n",
    "\n",
    "optimal_alpha = alpha[auc_cv.index(max(auc_cv))]\n",
    "alpha = [math.log(x) for x in alpha] #converting values of alpha into logarithm\n",
    "\n",
    "fig = plt.figure()\n",
    "\n",
    "plt.plot(alpha, auc_train, label = 'AUC Train')\n",
    "plt.scatter(alpha, auc_train, label = 'AUC Train')\n",
    "plt.plot(alpha, auc_cv, label = 'AUC CV')\n",
    "plt.scatter(alpha, auc_cv, label = 'AUC CV')\n",
    "    \n",
    "plt.title('AUC Vs Hyperparameter')\n",
    "plt.xlabel(\"alpha1\")\n",
    "plt.ylabel('AUc')\n",
    "plt.legend()\n",
    "plt.show()\n",
    "\n",
    "print('optimal alpha for which auc is max is ', optimal_alpha)\n",
    "    \n",
    "\n"
   ]
  },
  {
   "cell_type": "markdown",
   "metadata": {},
   "source": [
    "#### Testing with Test data"
   ]
  },
  {
   "cell_type": "code",
   "execution_count": 91,
   "metadata": {},
   "outputs": [],
   "source": [
    "\n",
    "#Train the model with optimal alpha \n",
    "#ROC"
   ]
  },
  {
   "cell_type": "code",
   "execution_count": 92,
   "metadata": {},
   "outputs": [
    {
     "data": {
      "image/png": "[encoded data removed]",
      "text/plain": [
       "<Figure size 432x288 with 1 Axes>"
      ]
     },
     "metadata": {
      "needs_background": "light"
     },
     "output_type": "display_data"
    }
   ],
   "source": [
    "model = SGDClassifier(alpha = optimal_alpha)\n",
    "clf = CalibratedClassifierCV(model, cv = 3)\n",
    "clf.fit(x_train,y_train)\n",
    "\n",
    "train_prob = clf.predict_proba(x_train)[:,1]\n",
    "test_prob = clf.predict_proba(x_test)[:,1]\n",
    "\n",
    "train_fpr,train_tpr, tresholds1 =  metrics.roc_curve(y_train,train_prob)\n",
    "test_fpr,test_tpr,tresholds2 = metrics.roc_curve(y_test,test_prob)\n",
    "\n",
    "plt.plot(train_fpr,train_tpr,label = 'Train AUC - ' + str(auc(train_fpr,train_tpr)))\n",
    "plt.plot(test_fpr,test_tpr, label = 'Test AUC - ' + str(auc(test_fpr,test_tpr)))\n",
    "\n",
    "plt.xlabel('FPR')\n",
    "plt.ylabel('TPR')\n",
    "plt.title('ROC error plt')\n",
    "plt.legend()\n",
    "plt.show()\n"
   ]
  },
  {
   "cell_type": "markdown",
   "metadata": {},
   "source": [
    "#### Confusion Matrix using Heatmap"
   ]
  },
  {
   "cell_type": "code",
   "execution_count": 93,
   "metadata": {},
   "outputs": [
    {
     "name": "stdout",
     "output_type": "stream",
     "text": [
      "Confusion matrix of train data\n"
     ]
    },
    {
     "data": {
      "image/png": "[encoded data removed]",
      "text/plain": [
       "<Figure size 432x288 with 2 Axes>"
      ]
     },
     "metadata": {
      "needs_background": "light"
     },
     "output_type": "display_data"
    },
    {
     "name": "stdout",
     "output_type": "stream",
     "text": [
      "Confusion matrix of test data\n"
     ]
    },
    {
     "data": {
      "image/png": "[encoded data removed]",
      "text/plain": [
       "<Figure size 432x288 with 2 Axes>"
      ]
     },
     "metadata": {
      "needs_background": "light"
     },
     "output_type": "display_data"
    }
   ],
   "source": [
    "#confusion matrix using heatmap for train data\n",
    "print('Confusion matrix of train data')\n",
    "cm = confusion_matrix(y_train,clf.predict(x_train))\n",
    "class_labels = ['Positive','Negative']\n",
    "df = pd.DataFrame(cm,index= class_labels, columns= class_labels)\n",
    "sb.heatmap(df, annot= True, fmt = 'd')\n",
    "\n",
    "plt.title('Confusion Matrix')\n",
    "plt.xlabel('Predicted')\n",
    "plt.ylabel('Actual')\n",
    "plt.show()\n",
    "\n",
    "#confusion matrix using heatmap for test data\n",
    "print('Confusion matrix of test data')\n",
    "cm = confusion_matrix(y_test,clf.predict(x_test))\n",
    "class_labels = ['Positive','Negative']\n",
    "df = pd.DataFrame(cm,index= class_labels, columns= class_labels)\n",
    "sb.heatmap(df, annot= True, fmt = 'd')\n",
    "\n",
    "plt.title('Confusion Matrix')\n",
    "plt.xlabel('Predicted')\n",
    "plt.ylabel('Actual')\n",
    "plt.show()\n",
    "\n"
   ]
  },
  {
   "cell_type": "markdown",
   "metadata": {},
   "source": [
    "#### [5.3.4] TFIDF W2v"
   ]
  },
  {
   "cell_type": "code",
   "execution_count": 94,
   "metadata": {},
   "outputs": [],
   "source": [
    "# w2v for train\n",
    "\n",
    "list_of_sentance_train = []\n",
    "for sentance in base_x_train:\n",
    "    list_of_sentance_train.append(sentance.split())\n",
    "\n",
    "w2v_model = Word2Vec(list_of_sentance_train , min_count = 5 ,size = 50, workers = 4)\n",
    "w2v_words = list(w2v_model.wv.vocab)\n",
    "\n",
    "\n",
    "\n",
    "tf_idf_vect = TfidfVectorizer(ngram_range=(1,2),min_df= 10,max_features= 500)\n",
    "tf_idf_matrix = tf_idf_vect.fit_transform(base_x_train)\n",
    "tfidf_feat = tf_idf_vect.get_feature_names()\n",
    "dictionary = dict(zip(tf_idf_vect.get_feature_names(),list(tf_idf_vect.idf_)))\n"
   ]
  },
  {
   "cell_type": "code",
   "execution_count": 95,
   "metadata": {},
   "outputs": [],
   "source": [
    "# Converting Train data text\n",
    "\n",
    "tfidf_sent_vectors_train = []\n",
    "for sent in list_of_sentance_train :\n",
    "    sent_vec = np.zeros(50)\n",
    "    weight_sum = 0;\n",
    "    for word in sent:\n",
    "        if word in w2v_words and word in tfidf_feat:\n",
    "            vec = w2v_model.wv[word]\n",
    "            tf_idf = dictionary[word]*(sent.count(word)/len(sent))\n",
    "            sent_vec+= ( vec * tf_idf )\n",
    "            weight_sum = tf_idf\n",
    "    if weight_sum != 0:\n",
    "        sent_vec/= weight_sum\n",
    "    tfidf_sent_vectors_train.append(sent_vec)\n",
    "    row +=1"
   ]
  },
  {
   "cell_type": "code",
   "execution_count": 96,
   "metadata": {},
   "outputs": [],
   "source": [
    "list_of_sentance_cv = []\n",
    "for sentance in base_x_cv:\n",
    "    list_of_sentance_cv.append(sentance.split())\n",
    "    \n",
    "tfidf_sent_vectors_cv = []\n",
    "row = 0\n",
    "\n",
    "# for sent in tqdm(list_of_sentance_cv):\n",
    "for sent in (list_of_sentance_cv):\n",
    "    \n",
    "    sent_vec = np.zeros(50)\n",
    "    weight_sum = 0\n",
    "    for word in sent:\n",
    "        if word in w2v_words and word in tfidf_feat:\n",
    "            vec = w2v_model.wv[word]\n",
    "            tf_idf = dictionary[word]*(sent.count(word)/len(sent))\n",
    "            sent_vec += (vec * tf_idf)\n",
    "            weight_sum = tf_idf\n",
    "    if weight_sum != 0:\n",
    "        sent_vec /= weight_sum\n",
    "    tfidf_sent_vectors_cv.append(sent_vec)\n",
    "    row += 1"
   ]
  },
  {
   "cell_type": "code",
   "execution_count": 97,
   "metadata": {},
   "outputs": [],
   "source": [
    "#for test data\n",
    "\n",
    "list_of_sentance_test = []\n",
    "for sentance in base_x_test:\n",
    "    list_of_sentance_test.append(sentance.split())\n",
    "    \n",
    "tfidf_sent_vectors_test = []\n",
    "row = 0\n",
    "\n",
    "# for sent in tqdm(list_of_sentance_test):\n",
    "for sent in (list_of_sentance_test):\n",
    "    \n",
    "    sent_vec = np.zeros(50)\n",
    "    weight_sum = 0\n",
    "    for word in sent:\n",
    "        if word in w2v_words and word in tfidf_feat:\n",
    "            vec = w2v_model.wv[word]\n",
    "            tf_idf = dictionary[word]*(sent.count(word)/len(sent))\n",
    "            sent_vec += (vec * tf_idf)\n",
    "            weight_sum = tf_idf\n",
    "    if weight_sum != 0:\n",
    "        sent_vec /= weight_sum\n",
    "    tfidf_sent_vectors_test.append(sent_vec)\n",
    "    row += 1"
   ]
  },
  {
   "cell_type": "code",
   "execution_count": 98,
   "metadata": {
    "scrolled": false
   },
   "outputs": [
    {
     "data": {
      "image/png": "[encoded data removed]",
      "text/plain": [
       "<Figure size 432x288 with 1 Axes>"
      ]
     },
     "metadata": {
      "needs_background": "light"
     },
     "output_type": "display_data"
    },
    {
     "name": "stdout",
     "output_type": "stream",
     "text": [
      "optimal alpha for which auc is max is  1\n"
     ]
    }
   ],
   "source": [
    "x_train = tfidf_sent_vectors_train\n",
    "x_cv = tfidf_sent_vectors_cv\n",
    "x_test = sent_vectors_test\n",
    "\n",
    "alpha = [10**-4, 10**-3, 10**-2, 10**-1, 10**0, 10**1, 10**2, 10**3,10**4] #alpha = 1/C\n",
    "auc_train = []\n",
    "auc_cv = []\n",
    "    \n",
    "for i in alpha :\n",
    "    model = SGDClassifier(alpha = i)# default hinge\n",
    "    clf = CalibratedClassifierCV(model,cv = 3) # caliculation of predict_proba\n",
    "    clf.fit(x_train,y_train)\n",
    "    \n",
    "    prob_cv = clf.predict_proba(x_cv)[:,1]\n",
    "    prob_train  = clf.predict_proba(x_train)[:,1]\n",
    "    \n",
    "    auc_cv.append(roc_auc_score(y_cv,prob_cv))\n",
    "    auc_train.append(roc_auc_score(y_train,prob_train))\n",
    "\n",
    "optimal_alpha = alpha[auc_cv.index(max(auc_cv))]\n",
    "alpha = [math.log(x) for x in alpha] #converting values of alpha into logarithm\n",
    "\n",
    "fig = plt.figure()\n",
    "\n",
    "plt.plot(alpha, auc_train, label = 'AUC Train')\n",
    "plt.scatter(alpha, auc_train, label = 'AUC Train')\n",
    "plt.plot(alpha, auc_cv, label = 'AUC CV')\n",
    "plt.scatter(alpha, auc_cv, label = 'AUC CV')\n",
    "    \n",
    "plt.title('AUC Vs Hyperparameter')\n",
    "plt.xlabel(\"alpha1\")\n",
    "plt.ylabel('AUc')\n",
    "plt.legend()\n",
    "plt.show()\n",
    "\n",
    "print('optimal alpha for which auc is max is ', optimal_alpha)"
   ]
  },
  {
   "cell_type": "markdown",
   "metadata": {},
   "source": [
    "#### Testing with Test data"
   ]
  },
  {
   "cell_type": "code",
   "execution_count": 99,
   "metadata": {},
   "outputs": [],
   "source": [
    "\n",
    "#Train the model with optimal alpha \n",
    "#ROC"
   ]
  },
  {
   "cell_type": "code",
   "execution_count": 100,
   "metadata": {},
   "outputs": [
    {
     "data": {
      "image/png": "[encoded data removed]",
      "text/plain": [
       "<Figure size 432x288 with 1 Axes>"
      ]
     },
     "metadata": {
      "needs_background": "light"
     },
     "output_type": "display_data"
    }
   ],
   "source": [
    "model = SGDClassifier(alpha = optimal_alpha)\n",
    "clf = CalibratedClassifierCV(model, cv = 3)\n",
    "clf.fit(x_train,y_train)\n",
    "\n",
    "train_prob = clf.predict_proba(x_train)[:,1]\n",
    "test_prob = clf.predict_proba(x_test)[:,1]\n",
    "\n",
    "train_fpr,train_tpr, tresholds1 =  metrics.roc_curve(y_train,train_prob)\n",
    "test_fpr,test_tpr,tresholds2 = metrics.roc_curve(y_test,test_prob)\n",
    "\n",
    "plt.plot(train_fpr,train_tpr,label = 'Train AUC - ' + str(auc(train_fpr,train_tpr)))\n",
    "plt.plot(test_fpr,test_tpr, label = 'Test AUC - ' + str(auc(test_fpr,test_tpr)))\n",
    "\n",
    "plt.xlabel('FPR')\n",
    "plt.ylabel('TPR')\n",
    "plt.title('ROC error plt')\n",
    "plt.legend()\n",
    "plt.show()\n"
   ]
  },
  {
   "cell_type": "markdown",
   "metadata": {},
   "source": [
    "#### Confusion Matrix using Heatmap"
   ]
  },
  {
   "cell_type": "code",
   "execution_count": 101,
   "metadata": {
    "scrolled": true
   },
   "outputs": [
    {
     "name": "stdout",
     "output_type": "stream",
     "text": [
      "Confusion matrix of train data\n"
     ]
    },
    {
     "data": {
      "image/png": "[encoded data removed]",
      "text/plain": [
       "<Figure size 432x288 with 2 Axes>"
      ]
     },
     "metadata": {
      "needs_background": "light"
     },
     "output_type": "display_data"
    },
    {
     "name": "stdout",
     "output_type": "stream",
     "text": [
      "Confusion matrix of test data\n"
     ]
    },
    {
     "data": {
      "image/png": "[encoded data removed]",
      "text/plain": [
       "<Figure size 432x288 with 2 Axes>"
      ]
     },
     "metadata": {
      "needs_background": "light"
     },
     "output_type": "display_data"
    }
   ],
   "source": [
    "#confusion matrix using heatmap for train data\n",
    "print('Confusion matrix of train data')\n",
    "cm = confusion_matrix(y_train,clf.predict(x_train))\n",
    "class_labels = ['Positive','Negative']\n",
    "df = pd.DataFrame(cm,index= class_labels, columns= class_labels)\n",
    "sb.heatmap(df, annot= True, fmt = 'd')\n",
    "\n",
    "plt.title('Confusion Matrix')\n",
    "plt.xlabel('Predicted')\n",
    "plt.ylabel('Actual')\n",
    "plt.show()\n",
    "\n",
    "#confusion matrix using heatmap for test data\n",
    "print('Confusion matrix of test data')\n",
    "cm = confusion_matrix(y_test,clf.predict(x_test))\n",
    "class_labels = ['Positive','Negative']\n",
    "df = pd.DataFrame(cm,index= class_labels, columns= class_labels)\n",
    "sb.heatmap(df, annot= True, fmt = 'd')\n",
    "\n",
    "plt.title('Confusion Matrix')\n",
    "plt.xlabel('Predicted')\n",
    "plt.ylabel('Actual')\n",
    "plt.show()\n",
    "\n"
   ]
  },
  {
   "cell_type": "markdown",
   "metadata": {},
   "source": [
    "# [6] Conclusions"
   ]
  },
  {
   "cell_type": "code",
   "execution_count": 103,
   "metadata": {
    "scrolled": false
   },
   "outputs": [
    {
     "name": "stdout",
     "output_type": "stream",
     "text": [
      "+------------+------------+---------------------+--------------------+------+\n",
      "| Vectorizer | Linear/RBF | Feature engineering | Hyperameter(alpha) | AUC  |\n",
      "+------------+------------+---------------------+--------------------+------+\n",
      "|    BOW     |   linear   |     Not featured    |        0.1         | 0.87 |\n",
      "|   TFIDF    |   linear   |     Not featured    |         1          | 0.93 |\n",
      "|  Avg W2v   |   linear   |     Not featured    |        0.01        | 0.86 |\n",
      "| TFIDF W2v  |   linear   |     Not featured    |       0.001        | 0.73 |\n",
      "|    BOW     |    RBF     |     Not featured    |         1          | 0.89 |\n",
      "|   TFIDF    |    RBF     |     Not featured    |         10         | 0.9  |\n",
      "|  Avg W2v   |    RBF     |     Not featured    |         10         | 0.88 |\n",
      "| TFIDF W2v  |    RBF     |     Not featured    |        100         | 0.62 |\n",
      "|    BOW     |   linear   |       featured      |         1          | 0.92 |\n",
      "|   TFIDF    |   linear   |       featured      |        0.01        | 0.94 |\n",
      "|  Avg W2v   |   linear   |       featured      |        0.01        | 0.89 |\n",
      "| TFIDF W2v  |   linear   |       featured      |         1          | 0.77 |\n",
      "+------------+------------+---------------------+--------------------+------+\n"
     ]
    }
   ],
   "source": [
    "# Please compare all your models using Prettytable library\n",
    "from prettytable import PrettyTable    \n",
    "x = PrettyTable()\n",
    "x.field_names = [\"Vectorizer\",\"Linear/RBF\", \"Feature engineering\", \"Hyperameter(alpha)\", \"AUC\"]\n",
    "x.add_row([\"BOW\",\"linear\",\"Not featured\",0.1,0.87])\n",
    "x.add_row([\"TFIDF\",\"linear\",\"Not featured\",1,0.93])\n",
    "x.add_row([\"Avg W2v\",\"linear\",\"Not featured\",0.01,0.86])\n",
    "x.add_row([\"TFIDF W2v\",\"linear\",\"Not featured\",0.001,0.73])\n",
    "x.add_row([\"BOW\",\"RBF\",\"Not featured\",1,0.89])\n",
    "x.add_row([\"TFIDF\",\"RBF\",\"Not featured\",10,0.90])\n",
    "x.add_row([\"Avg W2v\",\"RBF\",\"Not featured\",10,0.88])\n",
    "x.add_row([\"TFIDF W2v\",\"RBF\",\"Not featured\",100,0.62])\n",
    "\n",
    "x.add_row([\"BOW\",\"linear\",\"featured\",1,0.92])\n",
    "x.add_row([\"TFIDF\",\"linear\",\"featured\",0.01,0.94])\n",
    "x.add_row([\"Avg W2v\",\"linear\",\"featured\",0.01,0.89])\n",
    "x.add_row([\"TFIDF W2v\",\"linear\",\"featured\",1,0.77])\n",
    "print(x)"
   ]
  },
  {
   "cell_type": "markdown",
   "metadata": {},
   "source": [
    "Procedure and Observation:-\n",
    "\n",
    "1) Applied linear SVM using SGD Classifier with hinge loss.\n",
    "\n",
    "2) Used own for loop to find the bes auc with alpha values from 10^-4 to 10^4.\n",
    "\n",
    "3) For RBF SVM used the sklearn SVC with 40k points.\n",
    "\n",
    "4) Applied some feature engineering - added summary and length of review to preprocessed reviews.\n"
   ]
  }
 ],
 "metadata": {
  "kernelspec": {
   "display_name": "Python 3",
   "language": "python",
   "name": "python3"
  },
  "language_info": {
   "codemirror_mode": {
    "name": "ipython",
    "version": 3
   },
   "file_extension": ".py",
   "mimetype": "text/x-python",
   "name": "python",
   "nbconvert_exporter": "python",
   "pygments_lexer": "ipython3",
   "version": "3.7.0"
  }
 },
 "nbformat": 4,
 "nbformat_minor": 2
}
