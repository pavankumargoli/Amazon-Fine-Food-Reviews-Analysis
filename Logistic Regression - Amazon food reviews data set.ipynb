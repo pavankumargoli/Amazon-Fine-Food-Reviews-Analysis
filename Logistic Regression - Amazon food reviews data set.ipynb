{
 "cells": [
  {
   "cell_type": "markdown",
   "metadata": {},
   "source": [
    "# Amazon Fine Food Reviews Analysis\n",
    "\n",
    "\n",
    "Data Source: https://www.kaggle.com/snap/amazon-fine-food-reviews <br>\n",
    "\n",
    "EDA: https://nycdatascience.com/blog/student-works/amazon-fine-foods-visualization/\n",
    "\n",
    "\n",
    "The Amazon Fine Food Reviews dataset consists of reviews of fine foods from Amazon.<br>\n",
    "\n",
    "Number of reviews: 568,454<br>\n",
    "Number of users: 256,059<br>\n",
    "Number of products: 74,258<br>\n",
    "Timespan: Oct 1999 - Oct 2012<br>\n",
    "Number of Attributes/Columns in data: 10 \n",
    "\n",
    "Attribute Information:\n",
    "\n",
    "1. Id\n",
    "2. ProductId - unique identifier for the product\n",
    "3. UserId - unqiue identifier for the user\n",
    "4. ProfileName\n",
    "5. HelpfulnessNumerator - number of users who found the review helpful\n",
    "6. HelpfulnessDenominator - number of users who indicated whether they found the review helpful or not\n",
    "7. Score - rating between 1 and 5\n",
    "8. Time - timestamp for the review\n",
    "9. Summary - brief summary of the review\n",
    "10. Text - text of the review\n",
    "\n",
    "\n",
    "#### Objective:\n",
    "Given a review, determine whether the review is positive (Rating of 4 or 5) or negative (rating of 1 or 2).\n",
    "\n",
    "<br>\n",
    "[Q] How to determine if a review is positive or negative?<br>\n",
    "<br> \n",
    "[Ans] We could use the Score/Rating. A rating of 4 or 5 could be cosnidered a positive review. A review of 1 or 2 could be considered negative. A review of 3 is nuetral and ignored. This is an approximate and proxy way of determining the polarity (positivity/negativity) of a review.\n",
    "\n",
    "\n"
   ]
  },
  {
   "cell_type": "markdown",
   "metadata": {},
   "source": [
    "## Loading the data\n",
    "\n",
    "The dataset is available in two forms\n",
    "1. .csv file\n",
    "2. SQLite Database\n",
    "\n",
    "In order to load the data, We have used the SQLITE dataset as it easier to query the data and visualise the data efficiently.\n",
    "<br> \n",
    "\n",
    "Here as we only want to get the global sentiment of the recommendations (positive or negative), we will purposefully ignore all Scores equal to 3. If the score id above 3, then the recommendation wil be set to \"positive\". Otherwise, it will be set to \"negative\"."
   ]
  },
  {
   "cell_type": "code",
   "execution_count": 1,
   "metadata": {},
   "outputs": [
    {
     "name": "stderr",
     "output_type": "stream",
     "text": [
      "C:\\ProgramData\\Anaconda3\\lib\\site-packages\\gensim\\utils.py:1197: UserWarning: detected Windows; aliasing chunkize to chunkize_serial\n",
      "  warnings.warn(\"detected Windows; aliasing chunkize to chunkize_serial\")\n"
     ]
    }
   ],
   "source": [
    "%matplotlib inline\n",
    "import warnings\n",
    "warnings.filterwarnings('ignore')\n",
    "\n",
    "import os\n",
    "import re\n",
    "import sqlite3\n",
    "import pandas as pd\n",
    "import numpy as np\n",
    "import nltk\n",
    "import string\n",
    "import matplotlib.pyplot as plt\n",
    "import seaborn as sb\n",
    "import pickle\n",
    "\n",
    "from sklearn import metrics\n",
    "from sklearn.feature_extraction.text import TfidfTransformer\n",
    "from sklearn.feature_extraction.text import TfidfVectorizer\n",
    "from sklearn.feature_extraction.text import CountVectorizer\n",
    "\n",
    "from sklearn.metrics import confusion_matrix\n",
    "from sklearn.metrics import roc_curve,auc\n",
    "\n",
    "from nltk.stem.porter import PorterStemmer\n",
    "from nltk.corpus import stopwords\n",
    "from nltk.stem.wordnet import WordNetLemmatizer\n",
    "from nltk.stem import PorterStemmer\n",
    "\n",
    "from gensim.models import Word2Vec\n",
    "from gensim.models import KeyedVectors\n",
    "\n",
    "from sklearn.preprocessing import StandardScaler \n",
    "#TSNE\n",
    "from sklearn.manifold import TSNE\n",
    "from bs4 import BeautifulSoup\n"
   ]
  },
  {
   "cell_type": "code",
   "execution_count": 2,
   "metadata": {},
   "outputs": [],
   "source": [
    "# Temporarily Suppressing Warnings\n",
    "def fxn():\n",
    "    warnings.warn(\"deprecated\", DeprecationWarning)\n",
    "\n",
    "with warnings.catch_warnings():\n",
    "    warnings.simplefilter(\"ignore\")\n",
    "    fxn()"
   ]
  },
  {
   "cell_type": "markdown",
   "metadata": {},
   "source": [
    "# [1]. Reading Data"
   ]
  },
  {
   "cell_type": "code",
   "execution_count": 3,
   "metadata": {},
   "outputs": [
    {
     "name": "stdout",
     "output_type": "stream",
     "text": [
      "Number of data point in our data (100000, 10)\n"
     ]
    },
    {
     "data": {
      "text/html": [
       "<div>\n",
       "<style scoped>\n",
       "    .dataframe tbody tr th:only-of-type {\n",
       "        vertical-align: middle;\n",
       "    }\n",
       "\n",
       "    .dataframe tbody tr th {\n",
       "        vertical-align: top;\n",
       "    }\n",
       "\n",
       "    .dataframe thead th {\n",
       "        text-align: right;\n",
       "    }\n",
       "</style>\n",
       "<table border=\"1\" class=\"dataframe\">\n",
       "  <thead>\n",
       "    <tr style=\"text-align: right;\">\n",
       "      <th></th>\n",
       "      <th>Id</th>\n",
       "      <th>ProductId</th>\n",
       "      <th>UserId</th>\n",
       "      <th>ProfileName</th>\n",
       "      <th>HelpfulnessNumerator</th>\n",
       "      <th>HelpfulnessDenominator</th>\n",
       "      <th>Score</th>\n",
       "      <th>Time</th>\n",
       "      <th>Summary</th>\n",
       "      <th>Text</th>\n",
       "    </tr>\n",
       "  </thead>\n",
       "  <tbody>\n",
       "    <tr>\n",
       "      <th>0</th>\n",
       "      <td>1</td>\n",
       "      <td>B001E4KFG0</td>\n",
       "      <td>A3SGXH7AUHU8GW</td>\n",
       "      <td>delmartian</td>\n",
       "      <td>1</td>\n",
       "      <td>1</td>\n",
       "      <td>1</td>\n",
       "      <td>1303862400</td>\n",
       "      <td>Good Quality Dog Food</td>\n",
       "      <td>I have bought several of the Vitality canned d...</td>\n",
       "    </tr>\n",
       "    <tr>\n",
       "      <th>1</th>\n",
       "      <td>2</td>\n",
       "      <td>B00813GRG4</td>\n",
       "      <td>A1D87F6ZCVE5NK</td>\n",
       "      <td>dll pa</td>\n",
       "      <td>0</td>\n",
       "      <td>0</td>\n",
       "      <td>0</td>\n",
       "      <td>1346976000</td>\n",
       "      <td>Not as Advertised</td>\n",
       "      <td>Product arrived labeled as Jumbo Salted Peanut...</td>\n",
       "    </tr>\n",
       "    <tr>\n",
       "      <th>2</th>\n",
       "      <td>3</td>\n",
       "      <td>B000LQOCH0</td>\n",
       "      <td>ABXLMWJIXXAIN</td>\n",
       "      <td>Natalia Corres \"Natalia Corres\"</td>\n",
       "      <td>1</td>\n",
       "      <td>1</td>\n",
       "      <td>1</td>\n",
       "      <td>1219017600</td>\n",
       "      <td>\"Delight\" says it all</td>\n",
       "      <td>This is a confection that has been around a fe...</td>\n",
       "    </tr>\n",
       "    <tr>\n",
       "      <th>3</th>\n",
       "      <td>4</td>\n",
       "      <td>B000UA0QIQ</td>\n",
       "      <td>A395BORC6FGVXV</td>\n",
       "      <td>Karl</td>\n",
       "      <td>3</td>\n",
       "      <td>3</td>\n",
       "      <td>0</td>\n",
       "      <td>1307923200</td>\n",
       "      <td>Cough Medicine</td>\n",
       "      <td>If you are looking for the secret ingredient i...</td>\n",
       "    </tr>\n",
       "    <tr>\n",
       "      <th>4</th>\n",
       "      <td>5</td>\n",
       "      <td>B006K2ZZ7K</td>\n",
       "      <td>A1UQRSCLF8GW1T</td>\n",
       "      <td>Michael D. Bigham \"M. Wassir\"</td>\n",
       "      <td>0</td>\n",
       "      <td>0</td>\n",
       "      <td>1</td>\n",
       "      <td>1350777600</td>\n",
       "      <td>Great taffy</td>\n",
       "      <td>Great taffy at a great price.  There was a wid...</td>\n",
       "    </tr>\n",
       "  </tbody>\n",
       "</table>\n",
       "</div>"
      ],
      "text/plain": [
       "   Id   ProductId          UserId                      ProfileName  \\\n",
       "0   1  B001E4KFG0  A3SGXH7AUHU8GW                       delmartian   \n",
       "1   2  B00813GRG4  A1D87F6ZCVE5NK                           dll pa   \n",
       "2   3  B000LQOCH0   ABXLMWJIXXAIN  Natalia Corres \"Natalia Corres\"   \n",
       "3   4  B000UA0QIQ  A395BORC6FGVXV                             Karl   \n",
       "4   5  B006K2ZZ7K  A1UQRSCLF8GW1T    Michael D. Bigham \"M. Wassir\"   \n",
       "\n",
       "   HelpfulnessNumerator  HelpfulnessDenominator  Score        Time  \\\n",
       "0                     1                       1      1  1303862400   \n",
       "1                     0                       0      0  1346976000   \n",
       "2                     1                       1      1  1219017600   \n",
       "3                     3                       3      0  1307923200   \n",
       "4                     0                       0      1  1350777600   \n",
       "\n",
       "                 Summary                                               Text  \n",
       "0  Good Quality Dog Food  I have bought several of the Vitality canned d...  \n",
       "1      Not as Advertised  Product arrived labeled as Jumbo Salted Peanut...  \n",
       "2  \"Delight\" says it all  This is a confection that has been around a fe...  \n",
       "3         Cough Medicine  If you are looking for the secret ingredient i...  \n",
       "4            Great taffy  Great taffy at a great price.  There was a wid...  "
      ]
     },
     "execution_count": 3,
     "metadata": {},
     "output_type": "execute_result"
    }
   ],
   "source": [
    "# using the SQLite Table to read data.\n",
    "# con = sqlite3.connect('./amazon-fine-food-reviews/database.sqlite')\n",
    "\n",
    "con = sqlite3.connect('C:/Users/Saraswathi/Music/Appliedai/Data/amazon-fine-food-reviews/database.sqlite')\n",
    "\n",
    "#filetering only positve and negative reviews\n",
    "#reviews not taking in to consideration with score = 3\n",
    "\n",
    "filtered_data = pd.read_sql_query(\"\"\" SELECT * FROM Reviews WHERE Score != 3 LIMIT 100000\"\"\", con) \n",
    "\n",
    "# Give reviews with Score>3 a positive rating, and reviews with a score<3 a negative rating.\n",
    "def partition( x ):\n",
    "    if x > 3:\n",
    "        return 1 #positive\n",
    "#         return 1\n",
    "    else:\n",
    "        return 0 #negative\n",
    "\n",
    "#changing reviews with score less than 3 to be positive and vice versa\n",
    "actual_score = filtered_data['Score']\n",
    "positivenegative = actual_score.map(partition)\n",
    "filtered_data['Score']=positivenegative\n",
    "print('Number of data point in our data',filtered_data.shape)\n",
    "filtered_data.head(5)    "
   ]
  },
  {
   "cell_type": "markdown",
   "metadata": {},
   "source": [
    "#  Exploratory Data Analysis\n",
    "\n",
    "## [2] Data Cleaning: Deduplication\n",
    "It is observed (as shown in the table below) that the reviews data had many duplicate entries. Hence it was necessary to remove duplicates in order to get unbiased results for the analysis of the data.  Following is an example:"
   ]
  },
  {
   "cell_type": "code",
   "execution_count": 4,
   "metadata": {},
   "outputs": [],
   "source": [
    "display = pd.read_sql_query(\"\"\"\n",
    "SELECT * FROM Reviews\n",
    "WHERE Score != 3 AND UserId=\"AR5J8UI46CURR\"\n",
    "ORDER BY ProductID\n",
    "\"\"\",con)"
   ]
  },
  {
   "cell_type": "code",
   "execution_count": 5,
   "metadata": {},
   "outputs": [
    {
     "data": {
      "text/html": [
       "<div>\n",
       "<style scoped>\n",
       "    .dataframe tbody tr th:only-of-type {\n",
       "        vertical-align: middle;\n",
       "    }\n",
       "\n",
       "    .dataframe tbody tr th {\n",
       "        vertical-align: top;\n",
       "    }\n",
       "\n",
       "    .dataframe thead th {\n",
       "        text-align: right;\n",
       "    }\n",
       "</style>\n",
       "<table border=\"1\" class=\"dataframe\">\n",
       "  <thead>\n",
       "    <tr style=\"text-align: right;\">\n",
       "      <th></th>\n",
       "      <th>Id</th>\n",
       "      <th>ProductId</th>\n",
       "      <th>UserId</th>\n",
       "      <th>ProfileName</th>\n",
       "      <th>HelpfulnessNumerator</th>\n",
       "      <th>HelpfulnessDenominator</th>\n",
       "      <th>Score</th>\n",
       "      <th>Time</th>\n",
       "      <th>Summary</th>\n",
       "      <th>Text</th>\n",
       "    </tr>\n",
       "  </thead>\n",
       "  <tbody>\n",
       "    <tr>\n",
       "      <th>0</th>\n",
       "      <td>78445</td>\n",
       "      <td>B000HDL1RQ</td>\n",
       "      <td>AR5J8UI46CURR</td>\n",
       "      <td>Geetha Krishnan</td>\n",
       "      <td>2</td>\n",
       "      <td>2</td>\n",
       "      <td>5</td>\n",
       "      <td>1199577600</td>\n",
       "      <td>LOACKER QUADRATINI VANILLA WAFERS</td>\n",
       "      <td>DELICIOUS WAFERS. I FIND THAT EUROPEAN WAFERS ...</td>\n",
       "    </tr>\n",
       "    <tr>\n",
       "      <th>1</th>\n",
       "      <td>138317</td>\n",
       "      <td>B000HDOPYC</td>\n",
       "      <td>AR5J8UI46CURR</td>\n",
       "      <td>Geetha Krishnan</td>\n",
       "      <td>2</td>\n",
       "      <td>2</td>\n",
       "      <td>5</td>\n",
       "      <td>1199577600</td>\n",
       "      <td>LOACKER QUADRATINI VANILLA WAFERS</td>\n",
       "      <td>DELICIOUS WAFERS. I FIND THAT EUROPEAN WAFERS ...</td>\n",
       "    </tr>\n",
       "    <tr>\n",
       "      <th>2</th>\n",
       "      <td>138277</td>\n",
       "      <td>B000HDOPYM</td>\n",
       "      <td>AR5J8UI46CURR</td>\n",
       "      <td>Geetha Krishnan</td>\n",
       "      <td>2</td>\n",
       "      <td>2</td>\n",
       "      <td>5</td>\n",
       "      <td>1199577600</td>\n",
       "      <td>LOACKER QUADRATINI VANILLA WAFERS</td>\n",
       "      <td>DELICIOUS WAFERS. I FIND THAT EUROPEAN WAFERS ...</td>\n",
       "    </tr>\n",
       "    <tr>\n",
       "      <th>3</th>\n",
       "      <td>73791</td>\n",
       "      <td>B000HDOPZG</td>\n",
       "      <td>AR5J8UI46CURR</td>\n",
       "      <td>Geetha Krishnan</td>\n",
       "      <td>2</td>\n",
       "      <td>2</td>\n",
       "      <td>5</td>\n",
       "      <td>1199577600</td>\n",
       "      <td>LOACKER QUADRATINI VANILLA WAFERS</td>\n",
       "      <td>DELICIOUS WAFERS. I FIND THAT EUROPEAN WAFERS ...</td>\n",
       "    </tr>\n",
       "    <tr>\n",
       "      <th>4</th>\n",
       "      <td>155049</td>\n",
       "      <td>B000PAQ75C</td>\n",
       "      <td>AR5J8UI46CURR</td>\n",
       "      <td>Geetha Krishnan</td>\n",
       "      <td>2</td>\n",
       "      <td>2</td>\n",
       "      <td>5</td>\n",
       "      <td>1199577600</td>\n",
       "      <td>LOACKER QUADRATINI VANILLA WAFERS</td>\n",
       "      <td>DELICIOUS WAFERS. I FIND THAT EUROPEAN WAFERS ...</td>\n",
       "    </tr>\n",
       "  </tbody>\n",
       "</table>\n",
       "</div>"
      ],
      "text/plain": [
       "       Id   ProductId         UserId      ProfileName  HelpfulnessNumerator  \\\n",
       "0   78445  B000HDL1RQ  AR5J8UI46CURR  Geetha Krishnan                     2   \n",
       "1  138317  B000HDOPYC  AR5J8UI46CURR  Geetha Krishnan                     2   \n",
       "2  138277  B000HDOPYM  AR5J8UI46CURR  Geetha Krishnan                     2   \n",
       "3   73791  B000HDOPZG  AR5J8UI46CURR  Geetha Krishnan                     2   \n",
       "4  155049  B000PAQ75C  AR5J8UI46CURR  Geetha Krishnan                     2   \n",
       "\n",
       "   HelpfulnessDenominator  Score        Time  \\\n",
       "0                       2      5  1199577600   \n",
       "1                       2      5  1199577600   \n",
       "2                       2      5  1199577600   \n",
       "3                       2      5  1199577600   \n",
       "4                       2      5  1199577600   \n",
       "\n",
       "                             Summary  \\\n",
       "0  LOACKER QUADRATINI VANILLA WAFERS   \n",
       "1  LOACKER QUADRATINI VANILLA WAFERS   \n",
       "2  LOACKER QUADRATINI VANILLA WAFERS   \n",
       "3  LOACKER QUADRATINI VANILLA WAFERS   \n",
       "4  LOACKER QUADRATINI VANILLA WAFERS   \n",
       "\n",
       "                                                Text  \n",
       "0  DELICIOUS WAFERS. I FIND THAT EUROPEAN WAFERS ...  \n",
       "1  DELICIOUS WAFERS. I FIND THAT EUROPEAN WAFERS ...  \n",
       "2  DELICIOUS WAFERS. I FIND THAT EUROPEAN WAFERS ...  \n",
       "3  DELICIOUS WAFERS. I FIND THAT EUROPEAN WAFERS ...  \n",
       "4  DELICIOUS WAFERS. I FIND THAT EUROPEAN WAFERS ...  "
      ]
     },
     "execution_count": 5,
     "metadata": {},
     "output_type": "execute_result"
    }
   ],
   "source": [
    "display.head()"
   ]
  },
  {
   "cell_type": "markdown",
   "metadata": {},
   "source": [
    "As can be seen above the same user has multiple reviews of the with the same values for HelpfulnessNumerator, HelpfulnessDenominator, Score, Time, Summary and Text and on doing analysis it was found that \n",
    "\n",
    "ProductId=B000HDOPZG was Loacker Quadratini Vanilla Wafer Cookies, 8.82-Ounce Packages (Pack of 8)\n",
    "\n",
    "ProductId=B000HDL1RQ was Loacker Quadratini Lemon Wafer Cookies, 8.82-Ounce Packages (Pack of 8) and so on\n",
    "\n",
    "It was inferred after analysis that reviews with same parameters other than ProductId belonged to the same product just having different flavour or quantity. Hence in order to reduce redundancy it was decided to eliminate the rows having same parameters.\n",
    "\n",
    "The method used for the same was that we first sort the data according to ProductId and then just keep the first similar product review and delelte the others. for eg. in the above just the review for ProductId=B000HDL1RQ remains. This method ensures that there is only one representative for each product and deduplication without sorting would lead to possibility of different representatives still existing for the same product."
   ]
  },
  {
   "cell_type": "code",
   "execution_count": 6,
   "metadata": {},
   "outputs": [],
   "source": [
    "#Sorting data according to ProductId in ascending order\n",
    "sorted_data = filtered_data.sort_values('ProductId',axis=0,ascending= True, inplace=False, kind ='quicksort',na_position='last')"
   ]
  },
  {
   "cell_type": "code",
   "execution_count": 7,
   "metadata": {},
   "outputs": [
    {
     "data": {
      "text/plain": [
       "(87775, 10)"
      ]
     },
     "execution_count": 7,
     "metadata": {},
     "output_type": "execute_result"
    }
   ],
   "source": [
    "#Duplication of entries\n",
    "final = sorted_data.drop_duplicates(subset={'UserId','ProfileName','Time','Text'}, keep = 'first' , inplace= False)\n",
    "final.shape"
   ]
  },
  {
   "cell_type": "code",
   "execution_count": 8,
   "metadata": {},
   "outputs": [
    {
     "data": {
      "text/plain": [
       "87.775"
      ]
     },
     "execution_count": 8,
     "metadata": {},
     "output_type": "execute_result"
    }
   ],
   "source": [
    "#Checking to see how much % of data still remains\n",
    "(final['Id'].size*1.0)/(filtered_data['Id'].size*1.0)*100"
   ]
  },
  {
   "cell_type": "markdown",
   "metadata": {},
   "source": [
    "Observation:- It was also seen that in two rows given below the value of HelpfulnessNumerator is greater than HelpfulnessDenominator which is not practically possible hence these two rows too are removed from calcualtions\n",
    "    "
   ]
  },
  {
   "cell_type": "code",
   "execution_count": 9,
   "metadata": {},
   "outputs": [
    {
     "data": {
      "text/html": [
       "<div>\n",
       "<style scoped>\n",
       "    .dataframe tbody tr th:only-of-type {\n",
       "        vertical-align: middle;\n",
       "    }\n",
       "\n",
       "    .dataframe tbody tr th {\n",
       "        vertical-align: top;\n",
       "    }\n",
       "\n",
       "    .dataframe thead th {\n",
       "        text-align: right;\n",
       "    }\n",
       "</style>\n",
       "<table border=\"1\" class=\"dataframe\">\n",
       "  <thead>\n",
       "    <tr style=\"text-align: right;\">\n",
       "      <th></th>\n",
       "      <th>Id</th>\n",
       "      <th>ProductId</th>\n",
       "      <th>UserId</th>\n",
       "      <th>ProfileName</th>\n",
       "      <th>HelpfulnessNumerator</th>\n",
       "      <th>HelpfulnessDenominator</th>\n",
       "      <th>Score</th>\n",
       "      <th>Time</th>\n",
       "      <th>Summary</th>\n",
       "      <th>Text</th>\n",
       "    </tr>\n",
       "  </thead>\n",
       "  <tbody>\n",
       "    <tr>\n",
       "      <th>0</th>\n",
       "      <td>64422</td>\n",
       "      <td>B000MIDROQ</td>\n",
       "      <td>A161DK06JJMCYF</td>\n",
       "      <td>J. E. Stephens \"Jeanne\"</td>\n",
       "      <td>3</td>\n",
       "      <td>1</td>\n",
       "      <td>5</td>\n",
       "      <td>1224892800</td>\n",
       "      <td>Bought This for My Son at College</td>\n",
       "      <td>My son loves spaghetti so I didn't hesitate or...</td>\n",
       "    </tr>\n",
       "    <tr>\n",
       "      <th>1</th>\n",
       "      <td>44737</td>\n",
       "      <td>B001EQ55RW</td>\n",
       "      <td>A2V0I904FH7ABY</td>\n",
       "      <td>Ram</td>\n",
       "      <td>3</td>\n",
       "      <td>2</td>\n",
       "      <td>4</td>\n",
       "      <td>1212883200</td>\n",
       "      <td>Pure cocoa taste with crunchy almonds inside</td>\n",
       "      <td>It was almost a 'love at first bite' - the per...</td>\n",
       "    </tr>\n",
       "  </tbody>\n",
       "</table>\n",
       "</div>"
      ],
      "text/plain": [
       "      Id   ProductId          UserId              ProfileName  \\\n",
       "0  64422  B000MIDROQ  A161DK06JJMCYF  J. E. Stephens \"Jeanne\"   \n",
       "1  44737  B001EQ55RW  A2V0I904FH7ABY                      Ram   \n",
       "\n",
       "   HelpfulnessNumerator  HelpfulnessDenominator  Score        Time  \\\n",
       "0                     3                       1      5  1224892800   \n",
       "1                     3                       2      4  1212883200   \n",
       "\n",
       "                                        Summary  \\\n",
       "0             Bought This for My Son at College   \n",
       "1  Pure cocoa taste with crunchy almonds inside   \n",
       "\n",
       "                                                Text  \n",
       "0  My son loves spaghetti so I didn't hesitate or...  \n",
       "1  It was almost a 'love at first bite' - the per...  "
      ]
     },
     "execution_count": 9,
     "metadata": {},
     "output_type": "execute_result"
    }
   ],
   "source": [
    "display = pd.read_sql_query(\"\"\"\n",
    "SELECt * \n",
    "FROM Reviews\n",
    "WHERE Score !=3 AND Id=44737 OR Id=64422\n",
    "ORDER BY ProductId\n",
    "\"\"\",con)\n",
    "display.head()"
   ]
  },
  {
   "cell_type": "code",
   "execution_count": 10,
   "metadata": {},
   "outputs": [],
   "source": [
    "final = final[final.HelpfulnessNumerator <= final.HelpfulnessDenominator]"
   ]
  },
  {
   "cell_type": "code",
   "execution_count": 11,
   "metadata": {},
   "outputs": [
    {
     "data": {
      "text/plain": [
       "1    73592\n",
       "0    14181\n",
       "Name: Score, dtype: int64"
      ]
     },
     "execution_count": 11,
     "metadata": {},
     "output_type": "execute_result"
    }
   ],
   "source": [
    "final.shape\n",
    "final['Score'].value_counts()"
   ]
  },
  {
   "cell_type": "markdown",
   "metadata": {},
   "source": [
    "# Text Preprocessing.\n",
    "\n",
    "Now that we have finished deduplication our data requires some preprocessing before we go on further with analysis and making the prediction model.\n",
    "\n",
    "Hence in the Preprocessing phase we do the following in the order below:-\n",
    "\n",
    "1. Begin by removing the html tags\n",
    "2. Remove any punctuations or limited set of special characters like , or . or # etc.\n",
    "3. Check if the word is made up of english letters and is not alpha-numeric\n",
    "4. Check to see if the length of the word is greater than 2 (as it was researched that there is no adjective in 2-letters)\n",
    "5. Convert the word to lowercase\n",
    "6. Remove Stopwords\n",
    "7. Finally Snowball Stemming the word (it was obsereved to be better than Porter Stemming)<br>\n",
    "\n",
    "After which we collect the words used to describe positive and negative reviews"
   ]
  },
  {
   "cell_type": "code",
   "execution_count": 12,
   "metadata": {},
   "outputs": [],
   "source": [
    "def decontracted(phrase):\n",
    "    # specific\n",
    "    phrase = re.sub(r\"won't\", \"will not\", phrase)\n",
    "    phrase = re.sub(r\"can\\'t\", \"can not\", phrase)\n",
    "\n",
    "    # general\n",
    "    phrase = re.sub(r\"n\\'t\", \" not\", phrase)\n",
    "    phrase = re.sub(r\"\\'re\", \" are\", phrase)\n",
    "    phrase = re.sub(r\"\\'s\", \" is\", phrase)\n",
    "    phrase = re.sub(r\"\\'d\", \" would\", phrase)\n",
    "    phrase = re.sub(r\"\\'ll\", \" will\", phrase)\n",
    "    phrase = re.sub(r\"\\'t\", \" not\", phrase)\n",
    "    phrase = re.sub(r\"\\'ve\", \" have\", phrase)\n",
    "    phrase = re.sub(r\"\\'m\", \" am\", phrase)\n",
    "    return phrase"
   ]
  },
  {
   "cell_type": "code",
   "execution_count": 13,
   "metadata": {},
   "outputs": [],
   "source": [
    "stopwords= set(['br', 'the', 'i', 'me', 'my', 'myself', 'we', 'our', 'ours', 'ourselves', 'you', \"you're\", \"you've\",\\\n",
    "            \"you'll\", \"you'd\", 'your', 'yours', 'yourself', 'yourselves', 'he', 'him', 'his', 'himself', \\\n",
    "            'she', \"she's\", 'her', 'hers', 'herself', 'it', \"it's\", 'its', 'itself', 'they', 'them', 'their',\\\n",
    "            'theirs', 'themselves', 'what', 'which', 'who', 'whom', 'this', 'that', \"that'll\", 'these', 'those', \\\n",
    "            'am', 'is', 'are', 'was', 'were', 'be', 'been', 'being', 'have', 'has', 'had', 'having', 'do', 'does', \\\n",
    "            'did', 'doing', 'a', 'an', 'the', 'and', 'but', 'if', 'or', 'because', 'as', 'until', 'while', 'of', \\\n",
    "            'at', 'by', 'for', 'with', 'about', 'against', 'between', 'into', 'through', 'during', 'before', 'after',\\\n",
    "            'above', 'below', 'to', 'from', 'up', 'down', 'in', 'out', 'on', 'off', 'over', 'under', 'again', 'further',\\\n",
    "            'then', 'once', 'here', 'there', 'when', 'where', 'why', 'how', 'all', 'any', 'both', 'each', 'few', 'more',\\\n",
    "            'most', 'other', 'some', 'such', 'only', 'own', 'same', 'so', 'than', 'too', 'very', \\\n",
    "            's', 't', 'can', 'will', 'just', 'don', \"don't\", 'should', \"should've\", 'now', 'd', 'll', 'm', 'o', 're', \\\n",
    "            've', 'y', 'ain', 'aren', \"aren't\", 'couldn', \"couldn't\", 'didn', \"didn't\", 'doesn', \"doesn't\", 'hadn',\\\n",
    "            \"hadn't\", 'hasn', \"hasn't\", 'haven', \"haven't\", 'isn', \"isn't\", 'ma', 'mightn', \"mightn't\", 'mustn',\\\n",
    "            \"mustn't\", 'needn', \"needn't\", 'shan', \"shan't\", 'shouldn', \"shouldn't\", 'wasn', \"wasn't\", 'weren', \"weren't\", \\\n",
    "            'won', \"won't\", 'wouldn', \"wouldn't\"])"
   ]
  },
  {
   "cell_type": "code",
   "execution_count": 14,
   "metadata": {},
   "outputs": [],
   "source": [
    "# Combining all the above stundents \n",
    "from tqdm import tqdm\n",
    "preprocessed_reviews = []\n",
    "# tqdm is for printing the status bar\n",
    "# for sentance in tqdm(final['Text'].values):\n",
    "for sentance in final['Text'].values:\n",
    "    sentance = re.sub(r\"http\\S+\",\"\",sentance)\n",
    "    sentance = BeautifulSoup(sentance,'lxml').get_text()\n",
    "    sentance = decontracted(sentance)\n",
    "    sentance = re.sub(\"\\S*\\d\\S*\",\"\",sentance).strip()\n",
    "    sentance = re.sub('[^A-Za-z]+',' ',sentance)\n",
    "    sentance = ' '.join(e.lower() for e in sentance.split() if e.lower() not in stopwords)  \n",
    "    preprocessed_reviews.append(sentance.strip())"
   ]
  },
  {
   "cell_type": "code",
   "execution_count": 15,
   "metadata": {},
   "outputs": [],
   "source": [
    "# Add pre processed reviews in to final df\n",
    "# final['preprocessed_reviews'] = preprocessed_reviews"
   ]
  },
  {
   "cell_type": "code",
   "execution_count": 16,
   "metadata": {},
   "outputs": [
    {
     "data": {
      "text/plain": [
       "'frenchbull given nylabone chew since weeks old safe strong bite not break large pieces could choke dinosaur chew perfect many places hold bite dylabone product buy'"
      ]
     },
     "execution_count": 16,
     "metadata": {},
     "output_type": "execute_result"
    }
   ],
   "source": [
    "preprocessed_reviews[100]"
   ]
  },
  {
   "cell_type": "markdown",
   "metadata": {},
   "source": [
    "<h2><font color='red'>[3.2] Preprocess Summary</font></h2>"
   ]
  },
  {
   "cell_type": "code",
   "execution_count": 17,
   "metadata": {},
   "outputs": [
    {
     "name": "stderr",
     "output_type": "stream",
     "text": [
      "C:\\ProgramData\\Anaconda3\\lib\\site-packages\\bs4\\__init__.py:273: UserWarning: \"b'...'\" looks like a filename, not markup. You should probably open this file and pass the filehandle into Beautiful Soup.\n",
      "  ' Beautiful Soup.' % markup)\n",
      "C:\\ProgramData\\Anaconda3\\lib\\site-packages\\bs4\\__init__.py:273: UserWarning: \"b'...'\" looks like a filename, not markup. You should probably open this file and pass the filehandle into Beautiful Soup.\n",
      "  ' Beautiful Soup.' % markup)\n",
      "C:\\ProgramData\\Anaconda3\\lib\\site-packages\\bs4\\__init__.py:273: UserWarning: \"b'...'\" looks like a filename, not markup. You should probably open this file and pass the filehandle into Beautiful Soup.\n",
      "  ' Beautiful Soup.' % markup)\n",
      "C:\\ProgramData\\Anaconda3\\lib\\site-packages\\bs4\\__init__.py:273: UserWarning: \"b'...'\" looks like a filename, not markup. You should probably open this file and pass the filehandle into Beautiful Soup.\n",
      "  ' Beautiful Soup.' % markup)\n"
     ]
    }
   ],
   "source": [
    "##preprocessing for review summary also.\n",
    "\n",
    "# Combining all the above stundents \n",
    "from tqdm import tqdm\n",
    "preprocessed_summary = []\n",
    "# tqdm is for printing the status bar\n",
    "# for sentance in tqdm(final['Summary'].values):\n",
    "for sentance in (final['Summary'].values):\n",
    "\n",
    "    sentance = re.sub(r\"http\\S+\",\"\",sentance)\n",
    "    sentance = BeautifulSoup(sentance,'lxml').get_text()\n",
    "    sentance = decontracted(sentance)\n",
    "    sentance = re.sub(\"\\S*\\d\\S*\",\"\",sentance).strip()\n",
    "    sentance = re.sub('[^A-Za-z]+',' ',sentance)\n",
    "    sentance = ' '.join(e.lower() for e in sentance.split() if e.lower() not in stopwords)  \n",
    "    preprocessed_summary.append(sentance.strip())"
   ]
  },
  {
   "cell_type": "code",
   "execution_count": 18,
   "metadata": {},
   "outputs": [
    {
     "data": {
      "text/plain": [
       "'frenchbull dog loves nylabones'"
      ]
     },
     "execution_count": 18,
     "metadata": {},
     "output_type": "execute_result"
    }
   ],
   "source": [
    "preprocessed_summary[100]"
   ]
  },
  {
   "cell_type": "markdown",
   "metadata": {
    "colab_type": "text",
    "id": "Kxx72u1hLPo1"
   },
   "source": [
    "# [5] Assignment 5: Apply Logistic Regression"
   ]
  },
  {
   "cell_type": "markdown",
   "metadata": {
    "colab_type": "text",
    "id": "KDR9We0oLPo2"
   },
   "source": [
    "<ol>\n",
    "    <li><strong>Apply Logistic Regression on these feature sets</strong>\n",
    "        <ul>\n",
    "            <li><font color='red'>SET 1:</font>Review text, preprocessed one converted into vectors using (BOW)</li>\n",
    "            <li><font color='red'>SET 2:</font>Review text, preprocessed one converted into vectors using (TFIDF)</li>\n",
    "            <li><font color='red'>SET 3:</font>Review text, preprocessed one converted into vectors using (AVG W2v)</li>\n",
    "            <li><font color='red'>SET 4:</font>Review text, preprocessed one converted into vectors using (TFIDF W2v)</li>\n",
    "        </ul>\n",
    "    </li>\n",
    "    <br>\n",
    "    <li><strong>Hyper paramter tuning (find best hyper parameters corresponding the algorithm that you choose)</strong>\n",
    "        <ul>\n",
    "    <li>Find the best hyper parameter which will give the maximum <a href='https://www.appliedaicourse.com/course/applied-ai-course-online/lessons/receiver-operating-characteristic-curve-roc-curve-and-auc-1/'>AUC</a> value</li>\n",
    "    <li>Find the best hyper paramter using k-fold cross validation or simple cross validation data</li>\n",
    "    <li>Use gridsearch cv or randomsearch cv or you can also write your own for loops to do this task of hyperparameter tuning</li>          \n",
    "        </ul>\n",
    "    </li>\n",
    "    <br>\n",
    "    <li><strong>Pertubation Test</strong>\n",
    "        <ul>\n",
    "    <li>Get the weights W after fit your model with the data X i.e Train data.</li>\n",
    "    <li>Add a noise to the X (X' = X + e) and get the new data set X' (if X is a sparse\n",
    "matrix, X.data+=e)</li>\n",
    "    <li>Fit the model again on data X' and get the weights W'</li>\n",
    "    <li>Add a small eps value(to eliminate the divisible by zero error) to W and W’ i.e\n",
    "W=W+10^-6 and W’ = W’+10^-6</li>\n",
    "    <li>Now find the % change between W and W' (| (W-W') / (W) |)*100)</li>\n",
    "    <li>Calculate the 0th, 10th, 20th, 30th, ...100th percentiles, and observe any sudden rise in the values of percentage_change_vector</li>\n",
    "    <li> Ex: consider your 99th percentile is 1.3 and your 100th percentiles are 34.6, there is sudden rise from 1.3 to 34.6, now calculate the 99.1, 99.2, 99.3,..., 100th percentile values and get the proper value after which there is sudden rise the values, assume it is 2.5</li>\n",
    "            <li> Print the feature names whose % change is more than a threshold x(in our example it's 2.5)</li>\n",
    "        </ul>\n",
    "    </li>\n",
    "    <br>\n",
    "    <li><strong>Sparsity</strong>\n",
    "        <ul>\n",
    "    <li>Calculate sparsity on weight vector obtained after using L1 regularization</li>\n",
    "        </ul>\n",
    "    </li>\n",
    "    <br><font color='red'>NOTE: Do sparsity and multicollinearity for any one of the vectorizers. Bow or tf-idf is recommended.</font>\n",
    "    <br>\n",
    "    <br>\n",
    "    <li><strong>Feature importance</strong>\n",
    "        <ul>\n",
    "    <li>Get top 10 important features for both positive and negative classes separately.</li>\n",
    "        </ul>\n",
    "    </li>\n",
    "    <br>\n",
    "    <li><strong>Feature engineering</strong>\n",
    "        <ul>\n",
    "    <li>To increase the performance of your model, you can also experiment with with feature engineering like :</li>\n",
    "            <ul>\n",
    "            <li>Taking length of reviews as another feature.</li>\n",
    "            <li>Considering some features from review summary as well.</li>\n",
    "        </ul>\n",
    "        </ul>\n",
    "    </li>\n",
    "    <br>\n",
    "    <li><strong>Representation of results</strong>\n",
    "        <ul>\n",
    "    <li>You need to plot the performance of model both on train data and cross validation data for each hyper parameter, like shown in the figure.\n",
    "<!--     <img src='train_cv_auc.JPG' width=300px></li> -->\n",
    "    <li>Once after you found the best hyper parameter, you need to train your model with it, and find the AUC on test data and plot the ROC curve on both train and test.\n",
    "<!--     <img src='train_test_auc.JPG' width=300px></li> -->\n",
    "    <li>Along with plotting ROC curve, you need to print the <a href='https://www.appliedaicourse.com/course/applied-ai-course-online/lessons/confusion-matrix-tpr-fpr-fnr-tnr-1/'>confusion matrix</a> with predicted and original labels of test data points. Please visualize your confusion matrices using <a href='https://seaborn.pydata.org/generated/seaborn.heatmap.html'>seaborn heatmaps.\n",
    "<!--     <img src='confusion_matrix.png' width=300px></li> -->\n",
    "        </ul>\n",
    "    </li>\n",
    "    <br>\n",
    "    <li><strong>Conclusion</strong>\n",
    "        <ul>\n",
    "    <li>You need to summarize the results at the end of the notebook, summarize it in the table format. To print out a table please refer to this prettytable library<a href='http://zetcode.com/python/prettytable/'>  link</a> \n",
    "<!--         <img src='summary.JPG' width=400px> -->\n",
    "    </li>\n",
    "        </ul>\n",
    "</ol>"
   ]
  },
  {
   "cell_type": "markdown",
   "metadata": {
    "colab_type": "text",
    "id": "jiYocvSHLPo4"
   },
   "source": [
    "# Applying Logistic Regression"
   ]
  },
  {
   "cell_type": "code",
   "execution_count": 19,
   "metadata": {},
   "outputs": [],
   "source": [
    "from sklearn.model_selection import train_test_split\n",
    "from sklearn.model_selection import GridSearchCV\n",
    "from sklearn.linear_model import LogisticRegression\n",
    "from sklearn.metrics import roc_auc_score,auc\n",
    "\n",
    "# final['cleaned_text'] = preprocessed_reviews\n",
    "# final['cleaned_summary'] = preprocessed_summary\n",
    "# # As data is time series data. So, first sort the data based on time \n",
    "# final_sort_data = final.sort_values('Time',axis = 0, ascending= True, inplace= False, kind= 'quicksort',na_position='last')\n",
    "\n",
    "# x = final_sort_data['cleaned_text']\n",
    "# # y = np.array(final_sort_data['Score'])\n",
    "# y = final_sort_data['Score'].values\n",
    "\n",
    "# #tarin ,cv, test split\n",
    "# x_train, x_test, y_train, y_test = train_test_split(x, y, test_size = 0.3 , random_state = 0)\n",
    "# # x_train, x_cv, y_train, y_cv = train_test_split(x1, y1, test_size = 0.3, random_state = 0)"
   ]
  },
  {
   "cell_type": "code",
   "execution_count": 20,
   "metadata": {},
   "outputs": [],
   "source": [
    "final['cleaned_text'] = preprocessed_reviews\n",
    "final['cleaned_summary'] = preprocessed_summary\n",
    "\n",
    "#Sort the data based on time\n",
    "final_sort_data = final.sort_values('Time',axis = 0, ascending= True, inplace= False, kind= 'quicksort',na_position='last')\n"
   ]
  },
  {
   "cell_type": "code",
   "execution_count": 21,
   "metadata": {},
   "outputs": [
    {
     "name": "stdout",
     "output_type": "stream",
     "text": [
      "(26331, 12)\n",
      "(18432, 12)\n",
      "(43008, 12)\n"
     ]
    }
   ],
   "source": [
    "#Train,CV,test split\n",
    "final_train_cv_data = final_sort_data[:int((final_sort_data.shape[0]*70)/100)] # slice first 70% points in training set and rest 30% points in test set. \n",
    "final_sort_test_data = final_sort_data[int((final_sort_data.shape[0]*70)/100)+1:]\n",
    "final_sort_train_data = final_train_cv_data[:int((final_train_cv_data.shape[0]*70)/100)] # slice first 70% points in training set and rest 30% points in test\n",
    "final_sort_cv_data = final_train_cv_data[int((final_train_cv_data.shape[0]*70)/100)+1:]\n",
    "\n",
    "# print(final_train_cv_data.shape)\n",
    "print(final_sort_test_data.shape)\n",
    "print(final_sort_cv_data.shape)\n",
    "print(final_sort_train_data.shape)\n",
    "# print(final_sort_train_data.columns)\n",
    "\n",
    "base_x_train = final_sort_train_data['cleaned_text']\n",
    "y_train = np.array(final_sort_train_data['Score'])\n",
    "base_x_cv = final_sort_cv_data['cleaned_text']\n",
    "y_cv = np.array(final_sort_cv_data['Score'])\n",
    "base_x_test = final_sort_test_data['cleaned_text']\n",
    "y_test = np.array(final_sort_test_data['Score'])"
   ]
  },
  {
   "cell_type": "markdown",
   "metadata": {
    "colab_type": "text",
    "id": "LE_XPVZJLPo4"
   },
   "source": [
    "\n",
    "## [5.1] Logistic Regression on BOW,<font color='red'> SET 1</font>"
   ]
  },
  {
   "cell_type": "markdown",
   "metadata": {
    "colab_type": "text",
    "id": "_iciJvj2LPo4"
   },
   "source": [
    "### [5.1.1] Applying Logistic Regression with L1 regularization on BOW,<font color='red'> SET 1</font>"
   ]
  },
  {
   "cell_type": "code",
   "execution_count": 22,
   "metadata": {
    "scrolled": false
   },
   "outputs": [
    {
     "name": "stderr",
     "output_type": "stream",
     "text": [
      "C:\\ProgramData\\Anaconda3\\lib\\site-packages\\sklearn\\utils\\validation.py:595: DataConversionWarning: Data with input dtype int64 was converted to float64 by StandardScaler.\n",
      "  warnings.warn(msg, DataConversionWarning)\n",
      "C:\\ProgramData\\Anaconda3\\lib\\site-packages\\sklearn\\utils\\validation.py:595: DataConversionWarning: Data with input dtype int64 was converted to float64 by StandardScaler.\n",
      "  warnings.warn(msg, DataConversionWarning)\n",
      "C:\\ProgramData\\Anaconda3\\lib\\site-packages\\sklearn\\utils\\validation.py:595: DataConversionWarning: Data with input dtype int64 was converted to float64 by StandardScaler.\n",
      "  warnings.warn(msg, DataConversionWarning)\n",
      "C:\\ProgramData\\Anaconda3\\lib\\site-packages\\sklearn\\utils\\validation.py:595: DataConversionWarning: Data with input dtype int64 was converted to float64 by StandardScaler.\n",
      "  warnings.warn(msg, DataConversionWarning)\n",
      "C:\\ProgramData\\Anaconda3\\lib\\site-packages\\sklearn\\svm\\base.py:922: ConvergenceWarning: Liblinear failed to converge, increase the number of iterations.\n",
      "  \"the number of iterations.\", ConvergenceWarning)\n",
      "C:\\ProgramData\\Anaconda3\\lib\\site-packages\\sklearn\\svm\\base.py:922: ConvergenceWarning: Liblinear failed to converge, increase the number of iterations.\n",
      "  \"the number of iterations.\", ConvergenceWarning)\n"
     ]
    },
    {
     "data": {
      "image/png": "[encoded data removed]",
      "text/plain": [
       "<Figure size 432x288 with 1 Axes>"
      ]
     },
     "metadata": {
      "needs_background": "light"
     },
     "output_type": "display_data"
    }
   ],
   "source": [
    "#BOW\n",
    "count_vect = CountVectorizer()\n",
    "x_train = count_vect.fit_transform(base_x_train)\n",
    "x_test = count_vect.transform(base_x_test)\n",
    "x_cv = count_vect.transform(base_x_cv)\n",
    "\n",
    "#Standardize the data\n",
    "scalar = StandardScaler(with_mean= False)\n",
    "x_train = scalar.fit_transform(x_train)\n",
    "x_cv = scalar.transform(x_cv)\n",
    "x_test = scalar.transform(x_test)\n",
    "\n",
    "C = [10**-3,10**-2,10**-1,10**0,10**1, 10**2, 10**3] #C = 1/lambda\n",
    "auc_train = []\n",
    "auc_cv = []\n",
    "\n",
    "for i in C :\n",
    "    model = LogisticRegression(penalty='l1',class_weight = 'balanced',C = i)\n",
    "    model.fit(x_train,y_train)\n",
    "    \n",
    "    y_train_prob = model.predict_proba(x_train)[:,1]\n",
    "    y_cv_prob =  model.predict_proba(x_cv)[:,1]\n",
    "    \n",
    "    auc_train.append(roc_auc_score(y_train,y_train_prob))\n",
    "    auc_cv.append(roc_auc_score(y_cv, y_cv_prob))\n",
    "    \n",
    "\n",
    "optimal_c = C[auc_cv.index(max(auc_cv))]\n",
    "C = [np.log10(x) for x in C]\n",
    "\n",
    "fig = plt.figure()\n",
    "\n",
    "plt.plot(C, auc_train, label='AUC Train')\n",
    "plt.scatter(C, auc_train, label='AUC Train')\n",
    "plt.plot(C,auc_cv,label = 'AUC CV')\n",
    "plt.scatter(C,auc_cv,label = 'AUC CV')\n",
    "\n",
    "plt.title('AUC Vs Hyperparameter')\n",
    "plt.xlabel('C = 1/lambda)')\n",
    "plt.ylabel('AUC')\n",
    "plt.legend()\n",
    "plt.show()\n",
    "\n",
    "# print('optimal lambda (Max AUC) is : ',optimal_c)\n"
   ]
  },
  {
   "cell_type": "markdown",
   "metadata": {},
   "source": [
    "#### Testing with Test data"
   ]
  },
  {
   "cell_type": "code",
   "execution_count": 23,
   "metadata": {
    "scrolled": true
   },
   "outputs": [
    {
     "data": {
      "image/png": "[encoded data removed]",
      "text/plain": [
       "<Figure size 432x288 with 1 Axes>"
      ]
     },
     "metadata": {
      "needs_background": "light"
     },
     "output_type": "display_data"
    }
   ],
   "source": [
    "model = LogisticRegression(penalty= 'l1',class_weight = 'balanced',C = optimal_c)\n",
    "model.fit(x_train,y_train)\n",
    "\n",
    "train_prob = model.predict_proba(x_train)[:,1]\n",
    "test_prob = model.predict_proba(x_test)[:,1]\n",
    "\n",
    "train_fpr,train_tpr,thresholds1 = metrics.roc_curve(y_train,train_prob)\n",
    "test_fpr,test_tpr,thresholds2 = metrics.roc_curve(y_test,test_prob)\n",
    "\n",
    "plt.plot(train_fpr,train_tpr, label = \"Train AUC - \" + str(auc(train_fpr,train_tpr)))\n",
    "plt.plot(test_fpr,test_tpr, label = 'Test AUC - ' + str(auc(test_fpr,test_tpr)))\n",
    "plt.xlabel('FPR')\n",
    "plt.ylabel('TPR')\n",
    "plt.title('ROC Error plot')\n",
    "plt.legend()\n",
    "plt.show()\n"
   ]
  },
  {
   "cell_type": "markdown",
   "metadata": {},
   "source": [
    "#### Confusion Matrix using Heatmap"
   ]
  },
  {
   "cell_type": "code",
   "execution_count": 24,
   "metadata": {},
   "outputs": [
    {
     "name": "stdout",
     "output_type": "stream",
     "text": [
      "Confusion Matrix for train data\n"
     ]
    },
    {
     "data": {
      "image/png": "[encoded data removed]",
      "text/plain": [
       "<Figure size 432x288 with 2 Axes>"
      ]
     },
     "metadata": {
      "needs_background": "light"
     },
     "output_type": "display_data"
    },
    {
     "name": "stdout",
     "output_type": "stream",
     "text": [
      "Confusion Matrix for train data\n"
     ]
    },
    {
     "data": {
      "image/png": "[encoded data removed]",
      "text/plain": [
       "<Figure size 432x288 with 2 Axes>"
      ]
     },
     "metadata": {
      "needs_background": "light"
     },
     "output_type": "display_data"
    }
   ],
   "source": [
    "#confusion matrix using heatmap for train data\n",
    "print('Confusion Matrix for train data')\n",
    "cm = confusion_matrix(y_train, model.predict(x_train))\n",
    "class_labels = ['Positive', 'Negative']\n",
    "df = pd.DataFrame(cm, index = class_labels, columns= class_labels)\n",
    "sb.heatmap(df, annot= True , fmt = 'd')\n",
    "plt.title('Confusion Matrix')\n",
    "plt.xlabel('Predicted')\n",
    "plt.ylabel('Actual')\n",
    "plt.show()\n",
    "\n",
    "#confusion matrix using heatmap for test data\n",
    "print('Confusion Matrix for train data')\n",
    "cm = confusion_matrix(y_test, model.predict(x_test))\n",
    "class_labels = ['Positive', 'Negative']\n",
    "df = pd.DataFrame(cm, index = class_labels, columns= class_labels)\n",
    "sb.heatmap(df, annot= True , fmt = 'd')\n",
    "plt.title('Confusion Matrix')\n",
    "plt.xlabel('Predicted')\n",
    "plt.ylabel('Actual')\n",
    "plt.show()"
   ]
  },
  {
   "cell_type": "markdown",
   "metadata": {
    "colab_type": "text",
    "id": "5h4NhywcLPo7"
   },
   "source": [
    "#### [5.1.1.1] Calculating sparsity on weight vector obtained using L1 regularization on BOW,<font color='red'> SET 1</font>"
   ]
  },
  {
   "cell_type": "code",
   "execution_count": 25,
   "metadata": {
    "colab": {},
    "colab_type": "code",
    "id": "-mmdLzUALPo-"
   },
   "outputs": [
    {
     "name": "stdout",
     "output_type": "stream",
     "text": [
      "Number of non zero element in weight vector  3494\n"
     ]
    }
   ],
   "source": [
    "lr = LogisticRegression(penalty='l1',class_weight = 'balanced',C = optimal_c)\n",
    "lr.fit(x_train,y_train)\n",
    "weight = lr.coef_\n",
    "#Sparsity of vector weight=no of zero in weight vector\n",
    "print('Number of non zero element in weight vector ',np.count_nonzero(weight))"
   ]
  },
  {
   "cell_type": "markdown",
   "metadata": {
    "colab_type": "text",
    "id": "aRHMa52qLPpA"
   },
   "source": [
    "### [5.1.2] Applying Logistic Regression with L2 regularization on BOW,<font color='red'> SET 1</font>"
   ]
  },
  {
   "cell_type": "code",
   "execution_count": 26,
   "metadata": {
    "colab": {},
    "colab_type": "code",
    "id": "GBbb9lxlLPpB"
   },
   "outputs": [
    {
     "name": "stderr",
     "output_type": "stream",
     "text": [
      "C:\\ProgramData\\Anaconda3\\lib\\site-packages\\sklearn\\utils\\validation.py:595: DataConversionWarning: Data with input dtype int64 was converted to float64 by StandardScaler.\n",
      "  warnings.warn(msg, DataConversionWarning)\n",
      "C:\\ProgramData\\Anaconda3\\lib\\site-packages\\sklearn\\utils\\validation.py:595: DataConversionWarning: Data with input dtype int64 was converted to float64 by StandardScaler.\n",
      "  warnings.warn(msg, DataConversionWarning)\n",
      "C:\\ProgramData\\Anaconda3\\lib\\site-packages\\sklearn\\utils\\validation.py:595: DataConversionWarning: Data with input dtype int64 was converted to float64 by StandardScaler.\n",
      "  warnings.warn(msg, DataConversionWarning)\n",
      "C:\\ProgramData\\Anaconda3\\lib\\site-packages\\sklearn\\utils\\validation.py:595: DataConversionWarning: Data with input dtype int64 was converted to float64 by StandardScaler.\n",
      "  warnings.warn(msg, DataConversionWarning)\n"
     ]
    },
    {
     "data": {
      "image/png": "[encoded data removed]",
      "text/plain": [
       "<Figure size 432x288 with 1 Axes>"
      ]
     },
     "metadata": {
      "needs_background": "light"
     },
     "output_type": "display_data"
    }
   ],
   "source": [
    "#BOW\n",
    "count_vect = CountVectorizer()\n",
    "x_train = count_vect.fit_transform(base_x_train)\n",
    "x_test = count_vect.transform(base_x_test)\n",
    "x_cv = count_vect.transform(base_x_cv)\n",
    "\n",
    "#Standardize the data\n",
    "scalar = StandardScaler(with_mean= False)\n",
    "x_train = scalar.fit_transform(x_train)\n",
    "x_cv = scalar.transform(x_cv)\n",
    "x_test = scalar.transform(x_test)\n",
    "\n",
    "\n",
    "C = [10**-3, 10**-2, 10**-1,10**0,10**1, 10**2, 10**3] #C = 1/lambda\n",
    "auc_train = []\n",
    "auc_cv = []\n",
    "\n",
    "for i in C :\n",
    "    model = LogisticRegression(penalty='l2',class_weight = 'balanced',C = i)\n",
    "    model.fit(x_train,y_train)\n",
    "    \n",
    "    y_train_prob = model.predict_proba(x_train)[:,1]\n",
    "    y_cv_prob =  model.predict_proba(x_cv)[:,1]\n",
    "    \n",
    "    auc_train.append(roc_auc_score(y_train,y_train_prob))\n",
    "    auc_cv.append(roc_auc_score(y_cv, y_cv_prob))\n",
    "    \n",
    "\n",
    "optimal_c = C[auc_cv.index(max(auc_cv))]\n",
    "C = [np.log10(x) for x in C]\n",
    "\n",
    "fig = plt.figure()\n",
    "\n",
    "plt.plot(C, auc_train, label='AUC Train')\n",
    "plt.scatter(C, auc_train, label='AUC Train')\n",
    "plt.plot(C,auc_cv,label = 'AUC CV')\n",
    "plt.scatter(C,auc_cv,label = 'AUC CV')\n",
    "\n",
    "plt.title('AUC Vs Hyperparameter')\n",
    "plt.xlabel('C = 1/lambda)')\n",
    "plt.ylabel('AUC')\n",
    "plt.legend()\n",
    "plt.show()\n",
    "\n",
    "# print('optimal lambda (Max AUC) is : ',optimal_c)\n"
   ]
  },
  {
   "cell_type": "markdown",
   "metadata": {},
   "source": [
    "#### Testing with Test data"
   ]
  },
  {
   "cell_type": "code",
   "execution_count": 27,
   "metadata": {
    "scrolled": true
   },
   "outputs": [
    {
     "data": {
      "image/png": "[encoded data removed]",
      "text/plain": [
       "<Figure size 432x288 with 1 Axes>"
      ]
     },
     "metadata": {
      "needs_background": "light"
     },
     "output_type": "display_data"
    }
   ],
   "source": [
    "model = LogisticRegression(penalty= 'l2',class_weight = 'balanced',C = optimal_c)\n",
    "model.fit(x_train,y_train)\n",
    "\n",
    "train_prob = model.predict_proba(x_train)[:,1]\n",
    "test_prob = model.predict_proba(x_test)[:,1]\n",
    "\n",
    "train_fpr,train_tpr,thresholds1 = metrics.roc_curve(y_train,train_prob)\n",
    "test_fpr,test_tpr,thresholds2 = metrics.roc_curve(y_test,test_prob)\n",
    "\n",
    "plt.plot(train_fpr,train_tpr, label = \"Train AUC - \" + str(auc(train_fpr,train_tpr)))\n",
    "plt.plot(test_fpr,test_tpr, label = 'Test AUC - ' + str(auc(test_fpr,test_tpr)))\n",
    "plt.xlabel('FPR')\n",
    "plt.ylabel('TPR')\n",
    "plt.title('ROC Error plot')\n",
    "plt.legend()\n",
    "plt.show()\n"
   ]
  },
  {
   "cell_type": "markdown",
   "metadata": {},
   "source": [
    "#### Confusion Matrix using Heatmap"
   ]
  },
  {
   "cell_type": "code",
   "execution_count": 28,
   "metadata": {},
   "outputs": [
    {
     "name": "stdout",
     "output_type": "stream",
     "text": [
      "Confusion Matrix for train data\n"
     ]
    },
    {
     "data": {
      "image/png": "[encoded data removed]",
      "text/plain": [
       "<Figure size 432x288 with 2 Axes>"
      ]
     },
     "metadata": {
      "needs_background": "light"
     },
     "output_type": "display_data"
    },
    {
     "name": "stdout",
     "output_type": "stream",
     "text": [
      "Confusion Matrix for train data\n"
     ]
    },
    {
     "data": {
      "image/png": "[encoded data removed]",
      "text/plain": [
       "<Figure size 432x288 with 2 Axes>"
      ]
     },
     "metadata": {
      "needs_background": "light"
     },
     "output_type": "display_data"
    }
   ],
   "source": [
    "#confusion matrix using heatmap for train data\n",
    "print('Confusion Matrix for train data')\n",
    "cm = confusion_matrix(y_train, model.predict(x_train))\n",
    "class_labels = ['Positive', 'Negative']\n",
    "df = pd.DataFrame(cm, index = class_labels, columns= class_labels)\n",
    "sb.heatmap(df, annot= True , fmt = 'd')\n",
    "plt.title('Confusion Matrix')\n",
    "plt.xlabel('Predicted')\n",
    "plt.ylabel('Actual')\n",
    "plt.show()\n",
    "\n",
    "#confusion matrix using heatmap for test data\n",
    "print('Confusion Matrix for train data')\n",
    "cm = confusion_matrix(y_test, model.predict(x_test))\n",
    "class_labels = ['Positive', 'Negative']\n",
    "df = pd.DataFrame(cm, index = class_labels, columns= class_labels)\n",
    "sb.heatmap(df, annot= True , fmt = 'd')\n",
    "plt.title('Confusion Matrix')\n",
    "plt.xlabel('Predicted')\n",
    "plt.ylabel('Actual')\n",
    "plt.show()"
   ]
  },
  {
   "cell_type": "markdown",
   "metadata": {
    "colab_type": "text",
    "id": "UaJkugTKLPpE"
   },
   "source": [
    "#### [5.1.2.1] Performing pertubation test (multicollinearity check) on BOW,<font color='red'> SET 1</font>"
   ]
  },
  {
   "cell_type": "markdown",
   "metadata": {},
   "source": [
    "#### Find with weight vector using train without noise"
   ]
  },
  {
   "cell_type": "code",
   "execution_count": 29,
   "metadata": {},
   "outputs": [],
   "source": [
    "clf_before = LogisticRegression(C= 1, penalty= 'l2')\n",
    "clf_before.fit(x_train,y_train)\n",
    "w_after= clf_before.coef_\n",
    "x_train.data+=0.001  #this is used for adding noise to data. If you are getting typecase error, use numpy add with casting set to 'unsafe'"
   ]
  },
  {
   "cell_type": "code",
   "execution_count": 30,
   "metadata": {},
   "outputs": [],
   "source": [
    "clf_after = LogisticRegression(C= 1, penalty= 'l2')\n",
    "clf_after.fit(x_train,y_train)\n",
    "w_before= clf_after.coef_"
   ]
  },
  {
   "cell_type": "markdown",
   "metadata": {},
   "source": [
    "#### Find with weight vector using train with noise"
   ]
  },
  {
   "cell_type": "code",
   "execution_count": 31,
   "metadata": {},
   "outputs": [
    {
     "name": "stdout",
     "output_type": "stream",
     "text": [
      "Average difference in weight vectors:  -6.955799258467983e-05\n"
     ]
    }
   ],
   "source": [
    "diff = w_after - w_before\n",
    "print(\"Average difference in weight vectors: \",np.mean(diff))"
   ]
  },
  {
   "cell_type": "markdown",
   "metadata": {},
   "source": [
    "Obeservation - Differences in the coefficients of the peturbed model and original model are very less so weight vector of the classifier can be considered for the feature importance"
   ]
  },
  {
   "cell_type": "code",
   "execution_count": null,
   "metadata": {},
   "outputs": [],
   "source": [
    "# lr = LogisticRegression(penalty= 'l2',class_weight = 'balanced',C = 1)\n",
    "# lr.fit(x_train,y_train)\n",
    "# w_before = lr.coef_"
   ]
  },
  {
   "cell_type": "code",
   "execution_count": null,
   "metadata": {
    "colab": {},
    "colab_type": "code",
    "id": "E1c5B1nELPpF"
   },
   "outputs": [],
   "source": [
    "# epsilon = np.random.normal(loc = 0, scale = 0.0000001,size = x_train.shape)\n",
    "# X_e.data=X_e.data+np.random.normal(loc=0,scale=0.0001,size=X_e.data.shape)\n",
    "# x_train_epsilon = x_train + epsilon\n",
    "\n",
    "# x_train_epsilon = x_train + np.random.normal(loc = 0, scale = 0.0001,size = x_train.shape)"
   ]
  },
  {
   "cell_type": "code",
   "execution_count": null,
   "metadata": {},
   "outputs": [],
   "source": [
    "# lr = LogisticRegression(penalty= 'l2',class_weight = 'balanced',C = 1)\n",
    "# lr.fit(x_train_epsilon,y_train)\n",
    "# w_after = lr.coef_"
   ]
  },
  {
   "cell_type": "code",
   "execution_count": null,
   "metadata": {},
   "outputs": [],
   "source": [
    "# diff = w_after - w_before\n",
    "# print(\"Average difference in weight vectors:- \",np.mean(diff))"
   ]
  },
  {
   "cell_type": "markdown",
   "metadata": {
    "colab_type": "text",
    "id": "eB1rF0BQLPpG"
   },
   "source": [
    "### [5.1.3] Feature Importance on BOW,<font color='red'> SET 1</font>"
   ]
  },
  {
   "cell_type": "markdown",
   "metadata": {
    "colab_type": "text",
    "id": "JZTP19dqLPpI"
   },
   "source": [
    "#### [5.1.3.1] Top 10 important features of positive class from<font color='red'> SET 1</font>"
   ]
  },
  {
   "cell_type": "code",
   "execution_count": 34,
   "metadata": {
    "colab": {},
    "colab_type": "code",
    "id": "oGRpCVJgLPpI"
   },
   "outputs": [],
   "source": [
    "lr = LogisticRegression(penalty= 'l1',class_weight = 'balanced',C = 0.001)\n",
    "lr.fit(x_train,y_train)\n",
    "fn = count_vect.get_feature_names()\n",
    "w = list(lr.coef_[0])\n",
    "# print(w)\n",
    "pos_coef =[]\n",
    "neg_coef = []\n",
    "pos_words =[]\n",
    "neg_words =[]\n",
    "\n",
    "for i,c in enumerate(w):\n",
    "    if c > 0:\n",
    "        pos_coef.append(c)\n",
    "        pos_words.append(fn[i]) \n",
    "    else:\n",
    "        neg_coef.append(abs(c))\n",
    "        neg_words.append(fn[i])\n",
    "\n",
    "pos_df = pd.DataFrame(columns= ['words', 'coef'])\n",
    "neg_df = pd.DataFrame(columns= ['words', 'coef'])\n",
    "pos_df['words'] = pos_words\n",
    "neg_df['words'] = neg_words\n",
    "pos_df['coef'] = pos_coef\n",
    "neg_df['coef'] = neg_coef\n"
   ]
  },
  {
   "cell_type": "code",
   "execution_count": 35,
   "metadata": {},
   "outputs": [
    {
     "name": "stdout",
     "output_type": "stream",
     "text": [
      "Top 10 Important features of positive class -\n",
      "        words      coef\n",
      "0      great  0.374052\n",
      "1       best  0.224588\n",
      "2  delicious  0.217418\n",
      "3       love  0.178129\n",
      "4    perfect  0.132145\n",
      "5       good  0.132019\n",
      "6      loves  0.129792\n",
      "7       easy  0.101703\n",
      "8  excellent  0.093120\n",
      "9     highly  0.087079\n"
     ]
    }
   ],
   "source": [
    "pos_df = pos_df.sort_values('coef',axis = 0,ascending = False).reset_index(drop = True)\n",
    "\n",
    "print('Top 10 Important features of positive class -\\n',pos_df.head(10))\n"
   ]
  },
  {
   "cell_type": "markdown",
   "metadata": {
    "colab_type": "text",
    "id": "UJLYBE1gLPpJ"
   },
   "source": [
    "#### [5.1.3.2] Top 10 important features of negative class from<font color='red'> SET 1</font>"
   ]
  },
  {
   "cell_type": "code",
   "execution_count": 36,
   "metadata": {
    "colab": {},
    "colab_type": "code",
    "id": "c9r7Zjx1LPpK"
   },
   "outputs": [
    {
     "name": "stdout",
     "output_type": "stream",
     "text": [
      "Top 10 Important features of negative class -\n",
      "            words      coef\n",
      "0            not  0.262289\n",
      "1   disappointed  0.125496\n",
      "2          worst  0.102344\n",
      "3            bad  0.088504\n",
      "4          money  0.082809\n",
      "5       horrible  0.081595\n",
      "6          awful  0.078224\n",
      "7       terrible  0.077012\n",
      "8        thought  0.074323\n",
      "9  unfortunately  0.067954\n"
     ]
    }
   ],
   "source": [
    "neg_df = neg_df.sort_values('coef',axis = 0,ascending = False).reset_index(drop = True)\n",
    "\n",
    "print('Top 10 Important features of negative class -\\n',neg_df.head(10))\n"
   ]
  },
  {
   "cell_type": "markdown",
   "metadata": {
    "colab_type": "text",
    "id": "nKn3VXcZLPpN"
   },
   "source": [
    "## [5.2] Logistic Regression on TFIDF,<font color='red'> SET 2</font>"
   ]
  },
  {
   "cell_type": "markdown",
   "metadata": {
    "colab_type": "text",
    "id": "naTBSzm6LPpN"
   },
   "source": [
    "### [5.2.1] Applying Logistic Regression with L1 regularization on TFIDF,<font color='red'> SET 2</font>"
   ]
  },
  {
   "cell_type": "code",
   "execution_count": 37,
   "metadata": {},
   "outputs": [
    {
     "name": "stderr",
     "output_type": "stream",
     "text": [
      "C:\\ProgramData\\Anaconda3\\lib\\site-packages\\sklearn\\svm\\base.py:922: ConvergenceWarning: Liblinear failed to converge, increase the number of iterations.\n",
      "  \"the number of iterations.\", ConvergenceWarning)\n",
      "C:\\ProgramData\\Anaconda3\\lib\\site-packages\\sklearn\\svm\\base.py:922: ConvergenceWarning: Liblinear failed to converge, increase the number of iterations.\n",
      "  \"the number of iterations.\", ConvergenceWarning)\n"
     ]
    },
    {
     "data": {
      "image/png": "[encoded data removed]",
      "text/plain": [
       "<Figure size 432x288 with 1 Axes>"
      ]
     },
     "metadata": {
      "needs_background": "light"
     },
     "output_type": "display_data"
    }
   ],
   "source": [
    "#BOW\n",
    "\n",
    "tf_idf_vect = TfidfVectorizer(min_df= 10) \n",
    "x_train = tf_idf_vect.fit_transform(base_x_train)\n",
    "x_test = tf_idf_vect.transform(base_x_test)\n",
    "x_cv = tf_idf_vect.transform(base_x_cv)\n",
    "\n",
    "#Standardize the data\n",
    "scalar = StandardScaler(with_mean= False)\n",
    "x_train = scalar.fit_transform(x_train)\n",
    "x_cv = scalar.transform(x_cv)\n",
    "x_test = scalar.transform(x_test)\n",
    "\n",
    "\n",
    "# tuned_parameters = [{'C': [10**-4, 10**-2, 10**0, 10**2, 10**4]}]\n",
    "\n",
    "C = [10**-3, 10**-2, 10**-1,10**0,10**1, 10**2, 10**3] #C = 1/lambda\n",
    "auc_train = []\n",
    "auc_cv = []\n",
    "\n",
    "for i in C :\n",
    "    model = LogisticRegression(penalty='l1',class_weight = 'balanced',C = i)\n",
    "    model.fit(x_train,y_train)\n",
    "    \n",
    "    y_train_prob = model.predict_proba(x_train)[:,1]\n",
    "    y_cv_prob =  model.predict_proba(x_cv)[:,1]\n",
    "    \n",
    "    auc_train.append(roc_auc_score(y_train,y_train_prob))\n",
    "    auc_cv.append(roc_auc_score(y_cv, y_cv_prob))\n",
    "    \n",
    "\n",
    "optimal_c = C[auc_cv.index(max(auc_cv))]\n",
    "C = [np.log10(x) for x in C]\n",
    "\n",
    "fig = plt.figure()\n",
    "\n",
    "plt.plot(C, auc_train, label='AUC Train')\n",
    "plt.scatter(C, auc_train, label='AUC Train')\n",
    "plt.plot(C,auc_cv,label = 'AUC CV')\n",
    "plt.scatter(C,auc_cv,label = 'AUC CV')\n",
    "\n",
    "plt.title('AUC Vs Hyperparameter')\n",
    "plt.xlabel('C = 1/lambda)')\n",
    "plt.ylabel('AUC')\n",
    "plt.legend()\n",
    "plt.show()\n",
    "\n",
    "# print('optimal lambda (Max AUC) is : ',1//optimal_c)\n"
   ]
  },
  {
   "cell_type": "markdown",
   "metadata": {},
   "source": [
    "#### Testing with Test data"
   ]
  },
  {
   "cell_type": "code",
   "execution_count": 38,
   "metadata": {
    "scrolled": true
   },
   "outputs": [
    {
     "data": {
      "image/png": "[encoded data removed]",
      "text/plain": [
       "<Figure size 432x288 with 1 Axes>"
      ]
     },
     "metadata": {
      "needs_background": "light"
     },
     "output_type": "display_data"
    }
   ],
   "source": [
    "model = LogisticRegression(penalty= 'l1',class_weight = 'balanced',C = optimal_c)\n",
    "model.fit(x_train,y_train)\n",
    "\n",
    "train_prob = model.predict_proba(x_train)[:,1]\n",
    "test_prob = model.predict_proba(x_test)[:,1]\n",
    "\n",
    "train_fpr,train_tpr,thresholds1 = metrics.roc_curve(y_train,train_prob)\n",
    "test_fpr,test_tpr,thresholds2 = metrics.roc_curve(y_test,test_prob)\n",
    "\n",
    "plt.plot(train_fpr,train_tpr, label = \"Train AUC - \" + str(auc(train_fpr,train_tpr)))\n",
    "plt.plot(test_fpr,test_tpr, label = 'Test AUC - ' + str(auc(test_fpr,test_tpr)))\n",
    "plt.xlabel('FPR')\n",
    "plt.ylabel('TPR')\n",
    "plt.title('ROC Error plot')\n",
    "plt.legend()\n",
    "plt.show()\n"
   ]
  },
  {
   "cell_type": "markdown",
   "metadata": {},
   "source": [
    "#### Confusion Matrix using Heatmap"
   ]
  },
  {
   "cell_type": "code",
   "execution_count": 39,
   "metadata": {},
   "outputs": [
    {
     "name": "stdout",
     "output_type": "stream",
     "text": [
      "Confusion Matrix for train data\n"
     ]
    },
    {
     "data": {
      "image/png": "[encoded data removed]",
      "text/plain": [
       "<Figure size 432x288 with 2 Axes>"
      ]
     },
     "metadata": {
      "needs_background": "light"
     },
     "output_type": "display_data"
    },
    {
     "name": "stdout",
     "output_type": "stream",
     "text": [
      "Confusion Matrix for train data\n"
     ]
    },
    {
     "data": {
      "image/png": "[encoded data removed]",
      "text/plain": [
       "<Figure size 432x288 with 2 Axes>"
      ]
     },
     "metadata": {
      "needs_background": "light"
     },
     "output_type": "display_data"
    }
   ],
   "source": [
    "#confusion matrix using heatmap for train data\n",
    "print('Confusion Matrix for train data')\n",
    "cm = confusion_matrix(y_train, model.predict(x_train))\n",
    "class_labels = ['Positive', 'Negative']\n",
    "df = pd.DataFrame(cm, index = class_labels, columns= class_labels)\n",
    "sb.heatmap(df, annot= True , fmt = 'd')\n",
    "plt.title('Confusion Matrix')\n",
    "plt.xlabel('Predicted')\n",
    "plt.ylabel('Actual')\n",
    "plt.show()\n",
    "\n",
    "#confusion matrix using heatmap for test data\n",
    "print('Confusion Matrix for train data')\n",
    "cm = confusion_matrix(y_test, model.predict(x_test))\n",
    "class_labels = ['Positive', 'Negative']\n",
    "df = pd.DataFrame(cm, index = class_labels, columns= class_labels)\n",
    "sb.heatmap(df, annot= True , fmt = 'd')\n",
    "plt.title('Confusion Matrix')\n",
    "plt.xlabel('Predicted')\n",
    "plt.ylabel('Actual')\n",
    "plt.show()"
   ]
  },
  {
   "cell_type": "markdown",
   "metadata": {
    "colab_type": "text",
    "id": "NdFShHQJLPpV"
   },
   "source": [
    "### [5.2.2] Applying Logistic Regression with L2 regularization on TFIDF,<font color='red'> SET 2</font>"
   ]
  },
  {
   "cell_type": "code",
   "execution_count": 40,
   "metadata": {
    "colab": {},
    "colab_type": "code",
    "id": "GBbb9lxlLPpB"
   },
   "outputs": [
    {
     "name": "stderr",
     "output_type": "stream",
     "text": [
      "C:\\ProgramData\\Anaconda3\\lib\\site-packages\\sklearn\\svm\\base.py:922: ConvergenceWarning: Liblinear failed to converge, increase the number of iterations.\n",
      "  \"the number of iterations.\", ConvergenceWarning)\n",
      "C:\\ProgramData\\Anaconda3\\lib\\site-packages\\sklearn\\svm\\base.py:922: ConvergenceWarning: Liblinear failed to converge, increase the number of iterations.\n",
      "  \"the number of iterations.\", ConvergenceWarning)\n"
     ]
    },
    {
     "data": {
      "image/png": "[encoded data removed]",
      "text/plain": [
       "<Figure size 432x288 with 1 Axes>"
      ]
     },
     "metadata": {
      "needs_background": "light"
     },
     "output_type": "display_data"
    }
   ],
   "source": [
    "#BOW\n",
    "tf_idf_vect = TfidfVectorizer(min_df= 10) \n",
    "x_train = tf_idf_vect.fit_transform(base_x_train)\n",
    "x_test = tf_idf_vect.transform(base_x_test)\n",
    "x_cv = tf_idf_vect.transform(base_x_cv)\n",
    "\n",
    "#Standardize the data\n",
    "scalar = StandardScaler(with_mean= False)\n",
    "x_train = scalar.fit_transform(x_train)\n",
    "x_cv = scalar.transform(x_cv)\n",
    "x_test = scalar.transform(x_test)\n",
    "\n",
    "\n",
    "C = [10**-3, 10**-2,10**-1,10**0,10**1, 10**2, 10**3] #C = 1/lambda\n",
    "auc_train = []\n",
    "auc_cv = []\n",
    "\n",
    "for i in C :\n",
    "    model = LogisticRegression(penalty='l2',class_weight = 'balanced',C = i)\n",
    "    model.fit(x_train,y_train)\n",
    "    \n",
    "    y_train_prob = model.predict_proba(x_train)[:,1]\n",
    "    y_cv_prob =  model.predict_proba(x_cv)[:,1]\n",
    "    \n",
    "    auc_train.append(roc_auc_score(y_train,y_train_prob))\n",
    "    auc_cv.append(roc_auc_score(y_cv, y_cv_prob))\n",
    "    \n",
    "\n",
    "optimal_c = C[auc_cv.index(max(auc_cv))]\n",
    "C = [np.log10(x) for x in C]\n",
    "\n",
    "fig = plt.figure()\n",
    "\n",
    "plt.plot(C, auc_train, label='AUC Train')\n",
    "plt.scatter(C, auc_train, label='AUC Train')\n",
    "plt.plot(C,auc_cv,label = 'AUC CV')\n",
    "plt.scatter(C,auc_cv,label = 'AUC CV')\n",
    "\n",
    "plt.title('AUC Vs Hyperparameter')\n",
    "plt.xlabel('C = 1/lambda)')\n",
    "plt.ylabel('AUC')\n",
    "plt.legend()\n",
    "plt.show()\n"
   ]
  },
  {
   "cell_type": "markdown",
   "metadata": {},
   "source": [
    "#### Testing with Test data"
   ]
  },
  {
   "cell_type": "code",
   "execution_count": 41,
   "metadata": {
    "scrolled": true
   },
   "outputs": [
    {
     "data": {
      "image/png": "[encoded data removed]",
      "text/plain": [
       "<Figure size 432x288 with 1 Axes>"
      ]
     },
     "metadata": {
      "needs_background": "light"
     },
     "output_type": "display_data"
    }
   ],
   "source": [
    "model = LogisticRegression(penalty= 'l2',class_weight = 'balanced',C = optimal_c)\n",
    "model.fit(x_train,y_train)\n",
    "\n",
    "train_prob = model.predict_proba(x_train)[:,1]\n",
    "test_prob = model.predict_proba(x_test)[:,1]\n",
    "\n",
    "train_fpr,train_tpr,thresholds1 = metrics.roc_curve(y_train,train_prob)\n",
    "test_fpr,test_tpr,thresholds2 = metrics.roc_curve(y_test,test_prob)\n",
    "\n",
    "plt.plot(train_fpr,train_tpr, label = \"Train AUC - \" + str(auc(train_fpr,train_tpr)))\n",
    "plt.plot(test_fpr,test_tpr, label = 'Test AUC - ' + str(auc(test_fpr,test_tpr)))\n",
    "plt.xlabel('FPR')\n",
    "plt.ylabel('TPR')\n",
    "plt.title('ROC Error plot')\n",
    "plt.legend()\n",
    "plt.show()\n"
   ]
  },
  {
   "cell_type": "markdown",
   "metadata": {},
   "source": [
    "#### Confusion Matrix using Heatmap"
   ]
  },
  {
   "cell_type": "code",
   "execution_count": 42,
   "metadata": {},
   "outputs": [
    {
     "name": "stdout",
     "output_type": "stream",
     "text": [
      "Confusion Matrix for train data\n"
     ]
    },
    {
     "data": {
      "image/png": "[encoded data removed]",
      "text/plain": [
       "<Figure size 432x288 with 2 Axes>"
      ]
     },
     "metadata": {
      "needs_background": "light"
     },
     "output_type": "display_data"
    },
    {
     "name": "stdout",
     "output_type": "stream",
     "text": [
      "Confusion Matrix for train data\n"
     ]
    },
    {
     "data": {
      "image/png": "[encoded data removed]",
      "text/plain": [
       "<Figure size 432x288 with 2 Axes>"
      ]
     },
     "metadata": {
      "needs_background": "light"
     },
     "output_type": "display_data"
    }
   ],
   "source": [
    "#confusion matrix using heatmap for train data\n",
    "print('Confusion Matrix for train data')\n",
    "cm = confusion_matrix(y_train, model.predict(x_train))\n",
    "class_labels = ['Positive', 'Negative']\n",
    "df = pd.DataFrame(cm, index = class_labels, columns= class_labels)\n",
    "sb.heatmap(df, annot= True , fmt = 'd')\n",
    "plt.title('Confusion Matrix')\n",
    "plt.xlabel('Predicted')\n",
    "plt.ylabel('Actual')\n",
    "plt.show()\n",
    "\n",
    "#confusion matrix using heatmap for test data\n",
    "print('Confusion Matrix for train data')\n",
    "cm = confusion_matrix(y_test, model.predict(x_test))\n",
    "class_labels = ['Positive', 'Negative']\n",
    "df = pd.DataFrame(cm, index = class_labels, columns= class_labels)\n",
    "sb.heatmap(df, annot= True , fmt = 'd')\n",
    "plt.title('Confusion Matrix')\n",
    "plt.xlabel('Predicted')\n",
    "plt.ylabel('Actual')\n",
    "plt.show()"
   ]
  },
  {
   "cell_type": "markdown",
   "metadata": {
    "colab_type": "text",
    "id": "xeeJ8eVvLPpX"
   },
   "source": [
    "### [5.2.3] Feature Importance on TFIDF,<font color='red'> SET 2</font>"
   ]
  },
  {
   "cell_type": "markdown",
   "metadata": {
    "colab_type": "text",
    "id": "Cj9XEmqQLPpY"
   },
   "source": [
    "#### [5.2.3.1] Top 10 important features of positive class from<font color='red'> SET 2</font>"
   ]
  },
  {
   "cell_type": "code",
   "execution_count": 43,
   "metadata": {
    "colab": {},
    "colab_type": "code",
    "id": "oGRpCVJgLPpI"
   },
   "outputs": [
    {
     "name": "stdout",
     "output_type": "stream",
     "text": [
      "['abdominal', 'ability', 'able', 'absence', 'absent', 'absolute', 'absolutely', 'absolutly', 'absorb']\n",
      "8083\n",
      "Top 10 Important features of positive class -\n",
      "        words      coef\n",
      "0      great  0.431203\n",
      "1       best  0.260459\n",
      "2  delicious  0.226270\n",
      "3       love  0.221095\n",
      "4       good  0.179635\n",
      "5    perfect  0.139171\n",
      "6      loves  0.137530\n",
      "7       find  0.105392\n",
      "8       nice  0.099771\n",
      "9   favorite  0.093241\n"
     ]
    }
   ],
   "source": [
    "lr = LogisticRegression(penalty= 'l1',class_weight = 'balanced',C = optimal_c)\n",
    "lr.fit(x_train,y_train) \n",
    "fn = tf_idf_vect.get_feature_names()\n",
    "print((fn[1:10]))\n",
    "w = list(lr.coef_[0])\n",
    "\n",
    "print(len(w))\n",
    "pos_coef =[]\n",
    "neg_coef = []\n",
    "pos_words =[]\n",
    "neg_words =[]\n",
    "\n",
    "for i,c in enumerate(w):\n",
    "#     print('i------------',i)\n",
    "#     print('c------------',c)\n",
    "    if c > 0:\n",
    "        pos_coef.append(c)\n",
    "        pos_words.append(fn[i]) \n",
    "    else:\n",
    "        neg_coef.append(abs(c))\n",
    "        neg_words.append(fn[i])\n",
    "\n",
    "pos_df = pd.DataFrame(columns= ['words', 'coef'])\n",
    "neg_df = pd.DataFrame(columns= ['words', 'coef'])\n",
    "pos_df['words'] = pos_words\n",
    "neg_df['words'] = neg_words\n",
    "pos_df['coef'] = pos_coef\n",
    "neg_df['coef'] = neg_coef\n",
    "\n",
    "pos_df = pos_df.sort_values('coef',axis = 0,ascending = False).reset_index(drop = True)\n",
    "\n",
    "print('Top 10 Important features of positive class -\\n',pos_df.head(10))\n"
   ]
  },
  {
   "cell_type": "markdown",
   "metadata": {
    "colab_type": "text",
    "id": "PowEfns4LPpg"
   },
   "source": [
    "#### [5.2.3.2] Top 10 important features of negative class from<font color='red'> SET 2</font>"
   ]
  },
  {
   "cell_type": "code",
   "execution_count": 44,
   "metadata": {
    "colab": {},
    "colab_type": "code",
    "id": "c9r7Zjx1LPpK",
    "scrolled": true
   },
   "outputs": [
    {
     "name": "stdout",
     "output_type": "stream",
     "text": [
      "Top 10 Important features of negative class -\n",
      "            words      coef\n",
      "0            not  0.260298\n",
      "1   disappointed  0.111554\n",
      "2          worst  0.099940\n",
      "3            bad  0.082465\n",
      "4       terrible  0.077616\n",
      "5          awful  0.075832\n",
      "6       horrible  0.075758\n",
      "7          money  0.072739\n",
      "8        thought  0.066702\n",
      "9  unfortunately  0.060907\n"
     ]
    }
   ],
   "source": [
    "neg_df = neg_df.sort_values('coef',axis = 0,ascending = False).reset_index(drop = True)\n",
    "\n",
    "print('Top 10 Important features of negative class -\\n',neg_df.head(10))\n"
   ]
  },
  {
   "cell_type": "markdown",
   "metadata": {
    "colab_type": "text",
    "id": "sqYadGOgLPpi"
   },
   "source": [
    "## [5.3] Logistic Regression on AVG W2V,<font color='red'> SET 3</font>"
   ]
  },
  {
   "cell_type": "markdown",
   "metadata": {
    "colab_type": "text",
    "id": "kByBCEA1LPpj"
   },
   "source": [
    "### [5.3.1] Applying Logistic Regression with L1 regularization on AVG W2V<font color='red'> SET 3</font>"
   ]
  },
  {
   "cell_type": "markdown",
   "metadata": {},
   "source": [
    "#### Hyper parameter Tuning using Simple for loop"
   ]
  },
  {
   "cell_type": "markdown",
   "metadata": {},
   "source": [
    "### Training w2v model"
   ]
  },
  {
   "cell_type": "code",
   "execution_count": 45,
   "metadata": {},
   "outputs": [
    {
     "name": "stdout",
     "output_type": "stream",
     "text": [
      "no of words occured min 5 times  12483\n",
      "sample words  ['bought', 'apartment', 'infested', 'fruit', 'flies', 'hours', 'trap', 'attracted', 'many', 'within', 'days', 'practically', 'gone', 'may', 'not', 'long', 'term', 'solution', 'driving', 'crazy', 'consider', 'buying', 'one', 'caution', 'surface', 'sticky', 'try', 'avoid', 'touching', 'really', 'good', 'idea', 'final', 'product', 'outstanding', 'use', 'car', 'window', 'everybody', 'asks', 'made', 'two', 'thumbs', 'received', 'shipment', 'could', 'hardly', 'wait', 'love', 'call']\n"
     ]
    }
   ],
   "source": [
    "# w2v for train\n",
    "\n",
    "#Preparing Reviews for gensim model\n",
    "\n",
    "list_of_sentance_train = []\n",
    "for sentance in base_x_train :\n",
    "    list_of_sentance_train.append(sentance.split())\n",
    "    \n",
    "# Training w2v model\n",
    "w2v_model = Word2Vec(list_of_sentance_train , min_count = 5, size = 50, workers =4)\n",
    "w2v_words = list(w2v_model.wv.vocab)\n",
    "print('no of words occured min 5 times ',len(w2v_words))\n",
    "print(\"sample words \", w2v_words[0:50])\n"
   ]
  },
  {
   "cell_type": "markdown",
   "metadata": {},
   "source": [
    "#### Converting Train data text"
   ]
  },
  {
   "cell_type": "code",
   "execution_count": 46,
   "metadata": {},
   "outputs": [
    {
     "name": "stdout",
     "output_type": "stream",
     "text": [
      "(43008, 50)\n",
      "[ 0.0695597   0.26210574 -0.03847536  0.67813659  0.21284877  0.28683027\n",
      "  0.03528085 -0.13975251  0.28017139  0.03001817 -0.35874062 -0.07485592\n",
      " -0.16230482  0.46536249  0.3186563  -0.17571915  0.14646051  0.45746915\n",
      " -0.50107873  0.59694558 -0.42665026  0.08409735 -0.34109022  0.20028363\n",
      "  0.02489534 -0.03462529 -0.51735375  0.23403109 -0.26359393  0.26219283\n",
      "  0.36722057  0.28272104 -0.20935628  0.2984979  -0.353033   -0.23942683\n",
      " -0.03639696 -0.15451757 -0.60611109  0.14132131  0.08259926  0.21612827\n",
      " -0.40216905 -0.12408005  0.41633012  0.40704982  0.43070303  0.11629507\n",
      "  0.43682186  0.08633048]\n"
     ]
    }
   ],
   "source": [
    "\n",
    "# Converting Reviews into Numerical Vectors using W2V vectors\n",
    "## Algorithm: Avg W2V\n",
    "\n",
    "# compute average word2vec for each review.\n",
    "sent_vectors = []; #the average word2vec for each sentance/review will store in this list\n",
    "# for sent in tqdm(list_of_sentance_train):\n",
    "for sent in (list_of_sentance_train):\n",
    "    sent_vec = np.zeros(50)\n",
    "    cnt_words = 0\n",
    "    for word in sent:\n",
    "        if word in w2v_words:\n",
    "            vec =  w2v_model.wv[word]\n",
    "            sent_vec += vec\n",
    "            cnt_words += 1\n",
    "    if cnt_words != 0 :\n",
    "        sent_vec /= cnt_words\n",
    "    sent_vectors.append(sent_vec)\n",
    "sent_vectors_train = np.array(sent_vectors)\n",
    "print(sent_vectors_train.shape)\n",
    "print(sent_vectors_train[0])\n"
   ]
  },
  {
   "cell_type": "markdown",
   "metadata": {},
   "source": [
    "#### Converting CV data text"
   ]
  },
  {
   "cell_type": "code",
   "execution_count": 47,
   "metadata": {},
   "outputs": [],
   "source": [
    "list_of_sentance_cv = []\n",
    "for sentance in base_x_cv:\n",
    "    list_of_sentance_cv.append(sentance.split())"
   ]
  },
  {
   "cell_type": "code",
   "execution_count": 48,
   "metadata": {},
   "outputs": [
    {
     "name": "stdout",
     "output_type": "stream",
     "text": [
      "(18432, 50)\n",
      "[-6.12690673e-02  3.58439661e-01  4.19460560e-02  1.06436857e+00\n",
      " -8.50755068e-02  2.90837769e-01  1.43359740e-01 -8.00742883e-01\n",
      "  1.82480054e-01  1.10252766e-01  2.39786868e-01 -7.74416390e-03\n",
      "  3.20715215e-01  3.70796418e-01  6.15053054e-01 -3.46767233e-01\n",
      "  6.19271110e-01  3.28763154e-01 -9.80163909e-02  6.01097659e-01\n",
      "  5.01815096e-01  2.01231253e-01 -4.62018127e-01 -5.28082929e-04\n",
      "  1.63194770e-01 -9.94588276e-02 -7.13610587e-01  1.36658230e+00\n",
      " -8.12460679e-01  2.59664413e-02  6.92482793e-01  4.73151750e-01\n",
      " -1.33049624e-02 -6.72545285e-02 -3.82696081e-01  1.11811500e-02\n",
      "  1.48109242e-01  3.67342281e-01  1.93507934e-02  6.77744817e-01\n",
      "  2.22311611e-01  1.93007939e-01 -3.26650926e-01 -3.19799387e-01\n",
      "  4.11689929e-01  9.04277051e-01  7.30048991e-01  7.54266588e-01\n",
      "  1.85454310e-01  5.72548671e-01]\n"
     ]
    }
   ],
   "source": [
    "# average Word2Vec\n",
    "# compute average word2vec for each review.\n",
    "sent_vectors_cv = []; #the avg-w2v for each sentence/review is stored in this list\n",
    "# for sent in tqdm(list_of_sentance_cv):\n",
    "for sent in (list_of_sentance_cv):\n",
    "    \n",
    "    sent_vec = np.zeros(50)\n",
    "    cnt_words = 0 \n",
    "    for word in sent: #for each word in a review/sentance\n",
    "        if word in w2v_words:\n",
    "            vec = w2v_model.wv[word]\n",
    "            sent_vec += vec\n",
    "            cnt_words += 1\n",
    "    if cnt_words != 0:\n",
    "        sent_vec /= cnt_words\n",
    "    sent_vectors_cv.append(sent_vec)\n",
    "sent_vectors_cv = np.array(sent_vectors_cv)\n",
    "print(sent_vectors_cv.shape)\n",
    "print(sent_vectors_cv[0])\n"
   ]
  },
  {
   "cell_type": "markdown",
   "metadata": {},
   "source": [
    "#### Testing with Test data"
   ]
  },
  {
   "cell_type": "code",
   "execution_count": 49,
   "metadata": {},
   "outputs": [],
   "source": [
    "list_of_sentance_test = []\n",
    "for sentance in base_x_test:\n",
    "    list_of_sentance_test.append(sentance.split())"
   ]
  },
  {
   "cell_type": "code",
   "execution_count": 50,
   "metadata": {},
   "outputs": [
    {
     "name": "stdout",
     "output_type": "stream",
     "text": [
      "(26331, 50)\n",
      "[-0.05361983  0.36880882 -0.30382451  0.62871976  0.3642346   0.28036152\n",
      " -0.19573003 -0.19000585  0.36496428 -0.07103195 -0.55244673 -0.55848462\n",
      " -0.044952   -0.37856722 -0.05389363 -0.22664909  0.56048387 -0.54759742\n",
      " -0.3410366   1.20927062 -0.44833872  0.42739542  0.59842996  0.12787154\n",
      " -0.43191077  0.48266059 -0.55542726  0.20326464 -0.22385902  0.91305132\n",
      "  0.11341208 -0.06216123 -0.37716007  0.31175344  0.00681467 -0.03707754\n",
      " -0.67906578 -0.0571281  -0.6105633   0.00714729 -0.56677026  0.45751253\n",
      " -0.1922163  -0.53992651  0.30422274 -0.25737675  0.36423105  0.19714763\n",
      "  0.11119163  0.66526588]\n"
     ]
    }
   ],
   "source": [
    "# average Word2Vec\n",
    "# compute average word2vec for each review.\n",
    "sent_vectors_test = []; #the avg-w2v for each sentence/review is stored in this list\n",
    "# for sent in tqdm(list_of_sentance_test):\n",
    "for sent in (list_of_sentance_test):\n",
    "\n",
    "    sent_vec = np.zeros(50)\n",
    "    cnt_words = 0 \n",
    "    for word in sent: #for each word in a review/sentance\n",
    "        if word in w2v_words:\n",
    "            vec = w2v_model.wv[word]\n",
    "            sent_vec += vec\n",
    "            cnt_words += 1\n",
    "    if cnt_words != 0:\n",
    "        sent_vec /= cnt_words\n",
    "    sent_vectors_test.append(sent_vec)\n",
    "sent_vectors_test = np.array(sent_vectors_test)\n",
    "print(sent_vectors_test.shape)\n",
    "print(sent_vectors_test[0])\n"
   ]
  },
  {
   "cell_type": "code",
   "execution_count": 51,
   "metadata": {},
   "outputs": [
    {
     "data": {
      "image/png": "[encoded data removed]",
      "text/plain": [
       "<Figure size 432x288 with 1 Axes>"
      ]
     },
     "metadata": {
      "needs_background": "light"
     },
     "output_type": "display_data"
    }
   ],
   "source": [
    "x_train = sent_vectors_train\n",
    "x_cv = sent_vectors_cv\n",
    "x_test = sent_vectors_test\n",
    "\n",
    "C = [10**-3, 10**-2, 10**-1,10**0,10**1, 10**2, 10**3] #C = 1/lambda\n",
    "auc_train = []\n",
    "auc_cv = []\n",
    "\n",
    "for i in C :\n",
    "    model = LogisticRegression(penalty='l1',class_weight = 'balanced',C = i)\n",
    "    model.fit(x_train,y_train)\n",
    "    \n",
    "    y_train_prob = model.predict_proba(x_train)[:,1]\n",
    "    y_cv_prob =  model.predict_proba(x_cv)[:,1]\n",
    "    \n",
    "    auc_train.append(roc_auc_score(y_train,y_train_prob))\n",
    "    auc_cv.append(roc_auc_score(y_cv, y_cv_prob))\n",
    "    \n",
    "\n",
    "optimal_c = C[auc_cv.index(max(auc_cv))]\n",
    "C = [np.log10(x) for x in C]\n",
    "\n",
    "fig = plt.figure()\n",
    "\n",
    "plt.plot(C, auc_train, label='AUC Train')\n",
    "plt.scatter(C, auc_train, label='AUC Train')\n",
    "plt.plot(C,auc_cv,label = 'AUC CV')\n",
    "plt.scatter(C,auc_cv,label = 'AUC CV')\n",
    "\n",
    "plt.title('AUC Vs Hyperparameter')\n",
    "plt.xlabel('C = 1/lambda)')\n",
    "plt.ylabel('AUC')\n",
    "plt.legend()\n",
    "plt.show()\n",
    "\n",
    "# print('optimal lambda (Max AUC) is : ',1//optimal_c)\n"
   ]
  },
  {
   "cell_type": "markdown",
   "metadata": {},
   "source": [
    "#### Testing with Test data"
   ]
  },
  {
   "cell_type": "code",
   "execution_count": 52,
   "metadata": {
    "scrolled": true
   },
   "outputs": [
    {
     "data": {
      "image/png": "[encoded data removed]",
      "text/plain": [
       "<Figure size 432x288 with 1 Axes>"
      ]
     },
     "metadata": {
      "needs_background": "light"
     },
     "output_type": "display_data"
    }
   ],
   "source": [
    "model = LogisticRegression(penalty= 'l1',class_weight = 'balanced',C = optimal_c)\n",
    "model.fit(x_train,y_train)\n",
    "\n",
    "train_prob = model.predict_proba(x_train)[:,1]\n",
    "test_prob = model.predict_proba(x_test)[:,1]\n",
    "\n",
    "train_fpr,train_tpr,thresholds1 = metrics.roc_curve(y_train,train_prob)\n",
    "test_fpr,test_tpr,thresholds2 = metrics.roc_curve(y_test,test_prob)\n",
    "\n",
    "plt.plot(train_fpr,train_tpr, label = \"Train AUC - \" + str(auc(train_fpr,train_tpr)))\n",
    "plt.plot(test_fpr,test_tpr, label = 'Test AUC - ' + str(auc(test_fpr,test_tpr)))\n",
    "plt.xlabel('FPR')\n",
    "plt.ylabel('TPR')\n",
    "plt.title('ROC Error plot')\n",
    "plt.legend()\n",
    "plt.show()\n"
   ]
  },
  {
   "cell_type": "markdown",
   "metadata": {},
   "source": [
    "#### Confusion Matrix using Heatmap"
   ]
  },
  {
   "cell_type": "code",
   "execution_count": 53,
   "metadata": {},
   "outputs": [
    {
     "name": "stdout",
     "output_type": "stream",
     "text": [
      "Confusion Matrix for train data\n"
     ]
    },
    {
     "data": {
      "image/png": "[encoded data removed]",
      "text/plain": [
       "<Figure size 432x288 with 2 Axes>"
      ]
     },
     "metadata": {
      "needs_background": "light"
     },
     "output_type": "display_data"
    },
    {
     "name": "stdout",
     "output_type": "stream",
     "text": [
      "Confusion Matrix for train data\n"
     ]
    },
    {
     "data": {
      "image/png": "[encoded data removed]",
      "text/plain": [
       "<Figure size 432x288 with 2 Axes>"
      ]
     },
     "metadata": {
      "needs_background": "light"
     },
     "output_type": "display_data"
    }
   ],
   "source": [
    "#confusion matrix using heatmap for train data\n",
    "print('Confusion Matrix for train data')\n",
    "cm = confusion_matrix(y_train, model.predict(x_train))\n",
    "class_labels = ['Positive', 'Negative']\n",
    "df = pd.DataFrame(cm, index = class_labels, columns= class_labels)\n",
    "sb.heatmap(df, annot= True , fmt = 'd')\n",
    "plt.title('Confusion Matrix')\n",
    "plt.xlabel('Predicted')\n",
    "plt.ylabel('Actual')\n",
    "plt.show()\n",
    "\n",
    "#confusion matrix using heatmap for test data\n",
    "print('Confusion Matrix for train data')\n",
    "cm = confusion_matrix(y_test, model.predict(x_test))\n",
    "class_labels = ['Positive', 'Negative']\n",
    "df = pd.DataFrame(cm, index = class_labels, columns= class_labels)\n",
    "sb.heatmap(df, annot= True , fmt = 'd')\n",
    "plt.title('Confusion Matrix')\n",
    "plt.xlabel('Predicted')\n",
    "plt.ylabel('Actual')\n",
    "plt.show()"
   ]
  },
  {
   "cell_type": "markdown",
   "metadata": {
    "colab_type": "text",
    "id": "O_8Gu2SfLPpn"
   },
   "source": [
    "### [5.3.2] Applying Logistic Regression with L2 regularization on AVG W2V,<font color='red'> SET 3</font>"
   ]
  },
  {
   "cell_type": "code",
   "execution_count": 55,
   "metadata": {
    "colab": {},
    "colab_type": "code",
    "id": "GBbb9lxlLPpB"
   },
   "outputs": [
    {
     "data": {
      "image/png": "[encoded data removed]",
      "text/plain": [
       "<Figure size 432x288 with 1 Axes>"
      ]
     },
     "metadata": {
      "needs_background": "light"
     },
     "output_type": "display_data"
    }
   ],
   "source": [
    "#BOW\n",
    "\n",
    "C = [10**-3, 10**-2, 10**-1,10**0,10**1, 10**2, 10**3] #C = 1/lambda\n",
    "auc_train = []\n",
    "auc_cv = []\n",
    "\n",
    "for i in C :\n",
    "    model = LogisticRegression(penalty='l2',class_weight = 'balanced',C = i)\n",
    "    model.fit(x_train,y_train)\n",
    "    \n",
    "    y_train_prob = model.predict_proba(x_train)[:,1]\n",
    "    y_cv_prob =  model.predict_proba(x_cv)[:,1]\n",
    "    \n",
    "    auc_train.append(roc_auc_score(y_train,y_train_prob))\n",
    "    auc_cv.append(roc_auc_score(y_cv, y_cv_prob))\n",
    "    \n",
    "\n",
    "optimal_c = C[auc_cv.index(max(auc_cv))]\n",
    "C = [np.log10(x) for x in C]\n",
    "\n",
    "fig = plt.figure()\n",
    "\n",
    "plt.plot(C, auc_train, label='AUC Train')\n",
    "plt.scatter(C, auc_train, label='AUC Train')\n",
    "plt.plot(C,auc_cv,label = 'AUC CV')\n",
    "plt.scatter(C,auc_cv,label = 'AUC CV')\n",
    "\n",
    "plt.title('AUC Vs Hyperparameter')\n",
    "plt.xlabel('C = 1/lambda)')\n",
    "plt.ylabel('AUC')\n",
    "plt.legend()\n",
    "plt.show()\n",
    "\n",
    "# print('optimal lambda (Max AUC) is : ',1//optimal_c)\n"
   ]
  },
  {
   "cell_type": "markdown",
   "metadata": {},
   "source": [
    "#### Testing with Test data"
   ]
  },
  {
   "cell_type": "code",
   "execution_count": 56,
   "metadata": {
    "scrolled": true
   },
   "outputs": [
    {
     "data": {
      "image/png": "[encoded data removed]",
      "text/plain": [
       "<Figure size 432x288 with 1 Axes>"
      ]
     },
     "metadata": {
      "needs_background": "light"
     },
     "output_type": "display_data"
    }
   ],
   "source": [
    "model = LogisticRegression(penalty= 'l2',class_weight = 'balanced',C = optimal_c)\n",
    "model.fit(x_train,y_train)\n",
    "\n",
    "train_prob = model.predict_proba(x_train)[:,1]\n",
    "test_prob = model.predict_proba(x_test)[:,1]\n",
    "\n",
    "train_fpr,train_tpr,thresholds1 = metrics.roc_curve(y_train,train_prob)\n",
    "test_fpr,test_tpr,thresholds2 = metrics.roc_curve(y_test,test_prob)\n",
    "\n",
    "plt.plot(train_fpr,train_tpr, label = \"Train AUC - \" + str(auc(train_fpr,train_tpr)))\n",
    "plt.plot(test_fpr,test_tpr, label = 'Test AUC - ' + str(auc(test_fpr,test_tpr)))\n",
    "plt.xlabel('FPR')\n",
    "plt.ylabel('TPR')\n",
    "plt.title('ROC Error plot')\n",
    "plt.legend()\n",
    "plt.show()\n"
   ]
  },
  {
   "cell_type": "markdown",
   "metadata": {},
   "source": [
    "#### Confusion Matrix using Heatmap"
   ]
  },
  {
   "cell_type": "code",
   "execution_count": 57,
   "metadata": {},
   "outputs": [
    {
     "name": "stdout",
     "output_type": "stream",
     "text": [
      "Confusion Matrix for train data\n"
     ]
    },
    {
     "data": {
      "image/png": "[encoded data removed]",
      "text/plain": [
       "<Figure size 432x288 with 2 Axes>"
      ]
     },
     "metadata": {
      "needs_background": "light"
     },
     "output_type": "display_data"
    },
    {
     "name": "stdout",
     "output_type": "stream",
     "text": [
      "Confusion Matrix for train data\n"
     ]
    },
    {
     "data": {
      "image/png": "[encoded data removed]",
      "text/plain": [
       "<Figure size 432x288 with 2 Axes>"
      ]
     },
     "metadata": {
      "needs_background": "light"
     },
     "output_type": "display_data"
    }
   ],
   "source": [
    "#confusion matrix using heatmap for train data\n",
    "print('Confusion Matrix for train data')\n",
    "cm = confusion_matrix(y_train, model.predict(x_train))\n",
    "class_labels = ['Positive', 'Negative']\n",
    "df = pd.DataFrame(cm, index = class_labels, columns= class_labels)\n",
    "sb.heatmap(df, annot= True , fmt = 'd')\n",
    "plt.title('Confusion Matrix')\n",
    "plt.xlabel('Predicted')\n",
    "plt.ylabel('Actual')\n",
    "plt.show()\n",
    "\n",
    "#confusion matrix using heatmap for test data\n",
    "print('Confusion Matrix for train data')\n",
    "cm = confusion_matrix(y_test, model.predict(x_test))\n",
    "class_labels = ['Positive', 'Negative']\n",
    "df = pd.DataFrame(cm, index = class_labels, columns= class_labels)\n",
    "sb.heatmap(df, annot= True , fmt = 'd')\n",
    "plt.title('Confusion Matrix')\n",
    "plt.xlabel('Predicted')\n",
    "plt.ylabel('Actual')\n",
    "plt.show()"
   ]
  },
  {
   "cell_type": "markdown",
   "metadata": {
    "colab_type": "text",
    "id": "pdXTwVIPLPpp"
   },
   "source": [
    "## [5.4] Logistic Regression on TFIDF W2V,<font color='red'> SET 4</font>"
   ]
  },
  {
   "cell_type": "markdown",
   "metadata": {
    "colab_type": "text",
    "id": "WP9NjwNSLPpp"
   },
   "source": [
    "### [5.4.1] Applying Logistic Regression with L1 regularization on TFIDF W2V,<font color='red'> SET 4</font>"
   ]
  },
  {
   "cell_type": "markdown",
   "metadata": {},
   "source": [
    "#### Hyper parameter Tuning using Simple for loop"
   ]
  },
  {
   "cell_type": "markdown",
   "metadata": {},
   "source": [
    "### Training w2v model"
   ]
  },
  {
   "cell_type": "code",
   "execution_count": 59,
   "metadata": {},
   "outputs": [],
   "source": [
    "# w2v for train\n",
    "# Preparing Reviews for gensim model\n",
    "\n",
    "list_of_sentance_train = []\n",
    "for sentance in base_x_train:\n",
    "    list_of_sentance_train.append(sentance.split())\n",
    "\n",
    "w2v_model = Word2Vec(list_of_sentance_train , min_count = 5 ,size = 50, workers = 4)\n",
    "w2v_words = list(w2v_model.wv.vocab)"
   ]
  },
  {
   "cell_type": "code",
   "execution_count": 1,
   "metadata": {},
   "outputs": [
    {
     "ename": "NameError",
     "evalue": "name 'TfidfVectorizer' is not defined",
     "output_type": "error",
     "traceback": [
      "\u001b[1;31m---------------------------------------------------------------------------\u001b[0m",
      "\u001b[1;31mNameError\u001b[0m                                 Traceback (most recent call last)",
      "\u001b[1;32m<ipython-input-1-4cec63307e0f>\u001b[0m in \u001b[0;36m<module>\u001b[1;34m()\u001b[0m\n\u001b[1;32m----> 1\u001b[1;33m \u001b[0mtf_idf_vect\u001b[0m \u001b[1;33m=\u001b[0m \u001b[0mTfidfVectorizer\u001b[0m\u001b[1;33m(\u001b[0m\u001b[0mngram_range\u001b[0m\u001b[1;33m=\u001b[0m\u001b[1;33m(\u001b[0m\u001b[1;36m1\u001b[0m\u001b[1;33m,\u001b[0m\u001b[1;36m2\u001b[0m\u001b[1;33m)\u001b[0m\u001b[1;33m,\u001b[0m\u001b[0mmin_df\u001b[0m\u001b[1;33m=\u001b[0m \u001b[1;36m10\u001b[0m\u001b[1;33m,\u001b[0m\u001b[0mmax_features\u001b[0m\u001b[1;33m=\u001b[0m \u001b[1;36m500\u001b[0m\u001b[1;33m)\u001b[0m\u001b[1;33m\u001b[0m\u001b[0m\n\u001b[0m\u001b[0;32m      2\u001b[0m \u001b[1;33m\u001b[0m\u001b[0m\n\u001b[0;32m      3\u001b[0m \u001b[0mtf_idf_matrix\u001b[0m \u001b[1;33m=\u001b[0m \u001b[0mtf_idf_vect\u001b[0m\u001b[1;33m.\u001b[0m\u001b[0mfit_transform\u001b[0m\u001b[1;33m(\u001b[0m\u001b[0mbase_x_train\u001b[0m\u001b[1;33m)\u001b[0m\u001b[1;33m\u001b[0m\u001b[0m\n\u001b[0;32m      4\u001b[0m \u001b[0mtfidf_feat\u001b[0m \u001b[1;33m=\u001b[0m \u001b[0mtf_idf_vect\u001b[0m\u001b[1;33m.\u001b[0m\u001b[0mget_feature_names\u001b[0m\u001b[1;33m(\u001b[0m\u001b[1;33m)\u001b[0m\u001b[1;33m\u001b[0m\u001b[0m\n\u001b[0;32m      5\u001b[0m \u001b[0mdictionary\u001b[0m \u001b[1;33m=\u001b[0m \u001b[0mdict\u001b[0m\u001b[1;33m(\u001b[0m\u001b[0mzip\u001b[0m\u001b[1;33m(\u001b[0m\u001b[0mtf_idf_vect\u001b[0m\u001b[1;33m.\u001b[0m\u001b[0mget_feature_names\u001b[0m\u001b[1;33m(\u001b[0m\u001b[1;33m)\u001b[0m\u001b[1;33m,\u001b[0m\u001b[0mlist\u001b[0m\u001b[1;33m(\u001b[0m\u001b[0mtf_idf_vect\u001b[0m\u001b[1;33m.\u001b[0m\u001b[0midf_\u001b[0m\u001b[1;33m)\u001b[0m\u001b[1;33m)\u001b[0m\u001b[1;33m)\u001b[0m\u001b[1;33m\u001b[0m\u001b[0m\n",
      "\u001b[1;31mNameError\u001b[0m: name 'TfidfVectorizer' is not defined"
     ]
    }
   ],
   "source": [
    "tf_idf_vect = TfidfVectorizer(ngram_range=(1,2),min_df= 10,max_features= 500)\n",
    "\n",
    "tf_idf_matrix = tf_idf_vect.fit_transform(base_x_train)\n",
    "tfidf_feat = tf_idf_vect.get_feature_names()\n",
    "dictionary = dict(zip(tf_idf_vect.get_feature_names(),list(tf_idf_vect.idf_)))\n"
   ]
  },
  {
   "cell_type": "markdown",
   "metadata": {},
   "source": [
    "#### Converting Train data text"
   ]
  },
  {
   "cell_type": "code",
   "execution_count": 61,
   "metadata": {},
   "outputs": [],
   "source": [
    "\n",
    "tfidf_sent_vectors_train = []\n",
    "row = 0\n",
    "\n",
    "# for sent in tqdm(list_of_sentance_train):\n",
    "for sent in (list_of_sentance_train):\n",
    "    \n",
    "    sent_vec = np.zeros(50)\n",
    "    weight_sum = 0\n",
    "    for word in sent:\n",
    "        if word in w2v_words and word in tfidf_feat:\n",
    "            vec = w2v_model.wv[word]\n",
    "            tf_idf = dictionary[word]*(sent.count(word)/len(sent))\n",
    "            sent_vec += (vec * tf_idf)\n",
    "            weight_sum = tf_idf\n",
    "    if weight_sum != 0:\n",
    "        sent_vec /= weight_sum\n",
    "    tfidf_sent_vectors_train.append(sent_vec)\n",
    "    row += 1"
   ]
  },
  {
   "cell_type": "markdown",
   "metadata": {},
   "source": [
    "#### Converting CV data\n"
   ]
  },
  {
   "cell_type": "code",
   "execution_count": 62,
   "metadata": {},
   "outputs": [],
   "source": [
    "list_of_sentance_cv = []\n",
    "for sentance in base_x_cv:\n",
    "    list_of_sentance_cv.append(sentance.split())\n",
    "    \n",
    "tfidf_sent_vectors_cv = []\n",
    "row = 0\n",
    "\n",
    "# for sent in tqdm(list_of_sentance_cv):\n",
    "for sent in (list_of_sentance_cv):\n",
    "    \n",
    "    sent_vec = np.zeros(50)\n",
    "    weight_sum = 0\n",
    "    for word in sent:\n",
    "        if word in w2v_words and word in tfidf_feat:\n",
    "            vec = w2v_model.wv[word]\n",
    "            tf_idf = dictionary[word]*(sent.count(word)/len(sent))\n",
    "            sent_vec += (vec * tf_idf)\n",
    "            weight_sum = tf_idf\n",
    "    if weight_sum != 0:\n",
    "        sent_vec /= weight_sum\n",
    "    tfidf_sent_vectors_cv.append(sent_vec)\n",
    "    row += 1"
   ]
  },
  {
   "cell_type": "markdown",
   "metadata": {},
   "source": [
    "#### Converting test data\n"
   ]
  },
  {
   "cell_type": "code",
   "execution_count": 63,
   "metadata": {},
   "outputs": [],
   "source": [
    "list_of_sentance_test = []\n",
    "for sentance in base_x_test:\n",
    "    list_of_sentance_test.append(sentance.split())\n",
    "    \n",
    "tfidf_sent_vectors_test = []\n",
    "row = 0\n",
    "\n",
    "# for sent in tqdm(list_of_sentance_test):\n",
    "for sent in (list_of_sentance_test):\n",
    "    \n",
    "    sent_vec = np.zeros(50)\n",
    "    weight_sum = 0\n",
    "    for word in sent:\n",
    "        if word in w2v_words and word in tfidf_feat:\n",
    "            vec = w2v_model.wv[word]\n",
    "            tf_idf = dictionary[word]*(sent.count(word)/len(sent))\n",
    "            sent_vec += (vec * tf_idf)\n",
    "            weight_sum = tf_idf\n",
    "    if weight_sum != 0:\n",
    "        sent_vec /= weight_sum\n",
    "    tfidf_sent_vectors_test.append(sent_vec)\n",
    "    row += 1"
   ]
  },
  {
   "cell_type": "code",
   "execution_count": 64,
   "metadata": {},
   "outputs": [
    {
     "data": {
      "image/png": "[encoded data removed]",
      "text/plain": [
       "<Figure size 432x288 with 1 Axes>"
      ]
     },
     "metadata": {
      "needs_background": "light"
     },
     "output_type": "display_data"
    }
   ],
   "source": [
    "x_train = tfidf_sent_vectors_train\n",
    "x_cv = tfidf_sent_vectors_cv\n",
    "x_test = tfidf_sent_vectors_test\n",
    "\n",
    "C = [10**-3, 10**-2, 10**-1,10**0,10**1, 10**2, 10**3] #C = 1/lambda\n",
    "auc_train = []\n",
    "auc_cv = []\n",
    "\n",
    "for i in C :\n",
    "    model = LogisticRegression(penalty='l1',class_weight = 'balanced',C = i)\n",
    "    model.fit(x_train,y_train)\n",
    "    \n",
    "    y_train_prob = model.predict_proba(x_train)[:,1]\n",
    "    y_cv_prob =  model.predict_proba(x_cv)[:,1]\n",
    "    \n",
    "    auc_train.append(roc_auc_score(y_train,y_train_prob))\n",
    "    auc_cv.append(roc_auc_score(y_cv, y_cv_prob))\n",
    "    \n",
    "\n",
    "optimal_c = C[auc_cv.index(max(auc_cv))]\n",
    "C = [np.log10(x) for x in C]\n",
    "\n",
    "fig = plt.figure()\n",
    "\n",
    "plt.plot(C, auc_train, label='AUC Train')\n",
    "plt.scatter(C, auc_train, label='AUC Train')\n",
    "plt.plot(C,auc_cv,label = 'AUC CV')\n",
    "plt.scatter(C,auc_cv,label = 'AUC CV')\n",
    "\n",
    "plt.title('AUC Vs Hyperparameter')\n",
    "plt.xlabel('C = 1/lambda)')\n",
    "plt.ylabel('AUC')\n",
    "plt.legend()\n",
    "plt.show()\n",
    "\n",
    "# print('optimal lambda (Max AUC) is : ',1//optimal_c)\n"
   ]
  },
  {
   "cell_type": "markdown",
   "metadata": {},
   "source": [
    "#### Testing with Test data"
   ]
  },
  {
   "cell_type": "code",
   "execution_count": 65,
   "metadata": {
    "scrolled": true
   },
   "outputs": [
    {
     "data": {
      "image/png": "[encoded data removed]",
      "text/plain": [
       "<Figure size 432x288 with 1 Axes>"
      ]
     },
     "metadata": {
      "needs_background": "light"
     },
     "output_type": "display_data"
    }
   ],
   "source": [
    "model = LogisticRegression(penalty= 'l1',class_weight = 'balanced',C = optimal_c)\n",
    "model.fit(x_train,y_train)\n",
    "\n",
    "train_prob = model.predict_proba(x_train)[:,1]\n",
    "test_prob = model.predict_proba(x_test)[:,1]\n",
    "\n",
    "train_fpr,train_tpr,thresholds1 = metrics.roc_curve(y_train,train_prob)\n",
    "test_fpr,test_tpr,thresholds2 = metrics.roc_curve(y_test,test_prob)\n",
    "\n",
    "plt.plot(train_fpr,train_tpr, label = \"Train AUC - \" + str(auc(train_fpr,train_tpr)))\n",
    "plt.plot(test_fpr,test_tpr, label = 'Test AUC - ' + str(auc(test_fpr,test_tpr)))\n",
    "plt.xlabel('FPR')\n",
    "plt.ylabel('TPR')\n",
    "plt.title('ROC Error plot')\n",
    "plt.legend()\n",
    "plt.show()\n"
   ]
  },
  {
   "cell_type": "markdown",
   "metadata": {},
   "source": [
    "#### Confusion Matrix using Heatmap"
   ]
  },
  {
   "cell_type": "code",
   "execution_count": 66,
   "metadata": {},
   "outputs": [
    {
     "name": "stdout",
     "output_type": "stream",
     "text": [
      "Confusion Matrix for train data\n"
     ]
    },
    {
     "data": {
      "image/png": "[encoded data removed]",
      "text/plain": [
       "<Figure size 432x288 with 2 Axes>"
      ]
     },
     "metadata": {
      "needs_background": "light"
     },
     "output_type": "display_data"
    },
    {
     "name": "stdout",
     "output_type": "stream",
     "text": [
      "Confusion Matrix for train data\n"
     ]
    },
    {
     "data": {
      "image/png": "[encoded data removed]",
      "text/plain": [
       "<Figure size 432x288 with 2 Axes>"
      ]
     },
     "metadata": {
      "needs_background": "light"
     },
     "output_type": "display_data"
    }
   ],
   "source": [
    "#confusion matrix using heatmap for train data\n",
    "print('Confusion Matrix for train data')\n",
    "cm = confusion_matrix(y_train, model.predict(x_train))\n",
    "class_labels = ['Positive', 'Negative']\n",
    "df = pd.DataFrame(cm, index = class_labels, columns= class_labels)\n",
    "sb.heatmap(df, annot= True , fmt = 'd')\n",
    "plt.title('Confusion Matrix')\n",
    "plt.xlabel('Predicted')\n",
    "plt.ylabel('Actual')\n",
    "plt.show()\n",
    "\n",
    "#confusion matrix using heatmap for test data\n",
    "print('Confusion Matrix for train data')\n",
    "cm = confusion_matrix(y_test, model.predict(x_test))\n",
    "class_labels = ['Positive', 'Negative']\n",
    "df = pd.DataFrame(cm, index = class_labels, columns= class_labels)\n",
    "sb.heatmap(df, annot= True , fmt = 'd')\n",
    "plt.title('Confusion Matrix')\n",
    "plt.xlabel('Predicted')\n",
    "plt.ylabel('Actual')\n",
    "plt.show()"
   ]
  },
  {
   "cell_type": "markdown",
   "metadata": {
    "colab_type": "text",
    "id": "ynUK2tYDLPps"
   },
   "source": [
    "### [5.4.2] Applying Logistic Regression with L2 regularization on TFIDF W2V,<font color='red'> SET 4</font>"
   ]
  },
  {
   "cell_type": "code",
   "execution_count": 68,
   "metadata": {
    "colab": {},
    "colab_type": "code",
    "id": "GBbb9lxlLPpB"
   },
   "outputs": [
    {
     "data": {
      "image/png": "[encoded data removed]",
      "text/plain": [
       "<Figure size 432x288 with 1 Axes>"
      ]
     },
     "metadata": {
      "needs_background": "light"
     },
     "output_type": "display_data"
    }
   ],
   "source": [
    "#BOW\n",
    "\n",
    "C = [10**-3, 10**-2, 10**-1,10**0,10**1, 10**2, 10**3] #C = 1/lambda\n",
    "auc_train = []\n",
    "auc_cv = []\n",
    "\n",
    "for i in C :\n",
    "    model = LogisticRegression(penalty='l2',class_weight = 'balanced',C = i)\n",
    "    model.fit(x_train,y_train)\n",
    "    \n",
    "    y_train_prob = model.predict_proba(x_train)[:,1]\n",
    "    y_cv_prob =  model.predict_proba(x_cv)[:,1]\n",
    "    \n",
    "    auc_train.append(roc_auc_score(y_train,y_train_prob))\n",
    "    auc_cv.append(roc_auc_score(y_cv, y_cv_prob))\n",
    "    \n",
    "\n",
    "optimal_c = C[auc_cv.index(max(auc_cv))]\n",
    "C = [np.log10(x) for x in C]\n",
    "\n",
    "fig = plt.figure()\n",
    "\n",
    "plt.plot(C, auc_train, label='AUC Train')\n",
    "plt.scatter(C, auc_train, label='AUC Train')\n",
    "plt.plot(C,auc_cv,label = 'AUC CV')\n",
    "plt.scatter(C,auc_cv,label = 'AUC CV')\n",
    "\n",
    "plt.title('AUC Vs Hyperparameter')\n",
    "plt.xlabel('C = 1/lambda)')\n",
    "plt.ylabel('AUC')\n",
    "plt.legend()\n",
    "plt.show()\n",
    "\n",
    "# print('optimal lambda (Max AUC) is : ',1//optimal_c)\n"
   ]
  },
  {
   "cell_type": "markdown",
   "metadata": {},
   "source": [
    "#### Testing with Test data"
   ]
  },
  {
   "cell_type": "code",
   "execution_count": 69,
   "metadata": {
    "scrolled": true
   },
   "outputs": [
    {
     "data": {
      "image/png": "[encoded data removed]",
      "text/plain": [
       "<Figure size 432x288 with 1 Axes>"
      ]
     },
     "metadata": {
      "needs_background": "light"
     },
     "output_type": "display_data"
    }
   ],
   "source": [
    "model = LogisticRegression(penalty= 'l2',class_weight = 'balanced',C = optimal_c)\n",
    "model.fit(x_train,y_train)\n",
    "\n",
    "train_prob = model.predict_proba(x_train)[:,1]\n",
    "test_prob = model.predict_proba(x_test)[:,1]\n",
    "\n",
    "train_fpr,train_tpr,thresholds1 = metrics.roc_curve(y_train,train_prob)\n",
    "test_fpr,test_tpr,thresholds2 = metrics.roc_curve(y_test,test_prob)\n",
    "\n",
    "plt.plot(train_fpr,train_tpr, label = \"Train AUC - \" + str(auc(train_fpr,train_tpr)))\n",
    "plt.plot(test_fpr,test_tpr, label = 'Test AUC - ' + str(auc(test_fpr,test_tpr)))\n",
    "plt.xlabel('FPR')\n",
    "plt.ylabel('TPR')\n",
    "plt.title('ROC Error plot')\n",
    "plt.legend()\n",
    "plt.show()\n"
   ]
  },
  {
   "cell_type": "markdown",
   "metadata": {},
   "source": [
    "#### Confusion Matrix using Heatmap"
   ]
  },
  {
   "cell_type": "code",
   "execution_count": 70,
   "metadata": {
    "scrolled": true
   },
   "outputs": [
    {
     "name": "stdout",
     "output_type": "stream",
     "text": [
      "Confusion Matrix for train data\n"
     ]
    },
    {
     "data": {
      "image/png": "[encoded data removed]",
      "text/plain": [
       "<Figure size 432x288 with 2 Axes>"
      ]
     },
     "metadata": {
      "needs_background": "light"
     },
     "output_type": "display_data"
    },
    {
     "name": "stdout",
     "output_type": "stream",
     "text": [
      "Confusion Matrix for train data\n"
     ]
    },
    {
     "data": {
      "image/png": "[encoded data removed]",
      "text/plain": [
       "<Figure size 432x288 with 2 Axes>"
      ]
     },
     "metadata": {
      "needs_background": "light"
     },
     "output_type": "display_data"
    }
   ],
   "source": [
    "#confusion matrix using heatmap for train data\n",
    "print('Confusion Matrix for train data')\n",
    "cm = confusion_matrix(y_train, model.predict(x_train))\n",
    "class_labels = ['Positive', 'Negative']\n",
    "df = pd.DataFrame(cm, index = class_labels, columns= class_labels)\n",
    "sb.heatmap(df, annot= True , fmt = 'd')\n",
    "plt.title('Confusion Matrix')\n",
    "plt.xlabel('Predicted')\n",
    "plt.ylabel('Actual')\n",
    "plt.show()\n",
    "\n",
    "#confusion matrix using heatmap for test data\n",
    "print('Confusion Matrix for train data')\n",
    "cm = confusion_matrix(y_test, model.predict(x_test))\n",
    "class_labels = ['Positive', 'Negative']\n",
    "df = pd.DataFrame(cm, index = class_labels, columns= class_labels)\n",
    "sb.heatmap(df, annot= True , fmt = 'd')\n",
    "plt.title('Confusion Matrix')\n",
    "plt.xlabel('Predicted')\n",
    "plt.ylabel('Actual')\n",
    "plt.show()"
   ]
  },
  {
   "cell_type": "markdown",
   "metadata": {
    "colab_type": "text",
    "id": "crZ4qBCyDYN7"
   },
   "source": [
    "# [6] Conclusions"
   ]
  },
  {
   "cell_type": "code",
   "execution_count": 74,
   "metadata": {
    "colab": {},
    "colab_type": "code",
    "id": "9OacHxi1DYN8"
   },
   "outputs": [
    {
     "name": "stdout",
     "output_type": "stream",
     "text": [
      "+------------+----------------+---------------------+------+\n",
      "| Vectorizer | Regularization | Hyperameter(lambda) | AUC  |\n",
      "+------------+----------------+---------------------+------+\n",
      "|    BOW     |       l1       |         0.01        | 0.93 |\n",
      "|    BOW     |       l2       |        0.001        | 0.9  |\n",
      "|   TFIDF    |       l1       |         0.01        | 0.94 |\n",
      "|   TFIDF    |       l2       |        0.001        | 0.94 |\n",
      "|  AVG W2v   |       l1       |          1          | 0.89 |\n",
      "|  AVG W2v   |       l2       |          1          | 0.89 |\n",
      "| TFIDF W2v  |       l1       |        0.001        | 0.81 |\n",
      "| TFIDF W2v  |       l2       |        0.001        | 0.81 |\n",
      "+------------+----------------+---------------------+------+\n"
     ]
    }
   ],
   "source": [
    "# compare all your models \n",
    "from prettytable import PrettyTable\n",
    "x = PrettyTable()\n",
    "x.field_names = [\"Vectorizer\",\"Regularization\", \"Hyperameter(lambda)\", \"AUC\"]\n",
    "x.add_row([\"BOW\",\"l1\",0.01,0.93])\n",
    "x.add_row([\"BOW\",\"l2\",0.001,0.90])\n",
    "x.add_row([\"TFIDF\",\"l1\",0.01,0.94])\n",
    "x.add_row([\"TFIDF\",\"l2\",0.001,0.94])\n",
    "x.add_row([\"AVG W2v\",\"l1\",1,0.89])\n",
    "x.add_row([\"AVG W2v\",\"l2\",1,0.89])\n",
    "x.add_row([\"TFIDF W2v\",\"l1\",0.001,0.81])\n",
    "x.add_row([\"TFIDF W2v\",\"l2\",0.001,0.81])\n",
    "print(x)"
   ]
  },
  {
   "cell_type": "code",
   "execution_count": null,
   "metadata": {},
   "outputs": [],
   "source": []
  }
 ],
 "metadata": {
  "kernelspec": {
   "display_name": "Python 3",
   "language": "python",
   "name": "python3"
  },
  "language_info": {
   "codemirror_mode": {
    "name": "ipython",
    "version": 3
   },
   "file_extension": ".py",
   "mimetype": "text/x-python",
   "name": "python",
   "nbconvert_exporter": "python",
   "pygments_lexer": "ipython3",
   "version": "3.7.0"
  }
 },
 "nbformat": 4,
 "nbformat_minor": 2
}
