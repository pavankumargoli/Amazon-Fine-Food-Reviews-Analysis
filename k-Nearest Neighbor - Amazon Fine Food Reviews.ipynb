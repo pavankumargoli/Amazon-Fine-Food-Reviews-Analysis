{
 "cells": [
  {
   "cell_type": "markdown",
   "metadata": {},
   "source": [
    "# Amazon Fine Food Reviews Analysis\n",
    "\n",
    "\n",
    "Data Source: https://www.kaggle.com/snap/amazon-fine-food-reviews <br>\n",
    "\n",
    "EDA: https://nycdatascience.com/blog/student-works/amazon-fine-foods-visualization/\n",
    "\n",
    "\n",
    "The Amazon Fine Food Reviews dataset consists of reviews of fine foods from Amazon.<br>\n",
    "\n",
    "Number of reviews: 568,454<br>\n",
    "Number of users: 256,059<br>\n",
    "Number of products: 74,258<br>\n",
    "Timespan: Oct 1999 - Oct 2012<br>\n",
    "Number of Attributes/Columns in data: 10 \n",
    "\n",
    "Attribute Information:\n",
    "\n",
    "1. Id\n",
    "2. ProductId - unique identifier for the product\n",
    "3. UserId - unqiue identifier for the user\n",
    "4. ProfileName\n",
    "5. HelpfulnessNumerator - number of users who found the review helpful\n",
    "6. HelpfulnessDenominator - number of users who indicated whether they found the review helpful or not\n",
    "7. Score - rating between 1 and 5\n",
    "8. Time - timestamp for the review\n",
    "9. Summary - brief summary of the review\n",
    "10. Text - text of the review\n",
    "\n",
    "\n",
    "#### Objective:\n",
    "Given a review, determine whether the review is positive (Rating of 4 or 5) or negative (rating of 1 or 2).\n",
    "\n",
    "<br>\n",
    "[Q] How to determine if a review is positive or negative?<br>\n",
    "<br> \n",
    "[Ans] We could use the Score/Rating. A rating of 4 or 5 could be cosnidered a positive review. A review of 1 or 2 could be considered negative. A review of 3 is nuetral and ignored. This is an approximate and proxy way of determining the polarity (positivity/negativity) of a review.\n",
    "\n",
    "\n"
   ]
  },
  {
   "cell_type": "markdown",
   "metadata": {},
   "source": [
    "## Loading the data\n",
    "\n",
    "The dataset is available in two forms\n",
    "1. .csv file\n",
    "2. SQLite Database\n",
    "\n",
    "In order to load the data, We have used the SQLITE dataset as it easier to query the data and visualise the data efficiently.\n",
    "<br> \n",
    "\n",
    "Here as we only want to get the global sentiment of the recommendations (positive or negative), we will purposefully ignore all Scores equal to 3. If the score id above 3, then the recommendation wil be set to \"positive\". Otherwise, it will be set to \"negative\"."
   ]
  },
  {
   "cell_type": "code",
   "execution_count": 1,
   "metadata": {},
   "outputs": [
    {
     "name": "stderr",
     "output_type": "stream",
     "text": [
      "C:\\ProgramData\\Anaconda3\\lib\\site-packages\\gensim\\utils.py:1197: UserWarning: detected Windows; aliasing chunkize to chunkize_serial\n",
      "  warnings.warn(\"detected Windows; aliasing chunkize to chunkize_serial\")\n"
     ]
    }
   ],
   "source": [
    "%matplotlib inline\n",
    "import warnings\n",
    "warnings.filterwarnings('ignore')\n",
    "\n",
    "import os\n",
    "import re\n",
    "import sqlite3\n",
    "import pandas as pd\n",
    "import numpy as np\n",
    "import nltk\n",
    "import string\n",
    "import matplotlib.pyplot as plt\n",
    "import seaborn as sb\n",
    "import pickle\n",
    "\n",
    "from sklearn import metrics\n",
    "from sklearn.feature_extraction.text import TfidfTransformer\n",
    "from sklearn.feature_extraction.text import TfidfVectorizer\n",
    "from sklearn.feature_extraction.text import CountVectorizer\n",
    "\n",
    "from sklearn.metrics import confusion_matrix\n",
    "from sklearn.metrics import roc_curve,auc\n",
    "\n",
    "from nltk.stem.porter import PorterStemmer\n",
    "from nltk.corpus import stopwords\n",
    "from nltk.stem.wordnet import WordNetLemmatizer\n",
    "from nltk.stem import PorterStemmer\n",
    "\n",
    "from gensim.models import Word2Vec\n",
    "from gensim.models import KeyedVectors\n",
    "\n",
    "from sklearn.preprocessing import StandardScaler \n",
    "#TSNE\n",
    "from sklearn.manifold import TSNE\n",
    "from bs4 import BeautifulSoup\n"
   ]
  },
  {
   "cell_type": "code",
   "execution_count": 2,
   "metadata": {},
   "outputs": [],
   "source": [
    "# Temporarily Suppressing Warnings\n",
    "def fxn():\n",
    "    warnings.warn(\"deprecated\", DeprecationWarning)\n",
    "\n",
    "with warnings.catch_warnings():\n",
    "    warnings.simplefilter(\"ignore\")\n",
    "    fxn()"
   ]
  },
  {
   "cell_type": "markdown",
   "metadata": {},
   "source": [
    "# [1]. Reading Data"
   ]
  },
  {
   "cell_type": "code",
   "execution_count": 3,
   "metadata": {},
   "outputs": [
    {
     "name": "stdout",
     "output_type": "stream",
     "text": [
      "Number of data point in our data (20000, 10)\n"
     ]
    },
    {
     "data": {
      "text/html": [
       "<div>\n",
       "<style scoped>\n",
       "    .dataframe tbody tr th:only-of-type {\n",
       "        vertical-align: middle;\n",
       "    }\n",
       "\n",
       "    .dataframe tbody tr th {\n",
       "        vertical-align: top;\n",
       "    }\n",
       "\n",
       "    .dataframe thead th {\n",
       "        text-align: right;\n",
       "    }\n",
       "</style>\n",
       "<table border=\"1\" class=\"dataframe\">\n",
       "  <thead>\n",
       "    <tr style=\"text-align: right;\">\n",
       "      <th></th>\n",
       "      <th>Id</th>\n",
       "      <th>ProductId</th>\n",
       "      <th>UserId</th>\n",
       "      <th>ProfileName</th>\n",
       "      <th>HelpfulnessNumerator</th>\n",
       "      <th>HelpfulnessDenominator</th>\n",
       "      <th>Score</th>\n",
       "      <th>Time</th>\n",
       "      <th>Summary</th>\n",
       "      <th>Text</th>\n",
       "    </tr>\n",
       "  </thead>\n",
       "  <tbody>\n",
       "    <tr>\n",
       "      <th>0</th>\n",
       "      <td>1</td>\n",
       "      <td>B001E4KFG0</td>\n",
       "      <td>A3SGXH7AUHU8GW</td>\n",
       "      <td>delmartian</td>\n",
       "      <td>1</td>\n",
       "      <td>1</td>\n",
       "      <td>1</td>\n",
       "      <td>1303862400</td>\n",
       "      <td>Good Quality Dog Food</td>\n",
       "      <td>I have bought several of the Vitality canned d...</td>\n",
       "    </tr>\n",
       "    <tr>\n",
       "      <th>1</th>\n",
       "      <td>2</td>\n",
       "      <td>B00813GRG4</td>\n",
       "      <td>A1D87F6ZCVE5NK</td>\n",
       "      <td>dll pa</td>\n",
       "      <td>0</td>\n",
       "      <td>0</td>\n",
       "      <td>0</td>\n",
       "      <td>1346976000</td>\n",
       "      <td>Not as Advertised</td>\n",
       "      <td>Product arrived labeled as Jumbo Salted Peanut...</td>\n",
       "    </tr>\n",
       "    <tr>\n",
       "      <th>2</th>\n",
       "      <td>3</td>\n",
       "      <td>B000LQOCH0</td>\n",
       "      <td>ABXLMWJIXXAIN</td>\n",
       "      <td>Natalia Corres \"Natalia Corres\"</td>\n",
       "      <td>1</td>\n",
       "      <td>1</td>\n",
       "      <td>1</td>\n",
       "      <td>1219017600</td>\n",
       "      <td>\"Delight\" says it all</td>\n",
       "      <td>This is a confection that has been around a fe...</td>\n",
       "    </tr>\n",
       "    <tr>\n",
       "      <th>3</th>\n",
       "      <td>4</td>\n",
       "      <td>B000UA0QIQ</td>\n",
       "      <td>A395BORC6FGVXV</td>\n",
       "      <td>Karl</td>\n",
       "      <td>3</td>\n",
       "      <td>3</td>\n",
       "      <td>0</td>\n",
       "      <td>1307923200</td>\n",
       "      <td>Cough Medicine</td>\n",
       "      <td>If you are looking for the secret ingredient i...</td>\n",
       "    </tr>\n",
       "    <tr>\n",
       "      <th>4</th>\n",
       "      <td>5</td>\n",
       "      <td>B006K2ZZ7K</td>\n",
       "      <td>A1UQRSCLF8GW1T</td>\n",
       "      <td>Michael D. Bigham \"M. Wassir\"</td>\n",
       "      <td>0</td>\n",
       "      <td>0</td>\n",
       "      <td>1</td>\n",
       "      <td>1350777600</td>\n",
       "      <td>Great taffy</td>\n",
       "      <td>Great taffy at a great price.  There was a wid...</td>\n",
       "    </tr>\n",
       "  </tbody>\n",
       "</table>\n",
       "</div>"
      ],
      "text/plain": [
       "   Id   ProductId          UserId                      ProfileName  \\\n",
       "0   1  B001E4KFG0  A3SGXH7AUHU8GW                       delmartian   \n",
       "1   2  B00813GRG4  A1D87F6ZCVE5NK                           dll pa   \n",
       "2   3  B000LQOCH0   ABXLMWJIXXAIN  Natalia Corres \"Natalia Corres\"   \n",
       "3   4  B000UA0QIQ  A395BORC6FGVXV                             Karl   \n",
       "4   5  B006K2ZZ7K  A1UQRSCLF8GW1T    Michael D. Bigham \"M. Wassir\"   \n",
       "\n",
       "   HelpfulnessNumerator  HelpfulnessDenominator  Score        Time  \\\n",
       "0                     1                       1      1  1303862400   \n",
       "1                     0                       0      0  1346976000   \n",
       "2                     1                       1      1  1219017600   \n",
       "3                     3                       3      0  1307923200   \n",
       "4                     0                       0      1  1350777600   \n",
       "\n",
       "                 Summary                                               Text  \n",
       "0  Good Quality Dog Food  I have bought several of the Vitality canned d...  \n",
       "1      Not as Advertised  Product arrived labeled as Jumbo Salted Peanut...  \n",
       "2  \"Delight\" says it all  This is a confection that has been around a fe...  \n",
       "3         Cough Medicine  If you are looking for the secret ingredient i...  \n",
       "4            Great taffy  Great taffy at a great price.  There was a wid...  "
      ]
     },
     "execution_count": 3,
     "metadata": {},
     "output_type": "execute_result"
    }
   ],
   "source": [
    "# using the SQLite Table to read data.\n",
    "# con = sqlite3.connect('./amazon-fine-food-reviews/database.sqlite')\n",
    "\n",
    "con = sqlite3.connect('C:/Users/Saraswathi/Music/Appliedai/Data/amazon-fine-food-reviews/database.sqlite')\n",
    "\n",
    "#filetering only positve and negative reviews\n",
    "#reviews not taking in to consideration with score = 3\n",
    "\n",
    "filtered_data = pd.read_sql_query(\"\"\" SELECT * FROM Reviews WHERE Score != 3 LIMIT 20000\"\"\", con) \n",
    "\n",
    "# Give reviews with Score>3 a positive rating, and reviews with a score<3 a negative rating.\n",
    "def partition( x ):\n",
    "    if x > 3:\n",
    "        return 1 #positive\n",
    "#         return 1\n",
    "    else:\n",
    "        return 0 #negative\n",
    "\n",
    "#changing reviews with score less than 3 to be positive and vice versa\n",
    "actual_score = filtered_data['Score']\n",
    "positivenegative = actual_score.map(partition)\n",
    "filtered_data['Score']=positivenegative\n",
    "print('Number of data point in our data',filtered_data.shape)\n",
    "filtered_data.head(5)    "
   ]
  },
  {
   "cell_type": "markdown",
   "metadata": {},
   "source": [
    "#  Exploratory Data Analysis\n",
    "\n",
    "## [2] Data Cleaning: Deduplication\n",
    "It is observed (as shown in the table below) that the reviews data had many duplicate entries. Hence it was necessary to remove duplicates in order to get unbiased results for the analysis of the data.  Following is an example:"
   ]
  },
  {
   "cell_type": "code",
   "execution_count": 4,
   "metadata": {},
   "outputs": [],
   "source": [
    "display = pd.read_sql_query(\"\"\"\n",
    "SELECT * FROM Reviews\n",
    "WHERE Score != 3 AND UserId=\"AR5J8UI46CURR\"\n",
    "ORDER BY ProductID\n",
    "\"\"\",con)"
   ]
  },
  {
   "cell_type": "code",
   "execution_count": 5,
   "metadata": {},
   "outputs": [
    {
     "data": {
      "text/html": [
       "<div>\n",
       "<style scoped>\n",
       "    .dataframe tbody tr th:only-of-type {\n",
       "        vertical-align: middle;\n",
       "    }\n",
       "\n",
       "    .dataframe tbody tr th {\n",
       "        vertical-align: top;\n",
       "    }\n",
       "\n",
       "    .dataframe thead th {\n",
       "        text-align: right;\n",
       "    }\n",
       "</style>\n",
       "<table border=\"1\" class=\"dataframe\">\n",
       "  <thead>\n",
       "    <tr style=\"text-align: right;\">\n",
       "      <th></th>\n",
       "      <th>Id</th>\n",
       "      <th>ProductId</th>\n",
       "      <th>UserId</th>\n",
       "      <th>ProfileName</th>\n",
       "      <th>HelpfulnessNumerator</th>\n",
       "      <th>HelpfulnessDenominator</th>\n",
       "      <th>Score</th>\n",
       "      <th>Time</th>\n",
       "      <th>Summary</th>\n",
       "      <th>Text</th>\n",
       "    </tr>\n",
       "  </thead>\n",
       "  <tbody>\n",
       "    <tr>\n",
       "      <th>0</th>\n",
       "      <td>78445</td>\n",
       "      <td>B000HDL1RQ</td>\n",
       "      <td>AR5J8UI46CURR</td>\n",
       "      <td>Geetha Krishnan</td>\n",
       "      <td>2</td>\n",
       "      <td>2</td>\n",
       "      <td>5</td>\n",
       "      <td>1199577600</td>\n",
       "      <td>LOACKER QUADRATINI VANILLA WAFERS</td>\n",
       "      <td>DELICIOUS WAFERS. I FIND THAT EUROPEAN WAFERS ...</td>\n",
       "    </tr>\n",
       "    <tr>\n",
       "      <th>1</th>\n",
       "      <td>138317</td>\n",
       "      <td>B000HDOPYC</td>\n",
       "      <td>AR5J8UI46CURR</td>\n",
       "      <td>Geetha Krishnan</td>\n",
       "      <td>2</td>\n",
       "      <td>2</td>\n",
       "      <td>5</td>\n",
       "      <td>1199577600</td>\n",
       "      <td>LOACKER QUADRATINI VANILLA WAFERS</td>\n",
       "      <td>DELICIOUS WAFERS. I FIND THAT EUROPEAN WAFERS ...</td>\n",
       "    </tr>\n",
       "    <tr>\n",
       "      <th>2</th>\n",
       "      <td>138277</td>\n",
       "      <td>B000HDOPYM</td>\n",
       "      <td>AR5J8UI46CURR</td>\n",
       "      <td>Geetha Krishnan</td>\n",
       "      <td>2</td>\n",
       "      <td>2</td>\n",
       "      <td>5</td>\n",
       "      <td>1199577600</td>\n",
       "      <td>LOACKER QUADRATINI VANILLA WAFERS</td>\n",
       "      <td>DELICIOUS WAFERS. I FIND THAT EUROPEAN WAFERS ...</td>\n",
       "    </tr>\n",
       "    <tr>\n",
       "      <th>3</th>\n",
       "      <td>73791</td>\n",
       "      <td>B000HDOPZG</td>\n",
       "      <td>AR5J8UI46CURR</td>\n",
       "      <td>Geetha Krishnan</td>\n",
       "      <td>2</td>\n",
       "      <td>2</td>\n",
       "      <td>5</td>\n",
       "      <td>1199577600</td>\n",
       "      <td>LOACKER QUADRATINI VANILLA WAFERS</td>\n",
       "      <td>DELICIOUS WAFERS. I FIND THAT EUROPEAN WAFERS ...</td>\n",
       "    </tr>\n",
       "    <tr>\n",
       "      <th>4</th>\n",
       "      <td>155049</td>\n",
       "      <td>B000PAQ75C</td>\n",
       "      <td>AR5J8UI46CURR</td>\n",
       "      <td>Geetha Krishnan</td>\n",
       "      <td>2</td>\n",
       "      <td>2</td>\n",
       "      <td>5</td>\n",
       "      <td>1199577600</td>\n",
       "      <td>LOACKER QUADRATINI VANILLA WAFERS</td>\n",
       "      <td>DELICIOUS WAFERS. I FIND THAT EUROPEAN WAFERS ...</td>\n",
       "    </tr>\n",
       "  </tbody>\n",
       "</table>\n",
       "</div>"
      ],
      "text/plain": [
       "       Id   ProductId         UserId      ProfileName  HelpfulnessNumerator  \\\n",
       "0   78445  B000HDL1RQ  AR5J8UI46CURR  Geetha Krishnan                     2   \n",
       "1  138317  B000HDOPYC  AR5J8UI46CURR  Geetha Krishnan                     2   \n",
       "2  138277  B000HDOPYM  AR5J8UI46CURR  Geetha Krishnan                     2   \n",
       "3   73791  B000HDOPZG  AR5J8UI46CURR  Geetha Krishnan                     2   \n",
       "4  155049  B000PAQ75C  AR5J8UI46CURR  Geetha Krishnan                     2   \n",
       "\n",
       "   HelpfulnessDenominator  Score        Time  \\\n",
       "0                       2      5  1199577600   \n",
       "1                       2      5  1199577600   \n",
       "2                       2      5  1199577600   \n",
       "3                       2      5  1199577600   \n",
       "4                       2      5  1199577600   \n",
       "\n",
       "                             Summary  \\\n",
       "0  LOACKER QUADRATINI VANILLA WAFERS   \n",
       "1  LOACKER QUADRATINI VANILLA WAFERS   \n",
       "2  LOACKER QUADRATINI VANILLA WAFERS   \n",
       "3  LOACKER QUADRATINI VANILLA WAFERS   \n",
       "4  LOACKER QUADRATINI VANILLA WAFERS   \n",
       "\n",
       "                                                Text  \n",
       "0  DELICIOUS WAFERS. I FIND THAT EUROPEAN WAFERS ...  \n",
       "1  DELICIOUS WAFERS. I FIND THAT EUROPEAN WAFERS ...  \n",
       "2  DELICIOUS WAFERS. I FIND THAT EUROPEAN WAFERS ...  \n",
       "3  DELICIOUS WAFERS. I FIND THAT EUROPEAN WAFERS ...  \n",
       "4  DELICIOUS WAFERS. I FIND THAT EUROPEAN WAFERS ...  "
      ]
     },
     "execution_count": 5,
     "metadata": {},
     "output_type": "execute_result"
    }
   ],
   "source": [
    "display.head()"
   ]
  },
  {
   "cell_type": "markdown",
   "metadata": {},
   "source": [
    "As can be seen above the same user has multiple reviews of the with the same values for HelpfulnessNumerator, HelpfulnessDenominator, Score, Time, Summary and Text and on doing analysis it was found that \n",
    "\n",
    "ProductId=B000HDOPZG was Loacker Quadratini Vanilla Wafer Cookies, 8.82-Ounce Packages (Pack of 8)\n",
    "\n",
    "ProductId=B000HDL1RQ was Loacker Quadratini Lemon Wafer Cookies, 8.82-Ounce Packages (Pack of 8) and so on\n",
    "\n",
    "It was inferred after analysis that reviews with same parameters other than ProductId belonged to the same product just having different flavour or quantity. Hence in order to reduce redundancy it was decided to eliminate the rows having same parameters.\n",
    "\n",
    "The method used for the same was that we first sort the data according to ProductId and then just keep the first similar product review and delelte the others. for eg. in the above just the review for ProductId=B000HDL1RQ remains. This method ensures that there is only one representative for each product and deduplication without sorting would lead to possibility of different representatives still existing for the same product."
   ]
  },
  {
   "cell_type": "code",
   "execution_count": 6,
   "metadata": {},
   "outputs": [],
   "source": [
    "#Sorting data according to ProductId in ascending order\n",
    "sorted_data = filtered_data.sort_values('ProductId',axis=0,ascending= True, inplace=False, kind ='quicksort',na_position='last')"
   ]
  },
  {
   "cell_type": "code",
   "execution_count": 7,
   "metadata": {},
   "outputs": [
    {
     "data": {
      "text/plain": [
       "(19354, 10)"
      ]
     },
     "execution_count": 7,
     "metadata": {},
     "output_type": "execute_result"
    }
   ],
   "source": [
    "#Duplication of entries\n",
    "final = sorted_data.drop_duplicates(subset={'UserId','ProfileName','Time','Text'}, keep = 'first' , inplace= False)\n",
    "final.shape"
   ]
  },
  {
   "cell_type": "code",
   "execution_count": 8,
   "metadata": {},
   "outputs": [
    {
     "data": {
      "text/plain": [
       "96.77"
      ]
     },
     "execution_count": 8,
     "metadata": {},
     "output_type": "execute_result"
    }
   ],
   "source": [
    "#Checking to see how much % of data still remains\n",
    "(final['Id'].size*1.0)/(filtered_data['Id'].size*1.0)*100"
   ]
  },
  {
   "cell_type": "markdown",
   "metadata": {},
   "source": [
    "Observation:- It was also seen that in two rows given below the value of HelpfulnessNumerator is greater than HelpfulnessDenominator which is not practically possible hence these two rows too are removed from calcualtions\n",
    "    "
   ]
  },
  {
   "cell_type": "code",
   "execution_count": 9,
   "metadata": {},
   "outputs": [
    {
     "data": {
      "text/html": [
       "<div>\n",
       "<style scoped>\n",
       "    .dataframe tbody tr th:only-of-type {\n",
       "        vertical-align: middle;\n",
       "    }\n",
       "\n",
       "    .dataframe tbody tr th {\n",
       "        vertical-align: top;\n",
       "    }\n",
       "\n",
       "    .dataframe thead th {\n",
       "        text-align: right;\n",
       "    }\n",
       "</style>\n",
       "<table border=\"1\" class=\"dataframe\">\n",
       "  <thead>\n",
       "    <tr style=\"text-align: right;\">\n",
       "      <th></th>\n",
       "      <th>Id</th>\n",
       "      <th>ProductId</th>\n",
       "      <th>UserId</th>\n",
       "      <th>ProfileName</th>\n",
       "      <th>HelpfulnessNumerator</th>\n",
       "      <th>HelpfulnessDenominator</th>\n",
       "      <th>Score</th>\n",
       "      <th>Time</th>\n",
       "      <th>Summary</th>\n",
       "      <th>Text</th>\n",
       "    </tr>\n",
       "  </thead>\n",
       "  <tbody>\n",
       "    <tr>\n",
       "      <th>0</th>\n",
       "      <td>64422</td>\n",
       "      <td>B000MIDROQ</td>\n",
       "      <td>A161DK06JJMCYF</td>\n",
       "      <td>J. E. Stephens \"Jeanne\"</td>\n",
       "      <td>3</td>\n",
       "      <td>1</td>\n",
       "      <td>5</td>\n",
       "      <td>1224892800</td>\n",
       "      <td>Bought This for My Son at College</td>\n",
       "      <td>My son loves spaghetti so I didn't hesitate or...</td>\n",
       "    </tr>\n",
       "    <tr>\n",
       "      <th>1</th>\n",
       "      <td>44737</td>\n",
       "      <td>B001EQ55RW</td>\n",
       "      <td>A2V0I904FH7ABY</td>\n",
       "      <td>Ram</td>\n",
       "      <td>3</td>\n",
       "      <td>2</td>\n",
       "      <td>4</td>\n",
       "      <td>1212883200</td>\n",
       "      <td>Pure cocoa taste with crunchy almonds inside</td>\n",
       "      <td>It was almost a 'love at first bite' - the per...</td>\n",
       "    </tr>\n",
       "  </tbody>\n",
       "</table>\n",
       "</div>"
      ],
      "text/plain": [
       "      Id   ProductId          UserId              ProfileName  \\\n",
       "0  64422  B000MIDROQ  A161DK06JJMCYF  J. E. Stephens \"Jeanne\"   \n",
       "1  44737  B001EQ55RW  A2V0I904FH7ABY                      Ram   \n",
       "\n",
       "   HelpfulnessNumerator  HelpfulnessDenominator  Score        Time  \\\n",
       "0                     3                       1      5  1224892800   \n",
       "1                     3                       2      4  1212883200   \n",
       "\n",
       "                                        Summary  \\\n",
       "0             Bought This for My Son at College   \n",
       "1  Pure cocoa taste with crunchy almonds inside   \n",
       "\n",
       "                                                Text  \n",
       "0  My son loves spaghetti so I didn't hesitate or...  \n",
       "1  It was almost a 'love at first bite' - the per...  "
      ]
     },
     "execution_count": 9,
     "metadata": {},
     "output_type": "execute_result"
    }
   ],
   "source": [
    "display = pd.read_sql_query(\"\"\"\n",
    "SELECt * \n",
    "FROM Reviews\n",
    "WHERE Score !=3 AND Id=44737 OR Id=64422\n",
    "ORDER BY ProductId\n",
    "\"\"\",con)\n",
    "display.head()"
   ]
  },
  {
   "cell_type": "code",
   "execution_count": 10,
   "metadata": {},
   "outputs": [],
   "source": [
    "final = final[final.HelpfulnessNumerator <= final.HelpfulnessDenominator]"
   ]
  },
  {
   "cell_type": "code",
   "execution_count": 11,
   "metadata": {},
   "outputs": [
    {
     "data": {
      "text/plain": [
       "1    16339\n",
       "0     3015\n",
       "Name: Score, dtype: int64"
      ]
     },
     "execution_count": 11,
     "metadata": {},
     "output_type": "execute_result"
    }
   ],
   "source": [
    "final.shape\n",
    "final['Score'].value_counts()"
   ]
  },
  {
   "cell_type": "markdown",
   "metadata": {},
   "source": [
    "# Text Preprocessing.\n",
    "\n",
    "Now that we have finished deduplication our data requires some preprocessing before we go on further with analysis and making the prediction model.\n",
    "\n",
    "Hence in the Preprocessing phase we do the following in the order below:-\n",
    "\n",
    "1. Begin by removing the html tags\n",
    "2. Remove any punctuations or limited set of special characters like , or . or # etc.\n",
    "3. Check if the word is made up of english letters and is not alpha-numeric\n",
    "4. Check to see if the length of the word is greater than 2 (as it was researched that there is no adjective in 2-letters)\n",
    "5. Convert the word to lowercase\n",
    "6. Remove Stopwords\n",
    "7. Finally Snowball Stemming the word (it was obsereved to be better than Porter Stemming)<br>\n",
    "\n",
    "After which we collect the words used to describe positive and negative reviews"
   ]
  },
  {
   "cell_type": "code",
   "execution_count": 12,
   "metadata": {},
   "outputs": [],
   "source": [
    "def decontracted(phrase):\n",
    "    # specific\n",
    "    phrase = re.sub(r\"won't\", \"will not\", phrase)\n",
    "    phrase = re.sub(r\"can\\'t\", \"can not\", phrase)\n",
    "\n",
    "    # general\n",
    "    phrase = re.sub(r\"n\\'t\", \" not\", phrase)\n",
    "    phrase = re.sub(r\"\\'re\", \" are\", phrase)\n",
    "    phrase = re.sub(r\"\\'s\", \" is\", phrase)\n",
    "    phrase = re.sub(r\"\\'d\", \" would\", phrase)\n",
    "    phrase = re.sub(r\"\\'ll\", \" will\", phrase)\n",
    "    phrase = re.sub(r\"\\'t\", \" not\", phrase)\n",
    "    phrase = re.sub(r\"\\'ve\", \" have\", phrase)\n",
    "    phrase = re.sub(r\"\\'m\", \" am\", phrase)\n",
    "    return phrase"
   ]
  },
  {
   "cell_type": "code",
   "execution_count": 13,
   "metadata": {},
   "outputs": [],
   "source": [
    "stopwords= set(['br', 'the', 'i', 'me', 'my', 'myself', 'we', 'our', 'ours', 'ourselves', 'you', \"you're\", \"you've\",\\\n",
    "            \"you'll\", \"you'd\", 'your', 'yours', 'yourself', 'yourselves', 'he', 'him', 'his', 'himself', \\\n",
    "            'she', \"she's\", 'her', 'hers', 'herself', 'it', \"it's\", 'its', 'itself', 'they', 'them', 'their',\\\n",
    "            'theirs', 'themselves', 'what', 'which', 'who', 'whom', 'this', 'that', \"that'll\", 'these', 'those', \\\n",
    "            'am', 'is', 'are', 'was', 'were', 'be', 'been', 'being', 'have', 'has', 'had', 'having', 'do', 'does', \\\n",
    "            'did', 'doing', 'a', 'an', 'the', 'and', 'but', 'if', 'or', 'because', 'as', 'until', 'while', 'of', \\\n",
    "            'at', 'by', 'for', 'with', 'about', 'against', 'between', 'into', 'through', 'during', 'before', 'after',\\\n",
    "            'above', 'below', 'to', 'from', 'up', 'down', 'in', 'out', 'on', 'off', 'over', 'under', 'again', 'further',\\\n",
    "            'then', 'once', 'here', 'there', 'when', 'where', 'why', 'how', 'all', 'any', 'both', 'each', 'few', 'more',\\\n",
    "            'most', 'other', 'some', 'such', 'only', 'own', 'same', 'so', 'than', 'too', 'very', \\\n",
    "            's', 't', 'can', 'will', 'just', 'don', \"don't\", 'should', \"should've\", 'now', 'd', 'll', 'm', 'o', 're', \\\n",
    "            've', 'y', 'ain', 'aren', \"aren't\", 'couldn', \"couldn't\", 'didn', \"didn't\", 'doesn', \"doesn't\", 'hadn',\\\n",
    "            \"hadn't\", 'hasn', \"hasn't\", 'haven', \"haven't\", 'isn', \"isn't\", 'ma', 'mightn', \"mightn't\", 'mustn',\\\n",
    "            \"mustn't\", 'needn', \"needn't\", 'shan', \"shan't\", 'shouldn', \"shouldn't\", 'wasn', \"wasn't\", 'weren', \"weren't\", \\\n",
    "            'won', \"won't\", 'wouldn', \"wouldn't\"])"
   ]
  },
  {
   "cell_type": "code",
   "execution_count": 14,
   "metadata": {},
   "outputs": [],
   "source": [
    "# Combining all the above stundents \n",
    "from tqdm import tqdm\n",
    "preprocessed_reviews = []\n",
    "# tqdm is for printing the status bar\n",
    "# for sentance in tqdm(final['Text'].values):\n",
    "for sentance in final['Text'].values:\n",
    "    sentance = re.sub(r\"http\\S+\",\"\",sentance)\n",
    "    sentance = BeautifulSoup(sentance,'lxml').get_text()\n",
    "    sentance = decontracted(sentance)\n",
    "    sentance = re.sub(\"\\S*\\d\\S*\",\"\",sentance).strip()\n",
    "    sentance = re.sub('[^A-Za-z]+',' ',sentance)\n",
    "    sentance = ' '.join(e.lower() for e in sentance.split() if e.lower() not in stopwords)  \n",
    "    preprocessed_reviews.append(sentance.strip())"
   ]
  },
  {
   "cell_type": "code",
   "execution_count": 15,
   "metadata": {},
   "outputs": [],
   "source": [
    "# Add pre processed reviews in to final df\n",
    "# final['preprocessed_reviews'] = preprocessed_reviews"
   ]
  },
  {
   "cell_type": "code",
   "execution_count": 16,
   "metadata": {},
   "outputs": [
    {
     "data": {
      "text/plain": [
       "'received box great anticipation since not sell west coast got package opened box extremely disappointed cookies looked like gorilla shook box death left box filled crumbs rodent sized hole side box needless say not not reordering'"
      ]
     },
     "execution_count": 16,
     "metadata": {},
     "output_type": "execute_result"
    }
   ],
   "source": [
    "preprocessed_reviews[1000]"
   ]
  },
  {
   "cell_type": "markdown",
   "metadata": {},
   "source": [
    "<h2><font color='red'>[3.2] Preprocess Summary</font></h2>"
   ]
  },
  {
   "cell_type": "code",
   "execution_count": 17,
   "metadata": {},
   "outputs": [
    {
     "name": "stderr",
     "output_type": "stream",
     "text": [
      "C:\\ProgramData\\Anaconda3\\lib\\site-packages\\bs4\\__init__.py:273: UserWarning: \"b'...'\" looks like a filename, not markup. You should probably open this file and pass the filehandle into Beautiful Soup.\n",
      "  ' Beautiful Soup.' % markup)\n"
     ]
    }
   ],
   "source": [
    "##preprocessing for review summary also.\n",
    "\n",
    "# Combining all the above stundents \n",
    "from tqdm import tqdm\n",
    "preprocessed_summary = []\n",
    "# tqdm is for printing the status bar\n",
    "# for sentance in tqdm(final['Summary'].values):\n",
    "for sentance in (final['Summary'].values):\n",
    "\n",
    "    sentance = re.sub(r\"http\\S+\",\"\",sentance)\n",
    "    sentance = BeautifulSoup(sentance,'lxml').get_text()\n",
    "    sentance = decontracted(sentance)\n",
    "    sentance = re.sub(\"\\S*\\d\\S*\",\"\",sentance).strip()\n",
    "    sentance = re.sub('[^A-Za-z]+',' ',sentance)\n",
    "    sentance = ' '.join(e.lower() for e in sentance.split() if e.lower() not in stopwords)  \n",
    "    preprocessed_summary.append(sentance.strip())"
   ]
  },
  {
   "cell_type": "markdown",
   "metadata": {},
   "source": [
    "# Featurization\n",
    "\n",
    "BAG OF WORDS, Bi-Grams and n-Grams, TF-IDF, Word2Vec, Converting text into vectors using wAvg W2V, TFIDF-W2V, Avg W2v, TFIDF weighted W2v"
   ]
  },
  {
   "cell_type": "code",
   "execution_count": 18,
   "metadata": {},
   "outputs": [],
   "source": [
    "#storing label i.e positive and negative in another variable for tsne plot\n",
    "labels = final['Score'] \n"
   ]
  },
  {
   "cell_type": "markdown",
   "metadata": {},
   "source": [
    "\n",
    "\n",
    "## BAG OF WORDS"
   ]
  },
  {
   "cell_type": "code",
   "execution_count": 19,
   "metadata": {},
   "outputs": [
    {
     "name": "stdout",
     "output_type": "stream",
     "text": [
      "some feature names are ['aa', 'aaaa', 'aaaaa', 'aaaand', 'aafco', 'aahhhs', 'aahs', 'ab', 'aback', 'abandon']\n",
      "==================================================\n",
      "the type of count vectorizer  <class 'scipy.sparse.csr.csr_matrix'>\n",
      "the shape of out text BOW vectorizer  (19354, 25997)\n",
      "the number of unique words 25997\n"
     ]
    }
   ],
   "source": [
    "#BOW\n",
    "count_vect = CountVectorizer()\n",
    "count_vect.fit(preprocessed_reviews)\n",
    "print('some feature names are',count_vect.get_feature_names()[:10])\n",
    "print('='*50)\n",
    "\n",
    "final_counts = count_vect.transform(preprocessed_reviews)\n",
    "print(\"the type of count vectorizer \",type(final_counts))\n",
    "print(\"the shape of out text BOW vectorizer \",final_counts.get_shape())\n",
    "print(\"the number of unique words\",final_counts.get_shape()[1])"
   ]
  },
  {
   "cell_type": "markdown",
   "metadata": {},
   "source": [
    "## Bi-Grams and n-Grams."
   ]
  },
  {
   "cell_type": "code",
   "execution_count": 20,
   "metadata": {},
   "outputs": [
    {
     "name": "stdout",
     "output_type": "stream",
     "text": [
      "the type of count vectorizer  <class 'scipy.sparse.csr.csr_matrix'>\n",
      "the shape of out text BOW vectorizer (19354, 5000)\n",
      "the number of unique words including both unigrams and bigrams 5000\n"
     ]
    }
   ],
   "source": [
    "#bi-gram, tri-gram and n-gram\n",
    "\n",
    "#removing stop words like \"not\" should be avoided before building n-grams\n",
    "# count_vect = CountVectorizer(ngram_range=(1,2))\n",
    "count_vect = CountVectorizer(ngram_range=(1,2),min_df=10,max_features=5000)\n",
    "final_bigram_counts = count_vect.fit_transform(preprocessed_reviews)\n",
    "print(\"the type of count vectorizer \",type(final_bigram_counts))\n",
    "print(\"the shape of out text BOW vectorizer\",final_bigram_counts.get_shape())\n",
    "print(\"the number of unique words including both unigrams and bigrams\",final_bigram_counts.get_shape()[1])"
   ]
  },
  {
   "cell_type": "markdown",
   "metadata": {},
   "source": [
    "## TF-IDF"
   ]
  },
  {
   "cell_type": "code",
   "execution_count": 21,
   "metadata": {},
   "outputs": [
    {
     "name": "stdout",
     "output_type": "stream",
     "text": [
      "some sample features(unique words in the corpus) ['ability', 'able', 'able buy', 'able eat', 'able find', 'able get', 'able give', 'able make', 'able order', 'able purchase']\n",
      "==================================================\n",
      "the type of count vectorizer  <class 'scipy.sparse.csr.csr_matrix'>\n",
      "the shape of out text TFIDF vectorizer  (19354, 11762)\n",
      "the number of unique words including both unigrams and bigrams  11762\n"
     ]
    }
   ],
   "source": [
    "tf_idf_vect = TfidfVectorizer(ngram_range=(1,2), min_df =10)\n",
    "tf_idf_vect.fit(preprocessed_reviews)\n",
    "print(\"some sample features(unique words in the corpus)\",tf_idf_vect.get_feature_names()[:10])\n",
    "print('='*50)\n",
    "final_tf_idf = tf_idf_vect.transform(preprocessed_reviews)\n",
    "print(\"the type of count vectorizer \",type(final_tf_idf))\n",
    "print(\"the shape of out text TFIDF vectorizer \",final_tf_idf.get_shape())\n",
    "print(\"the number of unique words including both unigrams and bigrams \", final_tf_idf.get_shape()[1])"
   ]
  },
  {
   "cell_type": "markdown",
   "metadata": {},
   "source": [
    "##  Word2Vec"
   ]
  },
  {
   "cell_type": "code",
   "execution_count": 22,
   "metadata": {},
   "outputs": [],
   "source": [
    "# Train your own Word2Vec model using your own text corpus\n",
    "# i = 0\n",
    "list_of_sentance = []\n",
    "for sentance in preprocessed_reviews:\n",
    "#     list_of_sentance.append(sentance)\n",
    "    list_of_sentance.append(sentance.split())\n",
    "# print((list_of_sentance))"
   ]
  },
  {
   "cell_type": "code",
   "execution_count": 23,
   "metadata": {},
   "outputs": [
    {
     "name": "stdout",
     "output_type": "stream",
     "text": [
      "<class 'gensim.models.word2vec.Word2Vec'>\n",
      "[('good', 0.8307294249534607), ('awesome', 0.820031464099884), ('excellent', 0.8074917793273926), ('wonderful', 0.7911520004272461), ('amazing', 0.7876395583152771), ('fantastic', 0.7802572846412659), ('decent', 0.7413613200187683), ('perfect', 0.6911841034889221), ('super', 0.6856997013092041), ('delicious', 0.685686469078064)]\n",
      "==================================================\n",
      "[('personal', 0.8410727381706238), ('closest', 0.8388027548789978), ('hottest', 0.8318940997123718), ('awful', 0.8056787252426147), ('hooked', 0.8014079928398132), ('socks', 0.7952672839164734), ('reminded', 0.7942043542861938), ('disappointing', 0.7941983342170715), ('addicted', 0.7933684587478638), ('greatest', 0.7886935472488403)]\n"
     ]
    }
   ],
   "source": [
    "# Using Google News Word2Vectors\n",
    "is_your_ram_gt_16gb = False\n",
    "want_to_use_google_w2v = True\n",
    "want_to_train_w2v = True\n",
    "\n",
    "# print(list_of_sentance)\n",
    "\n",
    "if want_to_train_w2v:\n",
    "   # min_count = 5 considers only words that occured atleast 5 times\n",
    "    w2v_model = Word2Vec(list_of_sentance,min_count = 5 ,size = 50 ,workers = 4)\n",
    "    print(type(w2v_model))\n",
    "    print(w2v_model.wv.most_similar('great'))\n",
    "    print('='*50)\n",
    "    print(w2v_model.wv.most_similar('worst'))\n",
    "    \n",
    "\n",
    "elif want_to_use_google_w2v and is_your_ram_gt_16gb :\n",
    "    if os.path.isfile('GoogleNews-vectors-negative300.bin'):\n",
    "        w2v_model = KeyedVectors.load_word2vec_format('GoogleNews-vectors-negative300.bin',binary = True)\n",
    "        print(w2v_model.wv.most_similar('great'))\n",
    "        print(w2v_model.wv.most_similar('worst'))\n",
    "    else:\n",
    "        print(\"you don't have gogole's word2vec file, keep want_to_train_w2v = True, to train your own w2v \")    \n",
    "\n"
   ]
  },
  {
   "cell_type": "code",
   "execution_count": 24,
   "metadata": {},
   "outputs": [
    {
     "name": "stdout",
     "output_type": "stream",
     "text": [
      "<class 'gensim.models.word2vec.Word2Vec'>\n",
      "number of words that occured minimum 5 times  8370\n",
      "sample words  ['used', 'fly', 'bait', 'seasons', 'ca', 'not', 'beat', 'great', 'product', 'available', 'traps', 'course', 'total', 'pretty', 'stinky', 'right', 'nearby', 'really', 'good', 'idea', 'final', 'outstanding', 'use', 'car', 'window', 'everybody', 'asks', 'bought', 'made', 'two', 'thumbs', 'received', 'shipment', 'could', 'hardly', 'wait', 'try', 'love', 'call', 'instead', 'stickers', 'removed', 'easily', 'daughter', 'designed', 'signs', 'printed', 'reverse', 'windows', 'beautifully']\n"
     ]
    }
   ],
   "source": [
    "print(type(w2v_model))\n",
    "w2v_words = list(w2v_model.wv.vocab)\n",
    "print(\"number of words that occured minimum 5 times \",len(w2v_words))\n",
    "print(\"sample words \", w2v_words[0:50])"
   ]
  },
  {
   "cell_type": "markdown",
   "metadata": {},
   "source": [
    "## Converting text into vectors using wAvg W2V, TFIDF-W2V\n"
   ]
  },
  {
   "cell_type": "markdown",
   "metadata": {},
   "source": [
    "####  Avg W2v"
   ]
  },
  {
   "cell_type": "code",
   "execution_count": 25,
   "metadata": {},
   "outputs": [
    {
     "name": "stdout",
     "output_type": "stream",
     "text": [
      "19354\n",
      "50\n"
     ]
    }
   ],
   "source": [
    "#average word2vec\n",
    "#compute average word2 vec for each review\n",
    "sent_vectors = [];\n",
    "# for sent in tqdm(list_of_sentance):\n",
    "for sent in (list_of_sentance):\n",
    "    \n",
    "    sent_vec = np.zeros(50) # as word vectors are of zero length 50, you might need to change this to 300 if you use google's w2v\n",
    "    cnt_words = 0;\n",
    "    for word in sent:\n",
    "        if word in w2v_words:\n",
    "            vec = w2v_model.wv[word]\n",
    "            sent_vec += vec\n",
    "            cnt_words += 1\n",
    "    if cnt_words != 0:\n",
    "        sent_vec  /=cnt_words\n",
    "    sent_vectors.append(sent_vec)\n",
    "print(len(sent_vectors))\n",
    "print(len(sent_vectors[0]))        \n",
    "\n"
   ]
  },
  {
   "cell_type": "markdown",
   "metadata": {},
   "source": [
    "####  TFIDF weighted W2v"
   ]
  },
  {
   "cell_type": "code",
   "execution_count": 26,
   "metadata": {},
   "outputs": [],
   "source": [
    "# S = [\"abc def pqr\", \"def def def abc\", \"pqr pqr def\"]\n",
    "model = TfidfVectorizer()\n",
    "model.fit(preprocessed_reviews)\n",
    "# we are converting a dictionary with word as a key, and the idf as a value\n",
    "dictionary = dict(zip(model.get_feature_names(),list(model.idf_)))\n"
   ]
  },
  {
   "cell_type": "code",
   "execution_count": 27,
   "metadata": {},
   "outputs": [],
   "source": [
    "# TF-IDF weighted Word2Vec\n",
    "tfidf_feat = model.get_feature_names()\n",
    "\n",
    "# final_tf_idf is the sparse matrix with row= sentence, col=word and cell_val = tfidf\n",
    "\n",
    "tfidf_sent_vectors = [] ; # the tfidf-w2v for each sentence/review is stored in this list\n",
    "row = 0\n",
    "# for sent in tqdm(list_of_sentance):\n",
    "for sent in (list_of_sentance):  \n",
    "    sent_vec = np.zeros(50)\n",
    "    weight_sum = 0; # as word vectors are of zero length\n",
    "    for word in sent: # for each word in a review/sentence\n",
    "        if word in w2v_words and word in tfidf_feat:\n",
    "            vec = w2v_model.wv[word]\n",
    "            # tf_idf = tf_idf_matrix[row, tfidf_feat.index(word)]\n",
    "            # to reduce the computation we are \n",
    "            # dictionary[word] = idf value of word in whole courpus\n",
    "            # sent.count(word) = tf valeus of word in this review\n",
    "            tf_idf = dictionary[word]*(sent.count(word)/len(sent))\n",
    "            sent_vec += (vec * tf_idf)\n",
    "            weight_sum += tf_idf\n",
    "    if weight_sum != 0:\n",
    "        sent_vec /= weight_sum\n",
    "    tfidf_sent_vectors.append(sent_vec)\n",
    "    row += 1\n"
   ]
  },
  {
   "cell_type": "code",
   "execution_count": null,
   "metadata": {},
   "outputs": [],
   "source": []
  },
  {
   "cell_type": "markdown",
   "metadata": {},
   "source": [
    "# [5] Assignment 3: KNN"
   ]
  },
  {
   "cell_type": "markdown",
   "metadata": {},
   "source": [
    "<ol>\n",
    "    <li><strong>Apply Knn(brute force version) on these feature sets</strong>\n",
    "        <ul>\n",
    "            <li><font color='red'>SET 1:</font>Review text, preprocessed one converted into vectors using (BOW)</li>\n",
    "            <li><font color='red'>SET 2:</font>Review text, preprocessed one converted into vectors using (TFIDF)</li>\n",
    "            <li><font color='red'>SET 3:</font>Review text, preprocessed one converted into vectors using (AVG W2v)</li>\n",
    "            <li><font color='red'>SET 4:</font>Review text, preprocessed one converted into vectors using (TFIDF W2v)</li>\n",
    "        </ul>\n",
    "    </li>\n",
    "    <br>\n",
    "    <li><strong>Apply Knn(kd tree version) on these feature sets</strong>\n",
    "        <br><font color='red'>NOTE: </font>sklearn implementation of kd-tree accepts only dense matrices, you need to convert the sparse matrices of CountVectorizer/TfidfVectorizer into dense matices. You can convert sparse matrices to dense using .toarray() attribute. For more information please visit this <a href='https://docs.scipy.org/doc/scipy-0.18.1/reference/generated/scipy.sparse.csr_matrix.toarray.html'>link</a>\n",
    "        <ul>\n",
    "            <li><font color='red'>SET 5:</font>Review text, preprocessed one converted into vectors using (BOW) but with restriction on maximum features generated.\n",
    "            <pre>\n",
    "            count_vect = CountVectorizer(min_df=10, max_features=500) \n",
    "            count_vect.fit(preprocessed_reviews)\n",
    "            </pre>\n",
    "            </li>\n",
    "            <li><font color='red'>SET 6:</font>Review text, preprocessed one converted into vectors using (TFIDF) but with restriction on maximum features generated.\n",
    "            <pre>\n",
    "                tf_idf_vect = TfidfVectorizer(min_df=10, max_features=500)\n",
    "                tf_idf_vect.fit(preprocessed_reviews)\n",
    "            </pre>\n",
    "            </li>\n",
    "            <li><font color='red'>SET 3:</font>Review text, preprocessed one converted into vectors using (AVG W2v)</li>\n",
    "            <li><font color='red'>SET 4:</font>Review text, preprocessed one converted into vectors using (TFIDF W2v)</li>\n",
    "        </ul>\n",
    "    </li>\n",
    "    <br>\n",
    "    <li><strong>The hyper paramter tuning(find best K)</strong>\n",
    "        <ul>\n",
    "    <li>Find the best hyper parameter which will give the maximum <a href='https://www.appliedaicourse.com/course/applied-ai-course-online/lessons/receiver-operating-characteristic-curve-roc-curve-and-auc-1/'>AUC</a> value</li>\n",
    "    <li>Find the best hyper paramter using k-fold cross validation or simple cross validation data</li>\n",
    "    <li>Use gridsearch cv or randomsearch cv or you can also write your own for loops to do this task of hyperparameter tuning</li>\n",
    "        </ul>\n",
    "    </li>\n",
    "    <br>\n",
    "    <li>\n",
    "    <strong>Representation of results</strong>\n",
    "        <ul>\n",
    "    <li>You need to plot the performance of model both on train data and cross validation data for each hyper parameter, like shown in the figure\n",
    "    <img src='train_cv_auc.JPG' width=300px></li>\n",
    "    <li>Once after you found the best hyper parameter, you need to train your model with it, and find the AUC on test data and plot the ROC curve on both train and test.\n",
    "    <img src='train_test_auc.JPG' width=300px></li>\n",
    "    <li>Along with plotting ROC curve, you need to print the <a href='https://www.appliedaicourse.com/course/applied-ai-course-online/lessons/confusion-matrix-tpr-fpr-fnr-tnr-1/'>confusion matrix</a> with predicted and original labels of test data points\n",
    "    <img src='confusion_matrix.png' width=300px></li>\n",
    "        </ul>\n",
    "    </li>\n",
    "    <br>\n",
    "    <li><strong>Conclusion</strong>\n",
    "        <ul>\n",
    "    <li>You need to summarize the results at the end of the notebook, summarize it in the table format. To print out a table please refer to this prettytable library<a href='http://zetcode.com/python/prettytable/'> link</a> \n",
    "        <img src='summary.JPG' width=400px>\n",
    "    </li>\n",
    "m        </ul>\n",
    "</ol>"
   ]
  },
  {
   "cell_type": "markdown",
   "metadata": {},
   "source": [
    "<h4><font color='red'>Note: Data Leakage</font></h4>\n",
    "\n",
    "1. There will be an issue of data-leakage if you vectorize the entire data and then split it into train/cv/test.\n",
    "2. To avoid the issue of data-leakag, make sure to split your data first and then vectorize it. \n",
    "3. While vectorizing your data, apply the method fit_transform() on you train data, and apply the method transform() on cv/test data.\n",
    "4. For more details please go through this <a href='https://soundcloud.com/applied-ai-course/leakage-bow-and-tfidf'>link.</a>"
   ]
  },
  {
   "cell_type": "markdown",
   "metadata": {
    "colab_type": "text",
    "id": "Hut2gnvlJ5hZ"
   },
   "source": [
    "## 1.1 Applying KNN - Brute force"
   ]
  },
  {
   "cell_type": "markdown",
   "metadata": {
    "colab_type": "text",
    "id": "jTpUqwRVJ5ha"
   },
   "source": [
    "### 1.1.1 Applying KNN brute force on BOW, SET1"
   ]
  },
  {
   "cell_type": "markdown",
   "metadata": {},
   "source": [
    "#### Hyper parameter Tuning using Simple for loop"
   ]
  },
  {
   "cell_type": "code",
   "execution_count": 1,
   "metadata": {},
   "outputs": [
    {
     "ename": "NameError",
     "evalue": "name 'preprocessed_reviews' is not defined",
     "output_type": "error",
     "traceback": [
      "\u001b[1;31m---------------------------------------------------------------------------\u001b[0m",
      "\u001b[1;31mNameError\u001b[0m                                 Traceback (most recent call last)",
      "\u001b[1;32m<ipython-input-1-dd163b47ed86>\u001b[0m in \u001b[0;36m<module>\u001b[1;34m\u001b[0m\n\u001b[0;32m      4\u001b[0m \u001b[1;32mfrom\u001b[0m \u001b[0msklearn\u001b[0m\u001b[1;33m.\u001b[0m\u001b[0mmetrics\u001b[0m \u001b[1;32mimport\u001b[0m \u001b[0mroc_auc_score\u001b[0m\u001b[1;33m,\u001b[0m\u001b[0mauc\u001b[0m\u001b[1;33m\u001b[0m\u001b[1;33m\u001b[0m\u001b[0m\n\u001b[0;32m      5\u001b[0m \u001b[1;33m\u001b[0m\u001b[0m\n\u001b[1;32m----> 6\u001b[1;33m \u001b[0mx\u001b[0m \u001b[1;33m=\u001b[0m \u001b[0mpreprocessed_reviews\u001b[0m\u001b[1;33m\u001b[0m\u001b[1;33m\u001b[0m\u001b[0m\n\u001b[0m\u001b[0;32m      7\u001b[0m \u001b[0my\u001b[0m \u001b[1;33m=\u001b[0m \u001b[0mfinal\u001b[0m\u001b[1;33m[\u001b[0m\u001b[1;34m'Score'\u001b[0m\u001b[1;33m]\u001b[0m\u001b[1;33m.\u001b[0m\u001b[0mvalues\u001b[0m\u001b[1;33m\u001b[0m\u001b[1;33m\u001b[0m\u001b[0m\n\u001b[0;32m      8\u001b[0m \u001b[1;33m\u001b[0m\u001b[0m\n",
      "\u001b[1;31mNameError\u001b[0m: name 'preprocessed_reviews' is not defined"
     ]
    }
   ],
   "source": [
    "from sklearn.model_selection import train_test_split\n",
    "from sklearn.feature_extraction.text import CountVectorizer\n",
    "from sklearn.neighbors import KNeighborsClassifier\n",
    "from sklearn.metrics import roc_auc_score,auc\n",
    "\n",
    "x = preprocessed_reviews\n",
    "y = final['Score'].values\n",
    "\n",
    "# print(\"shape of x is\",type(x))\n",
    "# print(\"shape of y is\",type(y))\n",
    "\n",
    "#tarin ,cv, test split\n",
    "x1 , x_test, y1, y_test = train_test_split(x , y ,test_size =0.3,random_state = 0)\n",
    "x_train, x_cv, y_train, y_cv = train_test_split(x1, y1, test_size = 0.3)\n"
   ]
  },
  {
   "cell_type": "code",
   "execution_count": 29,
   "metadata": {},
   "outputs": [
    {
     "data": {
      "image/png": "[encoded data removed]",
      "text/plain": [
       "<Figure size 432x288 with 1 Axes>"
      ]
     },
     "metadata": {
      "needs_background": "light"
     },
     "output_type": "display_data"
    }
   ],
   "source": [
    "# Applying KNN brute force on BOW\n",
    "\n",
    "cou_vec = CountVectorizer()\n",
    "tran_x_train = cou_vec.fit_transform(x_train)\n",
    "tran_x_cv = cou_vec.transform(x_cv)\n",
    "tran_x_test = cou_vec.transform(x_test)\n",
    "\n",
    "train_auc = []  \n",
    "cv_auc = []\n",
    "\n",
    "k = list(range(1,50,2))\n",
    "for i in k:\n",
    "    knn = KNeighborsClassifier(n_neighbors = i, weights = 'uniform', algorithm = 'brute', leaf_size =30, p = 2, metric = 'cosine')\n",
    "    knn.fit(tran_x_train,y_train)\n",
    "    \n",
    "    y_train_pred = knn.predict_proba(tran_x_train)[:,1]\n",
    "    y_cv_pred = knn.predict_proba(tran_x_cv)[:,1]\n",
    "    \n",
    "    train_auc.append(roc_auc_score(y_train,y_train_pred))\n",
    "    cv_auc.append(roc_auc_score(y_cv,y_cv_pred))\n",
    "    \n",
    "plt.plot(k, train_auc,label = 'Train AUC')\n",
    "plt.plot(k, cv_auc,label = 'CV AUC')\n",
    "plt.legend()\n",
    "plt.xlabel('k: hyperparameter')\n",
    "plt.ylabel('AUC')\n",
    "plt.title('Error Plots')\n",
    "plt.show()"
   ]
  },
  {
   "cell_type": "markdown",
   "metadata": {},
   "source": [
    "#### Testing with Test data"
   ]
  },
  {
   "cell_type": "code",
   "execution_count": 30,
   "metadata": {},
   "outputs": [
    {
     "data": {
      "image/png": "[encoded data removed]",
      "text/plain": [
       "<Figure size 432x288 with 1 Axes>"
      ]
     },
     "metadata": {
      "needs_background": "light"
     },
     "output_type": "display_data"
    }
   ],
   "source": [
    "#ROC curve for k=40\n",
    "#from above statistics we take k=49 as our best hyperparameter\n",
    "\n",
    "knn = KNeighborsClassifier(n_neighbors= 40, weights= 'uniform',algorithm= 'brute', leaf_size= 30, p = 2, metric= 'cosine')\n",
    "\n",
    "knn.fit(tran_x_train,y_train)\n",
    "train_prob =  knn.predict_proba(tran_x_train)[:,1]\n",
    "test_prob = knn.predict_proba(tran_x_test)[:,1]\n",
    "\n",
    "# print('----------train_prob---')\n",
    "# print(train_prob)\n",
    "# print('----------y-train------')\n",
    "# print(y_train)\n",
    "\n",
    "#convert the y_train and y_test string in to 0 and 1\n",
    "# y_train_labels = []\n",
    "# for i in y_train:\n",
    "#     if i == 'Positive':\n",
    "#         y_train_labels.append(1)\n",
    "#     else :\n",
    "#         y_train_labels.append(0)\n",
    "\n",
    "\n",
    "\n",
    "train_fpr, train_tpr, thresholds = metrics.roc_curve(y_train, train_prob )\n",
    "test_fpr, test_tpr, thresholds1 = metrics.roc_curve(y_test,test_prob)\n",
    "\n",
    "plt.plot(train_fpr ,train_tpr , label = 'train AUC '+str(auc(train_fpr, train_tpr)))\n",
    "plt.plot(test_fpr, test_tpr , label = 'test AUC ' + str(auc(test_fpr,test_tpr)))\n",
    "\n",
    "plt.xlabel('FPR')\n",
    "plt.ylabel('TPR')\n",
    "plt.title('ROC - error plots')\n",
    "plt.legend()\n",
    "plt.show()\n"
   ]
  },
  {
   "cell_type": "markdown",
   "metadata": {},
   "source": [
    "#### Confusion Matrix"
   ]
  },
  {
   "cell_type": "code",
   "execution_count": 31,
   "metadata": {},
   "outputs": [
    {
     "name": "stdout",
     "output_type": "stream",
     "text": [
      "Train confusion matrix\n",
      "[[ 334 1124]\n",
      " [ 111 7913]]\n",
      "Test confusion matrix\n",
      "[[ 158  741]\n",
      " [  99 4809]]\n"
     ]
    },
    {
     "data": {
      "image/png": "[encoded data removed]",
      "text/plain": [
       "<Figure size 432x288 with 2 Axes>"
      ]
     },
     "metadata": {
      "needs_background": "light"
     },
     "output_type": "display_data"
    }
   ],
   "source": [
    "#Confusion Matrix\n",
    "\n",
    "print('Train confusion matrix')\n",
    "print(confusion_matrix(y_train, knn.predict(tran_x_train)))\n",
    "print('Test confusion matrix')\n",
    "print(confusion_matrix(y_test,knn.predict(tran_x_test)))\n",
    "\n",
    "cnf_mat = confusion_matrix(y_test,knn.predict(tran_x_test))\n",
    "class_labels = ['Positive','Negative']\n",
    "df = pd.DataFrame(cnf_mat, index= class_labels , columns= class_labels)\n",
    "sb.heatmap(df, annot= True, fmt= 'd')\n",
    "\n",
    "\n",
    "plt.title('Confusion Matrix')\n",
    "plt.xlabel('Predicted')\n",
    "plt.ylabel('Actual')\n",
    "plt.show()\n"
   ]
  },
  {
   "cell_type": "markdown",
   "metadata": {},
   "source": [
    "### 1.1.2 Applying KNN brute force on TFIDF"
   ]
  },
  {
   "cell_type": "markdown",
   "metadata": {},
   "source": [
    "#### Hyper parameter Tuning using Simple for loop"
   ]
  },
  {
   "cell_type": "code",
   "execution_count": 32,
   "metadata": {},
   "outputs": [
    {
     "data": {
      "image/png": "[encoded data removed]",
      "text/plain": [
       "<Figure size 432x288 with 1 Axes>"
      ]
     },
     "metadata": {
      "needs_background": "light"
     },
     "output_type": "display_data"
    }
   ],
   "source": [
    "# Applying KNN brute force on TFIDF\n",
    "\n",
    "tf_idf_vect = TfidfVectorizer(ngram_range=(1,2), min_df = 10)\n",
    "\n",
    "tran_x_train = tf_idf_vect.fit_transform(x_train)\n",
    "tran_x_cv = tf_idf_vect.transform(x_cv)\n",
    "tran_x_test = tf_idf_vect.transform(x_test)\n",
    "\n",
    "train_auc = []  \n",
    "cv_auc = []\n",
    "\n",
    "k = list(range(1,50,4))\n",
    "\n",
    "for i in k:\n",
    "    knn = KNeighborsClassifier(n_neighbors = i, weights = 'uniform', algorithm = 'brute', leaf_size =30, p = 2, metric = 'cosine')\n",
    "    knn.fit(tran_x_train,y_train)\n",
    "    \n",
    "    y_train_pred = knn.predict_proba(tran_x_train)[:,1]\n",
    "    y_cv_pred = knn.predict_proba(tran_x_cv)[:,1]\n",
    "    \n",
    "    train_auc.append(roc_auc_score(y_train,y_train_pred))\n",
    "    cv_auc.append(roc_auc_score(y_cv,y_cv_pred))\n",
    "    \n",
    "plt.plot(k, train_auc,label = 'Train AUC')\n",
    "plt.plot(k, cv_auc,label = 'CV AUC')\n",
    "plt.legend()\n",
    "plt.xlabel('k: hyperparameter')\n",
    "plt.ylabel('AUC')\n",
    "plt.title('Error Plots')\n",
    "plt.show()"
   ]
  },
  {
   "cell_type": "markdown",
   "metadata": {},
   "source": [
    "#### Testing with Test data"
   ]
  },
  {
   "cell_type": "code",
   "execution_count": 33,
   "metadata": {},
   "outputs": [
    {
     "data": {
      "image/png": "[encoded data removed]",
      "text/plain": [
       "<Figure size 432x288 with 1 Axes>"
      ]
     },
     "metadata": {
      "needs_background": "light"
     },
     "output_type": "display_data"
    }
   ],
   "source": [
    "#ROC curve for k=39\n",
    "#from above statistics we take k=49 as our best hyperparameter\n",
    "\n",
    "knn = KNeighborsClassifier(n_neighbors= 39, weights= 'uniform',algorithm= 'brute', leaf_size= 30, p = 2, metric= 'cosine')\n",
    "\n",
    "knn.fit(tran_x_train,y_train)\n",
    "train_prob =  knn.predict_proba(tran_x_train)[:,1]\n",
    "test_prob = knn.predict_proba(tran_x_test)[:,1]\n",
    "\n",
    "train_fpr, train_tpr, thresholds = metrics.roc_curve(y_train, train_prob )\n",
    "test_fpr, test_tpr, thresholds1 = metrics.roc_curve(y_test,test_prob)\n",
    "\n",
    "plt.plot(train_fpr ,train_tpr , label = 'train AUC '+str(auc(train_fpr, train_tpr)))\n",
    "plt.plot(test_fpr, test_tpr , label = 'test AUC ' + str(auc(test_fpr,test_tpr)))\n",
    "\n",
    "plt.xlabel('FPR')\n",
    "plt.ylabel('TPR')\n",
    "plt.title('ROC - error plots')\n",
    "plt.legend()\n",
    "plt.show()\n"
   ]
  },
  {
   "cell_type": "markdown",
   "metadata": {},
   "source": [
    "#### Confusion Matrix"
   ]
  },
  {
   "cell_type": "code",
   "execution_count": 34,
   "metadata": {},
   "outputs": [
    {
     "name": "stdout",
     "output_type": "stream",
     "text": [
      "Train confusion matrix\n",
      "[[ 147 1311]\n",
      " [   8 8016]]\n",
      "Test confusion matrix\n",
      "[[  74  825]\n",
      " [   8 4900]]\n"
     ]
    },
    {
     "data": {
      "image/png": "[encoded data removed]",
      "text/plain": [
       "<Figure size 432x288 with 2 Axes>"
      ]
     },
     "metadata": {
      "needs_background": "light"
     },
     "output_type": "display_data"
    }
   ],
   "source": [
    "#Confusion Matrix\n",
    "\n",
    "print('Train confusion matrix')\n",
    "print(confusion_matrix(y_train, knn.predict(tran_x_train)))\n",
    "print('Test confusion matrix')\n",
    "print(confusion_matrix(y_test,knn.predict(tran_x_test)))\n",
    "\n",
    "cnf_mat = confusion_matrix(y_test,knn.predict(tran_x_test))\n",
    "class_labels = ['Positive','Negative']\n",
    "df = pd.DataFrame(cnf_mat, index= class_labels , columns= class_labels)\n",
    "sb.heatmap(df, annot= True, fmt= 'd')\n",
    "\n",
    "\n",
    "plt.title('Confusion Matrix')\n",
    "plt.xlabel('Predicted')\n",
    "plt.ylabel('Actual')\n",
    "plt.show()\n"
   ]
  },
  {
   "cell_type": "markdown",
   "metadata": {},
   "source": [
    "### 1.1.3 Applying KNN brute force on avg W2V"
   ]
  },
  {
   "cell_type": "markdown",
   "metadata": {},
   "source": [
    "#### Hyper parameter Tuning using Simple for loop"
   ]
  },
  {
   "cell_type": "markdown",
   "metadata": {},
   "source": [
    "### Training w2v model"
   ]
  },
  {
   "cell_type": "code",
   "execution_count": 35,
   "metadata": {},
   "outputs": [
    {
     "name": "stdout",
     "output_type": "stream",
     "text": [
      "no of words occured min 5 times  5849\n",
      "sample words  ['taste', 'surprisingly', 'good', 'would', 'compare', 'cross', 'sunflower', 'seeds', 'cashews', 'eat', 'plain', 'morning', 'found', 'blend', 'oatmeal', 'well', 'sugar', 'salt', 'combo', 'season', 'bad', 'soaked', 'water', 'washed', 'canister', 'air', 'dried', 'tasty', 'not', 'buy', 'mix', 'liquid', 'create', 'fat', 'free', 'peanut', 'butter', 'bought', 'use', 'green', 'smoothies', 'protein', 'shakes', 'purpose', 'stuff', 'great', 'get', 'nice', 'added', 'yogurt']\n"
     ]
    }
   ],
   "source": [
    "# w2v for train\n",
    "\n",
    "#Preparing Reviews for gensim model\n",
    "\n",
    "list_of_sentance_train = []\n",
    "for sentance in x_train :\n",
    "    list_of_sentance_train.append(sentance.split())\n",
    "    \n",
    "# Training w2v model\n",
    "w2v_model = Word2Vec(list_of_sentance_train , min_count = 5, size = 50, workers =4)\n",
    "w2v_words = list(w2v_model.wv.vocab)\n",
    "print('no of words occured min 5 times ',len(w2v_words))\n",
    "print(\"sample words \", w2v_words[0:50])\n"
   ]
  },
  {
   "cell_type": "markdown",
   "metadata": {},
   "source": [
    "#### Converting Train data text"
   ]
  },
  {
   "cell_type": "code",
   "execution_count": 36,
   "metadata": {},
   "outputs": [
    {
     "name": "stdout",
     "output_type": "stream",
     "text": [
      "(9482, 50)\n",
      "[-0.10015345 -0.13952778 -0.69643142 -0.22123822 -0.17367566 -0.21716264\n",
      "  0.14167957  0.02430635  0.05191252  0.31244514 -0.1826644  -0.23223531\n",
      "  0.25503365  0.81110474  0.03420242 -0.36973522  0.3336471  -0.00919806\n",
      " -0.36316538 -0.83581078  0.32639971  0.04406378  0.46400371  0.27717095\n",
      " -0.00772743  0.61218389 -0.09854228  0.3795618  -0.48292881  0.13612872\n",
      " -0.06617691  0.01175956 -0.76598121 -0.01519468 -0.03834009  0.15572058\n",
      " -0.29371912 -0.25373396  0.21663801 -0.21009477 -0.55682546 -0.44960642\n",
      "  0.11176189 -0.73016817 -0.39343907  0.68043809  0.56688018 -0.43076087\n",
      " -0.14371563 -0.04545352]\n"
     ]
    }
   ],
   "source": [
    "\n",
    "# Converting Reviews into Numerical Vectors using W2V vectors\n",
    "## Algorithm: Avg W2V\n",
    "\n",
    "# compute average word2vec for each review.\n",
    "sent_vectors = []; #the average word2vec for each sentance/review will store in this list\n",
    "# for sent in tqdm(list_of_sentance_train):\n",
    "for sent in (list_of_sentance_train):\n",
    "    sent_vec = np.zeros(50)\n",
    "    cnt_words = 0\n",
    "    for word in sent:\n",
    "        if word in w2v_words:\n",
    "            vec =  w2v_model.wv[word]\n",
    "            sent_vec += vec\n",
    "            cnt_words += 1\n",
    "    if cnt_words != 0 :\n",
    "        sent_vec /= cnt_words\n",
    "    sent_vectors.append(sent_vec)\n",
    "sent_vectors_train = np.array(sent_vectors)\n",
    "print(sent_vectors_train.shape)\n",
    "print(sent_vectors_train[0])\n"
   ]
  },
  {
   "cell_type": "markdown",
   "metadata": {},
   "source": [
    "#### Converting CV data text"
   ]
  },
  {
   "cell_type": "code",
   "execution_count": 37,
   "metadata": {},
   "outputs": [],
   "source": [
    "list_of_sentance_cv = []\n",
    "for sentance in x_cv:\n",
    "    list_of_sentance_cv.append(sentance.split())"
   ]
  },
  {
   "cell_type": "code",
   "execution_count": 38,
   "metadata": {},
   "outputs": [
    {
     "name": "stdout",
     "output_type": "stream",
     "text": [
      "(4065, 50)\n",
      "[-0.56111266 -0.3301508  -0.49658867 -0.33143953 -0.03303619  0.03759975\n",
      "  0.00461307  0.07727705 -0.16364837 -0.09558308  0.29497529 -0.08643394\n",
      "  0.14915181  0.94391909 -0.21166885 -0.89522829  0.84734936 -0.49577404\n",
      " -0.62099049 -1.18628453 -0.12351938  0.08738138  0.45781254  0.0078997\n",
      "  0.37790907  0.39231554  0.09007252  0.2302442  -0.52003445  0.13376317\n",
      "  0.03520628 -0.01898587 -0.45706923  0.02258139 -0.01642686  0.15337167\n",
      " -0.56332976 -0.24369464  0.22561655 -0.09519706 -1.31305475 -0.29270774\n",
      " -0.44229863 -0.35368905 -0.49586512  0.4387508   0.23225555 -0.28374413\n",
      " -0.15746411 -0.70467384]\n"
     ]
    }
   ],
   "source": [
    "# average Word2Vec\n",
    "# compute average word2vec for each review.\n",
    "sent_vectors_cv = []; #the avg-w2v for each sentence/review is stored in this list\n",
    "# for sent in tqdm(list_of_sentance_cv):\n",
    "for sent in (list_of_sentance_cv):\n",
    "    \n",
    "    sent_vec = np.zeros(50)\n",
    "    cnt_words = 0 \n",
    "    for word in sent: #for each word in a review/sentance\n",
    "        if word in w2v_words:\n",
    "            vec = w2v_model.wv[word]\n",
    "            sent_vec += vec\n",
    "            cnt_words += 1\n",
    "    if cnt_words != 0:\n",
    "        sent_vec /= cnt_words\n",
    "    sent_vectors_cv.append(sent_vec)\n",
    "sent_vectors_cv = np.array(sent_vectors_cv)\n",
    "print(sent_vectors_cv.shape)\n",
    "print(sent_vectors_cv[0])\n"
   ]
  },
  {
   "cell_type": "markdown",
   "metadata": {},
   "source": [
    "#### Testing with Test data"
   ]
  },
  {
   "cell_type": "code",
   "execution_count": 39,
   "metadata": {},
   "outputs": [],
   "source": [
    "list_of_sentance_test = []\n",
    "for sentance in x_test:\n",
    "    list_of_sentance_test.append(sentance.split())"
   ]
  },
  {
   "cell_type": "code",
   "execution_count": 40,
   "metadata": {},
   "outputs": [
    {
     "name": "stdout",
     "output_type": "stream",
     "text": [
      "(5807, 50)\n",
      "[-1.36685390e-01 -3.16162983e-01 -7.33962582e-01 -9.77356889e-02\n",
      " -1.47434362e-01 -2.47024420e-01  1.60562633e-01  6.06824044e-02\n",
      "  5.00919787e-02  4.12182803e-01 -2.04726054e-01 -3.64262811e-01\n",
      "  3.92061047e-01  1.06030562e+00 -1.39883657e-01 -4.88527705e-01\n",
      "  2.90301900e-01  8.66909002e-02 -4.21208843e-01 -7.52164311e-01\n",
      "  4.07807537e-01  9.10700036e-02  4.70599352e-01  1.29679959e-01\n",
      "  2.70348833e-02  6.51796704e-01 -7.79308185e-02  3.69570275e-01\n",
      " -2.96529363e-01  1.74088216e-01 -9.34901494e-02  4.80122896e-02\n",
      " -6.68169109e-01 -1.07261927e-01  9.38937896e-04  6.21475880e-02\n",
      " -2.31186979e-01 -2.29142259e-01  2.26058979e-01 -2.54717535e-01\n",
      " -7.57863260e-01 -3.60096508e-01  3.71860920e-01 -9.30603580e-01\n",
      " -4.96191480e-01  7.95541171e-01  7.37504847e-01 -3.18548126e-01\n",
      " -1.76443904e-01 -7.12061148e-02]\n"
     ]
    }
   ],
   "source": [
    "# average Word2Vec\n",
    "# compute average word2vec for each review.\n",
    "sent_vectors_test = []; #the avg-w2v for each sentence/review is stored in this list\n",
    "# for sent in tqdm(list_of_sentance_test):\n",
    "for sent in (list_of_sentance_test):\n",
    "\n",
    "    sent_vec = np.zeros(50)\n",
    "    cnt_words = 0 \n",
    "    for word in sent: #for each word in a review/sentance\n",
    "        if word in w2v_words:\n",
    "            vec = w2v_model.wv[word]\n",
    "            sent_vec += vec\n",
    "            cnt_words += 1\n",
    "    if cnt_words != 0:\n",
    "        sent_vec /= cnt_words\n",
    "    sent_vectors_test.append(sent_vec)\n",
    "sent_vectors_test = np.array(sent_vectors_test)\n",
    "print(sent_vectors_test.shape)\n",
    "print(sent_vectors_test[0])\n"
   ]
  },
  {
   "cell_type": "markdown",
   "metadata": {},
   "source": [
    "#### appliying KNN on avg W2V"
   ]
  },
  {
   "cell_type": "code",
   "execution_count": 41,
   "metadata": {},
   "outputs": [
    {
     "data": {
      "image/png": "[encoded data removed]",
      "text/plain": [
       "<Figure size 432x288 with 1 Axes>"
      ]
     },
     "metadata": {
      "needs_background": "light"
     },
     "output_type": "display_data"
    }
   ],
   "source": [
    "train_auc = []\n",
    "cv_auc = []\n",
    "k = range(1,50,4)\n",
    "\n",
    "for i in k:\n",
    "    knn = KNeighborsClassifier(n_neighbors= i, weights= 'uniform' ,algorithm='brute', leaf_size= 30, p = 2, metric= 'cosine')\n",
    "    knn.fit(sent_vectors_train,y_train)\n",
    "    y_train_pred = knn.predict_proba(sent_vectors_train)[:,1]\n",
    "    y_cv_pred = knn.predict_proba(sent_vectors_cv)[:,1]\n",
    "    \n",
    "    train_auc.append(roc_auc_score(y_train,y_train_pred))\n",
    "    cv_auc.append(roc_auc_score(y_cv,y_cv_pred))\n",
    "\n",
    "plt.plot(k, train_auc,label ='Train AUC')\n",
    "plt.scatter(k, train_auc, label = 'Train AUC')\n",
    "plt.plot(k, cv_auc , label = 'CV AUC')\n",
    "plt.scatter(k, cv_auc ,label = 'CV AUC')\n",
    "plt.legend()\n",
    "plt.xlabel('K - Hyperparameter')\n",
    "plt.ylabel('AUC')\n",
    "plt.title('ERROR plots')\n",
    "plt.show()\n",
    "   \n",
    "\n",
    "\n",
    "    "
   ]
  },
  {
   "cell_type": "code",
   "execution_count": 42,
   "metadata": {},
   "outputs": [
    {
     "data": {
      "image/png": "[encoded data removed]",
      "text/plain": [
       "<Figure size 432x288 with 1 Axes>"
      ]
     },
     "metadata": {
      "needs_background": "light"
     },
     "output_type": "display_data"
    }
   ],
   "source": [
    "#from above statistics we take k=49 as our best hyperparameter\n",
    "#ROC curve for k=41\n",
    "\n",
    "knn = KNeighborsClassifier(n_neighbors= 41, weights= 'uniform', algorithm= 'brute',leaf_size= 30, p=2, metric= 'cosine')\n",
    "knn.fit(sent_vectors_train,y_train)\n",
    "\n",
    "train_fpr,train_tpr,tresholds = roc_curve(y_train, knn.predict_proba(sent_vectors_train)[:,1])\n",
    "test_fpr,test_tpr,tresholds1 = roc_curve(y_test, knn.predict_proba(sent_vectors_test)[:,1])\n",
    "\n",
    "plt.plot(train_fpr, train_tpr, label = 'Train AUC ='+ str(auc(train_fpr,train_tpr)))\n",
    "plt.plot(test_fpr, test_tpr, label = 'Train AUC ='+ str(auc(test_fpr,test_tpr)))\n",
    "\n",
    "\n",
    "plt.legend()\n",
    "plt.xlabel('K- hyperparameter')\n",
    "plt.ylabel('AUC')\n",
    "plt.title('ERROR plots')\n",
    "plt.show()"
   ]
  },
  {
   "cell_type": "markdown",
   "metadata": {},
   "source": [
    "#### Confusion Matrix"
   ]
  },
  {
   "cell_type": "code",
   "execution_count": 43,
   "metadata": {},
   "outputs": [
    {
     "name": "stdout",
     "output_type": "stream",
     "text": [
      "Train confusion matrix\n",
      "[[ 109 1349]\n",
      " [  56 7968]]\n",
      "Test confusion matrix\n",
      "[[  56  843]\n",
      " [  44 4864]]\n"
     ]
    },
    {
     "data": {
      "image/png": "[encoded data removed]",
      "text/plain": [
       "<Figure size 432x288 with 2 Axes>"
      ]
     },
     "metadata": {
      "needs_background": "light"
     },
     "output_type": "display_data"
    }
   ],
   "source": [
    "#Confusion Matrix\n",
    "\n",
    "print('Train confusion matrix')\n",
    "print(confusion_matrix(y_train, knn.predict(sent_vectors_train)))\n",
    "print('Test confusion matrix')\n",
    "print(confusion_matrix(y_test,knn.predict(sent_vectors_test)))\n",
    "\n",
    "cnf_mat = confusion_matrix(y_test,knn.predict(sent_vectors_test))\n",
    "class_labels = ['Positive','Negative']\n",
    "df = pd.DataFrame(cnf_mat, index= class_labels , columns= class_labels)\n",
    "sb.heatmap(df, annot= True, fmt= 'd')\n",
    "\n",
    "\n",
    "plt.title('Confusion Matrix')\n",
    "plt.xlabel('Predicted')\n",
    "plt.ylabel('Actual')\n",
    "plt.show()\n"
   ]
  },
  {
   "cell_type": "markdown",
   "metadata": {},
   "source": [
    "### 1.1.4 Applying KNN brute force on TFIDF W2V"
   ]
  },
  {
   "cell_type": "markdown",
   "metadata": {},
   "source": [
    "#### Hyper parameter Tuning using Simple for loop"
   ]
  },
  {
   "cell_type": "markdown",
   "metadata": {},
   "source": [
    "### Training w2v model"
   ]
  },
  {
   "cell_type": "code",
   "execution_count": 44,
   "metadata": {},
   "outputs": [],
   "source": [
    "# w2v for train\n",
    "# Preparing Reviews for gensim model\n",
    "\n",
    "list_of_sentance_train = []\n",
    "for sentance in x_train:\n",
    "    list_of_sentance_train.append(sentance.split())\n",
    "\n",
    "w2v_model = Word2Vec(list_of_sentance_train , min_count = 5 ,size = 50, workers = 4)\n",
    "w2v_words = list(w2v_model.wv.vocab)"
   ]
  },
  {
   "cell_type": "code",
   "execution_count": 45,
   "metadata": {},
   "outputs": [],
   "source": [
    "tf_idf_vect = TfidfVectorizer(ngram_range=(1,2),min_df= 10,max_features= 500)\n",
    "\n",
    "tf_idf_matrix = tf_idf_vect.fit_transform(x_train)\n",
    "tfidf_feat = tf_idf_vect.get_feature_names()\n",
    "dictionary = dict(zip(tf_idf_vect.get_feature_names(),list(tf_idf_vect.idf_)))\n"
   ]
  },
  {
   "cell_type": "markdown",
   "metadata": {},
   "source": [
    "#### Converting Train data text"
   ]
  },
  {
   "cell_type": "code",
   "execution_count": 46,
   "metadata": {},
   "outputs": [],
   "source": [
    "\n",
    "tfidf_sent_vectors_train = []\n",
    "row = 0\n",
    "\n",
    "# for sent in tqdm(list_of_sentance_train):\n",
    "for sent in (list_of_sentance_train):\n",
    "    \n",
    "    sent_vec = np.zeros(50)\n",
    "    weight_sum = 0\n",
    "    for word in sent:\n",
    "        if word in w2v_words and word in tfidf_feat:\n",
    "            vec = w2v_model.wv[word]\n",
    "            tf_idf = dictionary[word]*(sent.count(word)/len(sent))\n",
    "            sent_vec += (vec * tf_idf)\n",
    "            weight_sum = tf_idf\n",
    "    if weight_sum != 0:\n",
    "        sent_vec /= weight_sum\n",
    "    tfidf_sent_vectors_train.append(sent_vec)\n",
    "    row += 1"
   ]
  },
  {
   "cell_type": "markdown",
   "metadata": {},
   "source": [
    "#### Converting CV data\n"
   ]
  },
  {
   "cell_type": "code",
   "execution_count": 47,
   "metadata": {},
   "outputs": [],
   "source": [
    "list_of_sentance_cv = []\n",
    "for sentance in x_cv:\n",
    "    list_of_sentance_cv.append(sentance.split())\n",
    "    \n",
    "tfidf_sent_vectors_cv = []\n",
    "row = 0\n",
    "\n",
    "# for sent in tqdm(list_of_sentance_cv):\n",
    "for sent in (list_of_sentance_cv):\n",
    "    \n",
    "    sent_vec = np.zeros(50)\n",
    "    weight_sum = 0\n",
    "    for word in sent:\n",
    "        if word in w2v_words and word in tfidf_feat:\n",
    "            vec = w2v_model.wv[word]\n",
    "            tf_idf = dictionary[word]*(sent.count(word)/len(sent))\n",
    "            sent_vec += (vec * tf_idf)\n",
    "            weight_sum = tf_idf\n",
    "    if weight_sum != 0:\n",
    "        sent_vec /= weight_sum\n",
    "    tfidf_sent_vectors_cv.append(sent_vec)\n",
    "    row += 1"
   ]
  },
  {
   "cell_type": "markdown",
   "metadata": {},
   "source": [
    "#### Converting test data\n"
   ]
  },
  {
   "cell_type": "code",
   "execution_count": 48,
   "metadata": {},
   "outputs": [],
   "source": [
    "list_of_sentance_test = []\n",
    "for sentance in x_test:\n",
    "    list_of_sentance_test.append(sentance.split())\n",
    "    \n",
    "tfidf_sent_vectors_test = []\n",
    "row = 0\n",
    "\n",
    "# for sent in tqdm(list_of_sentance_test):\n",
    "for sent in (list_of_sentance_test):\n",
    "    \n",
    "    sent_vec = np.zeros(50)\n",
    "    weight_sum = 0\n",
    "    for word in sent:\n",
    "        if word in w2v_words and word in tfidf_feat:\n",
    "            vec = w2v_model.wv[word]\n",
    "            tf_idf = dictionary[word]*(sent.count(word)/len(sent))\n",
    "            sent_vec += (vec * tf_idf)\n",
    "            weight_sum = tf_idf\n",
    "    if weight_sum != 0:\n",
    "        sent_vec /= weight_sum\n",
    "    tfidf_sent_vectors_test.append(sent_vec)\n",
    "    row += 1"
   ]
  },
  {
   "cell_type": "markdown",
   "metadata": {},
   "source": [
    "#### appliying KNN on tfidf W2V"
   ]
  },
  {
   "cell_type": "code",
   "execution_count": 49,
   "metadata": {},
   "outputs": [
    {
     "data": {
      "image/png": "[encoded data removed]",
      "text/plain": [
       "<Figure size 432x288 with 1 Axes>"
      ]
     },
     "metadata": {
      "needs_background": "light"
     },
     "output_type": "display_data"
    }
   ],
   "source": [
    "train_auc = []\n",
    "cv_auc = []\n",
    "k = range(1,50,4)\n",
    "\n",
    "for i in k:\n",
    "    knn = KNeighborsClassifier(n_neighbors= i, weights= 'uniform' ,algorithm='brute', leaf_size= 30, p = 2, metric= 'cosine')\n",
    "    knn.fit(tfidf_sent_vectors_train,y_train)\n",
    "    y_train_pred = knn.predict_proba(tfidf_sent_vectors_train)[:,1]\n",
    "    y_cv_pred = knn.predict_proba(tfidf_sent_vectors_cv)[:,1]\n",
    "    \n",
    "    train_auc.append(roc_auc_score(y_train,y_train_pred))\n",
    "    cv_auc.append(roc_auc_score(y_cv,y_cv_pred))\n",
    "\n",
    "plt.plot(k, train_auc,label ='Train AUC')\n",
    "plt.scatter(k, train_auc, label = 'Train AUC')\n",
    "plt.plot(k, cv_auc , label = 'CV AUC')\n",
    "plt.scatter(k, cv_auc ,label = 'CV AUC')\n",
    "plt.legend()\n",
    "plt.xlabel('K - Hyperparameter')\n",
    "plt.ylabel('AUC')\n",
    "plt.title('ERROR plots')\n",
    "plt.show()    "
   ]
  },
  {
   "cell_type": "code",
   "execution_count": 50,
   "metadata": {},
   "outputs": [
    {
     "data": {
      "image/png": "[encoded data removed]",
      "text/plain": [
       "<Figure size 432x288 with 1 Axes>"
      ]
     },
     "metadata": {
      "needs_background": "light"
     },
     "output_type": "display_data"
    }
   ],
   "source": [
    "#from above statistics we take k=49 as our best hyperparameter\n",
    "#ROC curve for k=45\n",
    "\n",
    "knn = KNeighborsClassifier(n_neighbors= 45, weights= 'uniform', algorithm= 'brute',leaf_size= 30, p=2, metric= 'cosine')\n",
    "knn.fit(tfidf_sent_vectors_train,y_train)\n",
    "\n",
    "train_fpr,train_tpr,tresholds = roc_curve(y_train, knn.predict_proba(tfidf_sent_vectors_train)[:,1])\n",
    "test_fpr,test_tpr,tresholds1 = roc_curve(y_test, knn.predict_proba(tfidf_sent_vectors_test)[:,1])\n",
    "\n",
    "plt.plot(train_fpr, train_tpr, label = 'Train AUC ='+ str(auc(train_fpr,train_tpr)))\n",
    "plt.plot(test_fpr, test_tpr, label = 'Train AUC ='+ str(auc(test_fpr,test_tpr)))\n",
    "\n",
    "\n",
    "plt.legend()\n",
    "plt.xlabel('K- hyperparameter')\n",
    "plt.ylabel('AUC')\n",
    "plt.title('ERROR plots')\n",
    "plt.show()\n"
   ]
  },
  {
   "cell_type": "markdown",
   "metadata": {},
   "source": [
    "#### Confusion Matrix"
   ]
  },
  {
   "cell_type": "code",
   "execution_count": 51,
   "metadata": {},
   "outputs": [
    {
     "name": "stdout",
     "output_type": "stream",
     "text": [
      "Train confusion matrix\n",
      "[[  43 1415]\n",
      " [  16 8008]]\n",
      "Test confusion matrix\n",
      "[[  26  873]\n",
      " [  13 4895]]\n"
     ]
    },
    {
     "data": {
      "image/png": "[encoded data removed]",
      "text/plain": [
       "<Figure size 432x288 with 2 Axes>"
      ]
     },
     "metadata": {
      "needs_background": "light"
     },
     "output_type": "display_data"
    }
   ],
   "source": [
    "#Confusion Matrix\n",
    "knn = KNeighborsClassifier(n_neighbors= i, weights= 'uniform' ,algorithm='brute', leaf_size= 30, p = 2, metric= 'cosine')\n",
    "knn.fit(tfidf_sent_vectors_train,y_train)\n",
    "\n",
    "\n",
    "print('Train confusion matrix')\n",
    "print(confusion_matrix(y_train, knn.predict(tfidf_sent_vectors_train)))\n",
    "print('Test confusion matrix')\n",
    "print(confusion_matrix(y_test,knn.predict(tfidf_sent_vectors_test)))\n",
    "\n",
    "cnf_mat = confusion_matrix(y_test,knn.predict(tfidf_sent_vectors_test))\n",
    "class_labels = ['Positive','Negative']\n",
    "df = pd.DataFrame(cnf_mat, index= class_labels , columns= class_labels)\n",
    "sb.heatmap(df, annot= True, fmt= 'd')\n",
    "\n",
    "\n",
    "plt.title('Confusion Matrix')\n",
    "plt.xlabel('Predicted')\n",
    "plt.ylabel('Actual')\n",
    "plt.show()\n"
   ]
  },
  {
   "cell_type": "markdown",
   "metadata": {},
   "source": [
    "## 1.2 Applying KNN kd-tree"
   ]
  },
  {
   "cell_type": "markdown",
   "metadata": {},
   "source": [
    "#### 1.2.1 Applying KNN kd-tree on BOW"
   ]
  },
  {
   "cell_type": "code",
   "execution_count": 52,
   "metadata": {},
   "outputs": [],
   "source": [
    "\n",
    "x = preprocessed_reviews\n",
    "y = final['Score'].values\n",
    "\n",
    "x = x[:20000]\n",
    "y = y[:20000]\n",
    "\n",
    "#tarin ,cv, test split\n",
    "x1 , x_test, y1, y_test = train_test_split(x , y ,test_size =0.3,random_state = 0)\n",
    "x_train, x_cv, y_train, y_cv = train_test_split(x1, y1, test_size = 0.3)\n"
   ]
  },
  {
   "cell_type": "code",
   "execution_count": 53,
   "metadata": {},
   "outputs": [
    {
     "data": {
      "image/png": "[encoded data removed]",
      "text/plain": [
       "<Figure size 432x288 with 1 Axes>"
      ]
     },
     "metadata": {
      "needs_background": "light"
     },
     "output_type": "display_data"
    }
   ],
   "source": [
    "# Applying KNN brute force on BOW\n",
    "\n",
    "cou_vec = CountVectorizer(min_df= 10 ,max_features= 500)\n",
    "tran_x_train = cou_vec.fit_transform(x_train)\n",
    "tran_x_cv = cou_vec.transform(x_cv)\n",
    "tran_x_test = cou_vec.transform(x_test)\n",
    "\n",
    "tran_x_train = tran_x_train.toarray()\n",
    "tran_x_cv = tran_x_cv.toarray()\n",
    "tran_x_test = tran_x_test.toarray()\n",
    "\n",
    "train_auc = []  \n",
    "cv_auc = []\n",
    "\n",
    "k = list(range(1,50,4))\n",
    "for i in k:\n",
    "    knn = KNeighborsClassifier(n_neighbors = i, algorithm = 'kd_tree')\n",
    "    knn.fit(tran_x_train,y_train)\n",
    "    \n",
    "    y_train_pred = knn.predict_proba(tran_x_train)[:,1]\n",
    "    y_cv_pred = knn.predict_proba(tran_x_cv)[:,1]\n",
    "    \n",
    "    train_auc.append(roc_auc_score(y_train,y_train_pred))\n",
    "    cv_auc.append(roc_auc_score(y_cv,y_cv_pred))\n",
    "    \n",
    "plt.plot(k, train_auc,label = 'Train AUC')\n",
    "plt.plot(k, cv_auc,label = 'CV AUC')\n",
    "plt.legend()\n",
    "plt.xlabel('k: hyperparameter')\n",
    "plt.ylabel('AUC')\n",
    "plt.title('Error Plots')\n",
    "plt.show()"
   ]
  },
  {
   "cell_type": "markdown",
   "metadata": {},
   "source": [
    "#### Testing with Test data"
   ]
  },
  {
   "cell_type": "code",
   "execution_count": 54,
   "metadata": {},
   "outputs": [
    {
     "data": {
      "image/png": "[encoded data removed]",
      "text/plain": [
       "<Figure size 432x288 with 1 Axes>"
      ]
     },
     "metadata": {
      "needs_background": "light"
     },
     "output_type": "display_data"
    }
   ],
   "source": [
    "#ROC curve for k=40\n",
    "#from above statistics we take k=40 as our best hyperparameter\n",
    "\n",
    "knn = KNeighborsClassifier(n_neighbors= 40,algorithm= 'kd_tree')\n",
    "knn.fit(tran_x_train,y_train)\n",
    "\n",
    "train_prob =  knn.predict_proba(tran_x_train)[:,1]\n",
    "test_prob = knn.predict_proba(tran_x_test)[:,1]\n",
    "\n",
    "train_fpr, train_tpr, thresholds = metrics.roc_curve(y_train, train_prob )\n",
    "test_fpr, test_tpr, thresholds1 = metrics.roc_curve(y_test,test_prob)\n",
    "\n",
    "plt.plot(train_fpr ,train_tpr , label = 'train AUC '+str(auc(train_fpr, train_tpr)))\n",
    "plt.plot(test_fpr, test_tpr , label = 'test AUC ' + str(auc(test_fpr,test_tpr)))\n",
    "\n",
    "plt.xlabel('FPR')\n",
    "plt.ylabel('TPR')\n",
    "plt.title('ROC - error plots')\n",
    "plt.legend()\n",
    "plt.show()\n"
   ]
  },
  {
   "cell_type": "markdown",
   "metadata": {},
   "source": [
    "#### Confusion Matrix"
   ]
  },
  {
   "cell_type": "code",
   "execution_count": 55,
   "metadata": {},
   "outputs": [
    {
     "name": "stdout",
     "output_type": "stream",
     "text": [
      "Train confusion matrix\n",
      "[[ 192 1303]\n",
      " [ 130 7857]]\n",
      "Test confusion matrix\n",
      "[[  94  805]\n",
      " [ 110 4798]]\n"
     ]
    },
    {
     "data": {
      "image/png": "[encoded data removed]",
      "text/plain": [
       "<Figure size 432x288 with 2 Axes>"
      ]
     },
     "metadata": {
      "needs_background": "light"
     },
     "output_type": "display_data"
    }
   ],
   "source": [
    "#Confusion Matrix\n",
    "\n",
    "print('Train confusion matrix')\n",
    "print(confusion_matrix(y_train, knn.predict(tran_x_train)))\n",
    "print('Test confusion matrix')\n",
    "print(confusion_matrix(y_test,knn.predict(tran_x_test)))\n",
    "\n",
    "cnf_mat = confusion_matrix(y_test,knn.predict(tran_x_test))\n",
    "class_labels = ['Positive','Negative']\n",
    "df = pd.DataFrame(cnf_mat, index= class_labels , columns= class_labels)\n",
    "sb.heatmap(df, annot= True, fmt= 'd')\n",
    "\n",
    "\n",
    "plt.title('Confusion Matrix')\n",
    "plt.xlabel('Predicted')\n",
    "plt.ylabel('Actual')\n",
    "plt.show()\n"
   ]
  },
  {
   "cell_type": "markdown",
   "metadata": {},
   "source": [
    "#### 1.2.2 Applying KNN kd-tree on TFIDF"
   ]
  },
  {
   "cell_type": "code",
   "execution_count": 56,
   "metadata": {},
   "outputs": [
    {
     "data": {
      "image/png": "[encoded data removed]",
      "text/plain": [
       "<Figure size 432x288 with 1 Axes>"
      ]
     },
     "metadata": {
      "needs_background": "light"
     },
     "output_type": "display_data"
    }
   ],
   "source": [
    "# Applying KNN brute force on BOW\n",
    "\n",
    "cou_vec = TfidfVectorizer(ngram_range = (1,2), min_df= 10 ,max_features= 500)\n",
    "tran_x_train = cou_vec.fit_transform(x_train)\n",
    "tran_x_cv = cou_vec.transform(x_cv)\n",
    "tran_x_test = cou_vec.transform(x_test)\n",
    "\n",
    "tran_x_train = tran_x_train.toarray()\n",
    "tran_x_cv = tran_x_cv.toarray()\n",
    "tran_x_test = tran_x_test.toarray()\n",
    "\n",
    "train_auc = []  \n",
    "cv_auc = []\n",
    "\n",
    "k = list(range(1,50,4))\n",
    "for i in k:\n",
    "    knn = KNeighborsClassifier(n_neighbors = i, algorithm = 'kd_tree')\n",
    "    knn.fit(tran_x_train,y_train)\n",
    "    \n",
    "    y_train_pred = knn.predict_proba(tran_x_train)[:,1]\n",
    "    y_cv_pred = knn.predict_proba(tran_x_cv)[:,1]\n",
    "    \n",
    "    train_auc.append(roc_auc_score(y_train,y_train_pred))\n",
    "    cv_auc.append(roc_auc_score(y_cv,y_cv_pred))\n",
    "    \n",
    "plt.plot(k, train_auc,label = 'Train AUC')\n",
    "plt.plot(k, cv_auc,label = 'CV AUC')\n",
    "plt.legend()\n",
    "plt.xlabel('k: hyperparameter')\n",
    "plt.ylabel('AUC')\n",
    "plt.title('Error Plots')\n",
    "plt.show()"
   ]
  },
  {
   "cell_type": "markdown",
   "metadata": {},
   "source": [
    "#### Testing with Test data"
   ]
  },
  {
   "cell_type": "code",
   "execution_count": 57,
   "metadata": {},
   "outputs": [
    {
     "data": {
      "image/png": "[encoded data removed]",
      "text/plain": [
       "<Figure size 432x288 with 1 Axes>"
      ]
     },
     "metadata": {
      "needs_background": "light"
     },
     "output_type": "display_data"
    }
   ],
   "source": [
    "#ROC curve for k=49\n",
    "#from above statistics we take k=49 as our best hyperparameter\n",
    "\n",
    "knn = KNeighborsClassifier(n_neighbors= 49,algorithm= 'kd_tree')\n",
    "knn.fit(tran_x_train,y_train)\n",
    "\n",
    "train_prob =  knn.predict_proba(tran_x_train)[:,1]\n",
    "test_prob = knn.predict_proba(tran_x_test)[:,1]\n",
    "\n",
    "train_fpr, train_tpr, thresholds = metrics.roc_curve(y_train, train_prob )\n",
    "test_fpr, test_tpr, thresholds1 = metrics.roc_curve(y_test,test_prob)\n",
    "\n",
    "plt.plot(train_fpr ,train_tpr , label = 'train AUC '+str(auc(train_fpr, train_tpr)))\n",
    "plt.plot(test_fpr, test_tpr , label = 'test AUC ' + str(auc(test_fpr,test_tpr)))\n",
    "\n",
    "plt.xlabel('FPR')\n",
    "plt.ylabel('TPR')\n",
    "plt.title('ROC - error plots')\n",
    "plt.legend()\n",
    "plt.show()\n"
   ]
  },
  {
   "cell_type": "markdown",
   "metadata": {},
   "source": [
    "#### Confusion Matrix"
   ]
  },
  {
   "cell_type": "code",
   "execution_count": 58,
   "metadata": {},
   "outputs": [
    {
     "name": "stdout",
     "output_type": "stream",
     "text": [
      "Train confusion matrix\n",
      "[[   0 1495]\n",
      " [   0 7987]]\n",
      "Test confusion matrix\n",
      "[[   0  899]\n",
      " [   0 4908]]\n"
     ]
    },
    {
     "data": {
      "image/png": "[encoded data removed]",
      "text/plain": [
       "<Figure size 432x288 with 2 Axes>"
      ]
     },
     "metadata": {
      "needs_background": "light"
     },
     "output_type": "display_data"
    }
   ],
   "source": [
    "#Confusion Matrix\n",
    "\n",
    "print('Train confusion matrix')\n",
    "print(confusion_matrix(y_train, knn.predict(tran_x_train)))\n",
    "print('Test confusion matrix')\n",
    "print(confusion_matrix(y_test,knn.predict(tran_x_test)))\n",
    "\n",
    "cnf_mat = confusion_matrix(y_test,knn.predict(tran_x_test))\n",
    "class_labels = ['Positive','Negative']\n",
    "df = pd.DataFrame(cnf_mat, index= class_labels , columns= class_labels)\n",
    "sb.heatmap(df, annot= True, fmt= 'd')\n",
    "\n",
    "\n",
    "plt.title('Confusion Matrix')\n",
    "plt.xlabel('Predicted')\n",
    "plt.ylabel('Actual')\n",
    "plt.show()\n"
   ]
  },
  {
   "cell_type": "markdown",
   "metadata": {},
   "source": [
    "### 1.2.3 Applying KNN brute force on avg W2V"
   ]
  },
  {
   "cell_type": "markdown",
   "metadata": {},
   "source": [
    "#### Hyper parameter Tuning using Simple for loop"
   ]
  },
  {
   "cell_type": "markdown",
   "metadata": {},
   "source": [
    "### Training w2v model"
   ]
  },
  {
   "cell_type": "code",
   "execution_count": 59,
   "metadata": {},
   "outputs": [
    {
     "name": "stdout",
     "output_type": "stream",
     "text": [
      "no of words occured min 5 times  5805\n",
      "sample words  ['saw', 'soup', 'supermarket', 'bought', 'opened', 'heated', 'tasted', 'dumped', 'drain', 'rinsed', 'mouth', 'enough', 'said', 'one', 'time', 'favorite', 'guilty', 'pleasure', 'sadly', 'nothing', 'left', 'enjoy', 'dry', 'flavorless', 'packing', 'peanuts', 'ya', 'know', 'gluten', 'free', 'diet', 'treats', 'like', 'licorice', 'milk', 'realizing', 'true', 'challenging', 'past', 'not', 'likely', 'ever', 'near', 'future', 'need', 'alter', 'expectations', 'treat', 'tried', 'company']\n"
     ]
    }
   ],
   "source": [
    "# w2v for train\n",
    "\n",
    "#Preparing Reviews for gensim model\n",
    "\n",
    "list_of_sentance_train = []\n",
    "for sentance in x_train :\n",
    "    list_of_sentance_train.append(sentance.split())\n",
    "    \n",
    "# Training w2v model\n",
    "w2v_model = Word2Vec(list_of_sentance_train , min_count = 5, size = 50, workers =4)\n",
    "w2v_words = list(w2v_model.wv.vocab)\n",
    "print('no of words occured min 5 times ',len(w2v_words))\n",
    "print(\"sample words \", w2v_words[0:50])\n"
   ]
  },
  {
   "cell_type": "markdown",
   "metadata": {},
   "source": [
    "#### Converting Train data text"
   ]
  },
  {
   "cell_type": "code",
   "execution_count": 60,
   "metadata": {},
   "outputs": [
    {
     "name": "stdout",
     "output_type": "stream",
     "text": [
      "(9482, 50)\n",
      "[-0.11904924  0.05156635 -0.60322445  0.03610602 -0.10563253 -0.22966909\n",
      "  0.15978353  0.09175231  0.01748197  0.10083751 -0.08661146 -0.12107145\n",
      "  0.50575272  1.01908121 -0.17595667 -0.42173152  0.18356361 -0.2371283\n",
      " -0.15513094 -0.85932106  0.14766067  0.05484553  0.42585287 -0.04994882\n",
      "  0.05210002  0.50240977  0.27376763  0.12884795 -0.16541266 -0.07342859\n",
      "  0.03009616  0.04021095 -0.35042987  0.15206765 -0.26183085  0.04719124\n",
      " -0.39578848 -0.4489209   0.23585904 -0.25438966 -0.55938988 -0.17858979\n",
      "  0.0668553  -0.40438684 -0.23498576  0.53756303  0.16899143 -0.23922266\n",
      " -0.07088466 -0.03865883]\n"
     ]
    }
   ],
   "source": [
    "\n",
    "# Converting Reviews into Numerical Vectors using W2V vectors\n",
    "## Algorithm: Avg W2V\n",
    "\n",
    "# compute average word2vec for each review.\n",
    "sent_vectors = []; #the average word2vec for each sentance/review will store in this list\n",
    "# for sent in tqdm(list_of_sentance_train):\n",
    "for sent in (list_of_sentance_train):\n",
    "    \n",
    "    sent_vec = np.zeros(50)\n",
    "    cnt_words = 0\n",
    "    for word in sent:\n",
    "        if word in w2v_words:\n",
    "            vec =  w2v_model.wv[word]\n",
    "            sent_vec += vec\n",
    "            cnt_words += 1\n",
    "    if cnt_words != 0 :\n",
    "        sent_vec /= cnt_words\n",
    "    sent_vectors.append(sent_vec)\n",
    "sent_vectors_train = np.array(sent_vectors)\n",
    "print(sent_vectors_train.shape)\n",
    "print(sent_vectors_train[0])\n"
   ]
  },
  {
   "cell_type": "markdown",
   "metadata": {},
   "source": [
    "#### Converting CV data text"
   ]
  },
  {
   "cell_type": "code",
   "execution_count": 61,
   "metadata": {},
   "outputs": [],
   "source": [
    "list_of_sentance_cv = []\n",
    "for sentance in x_cv:\n",
    "    list_of_sentance_cv.append(sentance.split())"
   ]
  },
  {
   "cell_type": "code",
   "execution_count": 62,
   "metadata": {},
   "outputs": [
    {
     "name": "stdout",
     "output_type": "stream",
     "text": [
      "(4065, 50)\n",
      "[ 1.08675488e-01 -5.18561995e-02 -9.76259550e-01 -4.86533377e-01\n",
      " -4.99798699e-01 -3.63610545e-01  4.10777079e-01 -6.55350553e-02\n",
      "  1.86135224e-01  1.06740478e-01  2.16978657e-04 -3.40001163e-01\n",
      "  6.52732973e-01  9.21373936e-01  1.56128782e-01 -5.42078413e-01\n",
      "  6.06317628e-01 -3.67312523e-01 -5.55941803e-01 -1.29280666e+00\n",
      " -3.69713756e-02  6.20774879e-02  5.93800420e-01  2.42623178e-01\n",
      "  2.47707098e-01  9.81328165e-01  1.75006762e-01  4.84737765e-01\n",
      " -3.10388692e-01  1.58953508e-01 -6.40440612e-03 -2.63417226e-02\n",
      " -7.94731795e-01  1.68729715e-01 -2.65882980e-01  4.55308142e-01\n",
      " -5.24880229e-01 -1.44571070e-01  6.64029636e-01 -4.93892945e-03\n",
      " -9.28271315e-01 -4.21585944e-01 -4.34136733e-01  1.28186260e-01\n",
      " -6.61514573e-01  6.12255279e-01  1.79673382e-01 -4.70354701e-01\n",
      " -2.26046517e-01  3.45528575e-01]\n"
     ]
    }
   ],
   "source": [
    "# average Word2Vec\n",
    "# compute average word2vec for each review.\n",
    "sent_vectors_cv = []; #the avg-w2v for each sentence/review is stored in this list\n",
    "# for sent in tqdm(list_of_sentance_cv):\n",
    "for sent in (list_of_sentance_cv):\n",
    "    \n",
    "    sent_vec = np.zeros(50)\n",
    "    cnt_words = 0 \n",
    "    for word in sent: #for each word in a review/sentance\n",
    "        if word in w2v_words:\n",
    "            vec = w2v_model.wv[word]\n",
    "            sent_vec += vec\n",
    "            cnt_words += 1\n",
    "    if cnt_words != 0:\n",
    "        sent_vec /= cnt_words\n",
    "    sent_vectors_cv.append(sent_vec)\n",
    "sent_vectors_cv = np.array(sent_vectors_cv)\n",
    "print(sent_vectors_cv.shape)\n",
    "print(sent_vectors_cv[0])\n"
   ]
  },
  {
   "cell_type": "markdown",
   "metadata": {},
   "source": [
    "#### Testing with Test data"
   ]
  },
  {
   "cell_type": "code",
   "execution_count": 63,
   "metadata": {},
   "outputs": [],
   "source": [
    "list_of_sentance_test = []\n",
    "for sentance in x_test:\n",
    "    list_of_sentance_test.append(sentance.split())"
   ]
  },
  {
   "cell_type": "code",
   "execution_count": 64,
   "metadata": {},
   "outputs": [
    {
     "name": "stdout",
     "output_type": "stream",
     "text": [
      "(5807, 50)\n",
      "[-0.12582644 -0.12281049 -0.88252326 -0.09540953 -0.29049125 -0.22267107\n",
      "  0.15071908  0.16505331  0.06357586  0.35074272 -0.16103913 -0.25343732\n",
      "  0.60182804  1.24713718 -0.22794516 -0.53399829  0.18482541  0.03090353\n",
      " -0.24134272 -0.90466988  0.29802347  0.12790198  0.57920605 -0.05689662\n",
      " -0.00320583  0.76965249  0.20169412  0.22055938 -0.19950745  0.11746916\n",
      "  0.00544813 -0.04978439 -0.67059739  0.03233894 -0.28367862  0.09616763\n",
      " -0.32848275 -0.38669969  0.444644   -0.13702084 -0.6683806  -0.299794\n",
      "  0.25817729 -0.64164366 -0.35535353  0.75326924  0.31471238 -0.30255095\n",
      " -0.18184619  0.09029683]\n"
     ]
    }
   ],
   "source": [
    "# average Word2Vec\n",
    "# compute average word2vec for each review.\n",
    "sent_vectors_test = []; #the avg-w2v for each sentence/review is stored in this list\n",
    "# for sent in tqdm(list_of_sentance_test):\n",
    "for sent in (list_of_sentance_test):\n",
    "    \n",
    "    sent_vec = np.zeros(50)\n",
    "    cnt_words = 0 \n",
    "    for word in sent: #for each word in a review/sentance\n",
    "        if word in w2v_words:\n",
    "            vec = w2v_model.wv[word]\n",
    "            sent_vec += vec\n",
    "            cnt_words += 1\n",
    "    if cnt_words != 0:\n",
    "        sent_vec /= cnt_words\n",
    "    sent_vectors_test.append(sent_vec)\n",
    "sent_vectors_test = np.array(sent_vectors_test)\n",
    "print(sent_vectors_test.shape)\n",
    "print(sent_vectors_test[0])\n"
   ]
  },
  {
   "cell_type": "markdown",
   "metadata": {},
   "source": [
    "#### appliying KNN on avg W2V"
   ]
  },
  {
   "cell_type": "code",
   "execution_count": 65,
   "metadata": {},
   "outputs": [
    {
     "data": {
      "image/png": "[encoded data removed]",
      "text/plain": [
       "<Figure size 432x288 with 1 Axes>"
      ]
     },
     "metadata": {
      "needs_background": "light"
     },
     "output_type": "display_data"
    }
   ],
   "source": [
    "train_auc = []\n",
    "cv_auc = []\n",
    "k = range(1,50,4)\n",
    "\n",
    "for i in k:\n",
    "    knn = KNeighborsClassifier(n_neighbors= i, algorithm='kd_tree')\n",
    "    knn.fit(sent_vectors_train,y_train)\n",
    "    y_train_pred = knn.predict_proba(sent_vectors_train)[:,1]\n",
    "    y_cv_pred = knn.predict_proba(sent_vectors_cv)[:,1]\n",
    "    \n",
    "    train_auc.append(roc_auc_score(y_train,y_train_pred))\n",
    "    cv_auc.append(roc_auc_score(y_cv,y_cv_pred))\n",
    "\n",
    "plt.plot(k, train_auc,label ='Train AUC')\n",
    "plt.scatter(k, train_auc, label = 'Train AUC')\n",
    "plt.plot(k, cv_auc , label = 'CV AUC')\n",
    "plt.scatter(k, cv_auc ,label = 'CV AUC')\n",
    "plt.legend()\n",
    "plt.xlabel('K - Hyperparameter')\n",
    "plt.ylabel('AUC')\n",
    "plt.title('ERROR plots')\n",
    "plt.show()"
   ]
  },
  {
   "cell_type": "code",
   "execution_count": 66,
   "metadata": {},
   "outputs": [
    {
     "data": {
      "image/png": "[encoded data removed]",
      "text/plain": [
       "<Figure size 432x288 with 1 Axes>"
      ]
     },
     "metadata": {
      "needs_background": "light"
     },
     "output_type": "display_data"
    }
   ],
   "source": [
    "#from above statistics we take k=49 as our best hyperparameter\n",
    "#ROC curve for k=41\n",
    "\n",
    "knn = KNeighborsClassifier(n_neighbors= 41,algorithm= 'kd_tree')\n",
    "knn.fit(sent_vectors_train,y_train)\n",
    "\n",
    "train_fpr,train_tpr,tresholds = roc_curve(y_train, knn.predict_proba(sent_vectors_train)[:,1])\n",
    "test_fpr,test_tpr,tresholds1 = roc_curve(y_test, knn.predict_proba(sent_vectors_test)[:,1])\n",
    "\n",
    "plt.plot(train_fpr, train_tpr, label = 'Train AUC ='+ str(auc(train_fpr,train_tpr)))\n",
    "plt.plot(test_fpr, test_tpr, label = 'Train AUC ='+ str(auc(test_fpr,test_tpr)))\n",
    "\n",
    "\n",
    "plt.legend()\n",
    "plt.xlabel('K- hyperparameter')\n",
    "plt.ylabel('AUC')\n",
    "plt.title('ERROR plots')\n",
    "plt.show()"
   ]
  },
  {
   "cell_type": "markdown",
   "metadata": {},
   "source": [
    "#### Confusion Matrix"
   ]
  },
  {
   "cell_type": "code",
   "execution_count": 67,
   "metadata": {},
   "outputs": [
    {
     "name": "stdout",
     "output_type": "stream",
     "text": [
      "Train confusion matrix\n",
      "[[ 105 1390]\n",
      " [  37 7950]]\n",
      "Test confusion matrix\n",
      "[[  43  856]\n",
      " [  24 4884]]\n"
     ]
    },
    {
     "data": {
      "image/png": "[encoded data removed]",
      "text/plain": [
       "<Figure size 432x288 with 2 Axes>"
      ]
     },
     "metadata": {
      "needs_background": "light"
     },
     "output_type": "display_data"
    }
   ],
   "source": [
    "#Confusion Matrix\n",
    "\n",
    "print('Train confusion matrix')\n",
    "print(confusion_matrix(y_train, knn.predict(sent_vectors_train)))\n",
    "print('Test confusion matrix')\n",
    "print(confusion_matrix(y_test,knn.predict(sent_vectors_test)))\n",
    "\n",
    "cnf_mat = confusion_matrix(y_test,knn.predict(sent_vectors_test))\n",
    "class_labels = ['Positive','Negative']\n",
    "df = pd.DataFrame(cnf_mat, index= class_labels , columns= class_labels)\n",
    "sb.heatmap(df, annot= True, fmt= 'd')\n",
    "\n",
    "\n",
    "plt.title('Confusion Matrix')\n",
    "plt.xlabel('Predicted')\n",
    "plt.ylabel('Actual')\n",
    "plt.show()\n"
   ]
  },
  {
   "cell_type": "markdown",
   "metadata": {},
   "source": [
    "### 1.2.4 Applying KNN brute force on TFIDF W2V"
   ]
  },
  {
   "cell_type": "markdown",
   "metadata": {},
   "source": [
    "#### Hyper parameter Tuning using Simple for loop"
   ]
  },
  {
   "cell_type": "markdown",
   "metadata": {},
   "source": [
    "### Training w2v model"
   ]
  },
  {
   "cell_type": "code",
   "execution_count": 68,
   "metadata": {},
   "outputs": [],
   "source": [
    "# w2v for train\n",
    "# Preparing Reviews for gensim model\n",
    "\n",
    "list_of_sentance_train = []\n",
    "for sentance in x_train:\n",
    "    list_of_sentance_train.append(sentance.split())\n",
    "\n",
    "w2v_model = Word2Vec(list_of_sentance_train , min_count = 5 ,size = 50, workers = 4)\n",
    "w2v_words = list(w2v_model.wv.vocab)"
   ]
  },
  {
   "cell_type": "code",
   "execution_count": 69,
   "metadata": {},
   "outputs": [],
   "source": [
    "tf_idf_vect = TfidfVectorizer(ngram_range=(1,2),min_df= 10,max_features= 500)\n",
    "\n",
    "tf_idf_matrix = tf_idf_vect.fit_transform(x_train)\n",
    "tfidf_feat = tf_idf_vect.get_feature_names()\n",
    "dictionary = dict(zip(tf_idf_vect.get_feature_names(),list(tf_idf_vect.idf_)))\n"
   ]
  },
  {
   "cell_type": "markdown",
   "metadata": {},
   "source": [
    "#### Converting Train data text"
   ]
  },
  {
   "cell_type": "code",
   "execution_count": 70,
   "metadata": {},
   "outputs": [],
   "source": [
    "\n",
    "tfidf_sent_vectors_train = []\n",
    "row = 0\n",
    "\n",
    "# for sent in tqdm(list_of_sentance_train):\n",
    "for sent in (list_of_sentance_train):\n",
    "    \n",
    "    sent_vec = np.zeros(50)\n",
    "    weight_sum = 0\n",
    "    for word in sent:\n",
    "        if word in w2v_words and word in tfidf_feat:\n",
    "            vec = w2v_model.wv[word]\n",
    "            tf_idf = dictionary[word]*(sent.count(word)/len(sent))\n",
    "            sent_vec += (vec * tf_idf)\n",
    "            weight_sum = tf_idf\n",
    "    if weight_sum != 0:\n",
    "        sent_vec /= weight_sum\n",
    "    tfidf_sent_vectors_train.append(sent_vec)\n",
    "    row += 1"
   ]
  },
  {
   "cell_type": "markdown",
   "metadata": {},
   "source": [
    "#### Converting CV data\n"
   ]
  },
  {
   "cell_type": "code",
   "execution_count": 71,
   "metadata": {},
   "outputs": [],
   "source": [
    "list_of_sentance_cv = []\n",
    "for sentance in x_cv:\n",
    "    list_of_sentance_cv.append(sentance.split())\n",
    "    \n",
    "tfidf_sent_vectors_cv = []\n",
    "row = 0\n",
    "\n",
    "# for sent in tqdm(list_of_sentance_cv):\n",
    "for sent in (list_of_sentance_cv):\n",
    "    \n",
    "    sent_vec = np.zeros(50)\n",
    "    weight_sum = 0\n",
    "    for word in sent:\n",
    "        if word in w2v_words and word in tfidf_feat:\n",
    "            vec = w2v_model.wv[word]\n",
    "            tf_idf = dictionary[word]*(sent.count(word)/len(sent))\n",
    "            sent_vec += (vec * tf_idf)\n",
    "            weight_sum = tf_idf\n",
    "    if weight_sum != 0:\n",
    "        sent_vec /= weight_sum\n",
    "    tfidf_sent_vectors_cv.append(sent_vec)\n",
    "    row += 1"
   ]
  },
  {
   "cell_type": "markdown",
   "metadata": {},
   "source": [
    "#### Converting test data\n"
   ]
  },
  {
   "cell_type": "code",
   "execution_count": 72,
   "metadata": {},
   "outputs": [],
   "source": [
    "list_of_sentance_test = []\n",
    "for sentance in x_test:\n",
    "    list_of_sentance_test.append(sentance.split())\n",
    "    \n",
    "tfidf_sent_vectors_test = []\n",
    "row = 0\n",
    "\n",
    "# for sent in tqdm(list_of_sentance_test):\n",
    "for sent in (list_of_sentance_test):\n",
    "    \n",
    "    sent_vec = np.zeros(50)\n",
    "    weight_sum = 0\n",
    "    for word in sent:\n",
    "        if word in w2v_words and word in tfidf_feat:\n",
    "            vec = w2v_model.wv[word]\n",
    "            tf_idf = dictionary[word]*(sent.count(word)/len(sent))\n",
    "            sent_vec += (vec * tf_idf)\n",
    "            weight_sum = tf_idf\n",
    "    if weight_sum != 0:\n",
    "        sent_vec /= weight_sum\n",
    "    tfidf_sent_vectors_test.append(sent_vec)\n",
    "    row += 1"
   ]
  },
  {
   "cell_type": "markdown",
   "metadata": {},
   "source": [
    "#### appliying KNN on tfidf W2V"
   ]
  },
  {
   "cell_type": "code",
   "execution_count": 73,
   "metadata": {},
   "outputs": [
    {
     "data": {
      "image/png": "[encoded data removed]",
      "text/plain": [
       "<Figure size 432x288 with 1 Axes>"
      ]
     },
     "metadata": {
      "needs_background": "light"
     },
     "output_type": "display_data"
    }
   ],
   "source": [
    "train_auc = []\n",
    "cv_auc = []\n",
    "k = range(1,50,4)\n",
    "\n",
    "for i in k:\n",
    "    knn = KNeighborsClassifier(n_neighbors= i,algorithm='kd_tree')\n",
    "    knn.fit(tfidf_sent_vectors_train,y_train)\n",
    "    y_train_pred = knn.predict_proba(tfidf_sent_vectors_train)[:,1]\n",
    "    y_cv_pred = knn.predict_proba(tfidf_sent_vectors_cv)[:,1]\n",
    "    \n",
    "    train_auc.append(roc_auc_score(y_train,y_train_pred))\n",
    "    cv_auc.append(roc_auc_score(y_cv,y_cv_pred))\n",
    "\n",
    "plt.plot(k, train_auc,label ='Train AUC')\n",
    "plt.scatter(k, train_auc, label = 'Train AUC')\n",
    "plt.plot(k, cv_auc , label = 'CV AUC')\n",
    "plt.scatter(k, cv_auc ,label = 'CV AUC')\n",
    "plt.legend()\n",
    "plt.xlabel('K - Hyperparameter')\n",
    "plt.ylabel('AUC')\n",
    "plt.title('ERROR plots')\n",
    "plt.show()"
   ]
  },
  {
   "cell_type": "code",
   "execution_count": 74,
   "metadata": {},
   "outputs": [
    {
     "data": {
      "image/png": "[encoded data removed]",
      "text/plain": [
       "<Figure size 432x288 with 1 Axes>"
      ]
     },
     "metadata": {
      "needs_background": "light"
     },
     "output_type": "display_data"
    }
   ],
   "source": [
    "#from above statistics we take k=49 as our best hyperparameter\n",
    "#ROC curve for k=41\n",
    "\n",
    "knn = KNeighborsClassifier(n_neighbors= 41, weights= 'uniform', algorithm= 'brute',leaf_size= 30, p=2, metric= 'cosine')\n",
    "knn.fit(tfidf_sent_vectors_train,y_train)\n",
    "\n",
    "train_fpr,train_tpr,tresholds = roc_curve(y_train, knn.predict_proba(tfidf_sent_vectors_train)[:,1])\n",
    "test_fpr,test_tpr,tresholds1 = roc_curve(y_test, knn.predict_proba(tfidf_sent_vectors_test)[:,1])\n",
    "\n",
    "plt.plot(train_fpr, train_tpr, label = 'Train AUC ='+ str(auc(train_fpr,train_tpr)))\n",
    "plt.plot(test_fpr, test_tpr, label = 'Train AUC ='+ str(auc(test_fpr,test_tpr)))\n",
    "\n",
    "\n",
    "plt.legend()\n",
    "plt.xlabel('K- hyperparameter')\n",
    "plt.ylabel('AUC')\n",
    "plt.title('ERROR plots')\n",
    "plt.show()\n"
   ]
  },
  {
   "cell_type": "markdown",
   "metadata": {},
   "source": [
    "#### Confusion Matrix"
   ]
  },
  {
   "cell_type": "code",
   "execution_count": 75,
   "metadata": {},
   "outputs": [
    {
     "name": "stdout",
     "output_type": "stream",
     "text": [
      "Train confusion matrix\n",
      "[[  13 1482]\n",
      " [   3 7984]]\n",
      "Test confusion matrix\n",
      "[[   6  893]\n",
      " [   3 4905]]\n"
     ]
    },
    {
     "data": {
      "image/png": "[encoded data removed]",
      "text/plain": [
       "<Figure size 432x288 with 2 Axes>"
      ]
     },
     "metadata": {
      "needs_background": "light"
     },
     "output_type": "display_data"
    }
   ],
   "source": [
    "#Confusion Matrix\n",
    "knn = KNeighborsClassifier(n_neighbors= i,algorithm='kd_tree')\n",
    "knn.fit(tfidf_sent_vectors_train,y_train)\n",
    "\n",
    "\n",
    "print('Train confusion matrix')\n",
    "print(confusion_matrix(y_train, knn.predict(tfidf_sent_vectors_train)))\n",
    "print('Test confusion matrix')\n",
    "print(confusion_matrix(y_test,knn.predict(tfidf_sent_vectors_test)))\n",
    "\n",
    "cnf_mat = confusion_matrix(y_test,knn.predict(tfidf_sent_vectors_test))\n",
    "class_labels = ['Positive','Negative']\n",
    "df = pd.DataFrame(cnf_mat, index= class_labels , columns= class_labels)\n",
    "sb.heatmap(df, annot= True, fmt= 'd')\n",
    "\n",
    "\n",
    "plt.title('Confusion Matrix')\n",
    "plt.xlabel('Predicted')\n",
    "plt.ylabel('Actual')\n",
    "plt.show()\n"
   ]
  },
  {
   "cell_type": "markdown",
   "metadata": {
    "colab_type": "text",
    "id": "crZ4qBCyDYN7"
   },
   "source": [
    "# [6] Conclusions"
   ]
  },
  {
   "cell_type": "code",
   "execution_count": 77,
   "metadata": {
    "colab": {},
    "colab_type": "code",
    "id": "9OacHxi1DYN8"
   },
   "outputs": [
    {
     "name": "stdout",
     "output_type": "stream",
     "text": [
      "+------------+---------+-------------+------+\n",
      "| Vectorizer |  Model  | Hyperameter | AUC  |\n",
      "+------------+---------+-------------+------+\n",
      "|    BOW     |  Brute  |      49     | 0.81 |\n",
      "|   TFIDF    |  Brute  |      49     | 0.85 |\n",
      "|   AvgW2V   |  Brute  |      49     | 0.74 |\n",
      "| TFIDF W2V  |  Brute  |      41     | 0.72 |\n",
      "|    BOW     | Kd Tree |      49     | 0.72 |\n",
      "|   TFIDF    | Kd Tree |      49     | 0.77 |\n",
      "|   AvgW2V   | Kd Tree |      49     | 0.75 |\n",
      "| TFIDF W2V  | Kd Tree |      41     | 0.71 |\n",
      "+------------+---------+-------------+------+\n"
     ]
    }
   ],
   "source": [
    "# compare all your models \n",
    "from prettytable import PrettyTable\n",
    "x = PrettyTable()\n",
    "x.field_names = ['Vectorizer','Model','Hyperameter','AUC']\n",
    "x.add_row(['BOW','Brute',49,0.81])\n",
    "x.add_row(['TFIDF','Brute',49,0.85])\n",
    "x.add_row(['AvgW2V','Brute',49,0.74])\n",
    "x.add_row(['TFIDF W2V','Brute',41,0.72])\n",
    "x.add_row(['BOW','Kd Tree',49,0.72])\n",
    "x.add_row(['TFIDF','Kd Tree',49,0.77])\n",
    "x.add_row(['AvgW2V','Kd Tree',49,0.75])\n",
    "x.add_row(['TFIDF W2V','Kd Tree',41,0.71])\n",
    "print(x)"
   ]
  },
  {
   "cell_type": "code",
   "execution_count": null,
   "metadata": {},
   "outputs": [],
   "source": []
  }
 ],
 "metadata": {
  "kernelspec": {
   "display_name": "Python 3",
   "language": "python",
   "name": "python3"
  },
  "language_info": {
   "codemirror_mode": {
    "name": "ipython",
    "version": 3
   },
   "file_extension": ".py",
   "mimetype": "text/x-python",
   "name": "python",
   "nbconvert_exporter": "python",
   "pygments_lexer": "ipython3",
   "version": "3.7.1"
  }
 },
 "nbformat": 4,
 "nbformat_minor": 2
}
